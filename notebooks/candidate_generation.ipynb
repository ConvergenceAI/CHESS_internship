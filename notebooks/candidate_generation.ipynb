{
 "cells": [
  {
   "cell_type": "markdown",
   "source": [
    "In this notebook we will test the candidate generation module "
   ],
   "metadata": {
    "collapsed": false
   },
   "id": "34686225f362ebe2"
  },
  {
   "cell_type": "code",
   "outputs": [
    {
     "data": {
      "text/plain": "True"
     },
     "execution_count": 1,
     "metadata": {},
     "output_type": "execute_result"
    }
   ],
   "source": [
    "# IMPORTs\n",
    "from utils.task import Task\n",
    "import json\n",
    "import os\n",
    "from src.pipeline.candidate_generation import candidate_generation\n",
    "from dotenv import load_dotenv\n",
    "from utils.prompt import load_prompt\n",
    "import tiktoken\n",
    "from tqdm import tqdm\n",
    "\n",
    "load_dotenv()"
   ],
   "metadata": {
    "collapsed": true,
    "ExecuteTime": {
     "end_time": "2024-08-26T11:53:17.948730Z",
     "start_time": "2024-08-26T11:53:16.570551Z"
    }
   },
   "id": "initial_id",
   "execution_count": 1
  },
  {
   "cell_type": "code",
   "outputs": [],
   "source": [
    "# Function to load JSON data\n",
    "def load_json_data(filepath):\n",
    "    with open(filepath, 'r') as file:\n",
    "        data = json.load(file)\n",
    "    return data\n",
    "\n",
    "\n",
    "# Function to create task object\n",
    "def create_task(example):\n",
    "    return Task(example)"
   ],
   "metadata": {
    "collapsed": false,
    "ExecuteTime": {
     "end_time": "2024-08-26T11:53:17.953767Z",
     "start_time": "2024-08-26T11:53:17.949734Z"
    }
   },
   "id": "d00f7f5c7585baab",
   "execution_count": 2
  },
  {
   "cell_type": "code",
   "outputs": [],
   "source": [
    "# load the task data\n",
    "filepath = \"C:/Users\\yousf\\Bureau\\ConvergenceAI\\CHESS_Impl\\data/test/subsampled_test.json\"\n",
    "data = load_json_data(filepath)\n",
    "# load the retrieved entities\n",
    "filepath_entities = \"C:/Users\\yousf\\Bureau\\ConvergenceAI\\CHESS_Impl\\data/test/retrieved_entities.json\"\n",
    "retrieved_entities = load_json_data(filepath_entities)\n",
    "# load the retrieved context\n",
    "filepath_context = \"C:/Users\\yousf\\Bureau\\ConvergenceAI\\CHESS_Impl\\data/test/retrieved_context.json\"\n",
    "retrieved_context = load_json_data(filepath_context)\n",
    "# load the selected schema\n",
    "filepath_schema = \"C:/Users\\yousf\\Bureau\\ConvergenceAI\\CHESS_Impl\\data/test/selected_schema.json\"\n",
    "selected_schema = load_json_data(filepath_schema)"
   ],
   "metadata": {
    "collapsed": false,
    "ExecuteTime": {
     "end_time": "2024-08-26T11:53:17.963749Z",
     "start_time": "2024-08-26T11:53:17.954775Z"
    }
   },
   "id": "5ee82a0867e6ceaa",
   "execution_count": 3
  },
  {
   "cell_type": "code",
   "outputs": [
    {
     "data": {
      "text/plain": "{'chain_of_thought_reasoning': \"To answer the question, I need to find the full name and college of a club member who holds the position of 'Secretary'. First, I will identify the relevant tables and columns. The 'club_member' table likely contains columns for member names and positions, and another table, possibly named 'college', should link members to their respective colleges. I will use a JOIN operation to combine these tables based on a common key, typically a member ID. The WHERE clause will filter the position to 'Secretary'. Since the question specifies to list the full name and college, I will select the 'first_name', 'last_name', and the college name from the joined tables. I will ensure to follow the database admin instructions, particularly focusing on not concatenating the name columns in the SELECT clause and using aliases for tables.\",\n 'SQL': \"SELECT T1.first_name, T1.last_name, T2.college_name FROM club_member AS T1 JOIN college AS T2 ON T1.college_id = T2.id WHERE T1.position = 'Secretary'\"}"
     },
     "execution_count": 4,
     "metadata": {},
     "output_type": "execute_result"
    }
   ],
   "source": [
    "# test candidate generation module with a random sample\n",
    "index = 7\n",
    "example = data[index]\n",
    "task = create_task(example)\n",
    "\n",
    "model = (\"gpt-4\")\n",
    "ans = candidate_generation(task=task, retrieved_entities=retrieved_entities[index],\n",
    "                           retrieved_context=retrieved_context[index], selected_schema=selected_schema[index],\n",
    "                           model=model,\n",
    "                           num_samples=1)\n",
    "ans"
   ],
   "metadata": {
    "collapsed": false,
    "ExecuteTime": {
     "end_time": "2024-08-26T11:53:28.657003Z",
     "start_time": "2024-08-26T11:53:19.929111Z"
    }
   },
   "id": "fa2b90c2c3cd9c10",
   "execution_count": 4
  },
  {
   "cell_type": "code",
   "outputs": [
    {
     "name": "stderr",
     "output_type": "stream",
     "text": [
      "1it [00:08,  8.39s/it]"
     ]
    },
    {
     "name": "stdout",
     "output_type": "stream",
     "text": [
      "0 :  {'chain_of_thought_reasoning': \"To answer the question, we need to identify the atom IDs associated with the molecule 'TR346' and count the distinct types of bonds that can be created by this molecule. First, we need to find the table that links molecules to their atom IDs, which is likely a molecule_atoms table. We then join this table with a bonds table that should contain information about the types of bonds each atom can form. We filter the molecule_atoms table for the molecule 'TR346', join it with the bonds table on atom_id, and then count the distinct bond types. We use GROUP BY to group results by molecule_id, ensuring we count bond types per molecule. The SQL query will select the atom_id and the count of distinct bond types, ensuring to filter out any null values in the bond type column to comply with the database admin instructions.\", 'SQL': \"SELECT T1.atom_id, COUNT(DISTINCT T2.bond_type) AS bond_type_count FROM molecule_atoms T1 JOIN bonds T2 ON T1.atom_id = T2.atom_id WHERE T1.molecule_id = 'TR346' AND T2.bond_type IS NOT NULL GROUP BY T1.molecule_id\"}\n"
     ]
    },
    {
     "name": "stderr",
     "output_type": "stream",
     "text": [
      "2it [00:18,  9.45s/it]"
     ]
    },
    {
     "name": "stdout",
     "output_type": "stream",
     "text": [
      "1 :  {'chain_of_thought_reasoning': \"To answer the question, I need to find a school that meets several criteria: it must be a high school (EILCode = 'HS'), located in Merced county, with Lunch Provision 2, and the grades it covers should range from 9 to 12. I will start by identifying the relevant tables and columns based on the schema and hints provided. The EILCode will help identify the school level, and I will use the columns for county, lunch provision, lowest grade, and highest grade to filter the schools accordingly. Once the correct school is identified, I will select the city location of this school. I will use aliases for tables as required and ensure to filter out any null values in columns used for logical operations or sorting. The final step is to write the SQL query following the database admin instructions, ensuring to only select the city location column as requested.\", 'SQL': \"SELECT T1.city_location FROM Schools AS T1 WHERE T1.EILCode = 'HS' AND T1.county = 'Merced' AND T1.lunch_provision = 2 AND T1.lowest_grade = 9 AND T1.highest_grade = 12\"}\n"
     ]
    },
    {
     "name": "stderr",
     "output_type": "stream",
     "text": [
      "3it [00:24,  7.61s/it]"
     ]
    },
    {
     "name": "stdout",
     "output_type": "stream",
     "text": [
      "2 :  {'chain_of_thought_reasoning': \"To find the tallest hero published by Marvel Comics, I need to identify the hero with the maximum height from the heroes table where the publisher is 'Marvel Comics'. First, I will filter the heroes based on the publisher name. Then, I will order the results by height in descending order to get the tallest hero at the top. I will limit the results to 1 to get only the tallest hero. According to the instructions, I should select only the full name of the hero, which is typically stored in a column like 'full_name'.\", 'SQL': \"SELECT T1.full_name FROM heroes T1 WHERE T1.publisher_name = 'Marvel Comics' AND T1.height_cm IS NOT NULL ORDER BY T1.height_cm DESC LIMIT 1\"}\n"
     ]
    },
    {
     "name": "stderr",
     "output_type": "stream",
     "text": [
      "4it [00:32,  8.00s/it]"
     ]
    },
    {
     "name": "stdout",
     "output_type": "stream",
     "text": [
      "3 :  {'chain_of_thought_reasoning': \"To answer the question, I need to count the number of elders who have obtained the 'Supporter' badge. First, I need to identify the tables that contain information about users, their ages, and their badges. Assuming there are tables like 'Users' and 'Badges', and a linking table 'UserBadges' that connects users with the badges they've earned. The 'Users' table likely has columns for 'UserID' and 'Age', while the 'Badges' table has 'BadgeID' and 'Name'. The 'UserBadges' table would connect 'UserID' with 'BadgeID'. I will join these tables based on these relationships. The query will filter users with 'Age' greater than 65 and badges with the name 'Supporter'. I will use a COUNT function to get the total number of such users, ensuring to filter out any null values in the age and badge name columns to adhere to the database admin instructions.\", 'SQL': \"SELECT COUNT(DISTINCT T1.UserID) FROM Users T1 JOIN UserBadges T2 ON T1.UserID = T2.UserID JOIN Badges T3 ON T2.BadgeID = T3.BadgeID WHERE T1.Age > 65 AND T3.Name = 'Supporter'\"}\n"
     ]
    },
    {
     "name": "stderr",
     "output_type": "stream",
     "text": [
      "5it [00:43,  9.02s/it]"
     ]
    },
    {
     "name": "stdout",
     "output_type": "stream",
     "text": [
      "4 :  {'chain_of_thought_reasoning': \"To answer the question, I need to find users who are from New York and have both 'Teacher' and 'Supporter' badges. First, I'll identify the relevant tables and columns: Users table for location and user ID, and Badges table for badge names linked to user IDs. I'll filter users based on the 'New York' location. Then, I'll join the Users table with the Badges table to get the badges for these users. I need to ensure that a user has both 'Teacher' and 'Supporter' badges. This can be achieved by joining the Badges table twice, once for each badge, and then grouping by user ID to count distinct badges. The count of distinct badges should be 2 for both 'Teacher' and 'Supporter'. Finally, I'll count these users. I'll use aliases for tables and ensure that all joins and where clauses are correctly specified, following the database admin instructions.\", 'SQL': \"SELECT COUNT(DISTINCT T1.UserId) FROM Users T1 JOIN Badges T2 ON T1.UserId = T2.UserId JOIN Badges T3 ON T1.UserId = T3.UserId WHERE T1.Location = 'New York' AND T2.Name = 'Teacher' AND T3.Name = 'Supporter'\"}\n"
     ]
    },
    {
     "name": "stderr",
     "output_type": "stream",
     "text": [
      "6it [00:52,  9.13s/it]"
     ]
    },
    {
     "name": "stdout",
     "output_type": "stream",
     "text": [
      "5 :  {'chain_of_thought_reasoning': \"To answer the question about the description of the ruling for the card named 'Condemn', I need to locate the table that contains card names and their associated ruling descriptions. The hint provided suggests that the card name is similar to 'Ancestor's Chosen' and the ruling description is referred to as 'text'. Based on this, I will search for a table that includes columns for card names and their ruling descriptions. Once the appropriate table is identified, I will write a SQL query to select the ruling description (text) for the card named 'Condemn'. The query will filter the records where the card name matches 'Condemn'. I will ensure to follow the database admin instructions, particularly focusing on selecting only the required column (description of the ruling), using proper aliasing for tables, and ensuring no concatenation in the SELECT clause.\", 'SQL': \"SELECT T1.text FROM Cards AS T1 WHERE T1.name = 'Condemn'\"}\n"
     ]
    },
    {
     "name": "stderr",
     "output_type": "stream",
     "text": [
      "7it [01:02,  9.29s/it]"
     ]
    },
    {
     "name": "stdout",
     "output_type": "stream",
     "text": [
      "6 :  {'chain_of_thought_reasoning': \"To answer the question, I need to find out two pieces of information about the molecule with the identifier 'TR006': the number of double bonds it has and whether it is carcinogenic. From the hint, I know that the 'label' column indicates carcinogenicity ('+' for carcinogenic and '-' for non-carcinogenic) and the 'bond_type' column indicates the type of bond, with '=' representing a double bond. I will need to join relevant tables that contain this information, likely a table that links molecules to their identifiers and another that details the bonds each molecule has. I will filter the molecule by its identifier 'TR006', count the occurrences of double bonds, and check the 'label' for carcinogenicity. The query will involve selecting the count of double bonds and the carcinogenicity label, grouping by the molecule identifier to ensure accurate counting, and filtering for the specific molecule 'TR006'.\", 'SQL': \"SELECT COUNT(*) AS double_bonds, T1.label FROM Molecules AS T1 JOIN Bonds AS T2 ON T1.molecule_id = T2.molecule_id WHERE T1.identifier = 'TR006' AND T2.bond_type = '=' GROUP BY T1.label\"}\n"
     ]
    },
    {
     "name": "stderr",
     "output_type": "stream",
     "text": [
      "8it [01:10,  9.06s/it]"
     ]
    },
    {
     "name": "stdout",
     "output_type": "stream",
     "text": [
      "7 :  {'chain_of_thought_reasoning': \"To answer the question, I need to find the club member with the position of 'Secretary'. This involves selecting the member's full name and the college they belong to. The full name is derived from the 'first_name' and 'last_name' columns. Since the question specifies to list the full name and the college, I will need to join the table containing member details with the table containing college information if they are separate. The position 'Secretary' will be used in the WHERE clause to filter the correct member. I will use aliases for tables to make the query clear and concise, and ensure that I only select the columns that are asked for in the question, which are the full name and the college name. I will also ensure to handle any potential NULL values in the columns used for sorting or conditions.\", 'SQL': \"SELECT T1.first_name, T1.last_name, T2.college_name FROM members AS T1 JOIN colleges AS T2 ON T1.college_id = T2.id WHERE T1.position = 'Secretary' AND T1.first_name IS NOT NULL AND T1.last_name IS NOT NULL AND T2.college_name IS NOT NULL\"}\n"
     ]
    },
    {
     "name": "stderr",
     "output_type": "stream",
     "text": [
      "9it [01:18,  8.49s/it]"
     ]
    },
    {
     "name": "stdout",
     "output_type": "stream",
     "text": [
      "8 :  {'chain_of_thought_reasoning': \"To determine the percentage of chemical compounds that form a triple bond, we need to count the total number of compounds and the number of compounds with a triple bond (bond_type = '#'). We can achieve this by querying the same table twice: once to count all compounds and once to count only those with a triple bond. We then calculate the percentage by dividing the count of triple-bond compounds by the total count of compounds and multiplying by 100. This requires using a subquery to count the triple-bond compounds and another to count all compounds. The final step is to perform the division in the main SELECT statement to get the percentage.\", 'SQL': \"SELECT (SELECT COUNT(*) FROM compounds WHERE bond_type = '#' AND bond_type IS NOT NULL) * 100.0 / (SELECT COUNT(*) FROM compounds WHERE bond_type IS NOT NULL) AS percentage_of_triple_bonds\"}\n"
     ]
    },
    {
     "name": "stderr",
     "output_type": "stream",
     "text": [
      "10it [01:27,  8.78s/it]"
     ]
    },
    {
     "name": "stdout",
     "output_type": "stream",
     "text": [
      "9 :  {'chain_of_thought_reasoning': \"To answer the question about Francesco Parravicini's potential on a specific date, I need to identify the correct tables and columns to use. First, I need to find the player's ID using the 'player_name' column from a 'players' table, assuming it exists. Then, using this player ID, I will look up his potential on the specified date from a 'player_attributes' table, which likely contains columns for 'player_api_id', 'date', and 'potential'. The date needs to be matched exactly, and potential should be selected. I will use an INNER JOIN to connect these tables on the player ID. The query will filter by the player's name and the specific date, and I will ensure to handle any NULL values in the 'potential' column during sorting or selection.\", 'SQL': \"SELECT T2.potential FROM players T1 INNER JOIN player_attributes T2 ON T1.player_api_id = T2.player_api_id WHERE T1.player_name = 'Francesco Parravicini' AND T2.date = '2010-08-30 00:00:00' AND T2.potential IS NOT NULL\"}\n"
     ]
    },
    {
     "name": "stderr",
     "output_type": "stream",
     "text": [
      "11it [01:35,  8.36s/it]"
     ]
    },
    {
     "name": "stdout",
     "output_type": "stream",
     "text": [
      "10 :  {'chain_of_thought_reasoning': \"To answer the question, I need to count the number of male customers living in North Bohemia with an average salary greater than 8000. First, I'll identify the relevant columns based on the hints: gender for male ('M'), region (A3) for North Bohemia, and average salary (A11) for the salary condition. I'll use a WHERE clause to filter the customers based on these conditions. Since the question asks for a count, I'll use the COUNT function. I'll ensure that the salary column (A11) is filtered to exclude null values to adhere to the database admin instructions. The final query will only select the count of such customers, as per the instructions to output only the information asked in the question.\", 'SQL': \"SELECT COUNT(*) FROM customers WHERE gender = 'M' AND A3 = 'North Bohemia' AND A11 > 8000 AND A11 IS NOT NULL\"}\n"
     ]
    },
    {
     "name": "stderr",
     "output_type": "stream",
     "text": [
      "12it [01:42,  8.04s/it]"
     ]
    },
    {
     "name": "stdout",
     "output_type": "stream",
     "text": [
      "11 :  {'chain_of_thought_reasoning': \"To answer the question, I need to find the school in California ('CA') with the lowest latitude. The latitude value that is the smallest numerically represents the southernmost point, so I need to sort schools in California by latitude in ascending order and select the first one. The query will involve filtering schools based on the state being 'CA', ordering the results by latitude, and using LIMIT to get the school with the lowest latitude. I will select the school's name, city, and lowest grade as required by the question. I will ensure to handle any potential NULL values in the latitude column by filtering them out. I will use aliases for clarity in the query.\", 'SQL': \"SELECT T1.name, T1.city, T1.lowest_grade FROM Schools AS T1 WHERE T1.state = 'CA' AND T1.latitude IS NOT NULL ORDER BY T1.latitude ASC LIMIT 1\"}\n"
     ]
    },
    {
     "name": "stderr",
     "output_type": "stream",
     "text": [
      "13it [01:50,  8.22s/it]"
     ]
    },
    {
     "name": "stdout",
     "output_type": "stream",
     "text": [
      "12 :  {'chain_of_thought_reasoning': \"To solve the query, I need to calculate the percentage of bonds that are double bonds (' = ') among all bonds in chemical compounds containing the molecule TR047. First, I'll identify the relevant tables and columns: molecule_id and bond_type from a bonds table. I'll filter the bonds by molecule_id = 'TR047'. Then, I'll use a CASE statement to count only the bonds where bond_type is ' = '. The percentage is calculated by dividing the count of double bonds by the total count of bonds for TR047, and then multiplying by 100 to get the percentage. I'll ensure to handle NULL values in bond_type by filtering them out. The final query will use a SELECT statement to perform these calculations and output the required percentage.\", 'SQL': \"SELECT (SUM(CASE WHEN bond_type = ' = ' THEN 1 ELSE 0 END) * 100.0 / COUNT(bond_id)) AS percent FROM bonds T1 WHERE T1.molecule_id = 'TR047' AND T1.bond_type IS NOT NULL\"}\n"
     ]
    },
    {
     "name": "stderr",
     "output_type": "stream",
     "text": [
      "14it [01:59,  8.33s/it]"
     ]
    },
    {
     "name": "stdout",
     "output_type": "stream",
     "text": [
      "13 :  {'chain_of_thought_reasoning': \"To answer the question, I need to find the user who added a bounty of 50 to a post with a title mentioning 'variance'. First, I need to identify the relevant tables and columns. The 'BountyAmount' column in a table (likely 'Bounties') should be checked for the value 50. The 'Title' column in a 'Posts' table should contain the word 'variance'. These two tables are likely connected via a 'PostId'. After identifying the correct post, I need to find the user who added the bounty, which involves joining with a 'Users' table on a 'UserId' to get the 'DisplayName'. I will use JOINs to connect these tables appropriately, filter with WHERE clauses for the bounty amount and post title, and select only the 'DisplayName' as per the instructions.\", 'SQL': \"SELECT T3.DisplayName FROM Bounties T1 JOIN Posts T2 ON T1.PostId = T2.PostId JOIN Users T3 ON T1.UserId = T3.UserId WHERE T1.BountyAmount = 50 AND T2.Title LIKE '%variance%'\"}\n"
     ]
    },
    {
     "name": "stderr",
     "output_type": "stream",
     "text": [
      "15it [02:06,  8.45s/it]"
     ]
    },
    {
     "name": "stdout",
     "output_type": "stream",
     "text": [
      "14 :  {'chain_of_thought_reasoning': \"To answer the question, I need to find the dates when users from Rochester, NY obtained their badges. This requires joining two tables: one that contains user information (including location and user ID) and another that contains badge information (including the user ID and the date the badge was obtained). First, I will identify the table and column where user locations are stored, and filter for users in 'Rochester, NY'. Next, I will join this filtered list of users with the table containing badge information, using the user ID as the common key. Finally, I will select the date column from the badge information table, ensuring that I only include dates in the output, as per the database admin instructions.\", 'SQL': \"SELECT T2.DateObtained FROM Users T1 JOIN Badges T2 ON T1.UserId = T2.UserId WHERE T1.Location = 'Rochester, NY'\"}\n"
     ]
    },
    {
     "name": "stderr",
     "output_type": "stream",
     "text": [
      "\n"
     ]
    }
   ],
   "source": [
    "#test candidate generation module with the subsampled test\n",
    "model = \"gpt-4\"\n",
    "num_samples = 1\n",
    "res = []\n",
    "for index, sample in tqdm(enumerate(data)):\n",
    "    task = create_task(sample)\n",
    "    ans = candidate_generation(task=task, retrieved_entities=retrieved_entities[index],\n",
    "                               retrieved_context=retrieved_context[index], selected_schema=selected_schema[index],\n",
    "                               model=model,\n",
    "                               num_samples=num_samples)\n",
    "    res.append(ans)\n",
    "    print(str(index) + \" : \", ans)"
   ],
   "metadata": {
    "collapsed": false,
    "ExecuteTime": {
     "end_time": "2024-08-26T11:58:57.987265Z",
     "start_time": "2024-08-26T11:56:51.251969Z"
    }
   },
   "id": "ffc3c0a2313afb26",
   "execution_count": 5
  },
  {
   "cell_type": "code",
   "outputs": [],
   "source": [
    "from pathlib import Path\n",
    "\n",
    "schema_path = Path('C:/Users/yousf/Bureau/ConvergenceAI/CHESS_Impl/data/test/generated_candidate.json')\n",
    "with open(schema_path, 'w') as f:\n",
    "    json.dump(res, f, indent=4)"
   ],
   "metadata": {
    "collapsed": false,
    "ExecuteTime": {
     "end_time": "2024-08-26T11:58:58.012018Z",
     "start_time": "2024-08-26T11:58:57.993271Z"
    }
   },
   "id": "46dc23c807d8a742",
   "execution_count": 6
  },
  {
   "cell_type": "markdown",
   "source": [
    "## Cost Estimation per task"
   ],
   "metadata": {
    "collapsed": false
   },
   "id": "6c4a8d9287dcd72"
  },
  {
   "cell_type": "code",
   "outputs": [],
   "source": [
    "\n",
    "PROMPT_PATH = os.getenv(\"PROMPT_ROOT_PATH\") + \"\\\\candidate_generation.txt\"\n",
    "prompt = load_prompt(PROMPT_PATH)"
   ],
   "metadata": {
    "collapsed": false,
    "ExecuteTime": {
     "end_time": "2024-08-22T10:05:01.943817Z",
     "start_time": "2024-08-22T10:05:01.939524Z"
    }
   },
   "id": "5cae6b6f9579f365",
   "execution_count": 5
  },
  {
   "cell_type": "code",
   "outputs": [],
   "source": [
    "\n",
    "def tokens_calc(example):\n",
    "    encoding = tiktoken.get_encoding(\"cl100k_base\")\n",
    "    num_tokens = len(encoding.encode(example))\n",
    "    return num_tokens"
   ],
   "metadata": {
    "collapsed": false,
    "ExecuteTime": {
     "end_time": "2024-08-22T10:05:02.325821Z",
     "start_time": "2024-08-22T10:05:02.321403Z"
    }
   },
   "id": "ed9cb2fccf894fbb",
   "execution_count": 6
  },
  {
   "cell_type": "code",
   "outputs": [
    {
     "data": {
      "text/plain": "631"
     },
     "execution_count": 7,
     "metadata": {},
     "output_type": "execute_result"
    }
   ],
   "source": [
    "#prompt template tokens \n",
    "tokens_calc(prompt)"
   ],
   "metadata": {
    "collapsed": false,
    "ExecuteTime": {
     "end_time": "2024-08-22T10:05:03.521031Z",
     "start_time": "2024-08-22T10:05:02.964660Z"
    }
   },
   "id": "e52a0f1e321a497",
   "execution_count": 7
  },
  {
   "cell_type": "markdown",
   "source": [
    "The prompt template has 631 tokens in total, and we have also 3 other variables (Database_Schema,Question and Hint).\n",
    "After i see a formatted prompt example it contains about 2000 tokens (because database_schema will be long)\n",
    "So let's suppose that input tokens is 2000"
   ],
   "metadata": {
    "collapsed": false
   },
   "id": "33d252fb5933fbd3"
  },
  {
   "cell_type": "code",
   "outputs": [
    {
     "data": {
      "text/plain": "227"
     },
     "execution_count": 8,
     "metadata": {},
     "output_type": "execute_result"
    }
   ],
   "source": [
    "## Output tokens estimation from an example \n",
    "output_example = \"\"\"\n",
    "{'chain_of_thought_reasoning': \"First, I identified the relevant columns from the question: CDSCode, County Code, School Type, Low Grade, High Grade, and County Name. Then, I determined that the question is asking for the city location of a high school level school with Lunch Provision 2, whose lowest grade is 9 and the highest grade is 12 in the county of Merced. I used the hint that high school can be represented as EILCode = 'HS'. I joined the frpm and schools tables based on the CDSCode, and then filtered the results to match the conditions specified in the question. Finally, I selected the City column from the schools table, which is the column that provides the city location.\",\n",
    " 'SQL': \"SELECT City FROM schools WHERE EILCode = 'HS' AND County = 'Merced' AND LowGrade = '9' AND HighGrade = '12' AND NSLPProvisionStatus = 'Lunch Provision 2' AND CDSCode IN (SELECT CDSCode FROM frpm WHERE CountyCode = '02');\"}\n",
    "\"\"\"\n",
    "tokens_calc(output_example)"
   ],
   "metadata": {
    "collapsed": false,
    "ExecuteTime": {
     "end_time": "2024-08-22T10:06:38.753921Z",
     "start_time": "2024-08-22T10:06:38.698886Z"
    }
   },
   "id": "fa7106b4ff312564",
   "execution_count": 8
  },
  {
   "cell_type": "markdown",
   "source": [
    "Let's suppose the output tokens is 250"
   ],
   "metadata": {
    "collapsed": false
   },
   "id": "8856a1e42ac656ba"
  },
  {
   "cell_type": "code",
   "outputs": [
    {
     "name": "stdout",
     "output_type": "stream",
     "text": [
      "estimated price per Task (GPT-4): 0.0275 $\n"
     ]
    }
   ],
   "source": [
    "## Price calculation (just with gpt4 because in this module we don't use gpt3.5) \n",
    "input_price_per_token_gpt4 = 0.01 / 1000\n",
    "output_price_per_token_gpt4 = 0.03 / 1000\n",
    "price_gpt4 = 2000 * input_price_per_token_gpt4 + 250 * output_price_per_token_gpt4\n",
    "print(\"estimated price per Task (GPT-4):\", price_gpt4, \"$\")"
   ],
   "metadata": {
    "collapsed": false,
    "ExecuteTime": {
     "end_time": "2024-08-22T10:07:28.201308Z",
     "start_time": "2024-08-22T10:07:28.186220Z"
    }
   },
   "id": "77837bff60e65754",
   "execution_count": 9
  },
  {
   "cell_type": "code",
   "outputs": [
    {
     "name": "stdout",
     "output_type": "stream",
     "text": [
      "The estimated price with number of retrials of 1:  0.0275\n",
      "The estimated price with number of retrials of 2:  0.055\n",
      "The estimated price with number of retrials of 3:  0.0825\n",
      "The estimated price with number of retrials of 4:  0.11\n",
      "The estimated price with number of retrials of 5:  0.1375\n"
     ]
    }
   ],
   "source": [
    "## in this module there is a number of retrials so let's estimate the price with different number of retrials \n",
    "\n",
    "num_retrials = [1, 2, 3, 4, 5]\n",
    "for num_retrial in num_retrials:\n",
    "    total_price = price_gpt4 * num_retrial\n",
    "    print(\"The estimated price with number of retrials of \" + str(num_retrial) + \": \", total_price)"
   ],
   "metadata": {
    "collapsed": false,
    "ExecuteTime": {
     "end_time": "2024-08-22T10:07:52.490764Z",
     "start_time": "2024-08-22T10:07:52.478555Z"
    }
   },
   "id": "9319d65e7029f6e6",
   "execution_count": 10
  },
  {
   "cell_type": "code",
   "outputs": [],
   "source": [],
   "metadata": {
    "collapsed": false
   },
   "id": "7b39821d84592726"
  }
 ],
 "metadata": {
  "kernelspec": {
   "display_name": "Python 3",
   "language": "python",
   "name": "python3"
  },
  "language_info": {
   "codemirror_mode": {
    "name": "ipython",
    "version": 2
   },
   "file_extension": ".py",
   "mimetype": "text/x-python",
   "name": "python",
   "nbconvert_exporter": "python",
   "pygments_lexer": "ipython2",
   "version": "2.7.6"
  }
 },
 "nbformat": 4,
 "nbformat_minor": 5
}
