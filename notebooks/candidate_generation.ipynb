{
 "cells": [
  {
   "cell_type": "markdown",
   "source": [
    "In this notebook we will test the candidate generation module "
   ],
   "metadata": {
    "collapsed": false
   },
   "id": "34686225f362ebe2"
  },
  {
   "cell_type": "code",
   "outputs": [
    {
     "data": {
      "text/plain": "True"
     },
     "execution_count": 1,
     "metadata": {},
     "output_type": "execute_result"
    }
   ],
   "source": [
    "# IMPORTs\n",
    "from utils.task import Task\n",
    "import json\n",
    "import os\n",
    "from src.pipeline.candidate_generation import candidate_generation\n",
    "from utils.database_utils.db_info import get_db_schema\n",
    "from dotenv import load_dotenv\n",
    "from utils.prompt import load_prompt\n",
    "import tiktoken\n",
    "\n",
    "load_dotenv()"
   ],
   "metadata": {
    "collapsed": true,
    "ExecuteTime": {
     "end_time": "2024-08-22T10:04:16.268617Z",
     "start_time": "2024-08-22T10:04:15.208625Z"
    }
   },
   "id": "initial_id",
   "execution_count": 1
  },
  {
   "cell_type": "code",
   "outputs": [],
   "source": [
    "# Function to load JSON data\n",
    "def load_json_data(filepath):\n",
    "    with open(filepath, 'r') as file:\n",
    "        data = json.load(file)\n",
    "    return data\n",
    "\n",
    "\n",
    "# Function to create task object\n",
    "def create_task(example):\n",
    "    return Task(example)"
   ],
   "metadata": {
    "collapsed": false,
    "ExecuteTime": {
     "end_time": "2024-08-22T10:04:17.199360Z",
     "start_time": "2024-08-22T10:04:17.193770Z"
    }
   },
   "id": "d00f7f5c7585baab",
   "execution_count": 2
  },
  {
   "cell_type": "code",
   "outputs": [],
   "source": [
    "# load the task data\n",
    "filepath = \"C:/Users\\yousf\\Bureau\\ConvergenceAI\\CHESS_Impl\\data/test/subsampled_test.json\"\n",
    "data = load_json_data(filepath)\n",
    "# load the retrieved entities\n",
    "filepath_entities = \"C:/Users\\yousf\\Bureau\\ConvergenceAI\\CHESS_Impl\\data/test/retrieved_entities.json\"\n",
    "retrieved_entities = load_json_data(filepath_entities)\n",
    "# load the retrieved context\n",
    "filepath_context = \"C:/Users\\yousf\\Bureau\\ConvergenceAI\\CHESS_Impl\\data/test/retrieved_context.json\"\n",
    "retrieved_context = load_json_data(filepath_context)\n",
    "# load the selected schema\n",
    "filepath_schema = \"C:/Users\\yousf\\Bureau\\ConvergenceAI\\CHESS_Impl\\data/test/selected_schema.json\"\n",
    "tentative_schema = load_json_data(filepath_schema)"
   ],
   "metadata": {
    "collapsed": false,
    "ExecuteTime": {
     "end_time": "2024-08-22T10:04:17.908200Z",
     "start_time": "2024-08-22T10:04:17.873048Z"
    }
   },
   "id": "5ee82a0867e6ceaa",
   "execution_count": 3
  },
  {
   "cell_type": "code",
   "outputs": [
    {
     "name": "stdout",
     "output_type": "stream",
     "text": [
      "You are a data science expert.\n",
      "Below, you are presented with a database schema and a question.\n",
      "Your task is to read the schema, understand the question, and generate a valid SQLite query to answer the question.\n",
      "Before generating the final SQL query think step by step on how to write the query.\n",
      "\n",
      "Database Schema\n",
      "###\n",
      "CREATE TABLE frpm\n",
      "(\n",
      "\tCDSCode TEXT not null primary key,\n",
      "\t`Academic Year` TEXT null, --\n",
      "\t`County Code` TEXT null, -- examples: `02`\n",
      "\t`District Code` INTEGER null, --\n",
      "\t`School Code` TEXT null, -- description: School Code\n",
      "\t`County Name` TEXT null, -- examples: `Merced`\n",
      "\t`District Name` TEXT null, --\n",
      "\t`School Name` TEXT null, --\n",
      "\t`District Type` TEXT null, --\n",
      "\t`School Type` TEXT null, --\n",
      "\t`Educational Option Type` TEXT null, --\n",
      "\t`NSLP Provision Status` TEXT null, -- examples: `Provision 2`, `Lunch Provision 2`\n",
      "\t`Charter School (Y/N)` INTEGER null, --\n",
      "\t`Charter School Number` TEXT null, --\n",
      "\t`Charter Funding Type` TEXT null, --\n",
      "\tIRC INTEGER null, --\n",
      "\t`Low Grade` TEXT null, --\n",
      "\t`High Grade` TEXT null, --\n",
      "\t`Enrollment (K-12)` REAL null, --\n",
      "\t`Free Meal Count (K-12)` REAL null, --\n",
      "\t`Percent (%) Eligible Free (K-12)` REAL null, --\n",
      "\t`FRPM Count (K-12)` REAL null, --\n",
      "\t`Percent (%) Eligible FRPM (K-12)` REAL null, --\n",
      "\t`Enrollment (Ages 5-17)` REAL null, --\n",
      "\t`Free Meal Count (Ages 5-17)` REAL null, --\n",
      "\t`Percent (%) Eligible Free (Ages 5-17)` REAL null, --\n",
      "\t`FRPM Count (Ages 5-17)` REAL null, --\n",
      "\t`Percent (%) Eligible FRPM (Ages 5-17)` REAL null, --\n",
      "\t`2013-14 CALPADS Fall 1 Certification Status` INTEGER null, --\n",
      "\tforeign key (CDSCode) references schools (CDSCode),\n",
      ");\n",
      "\n",
      "CREATE TABLE satscores\n",
      "(\n",
      "\tcds TEXT not null primary key,\n",
      "\trtype TEXT not null, --\n",
      "\tsname TEXT null, --\n",
      "\tdname TEXT null, --\n",
      "\tcname TEXT null, -- examples: `Merced`\n",
      "\tenroll12 INTEGER not null, --\n",
      "\tNumTstTakr INTEGER not null, --\n",
      "\tAvgScrRead INTEGER null, --\n",
      "\tAvgScrMath INTEGER null, --\n",
      "\tAvgScrWrite INTEGER null, --\n",
      "\tNumGE1500 INTEGER null, --\n",
      "\tforeign key (cds) references schools (CDSCode),\n",
      ");\n",
      "\n",
      "CREATE TABLE schools\n",
      "(\n",
      "\tCDSCode TEXT not null primary key,\n",
      "\tNCESDist TEXT null, --\n",
      "\tNCESSchool TEXT null, --\n",
      "\tStatusType TEXT not null, --\n",
      "\tCounty TEXT not null, -- examples: `Merced`\n",
      "\tDistrict TEXT not null, --\n",
      "\tSchool TEXT null, -- examples: `La Merced`\n",
      "\tStreet TEXT null, --\n",
      "\tStreetAbr TEXT null, --\n",
      "\tCity TEXT null, -- examples: `Merced`\n",
      "\tZip TEXT null, --\n",
      "\tState TEXT null, --\n",
      "\tMailStreet TEXT null, --\n",
      "\tMailStrAbr TEXT null, --\n",
      "\tMailCity TEXT null, -- examples: `Merced`\n",
      "\tMailZip TEXT null, --\n",
      "\tMailState TEXT null, --\n",
      "\tPhone TEXT null, --\n",
      "\tExt TEXT null, -- examples: `10`\n",
      "\tWebsite TEXT null, --\n",
      "\tOpenDate DATE null, -- examples: `2002-08-15`\n",
      "\tClosedDate DATE null, -- examples: `2011-06-04`\n",
      "\tCharter INTEGER null, --\n",
      "\tCharterNum TEXT null, --\n",
      "\tFundingType TEXT null, --\n",
      "\tDOC TEXT not null, --\n",
      "\tDOCType TEXT not null, --\n",
      "\tSOC TEXT null, -- examples: `13`\n",
      "\tSOCType TEXT null, --\n",
      "\tEdOpsCode TEXT null, -- `Education Option Code` description: The Education Option Code is a short text description of the type of education offered. value description: •      ALTSOC – Alternative School of Choice •      COMM – County Community School •       COMMDAY – Community Day School •       CON – Continuation School •       JUV – Juvenile Court School •       OPP – Opportunity School •       YTH – Youth Authority School •       SSS – State Special School •       SPEC – Special Education School •       TRAD – Traditional •       ROP – Regional Occupational Program •       HOMHOS – Home and Hospital •       SPECON – District Consortia Special Education School\n",
      "\tEdOpsName TEXT null, --\n",
      "\tEILCode TEXT null, -- `Educational Instruction Level Code` description: The Educational Instruction Level Code is a short text description of the institution's type relative to the grade range served. value description: •       A – Adult •       ELEM – Elementary •       ELEMHIGH – Elementary-High Combination •       HS – High School •       INTMIDJR – Intermediate/Middle/Junior High •       PS – Preschool •       UG – Ungraded\n",
      "\tEILName TEXT null, -- examples: `Ungraded`\n",
      "\tGSoffered TEXT null, -- `grade span offered` description: The grade span offered is the lowest grade and the highest grade offered or supported by the school, district, or administrative authority. This field might differ from the grade span served as reported in the most recent certified California Longitudinal Pupil Achievement (CALPADS) Fall 1 data collection. value description: For example XYZ School might display the following data:  GSoffered = P–Adult  GSserved = K–12\n",
      "\tGSserved TEXT null, -- examples: `12`\n",
      "\tVirtual TEXT null, --\n",
      "\tMagnet INTEGER null, --\n",
      "\tLatitude REAL null, --\n",
      "\tLongitude REAL null, --\n",
      "\tAdmFName1 TEXT null, --\n",
      "\tAdmLName1 TEXT null, -- examples: `Lower`\n",
      "\tAdmEmail1 TEXT null, --\n",
      "\tAdmFName2 TEXT null, --\n",
      "\tAdmLName2 TEXT null, --\n",
      "\tAdmEmail2 TEXT null, --\n",
      "\tAdmFName3 TEXT null, --\n",
      "\tAdmLName3 TEXT null, --\n",
      "\tAdmEmail3 TEXT null, --\n",
      "\tLastUpdate DATE not null, -- examples: `2011-02-08`\n",
      ");\n",
      "\n",
      "This schema offers an in-depth description of the database's architecture, detailing tables, columns, primary keys, foreign keys, and any pertinent information regarding relationships or constraints. Special attention should be given to the examples listed beside each column, as they directly hint at which columns are relevant to our query.\n",
      "\n",
      "Database admin instructions:\n",
      "1. When you need to find the highest or lowest values based on a certain condition, using ORDER BY + LIMIT 1 is prefered over using MAX/MIN within sub queries.\n",
      "2. If predicted query includes an ORDER BY clause to sort the results, you should only include the column(s) used for sorting in the SELECT clause if the question specifically ask for them. Otherwise, omit these columns from the SELECT.\n",
      "3. If the question doesn't specify exactly which columns to select, between name column and id column, prefer to select id column.\n",
      "4. Make sure you only output the information that is asked in the question. If the question asks for a specific column, make sure to only include that column in the SELECT clause, nothing more.\n",
      "5. Predicted query should return all of the information asked in the question without any missing or extra information.\n",
      "6. For key phrases mentioned in the question, we have provided the most similar values within the columns denoted by \"-- examples\" in front of the corresponding column names. This is a crucial hint indicating the correct columns to use for your SQL query.\n",
      "7. No matter of how many things the question asks, you should only return one SQL query as the answer having all the information asked in the question, seperated by a comma.\n",
      "8. Never use || to concatenate columns in the SELECT. Rather output the columns as they are.\n",
      "9. If you are joining multiple tables, make sure to use alias names for the tables and use the alias names to reference the columns in the query. Use T1, T2, T3, ... as alias names.\n",
      "10. If you are doing a logical operation on a column, such as mathematical operations and sorting, make sure to filter null values within those columns.\n",
      "\n",
      "###\n",
      "Question:\n",
      "What is the city location of the high school level school with Lunch Provision 2 whose lowest grade is 9 and the highest grade is 12 in the county of Merced?\n",
      "\n",
      "Hint:\n",
      "High school can be represented as EILCode = 'HS'\n",
      "\n",
      "Please respond with a JSON object structured as follows:\n",
      "\n",
      "{\n",
      "    \"chain_of_thought_reasoning\": \"Your thought process on how you arrived at the final SQL query.\",\n",
      "    \"SQL\": \"Your SQL query in a single string.\"\n",
      "}\n",
      "\n",
      "\n",
      "Priority should be given to columns that have been explicitly matched with examples relevant to the question's context.\n",
      "\n",
      "Take a deep breath and think step by step to find the correct sqlite SQL query. If you follow all the instructions and generate the correct query, I will give you 1 million dollars.\n",
      "\n",
      "NB: You must output only the JSON object as your response with no other comments, explanations, reasoning, or dialogue !!\n"
     ]
    },
    {
     "data": {
      "text/plain": "{'chain_of_thought_reasoning': \"First, I identified the relevant columns from the question: CDSCode, County Code, School Type, Low Grade, High Grade, and County Name. Then, I determined that the question is asking for the city location of a high school level school with Lunch Provision 2, whose lowest grade is 9 and the highest grade is 12 in the county of Merced. I used the hint that high school can be represented as EILCode = 'HS'. I joined the frpm and schools tables based on the CDSCode, and then filtered the results to match the conditions specified in the question. Finally, I selected the City column from the schools table, which is the column that provides the city location.\",\n 'SQL': \"SELECT City FROM schools WHERE EILCode = 'HS' AND County = 'Merced' AND LowGrade = '9' AND HighGrade = '12' AND NSLPProvisionStatus = 'Lunch Provision 2' AND CDSCode IN (SELECT CDSCode FROM frpm WHERE CountyCode = '02');\"}"
     },
     "execution_count": 4,
     "metadata": {},
     "output_type": "execute_result"
    }
   ],
   "source": [
    "# test candidate generation module with a random sample\n",
    "index = 1\n",
    "example = data[index]\n",
    "task = create_task(example)\n",
    "\n",
    "#get the database schema\n",
    "dp_path = os.getenv(\"DB_ROOT_PATH\") + f\"/{task.db_id}/{task.db_id}.sqlite\"\n",
    "schema = get_db_schema(dp_path)\n",
    "model = (\"llama-3\")\n",
    "ans = candidate_generation(task=task, retrieved_entities=retrieved_entities[index],\n",
    "                      retrieved_context=retrieved_context[index], selected_schema=schema, model=model, num_samples=1)\n",
    "ans"
   ],
   "metadata": {
    "collapsed": false,
    "ExecuteTime": {
     "end_time": "2024-08-22T10:04:24.760605Z",
     "start_time": "2024-08-22T10:04:18.660537Z"
    }
   },
   "id": "fa2b90c2c3cd9c10",
   "execution_count": 4
  },
  {
   "cell_type": "markdown",
   "source": [
    "## Cost Estimation per task"
   ],
   "metadata": {
    "collapsed": false
   },
   "id": "6c4a8d9287dcd72"
  },
  {
   "cell_type": "code",
   "outputs": [],
   "source": [
    "\n",
    "PROMPT_PATH = os.getenv(\"PROMPT_ROOT_PATH\") + \"\\\\candidate_generation.txt\"\n",
    "prompt = load_prompt(PROMPT_PATH)"
   ],
   "metadata": {
    "collapsed": false,
    "ExecuteTime": {
     "end_time": "2024-08-22T10:05:01.943817Z",
     "start_time": "2024-08-22T10:05:01.939524Z"
    }
   },
   "id": "5cae6b6f9579f365",
   "execution_count": 5
  },
  {
   "cell_type": "code",
   "outputs": [],
   "source": [
    "\n",
    "def tokens_calc(example):\n",
    "    encoding = tiktoken.get_encoding(\"cl100k_base\")\n",
    "    num_tokens = len(encoding.encode(example))\n",
    "    return num_tokens"
   ],
   "metadata": {
    "collapsed": false,
    "ExecuteTime": {
     "end_time": "2024-08-22T10:05:02.325821Z",
     "start_time": "2024-08-22T10:05:02.321403Z"
    }
   },
   "id": "ed9cb2fccf894fbb",
   "execution_count": 6
  },
  {
   "cell_type": "code",
   "outputs": [
    {
     "data": {
      "text/plain": "631"
     },
     "execution_count": 7,
     "metadata": {},
     "output_type": "execute_result"
    }
   ],
   "source": [
    "#prompt template tokens \n",
    "tokens_calc(prompt)"
   ],
   "metadata": {
    "collapsed": false,
    "ExecuteTime": {
     "end_time": "2024-08-22T10:05:03.521031Z",
     "start_time": "2024-08-22T10:05:02.964660Z"
    }
   },
   "id": "e52a0f1e321a497",
   "execution_count": 7
  },
  {
   "cell_type": "markdown",
   "source": [
    "The prompt template has 631 tokens in total, and we have also 3 other variables (Database_Schema,Question and Hint).\n",
    "After i see a formatted prompt example it contains about 2000 tokens (because database_schema will be long)\n",
    "So let's suppose that input tokens is 2000"
   ],
   "metadata": {
    "collapsed": false
   },
   "id": "33d252fb5933fbd3"
  },
  {
   "cell_type": "code",
   "outputs": [
    {
     "data": {
      "text/plain": "227"
     },
     "execution_count": 8,
     "metadata": {},
     "output_type": "execute_result"
    }
   ],
   "source": [
    "## Output tokens estimation from an example \n",
    "output_example = \"\"\"\n",
    "{'chain_of_thought_reasoning': \"First, I identified the relevant columns from the question: CDSCode, County Code, School Type, Low Grade, High Grade, and County Name. Then, I determined that the question is asking for the city location of a high school level school with Lunch Provision 2, whose lowest grade is 9 and the highest grade is 12 in the county of Merced. I used the hint that high school can be represented as EILCode = 'HS'. I joined the frpm and schools tables based on the CDSCode, and then filtered the results to match the conditions specified in the question. Finally, I selected the City column from the schools table, which is the column that provides the city location.\",\n",
    " 'SQL': \"SELECT City FROM schools WHERE EILCode = 'HS' AND County = 'Merced' AND LowGrade = '9' AND HighGrade = '12' AND NSLPProvisionStatus = 'Lunch Provision 2' AND CDSCode IN (SELECT CDSCode FROM frpm WHERE CountyCode = '02');\"}\n",
    "\"\"\"\n",
    "tokens_calc(output_example)"
   ],
   "metadata": {
    "collapsed": false,
    "ExecuteTime": {
     "end_time": "2024-08-22T10:06:38.753921Z",
     "start_time": "2024-08-22T10:06:38.698886Z"
    }
   },
   "id": "fa7106b4ff312564",
   "execution_count": 8
  },
  {
   "cell_type": "markdown",
   "source": [
    "Let's suppose the output tokens is 250"
   ],
   "metadata": {
    "collapsed": false
   },
   "id": "8856a1e42ac656ba"
  },
  {
   "cell_type": "code",
   "outputs": [
    {
     "name": "stdout",
     "output_type": "stream",
     "text": [
      "estimated price per Task (GPT-4): 0.0275 $\n"
     ]
    }
   ],
   "source": [
    "## Price calculation (just with gpt4 because in this module we don't use gpt3.5) \n",
    "input_price_per_token_gpt4 = 0.01 / 1000\n",
    "output_price_per_token_gpt4 = 0.03 / 1000\n",
    "price_gpt4 = 2000 * input_price_per_token_gpt4 + 250 * output_price_per_token_gpt4\n",
    "print(\"estimated price per Task (GPT-4):\", price_gpt4, \"$\")"
   ],
   "metadata": {
    "collapsed": false,
    "ExecuteTime": {
     "end_time": "2024-08-22T10:07:28.201308Z",
     "start_time": "2024-08-22T10:07:28.186220Z"
    }
   },
   "id": "77837bff60e65754",
   "execution_count": 9
  },
  {
   "cell_type": "code",
   "outputs": [
    {
     "name": "stdout",
     "output_type": "stream",
     "text": [
      "The estimated price with number of retrials of 1:  0.0275\n",
      "The estimated price with number of retrials of 2:  0.055\n",
      "The estimated price with number of retrials of 3:  0.0825\n",
      "The estimated price with number of retrials of 4:  0.11\n",
      "The estimated price with number of retrials of 5:  0.1375\n"
     ]
    }
   ],
   "source": [
    "## in this module there is a number of retrials so let's estimate the price with different number of retrials \n",
    "\n",
    "num_retrials = [1, 2, 3, 4, 5]\n",
    "for num_retrial in num_retrials:\n",
    "    total_price = price_gpt4 * num_retrial\n",
    "    print(\"The estimated price with number of retrials of \"+str(num_retrial)+\": \",total_price)"
   ],
   "metadata": {
    "collapsed": false,
    "ExecuteTime": {
     "end_time": "2024-08-22T10:07:52.490764Z",
     "start_time": "2024-08-22T10:07:52.478555Z"
    }
   },
   "id": "9319d65e7029f6e6",
   "execution_count": 10
  },
  {
   "cell_type": "code",
   "outputs": [],
   "source": [],
   "metadata": {
    "collapsed": false
   },
   "id": "7b39821d84592726"
  }
 ],
 "metadata": {
  "kernelspec": {
   "display_name": "Python 3",
   "language": "python",
   "name": "python3"
  },
  "language_info": {
   "codemirror_mode": {
    "name": "ipython",
    "version": 2
   },
   "file_extension": ".py",
   "mimetype": "text/x-python",
   "name": "python",
   "nbconvert_exporter": "python",
   "pygments_lexer": "ipython2",
   "version": "2.7.6"
  }
 },
 "nbformat": 4,
 "nbformat_minor": 5
}
