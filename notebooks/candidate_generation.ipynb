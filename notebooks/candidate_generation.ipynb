{
 "cells": [
  {
   "cell_type": "markdown",
   "source": [
    "In this notebook we will test the candidate generation module "
   ],
   "metadata": {
    "collapsed": false
   },
   "id": "34686225f362ebe2"
  },
  {
   "cell_type": "code",
   "outputs": [
    {
     "data": {
      "text/plain": "True"
     },
     "execution_count": 7,
     "metadata": {},
     "output_type": "execute_result"
    }
   ],
   "source": [
    "from src.llm.llm_interface import UnifiedLLMInterface\n",
    "# IMPORTs\n",
    "from utils.task import Task\n",
    "import json\n",
    "import os\n",
    "from src.pipeline.candidate_generation import candidate_generation\n",
    "from dotenv import load_dotenv\n",
    "from utils.prompt import load_prompt\n",
    "import tiktoken\n",
    "from tqdm import tqdm\n",
    "\n",
    "load_dotenv()"
   ],
   "metadata": {
    "collapsed": true,
    "ExecuteTime": {
     "end_time": "2024-09-12T00:12:53.061328Z",
     "start_time": "2024-09-12T00:12:53.053844Z"
    }
   },
   "id": "initial_id",
   "execution_count": 7
  },
  {
   "cell_type": "code",
   "outputs": [],
   "source": [
    "# Function to load JSON data\n",
    "def load_json_data(filepath):\n",
    "    with open(filepath, 'r') as file:\n",
    "        data = json.load(file)\n",
    "    return data\n",
    "\n",
    "\n",
    "# Function to create task object\n",
    "def create_task(example):\n",
    "    return Task(example)"
   ],
   "metadata": {
    "collapsed": false,
    "ExecuteTime": {
     "end_time": "2024-09-12T00:12:53.527628Z",
     "start_time": "2024-09-12T00:12:53.522332Z"
    }
   },
   "id": "d00f7f5c7585baab",
   "execution_count": 8
  },
  {
   "cell_type": "code",
   "outputs": [],
   "source": [
    "# load the task data\n",
    "filepath = \"C:\\\\Users\\yousf\\Bureau\\ConvergenceAI\\CHESS_Impl\\data\\\\subsampled_dev_set\\\\sub_sampled_bird_dev_set.json\"\n",
    "data = load_json_data(filepath)\n",
    "# load the retrieved entities\n",
    "filepath_entities = \"C:/Users\\yousf\\Bureau\\ConvergenceAI\\CHESS_Impl\\data/test/retrieved_entities.json\"\n",
    "retrieved_entities = load_json_data(filepath_entities)\n",
    "# load the retrieved context\n",
    "filepath_context = \"C:/Users\\yousf\\Bureau\\ConvergenceAI\\CHESS_Impl\\data/test/retrieved_context.json\"\n",
    "retrieved_context = load_json_data(filepath_context)\n",
    "# load the selected schema\n",
    "filepath_schema = \"C:/Users\\yousf\\Bureau\\ConvergenceAI\\CHESS_Impl\\data/test/selected_schema.json\"\n",
    "selected_schema = load_json_data(filepath_schema)\n",
    "\n",
    "llm = UnifiedLLMInterface()"
   ],
   "metadata": {
    "collapsed": false,
    "ExecuteTime": {
     "end_time": "2024-09-12T00:13:04.093526Z",
     "start_time": "2024-09-12T00:13:04.084939Z"
    }
   },
   "id": "5ee82a0867e6ceaa",
   "execution_count": 9
  },
  {
   "cell_type": "code",
   "outputs": [
    {
     "name": "stdout",
     "output_type": "stream",
     "text": [
      "{\n",
      "    \"chain_of_thought_reasoning\": \"First, I identified the relevant table as 'bond' since it contains information about bond types. Then, I focused on the 'bond_type' column, which has an example value '#', indicating a triple bond. Next, I realized that I need to count the number of compounds that form a triple bond and then calculate the percentage. To do this, I joined the 'bond' table with the 'olecule' table to get the total number of compounds. Finally, I used the COUNT and SUM functions to calculate the percentage.\",\n",
      "    \"SQL\": \"SELECT ROUND(COUNT(T1.bond_id) / (SELECT COUNT(*) FROM T1) * 100, 2) AS percentage FROM bond T1 WHERE T1.bond_type = '#';\"\n",
      "}\n"
     ]
    },
    {
     "data": {
      "text/plain": "{'chain_of_thought_reasoning': \"First, I identified the relevant table as 'bond' since it contains information about bond types. Then, I focused on the 'bond_type' column, which has an example value '#', indicating a triple bond. Next, I realized that I need to count the number of compounds that form a triple bond and then calculate the percentage. To do this, I joined the 'bond' table with the 'olecule' table to get the total number of compounds. Finally, I used the COUNT and SUM functions to calculate the percentage.\",\n 'SQL': \"SELECT ROUND(COUNT(T1.bond_id) / (SELECT COUNT(*) FROM T1) * 100, 2) AS percentage FROM bond T1 WHERE T1.bond_type = '#';\"}"
     },
     "execution_count": 14,
     "metadata": {},
     "output_type": "execute_result"
    }
   ],
   "source": [
    "# test candidate generation module with a random sample\n",
    "index = 22\n",
    "example = data[index]\n",
    "task = create_task(example)\n",
    "entity_retrieval = {\n",
    "    \"similar_columns\": {\n",
    "        \"bond\": [\n",
    "            \"bond_type\"\n",
    "        ]\n",
    "    },\n",
    "    \"similar_values\": {}\n",
    "}\n",
    "context_retrieval = {\n",
    "    \"schema_with_descriptions\": {\n",
    "        \"bond\": {\n",
    "            \"bond_type\": {\n",
    "                \"column_name\": \"\",\n",
    "                \"column_description\": \"type of the bond\",\n",
    "                \"value_description\": \"\\u0093-\\u0094: single bond '=': double bond '#': triple bond\"\n",
    "            },\n",
    "            \"molecule_id\": {\n",
    "                \"column_name\": \"\",\n",
    "                \"column_description\": \"identifying the molecule in which the bond appears\",\n",
    "                \"value_description\": \"\"\n",
    "            },\n",
    "            \"bond_id\": {\n",
    "                \"column_name\": \"\",\n",
    "                \"column_description\": \"unique id representing bonds\",\n",
    "                \"value_description\": \"TRxxx_A1_A2: TRXXX refers to which molecule A1 and A2 refers to which atom\"\n",
    "            }\n",
    "        },\n",
    "        \"connected\": {\n",
    "            \"bond_id\": {\n",
    "                \"column_name\": \"bond id\",\n",
    "                \"column_description\": \"bond id representing bond between two atoms\",\n",
    "                \"value_description\": \"\"\n",
    "            }\n",
    "        },\n",
    "        \"atom\": {\n",
    "            \"molecule_id\": {\n",
    "                \"column_name\": \"molecule id\",\n",
    "                \"column_description\": \"identifying the molecule to which the atom belongs\",\n",
    "                \"value_description\": \"TRXXX_i represents ith atom of molecule TRXXX\"\n",
    "            }\n",
    "        }\n",
    "    }\n",
    "}\n",
    "schema = {\n",
    "    \"bond\": [\n",
    "        \"bond_type\",\n",
    "        \"molecule_id\"\n",
    "    ],\n",
    "    \"molecule\": [\n",
    "        \"molecule_id\"\n",
    "    ]\n",
    "}\n",
    "\n",
    "model = \"llama-3\"\n",
    "ans = candidate_generation(task=task, retrieved_entities=entity_retrieval,\n",
    "                           retrieved_context=context_retrieval,\n",
    "                           selected_schema=schema,\n",
    "                           llm=llm,\n",
    "                           model=model,\n",
    "                           num_samples=1)\n",
    "ans"
   ],
   "metadata": {
    "collapsed": false,
    "ExecuteTime": {
     "end_time": "2024-09-12T00:24:29.094723Z",
     "start_time": "2024-09-12T00:24:24.216869Z"
    }
   },
   "id": "fa2b90c2c3cd9c10",
   "execution_count": 14
  },
  {
   "cell_type": "code",
   "outputs": [
    {
     "name": "stderr",
     "output_type": "stream",
     "text": [
      "1it [00:11, 11.06s/it]"
     ]
    },
    {
     "name": "stdout",
     "output_type": "stream",
     "text": [
      "0 :  {'chain_of_thought_reasoning': \"To answer the question, I need to perform two tasks: 1) Identify the atom IDs that belong to the molecule 'TR346'. This can be achieved by querying the 'atom' table where 'molecule_id' equals 'TR346'. 2) Count the distinct types of bonds that can be created by the molecule 'TR346'. This requires querying the 'bond' table where 'molecule_id' equals 'TR346' and counting the distinct 'bond_type'. Both results need to be obtained in a single query. To achieve this, I will use a JOIN operation between the 'atom' and 'bond' tables on the 'molecule_id' column, filtering both tables for 'molecule_id' = 'TR346'. The final query will select the 'atom_id' from the 'atom' table and count the distinct 'bond_type' from the 'bond' table.\", 'SQL': \"SELECT T1.atom_id, COUNT(DISTINCT T2.bond_type) FROM atom T1 JOIN bond T2 ON T1.molecule_id = T2.molecule_id WHERE T1.molecule_id = 'TR346' AND T2.molecule_id = 'TR346' GROUP BY T1.atom_id\"}\n"
     ]
    },
    {
     "name": "stderr",
     "output_type": "stream",
     "text": [
      "2it [00:21, 10.84s/it]"
     ]
    },
    {
     "name": "stdout",
     "output_type": "stream",
     "text": [
      "1 :  {'chain_of_thought_reasoning': \"To answer the question, I need to find the city of a high school in the county of Merced with specific criteria. First, I'll join the 'schools' and 'frpm' tables on the 'CDSCode' since it's a common key and a foreign key relationship exists between these tables. I'll filter the 'schools' table for schools in Merced County and with an EILCode of 'HS' for high schools. Then, I'll filter the 'frpm' table for records with 'NSLP Provision Status' as 'Lunch Provision 2' and where the lowest grade is 9 and the highest grade is 12. The final step is to select the 'City' from the 'schools' table which meets all these conditions.\", 'SQL': \"SELECT T1.City FROM schools T1 JOIN frpm T2 ON T1.CDSCode = T2.CDSCode WHERE T1.County = 'Merced' AND T1.EILCode = 'HS' AND T2.`NSLP Provision Status` = 'Lunch Provision 2' AND T2.`Low Grade` = '9' AND T2.`High Grade` = '12'\"}\n"
     ]
    },
    {
     "name": "stderr",
     "output_type": "stream",
     "text": [
      "3it [00:31, 10.18s/it]"
     ]
    },
    {
     "name": "stdout",
     "output_type": "stream",
     "text": [
      "2 :  {'chain_of_thought_reasoning': \"To find the full name of the tallest hero published by Marvel Comics, I need to join the 'superhero' table with the 'publisher' table based on the foreign key relationship between superhero.publisher_id and publisher.id. I will filter superheroes by those published by 'Marvel Comics', which is specified in the publisher_name column of the publisher table. To ensure I get the tallest hero, I will order the results by height in descending order and select the top result using LIMIT 1. I will also ensure to filter out any superheroes with a height of NULL or 0 to adhere to the database admin instructions. The final query will only select the full_name of the superhero, as per the instructions.\", 'SQL': \"SELECT T1.full_name FROM superhero T1 JOIN publisher T2 ON T1.publisher_id = T2.id WHERE T2.publisher_name = 'Marvel Comics' AND T1.height_cm IS NOT NULL AND T1.height_cm > 0 ORDER BY T1.height_cm DESC LIMIT 1\"}\n"
     ]
    },
    {
     "name": "stderr",
     "output_type": "stream",
     "text": [
      "4it [00:44, 11.27s/it]"
     ]
    },
    {
     "name": "stdout",
     "output_type": "stream",
     "text": [
      "3 :  {'chain_of_thought_reasoning': \"To answer the question, I need to count the number of users who are classified as elders (Age > 65) and have obtained the 'Supporter' badge. I will use the 'users' table to filter users who are elders and the 'badges' table to filter badges with the name 'Supporter'. I will join these tables on the UserId to ensure that the badges are associated with the correct users. The COUNT function will be used to count the number of such users, and I will ensure to filter out any null values in the UserId and Age columns to adhere to the database admin instructions. The final query will join the tables, apply the necessary filters, and count the distinct users meeting the criteria.\", 'SQL': \"SELECT COUNT(DISTINCT T1.UserId) FROM badges T1 JOIN users T2 ON T1.UserId = T2.Id WHERE T2.Age > 65 AND T1.Name = 'Supporter' AND T1.UserId IS NOT NULL AND T2.Age IS NOT NULL\"}\n"
     ]
    },
    {
     "name": "stderr",
     "output_type": "stream",
     "text": [
      "5it [00:55, 11.31s/it]"
     ]
    },
    {
     "name": "stdout",
     "output_type": "stream",
     "text": [
      "4 :  {'chain_of_thought_reasoning': \"To solve the query, I need to count users from 'New York' who have both 'Teacher' and 'Supporter' badges. First, I'll join the 'users' table with the 'badges' table on the user ID. Since the question specifies users from 'New York', I'll filter the 'Location' to 'New York'. To ensure a user has both 'Teacher' and 'Supporter' badges, I'll use a GROUP BY on the user ID and HAVING clause to check the presence of both badges. The COUNT function will then give the number of such users. I'll use aliases for tables as per the instructions and ensure to filter out any null values in relevant columns.\", 'SQL': \"SELECT COUNT(DISTINCT T1.Id) FROM users T1 JOIN badges T2 ON T1.Id = T2.UserId WHERE T1.Location = 'New York' AND T2.Name IS NOT NULL GROUP BY T1.Id HAVING SUM(CASE WHEN T2.Name = 'Teacher' THEN 1 ELSE 0 END) > 0 AND SUM(CASE WHEN T2.Name = 'Supporter' THEN 1 ELSE 0 END) > 0\"}\n"
     ]
    },
    {
     "name": "stderr",
     "output_type": "stream",
     "text": [
      "6it [01:06, 11.13s/it]"
     ]
    },
    {
     "name": "stdout",
     "output_type": "stream",
     "text": [
      "5 :  {'chain_of_thought_reasoning': \"To answer the question about the description of the ruling for the card named 'Condemn', I need to join the 'cards' table with the 'rulings' table based on the 'uuid' which is a common key between the two tables. The 'cards' table contains the card names and their corresponding UUIDs, while the 'rulings' table contains the text of the rulings linked to these UUIDs. The query will filter the 'cards' table to find the UUID of the card named 'Condemn', then use this UUID to fetch the corresponding ruling text from the 'rulings' table. The SELECT clause will only include the 'text' column from the 'rulings' table as per the instructions to output only the information asked in the question.\", 'SQL': \"SELECT T2.text FROM cards T1 JOIN rulings T2 ON T1.uuid = T2.uuid WHERE T1.name = 'Condemn'\"}\n"
     ]
    },
    {
     "name": "stderr",
     "output_type": "stream",
     "text": [
      "7it [01:16, 10.74s/it]"
     ]
    },
    {
     "name": "stdout",
     "output_type": "stream",
     "text": [
      "6 :  {'chain_of_thought_reasoning': \"To answer the question, I need to join the 'molecule' and 'bond' tables based on the 'molecule_id' to access both the carcinogenic status of the molecule and the type of bonds it contains. The molecule of interest is identified by 'molecule_id' = 'TR006'. I will count the number of bonds where 'bond_type' = '=' (double bonds) for this molecule. The SQL query will use a JOIN operation between the two tables, filter by 'molecule_id', and count the number of double bonds. The carcinogenic status will be directly selected from the 'label' column of the 'molecule' table. The query will ensure that only the required information (count of double bonds and carcinogenic status) is returned, following the database admin instructions.\", 'SQL': \"SELECT COUNT(T2.bond_id) AS double_bonds_count, T1.label AS carcinogenic FROM molecule T1 JOIN bond T2 ON T1.molecule_id = T2.molecule_id WHERE T1.molecule_id = 'TR006' AND T2.bond_type = '='\"}\n"
     ]
    },
    {
     "name": "stderr",
     "output_type": "stream",
     "text": [
      "8it [01:26, 10.66s/it]"
     ]
    },
    {
     "name": "stdout",
     "output_type": "stream",
     "text": [
      "7 :  {'chain_of_thought_reasoning': \"To answer the question, I need to join the 'member' table with the 'major' table using the foreign key relationship between 'member.link_to_major' and 'major.major_id'. The question specifically asks for the full name of the member and the college they belong to, where the member's position is 'Secretary'. According to the schema, the full name is a combination of 'first_name' and 'last_name' from the 'member' table, and the college is in the 'major' table. I will use an INNER JOIN to ensure that only members with a valid major are included. The query will filter members by the position 'Secretary', and since the question does not specify sorting or the need to handle multiple secretaries, I will assume there is only one or the query should return all matching entries. I will use aliases for tables as instructed and ensure to select only the required columns.\", 'SQL': \"SELECT T1.first_name || ' ' || T1.last_name AS full_name, T2.college FROM member T1 INNER JOIN major T2 ON T1.link_to_major = T2.major_id WHERE T1.position = 'Secretary'\"}\n"
     ]
    },
    {
     "name": "stderr",
     "output_type": "stream",
     "text": [
      "9it [01:39, 11.26s/it]"
     ]
    },
    {
     "name": "stdout",
     "output_type": "stream",
     "text": [
      "8 :  {'chain_of_thought_reasoning': \"To determine the percentage of compounds that form a triple bond, we need to calculate two main values: the total number of unique molecules and the number of unique molecules that have at least one triple bond. We can find the total number of unique molecules by counting distinct molecule_id in the molecule table. For the number of molecules with at least one triple bond, we can count distinct molecule_id in the bond table where bond_type is '#'. After obtaining these two counts, the percentage can be calculated by dividing the number of molecules with a triple bond by the total number of molecules and then multiplying by 100. We will use a LEFT JOIN to ensure all molecules are considered, even those without any bonds. The use of COALESCE will handle cases where there are no triple bonds, ensuring the calculation defaults to zero in such cases.\", 'SQL': \"SELECT (COUNT(DISTINCT T2.molecule_id) * 100.0 / COUNT(DISTINCT T1.molecule_id)) AS percentage_of_triple_bonds FROM molecule T1 LEFT JOIN bond T2 ON T1.molecule_id = T2.molecule_id AND T2.bond_type = '#' WHERE T2.bond_type IS NOT NULL\"}\n"
     ]
    },
    {
     "name": "stderr",
     "output_type": "stream",
     "text": [
      "10it [01:48, 10.67s/it]"
     ]
    },
    {
     "name": "stdout",
     "output_type": "stream",
     "text": [
      "9 :  {'chain_of_thought_reasoning': \"To answer the question about Francesco Parravicini's potential on a specific date, I need to join the Player and Player_Attributes tables. The Player table will help identify the player_api_id for Francesco Parravicini, and the Player_Attributes table contains the potential scores. I will use the player_name from the Player table to filter for 'Francesco Parravicini' and the date from the Player_Attributes table to filter for '2010-08-30 00:00:00'. I will join these tables on player_api_id since it's a common key in both tables. The query will select the potential column from the Player_Attributes table, ensuring to filter out any potential null values in the potential column as per the database admin instructions.\", 'SQL': \"SELECT T2.potential FROM Player T1 JOIN Player_Attributes T2 ON T1.player_api_id = T2.player_api_id WHERE T1.player_name = 'Francesco Parravicini' AND T2.date = '2010-08-30 00:00:00' AND T2.potential IS NOT NULL\"}\n"
     ]
    },
    {
     "name": "stderr",
     "output_type": "stream",
     "text": [
      "11it [01:57, 10.23s/it]"
     ]
    },
    {
     "name": "stdout",
     "output_type": "stream",
     "text": [
      "10 :  {'chain_of_thought_reasoning': \"To answer the question, I need to count the number of male clients from the 'client' table who live in the 'North Bohemia' region and have an average salary greater than 8000. This requires joining the 'client' table with the 'district' table on the 'district_id' to access the region and average salary information. I will filter the clients based on gender ('M' for male) and use the conditions specified for the region ('North Bohemia') and the average salary (>8000). The SQL query will use a JOIN operation to combine the tables, a WHERE clause to filter the data, and a COUNT function to get the number of clients meeting the criteria.\", 'SQL': \"SELECT COUNT(*) FROM client T1 JOIN district T2 ON T1.district_id = T2.district_id WHERE T1.gender = 'M' AND T2.A3 = 'North Bohemia' AND T2.A11 > 8000\"}\n"
     ]
    },
    {
     "name": "stderr",
     "output_type": "stream",
     "text": [
      "12it [02:08, 10.31s/it]"
     ]
    },
    {
     "name": "stdout",
     "output_type": "stream",
     "text": [
      "11 :  {'chain_of_thought_reasoning': \"To answer the question, I need to find the school in California ('CA') with the lowest latitude. The database schema indicates that the 'schools' table contains all necessary information. I will filter schools based on the 'State' column to include only those in California. Then, I will sort these schools by the 'Latitude' column in ascending order to find the school with the lowest latitude. Since the latitude can be null, I will filter out schools where latitude is null. The question asks for the city and the lowest grade of this school, as well as the school name. I will use the 'City', 'GSserved', and 'School' columns in my SELECT clause. I will limit the results to 1 to get only the school with the absolute lowest latitude. I will not use concatenation in the SELECT clause, as per the instructions.\", 'SQL': \"SELECT T1.City, T1.GSserved, T1.School FROM schools T1 WHERE T1.State = 'CA' AND T1.Latitude IS NOT NULL ORDER BY T1.Latitude ASC LIMIT 1\"}\n"
     ]
    },
    {
     "name": "stderr",
     "output_type": "stream",
     "text": [
      "13it [02:19, 10.43s/it]"
     ]
    },
    {
     "name": "stdout",
     "output_type": "stream",
     "text": [
      "12 :  {'chain_of_thought_reasoning': \"To solve the problem, I need to calculate the percentage of bonds that are double bonds ('=') among all bonds in molecule TR047. First, I'll filter the bonds by molecule_id = 'TR047'. Then, I'll count the total number of bonds and the number of double bonds for this molecule. The percentage is calculated by dividing the number of double bonds by the total number of bonds and multiplying by 100 to get a percentage. I'll use a single SQL query with a CASE statement to conditionally count double bonds and use COUNT to count all bonds. The result will be grouped by molecule_id, though this is implicit since we're only considering TR047.\", 'SQL': \"SELECT (SUM(CASE WHEN bond_type = '=' THEN 1 ELSE 0 END) * 100.0 / COUNT(bond_id)) AS percent FROM bond WHERE molecule_id = 'TR047'\"}\n"
     ]
    },
    {
     "name": "stderr",
     "output_type": "stream",
     "text": [
      "14it [02:28, 10.22s/it]"
     ]
    },
    {
     "name": "stdout",
     "output_type": "stream",
     "text": [
      "13 :  {'chain_of_thought_reasoning': \"To answer the question, I need to find the user who added a bounty of 50 to a post with a title mentioning 'variance'. First, I'll identify the relevant tables and columns: 'votes' for BountyAmount, 'posts' for Title, and 'users' for DisplayName. I'll join these tables based on the relationships defined in the schema: votes.PostId to posts.Id and votes.UserId to users.Id. I'll filter the votes table for BountyAmount = 50 and the posts table for titles containing 'variance'. I'll use a LIKE operator with '%' wildcards to handle any position of 'variance' in the title. Finally, I'll select the DisplayName of the user, ensuring to filter out any null values in the BountyAmount and Title columns as per the admin instructions.\", 'SQL': \"SELECT T3.DisplayName FROM votes T1 JOIN posts T2 ON T1.PostId = T2.Id JOIN users T3 ON T1.UserId = T3.Id WHERE T1.BountyAmount = 50 AND T2.Title LIKE '%variance%' AND T1.BountyAmount IS NOT NULL AND T2.Title IS NOT NULL\"}\n"
     ]
    },
    {
     "name": "stderr",
     "output_type": "stream",
     "text": [
      "15it [02:38, 10.55s/it]"
     ]
    },
    {
     "name": "stdout",
     "output_type": "stream",
     "text": [
      "14 :  {'chain_of_thought_reasoning': \"To answer the question, I need to join the 'users' and 'badges' tables based on the user's ID. The 'users' table contains the location information, and the 'badges' table contains the badge acquisition dates. I will filter the 'users' table to include only those users located in 'Rochester, NY'. Then, I will join this filtered list with the 'badges' table to get the dates when these users obtained their badges. I will use aliases for the tables to make the query clearer and ensure that I only select the 'Date' column from the 'badges' table as per the instructions. I will also ensure to filter out any null values in the 'Date' column to comply with the admin instructions.\", 'SQL': \"SELECT T2.Date FROM users T1 JOIN badges T2 ON T1.Id = T2.UserId WHERE T1.Location = 'Rochester, NY' AND T2.Date IS NOT NULL\"}\n"
     ]
    },
    {
     "name": "stderr",
     "output_type": "stream",
     "text": [
      "\n"
     ]
    }
   ],
   "source": [
    "#test candidate generation module with the subsampled test\n",
    "model = \"gpt-4\"\n",
    "num_samples = 1\n",
    "res = []\n",
    "for index, sample in tqdm(enumerate(data)):\n",
    "    task = create_task(sample)\n",
    "    ans = candidate_generation(task=task, retrieved_entities=retrieved_entities[index],\n",
    "                               retrieved_context=retrieved_context[index],\n",
    "                               selected_schema=selected_schema[index][\"selected_schema\"],\n",
    "                               model=model,\n",
    "                               num_samples=num_samples)\n",
    "    res.append(ans)\n",
    "    print(str(index) + \" : \", ans)"
   ],
   "metadata": {
    "collapsed": false,
    "ExecuteTime": {
     "end_time": "2024-08-28T13:38:20.328752Z",
     "start_time": "2024-08-28T13:35:41.999575Z"
    }
   },
   "id": "ffc3c0a2313afb26",
   "execution_count": 5
  },
  {
   "cell_type": "code",
   "outputs": [],
   "source": [
    "from pathlib import Path\n",
    "\n",
    "schema_path = Path('C:/Users/yousf/Bureau/ConvergenceAI/CHESS_Impl/data/test/generated_candidate.json')\n",
    "with open(schema_path, 'w') as f:\n",
    "    json.dump(res, f, indent=4)"
   ],
   "metadata": {
    "collapsed": false,
    "ExecuteTime": {
     "end_time": "2024-08-28T13:38:20.336883Z",
     "start_time": "2024-08-28T13:38:20.329757Z"
    }
   },
   "id": "46dc23c807d8a742",
   "execution_count": 6
  },
  {
   "cell_type": "markdown",
   "source": [
    "## Cost Estimation per task"
   ],
   "metadata": {
    "collapsed": false
   },
   "id": "6c4a8d9287dcd72"
  },
  {
   "cell_type": "code",
   "outputs": [],
   "source": [
    "\n",
    "PROMPT_PATH = os.getenv(\"PROMPT_ROOT_PATH\") + \"\\\\candidate_generation.txt\"\n",
    "prompt = load_prompt(PROMPT_PATH)"
   ],
   "metadata": {
    "collapsed": false,
    "ExecuteTime": {
     "end_time": "2024-08-22T10:05:01.943817Z",
     "start_time": "2024-08-22T10:05:01.939524Z"
    }
   },
   "id": "5cae6b6f9579f365",
   "execution_count": 5
  },
  {
   "cell_type": "code",
   "outputs": [],
   "source": [
    "\n",
    "def tokens_calc(example):\n",
    "    encoding = tiktoken.get_encoding(\"cl100k_base\")\n",
    "    num_tokens = len(encoding.encode(example))\n",
    "    return num_tokens"
   ],
   "metadata": {
    "collapsed": false,
    "ExecuteTime": {
     "end_time": "2024-08-22T10:05:02.325821Z",
     "start_time": "2024-08-22T10:05:02.321403Z"
    }
   },
   "id": "ed9cb2fccf894fbb",
   "execution_count": 6
  },
  {
   "cell_type": "code",
   "outputs": [
    {
     "data": {
      "text/plain": "631"
     },
     "execution_count": 7,
     "metadata": {},
     "output_type": "execute_result"
    }
   ],
   "source": [
    "#prompt template tokens \n",
    "tokens_calc(prompt)"
   ],
   "metadata": {
    "collapsed": false,
    "ExecuteTime": {
     "end_time": "2024-08-22T10:05:03.521031Z",
     "start_time": "2024-08-22T10:05:02.964660Z"
    }
   },
   "id": "e52a0f1e321a497",
   "execution_count": 7
  },
  {
   "cell_type": "markdown",
   "source": [
    "The prompt template has 631 tokens in total, and we have also 3 other variables (Database_Schema,Question and Hint).\n",
    "After i see a formatted prompt example it contains about 2000 tokens (because database_schema will be long)\n",
    "So let's suppose that input tokens is 2000"
   ],
   "metadata": {
    "collapsed": false
   },
   "id": "33d252fb5933fbd3"
  },
  {
   "cell_type": "code",
   "outputs": [
    {
     "data": {
      "text/plain": "227"
     },
     "execution_count": 8,
     "metadata": {},
     "output_type": "execute_result"
    }
   ],
   "source": [
    "## Output tokens estimation from an example \n",
    "output_example = \"\"\"\n",
    "{'chain_of_thought_reasoning': \"First, I identified the relevant columns from the question: CDSCode, County Code, School Type, Low Grade, High Grade, and County Name. Then, I determined that the question is asking for the city location of a high school level school with Lunch Provision 2, whose lowest grade is 9 and the highest grade is 12 in the county of Merced. I used the hint that high school can be represented as EILCode = 'HS'. I joined the frpm and schools tables based on the CDSCode, and then filtered the results to match the conditions specified in the question. Finally, I selected the City column from the schools table, which is the column that provides the city location.\",\n",
    " 'SQL': \"SELECT City FROM schools WHERE EILCode = 'HS' AND County = 'Merced' AND LowGrade = '9' AND HighGrade = '12' AND NSLPProvisionStatus = 'Lunch Provision 2' AND CDSCode IN (SELECT CDSCode FROM frpm WHERE CountyCode = '02');\"}\n",
    "\"\"\"\n",
    "tokens_calc(output_example)"
   ],
   "metadata": {
    "collapsed": false,
    "ExecuteTime": {
     "end_time": "2024-08-22T10:06:38.753921Z",
     "start_time": "2024-08-22T10:06:38.698886Z"
    }
   },
   "id": "fa7106b4ff312564",
   "execution_count": 8
  },
  {
   "cell_type": "markdown",
   "source": [
    "Let's suppose the output tokens is 250"
   ],
   "metadata": {
    "collapsed": false
   },
   "id": "8856a1e42ac656ba"
  },
  {
   "cell_type": "code",
   "outputs": [
    {
     "name": "stdout",
     "output_type": "stream",
     "text": [
      "estimated price per Task (GPT-4): 0.0275 $\n"
     ]
    }
   ],
   "source": [
    "## Price calculation (just with gpt4 because in this module we don't use gpt3.5) \n",
    "input_price_per_token_gpt4 = 0.01 / 1000\n",
    "output_price_per_token_gpt4 = 0.03 / 1000\n",
    "price_gpt4 = 2000 * input_price_per_token_gpt4 + 250 * output_price_per_token_gpt4\n",
    "print(\"estimated price per Task (GPT-4):\", price_gpt4, \"$\")"
   ],
   "metadata": {
    "collapsed": false,
    "ExecuteTime": {
     "end_time": "2024-08-22T10:07:28.201308Z",
     "start_time": "2024-08-22T10:07:28.186220Z"
    }
   },
   "id": "77837bff60e65754",
   "execution_count": 9
  },
  {
   "cell_type": "code",
   "outputs": [
    {
     "name": "stdout",
     "output_type": "stream",
     "text": [
      "The estimated price with number of retrials of 1:  0.0275\n",
      "The estimated price with number of retrials of 2:  0.055\n",
      "The estimated price with number of retrials of 3:  0.0825\n",
      "The estimated price with number of retrials of 4:  0.11\n",
      "The estimated price with number of retrials of 5:  0.1375\n"
     ]
    }
   ],
   "source": [
    "## in this module there is a number of retrials so let's estimate the price with different number of retrials \n",
    "\n",
    "num_retrials = [1, 2, 3, 4, 5]\n",
    "for num_retrial in num_retrials:\n",
    "    total_price = price_gpt4 * num_retrial\n",
    "    print(\"The estimated price with number of retrials of \" + str(num_retrial) + \": \", total_price)"
   ],
   "metadata": {
    "collapsed": false,
    "ExecuteTime": {
     "end_time": "2024-08-22T10:07:52.490764Z",
     "start_time": "2024-08-22T10:07:52.478555Z"
    }
   },
   "id": "9319d65e7029f6e6",
   "execution_count": 10
  },
  {
   "cell_type": "code",
   "outputs": [],
   "source": [],
   "metadata": {
    "collapsed": false
   },
   "id": "7b39821d84592726"
  }
 ],
 "metadata": {
  "kernelspec": {
   "display_name": "Python 3",
   "language": "python",
   "name": "python3"
  },
  "language_info": {
   "codemirror_mode": {
    "name": "ipython",
    "version": 2
   },
   "file_extension": ".py",
   "mimetype": "text/x-python",
   "name": "python",
   "nbconvert_exporter": "python",
   "pygments_lexer": "ipython2",
   "version": "2.7.6"
  }
 },
 "nbformat": 4,
 "nbformat_minor": 5
}
