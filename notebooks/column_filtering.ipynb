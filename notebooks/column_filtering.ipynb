{
 "cells": [
  {
   "cell_type": "markdown",
   "source": [
    "In this notebook we will test the column filtering module "
   ],
   "metadata": {
    "collapsed": false
   },
   "id": "c9dfe648619ebdd8"
  },
  {
   "cell_type": "code",
   "outputs": [],
   "source": [
    "# IMPORTs\n",
    "from utils.task import Task\n",
    "import json\n",
    "from src.pipeline.column_filtering import column_filtering\n",
    "from utils.prompt import load_prompt\n",
    "import os\n",
    "import tiktoken"
   ],
   "metadata": {
    "collapsed": false,
    "ExecuteTime": {
     "end_time": "2024-08-22T09:03:00.862292Z",
     "start_time": "2024-08-22T09:03:00.741997Z"
    }
   },
   "id": "3adcc910a7cee943",
   "execution_count": 4
  },
  {
   "cell_type": "code",
   "outputs": [],
   "source": [
    "# Function to load JSON data\n",
    "def load_json_data(filepath):\n",
    "    with open(filepath, 'r') as file:\n",
    "        data = json.load(file)\n",
    "    return data\n",
    "\n",
    "\n",
    "# Function to create task object\n",
    "def create_task(example):\n",
    "    return Task(example)\n"
   ],
   "metadata": {
    "collapsed": false,
    "ExecuteTime": {
     "end_time": "2024-08-08T16:57:21.455193Z",
     "start_time": "2024-08-08T16:57:21.450976Z"
    }
   },
   "id": "bfcaa070dd22f72e",
   "execution_count": 2
  },
  {
   "cell_type": "code",
   "outputs": [
    {
     "name": "stderr",
     "output_type": "stream",
     "text": [
      "  0%|          | 0/3 [00:00<?, ?it/s]\n",
      "  0%|          | 0/29 [00:00<?, ?it/s]\u001B[A\n",
      "  3%|▎         | 1/29 [00:02<01:15,  2.71s/it]\u001B[A\n",
      "  7%|▋         | 2/29 [00:03<00:35,  1.33s/it]\u001B[A\n",
      " 10%|█         | 3/29 [00:03<00:24,  1.08it/s]\u001B[A\n",
      " 14%|█▍        | 4/29 [00:05<00:29,  1.17s/it]\u001B[A\n",
      " 17%|█▋        | 5/29 [00:07<00:37,  1.55s/it]\u001B[A\n",
      " 21%|██        | 6/29 [00:07<00:25,  1.12s/it]\u001B[A\n",
      " 24%|██▍       | 7/29 [00:09<00:27,  1.27s/it]\u001B[A\n",
      " 28%|██▊       | 8/29 [00:10<00:29,  1.39s/it]\u001B[A\n",
      " 31%|███       | 9/29 [00:12<00:29,  1.49s/it]\u001B[A\n",
      " 34%|███▍      | 10/29 [00:14<00:29,  1.53s/it]\u001B[A\n",
      " 38%|███▊      | 11/29 [00:16<00:31,  1.73s/it]\u001B[A\n",
      " 41%|████▏     | 12/29 [00:16<00:21,  1.26s/it]\u001B[A\n",
      " 45%|████▍     | 13/29 [00:16<00:14,  1.07it/s]\u001B[A\n",
      " 48%|████▊     | 14/29 [00:18<00:18,  1.22s/it]\u001B[A\n",
      " 52%|█████▏    | 15/29 [00:20<00:18,  1.34s/it]\u001B[A\n",
      " 55%|█████▌    | 16/29 [00:22<00:19,  1.53s/it]\u001B[A\n",
      " 59%|█████▊    | 17/29 [00:24<00:19,  1.65s/it]\u001B[A\n",
      " 62%|██████▏   | 18/29 [00:25<00:18,  1.65s/it]\u001B[A\n",
      " 66%|██████▌   | 19/29 [00:27<00:17,  1.79s/it]\u001B[A\n",
      " 69%|██████▉   | 20/29 [00:29<00:16,  1.80s/it]\u001B[A\n",
      " 72%|███████▏  | 21/29 [00:32<00:15,  1.98s/it]\u001B[A\n",
      " 76%|███████▌  | 22/29 [00:34<00:14,  2.12s/it]\u001B[A\n",
      " 79%|███████▉  | 23/29 [00:36<00:12,  2.04s/it]\u001B[A\n",
      " 83%|████████▎ | 24/29 [00:38<00:09,  2.00s/it]\u001B[A\n",
      " 86%|████████▌ | 25/29 [00:40<00:07,  1.97s/it]\u001B[A\n",
      " 90%|████████▉ | 26/29 [00:42<00:05,  1.93s/it]\u001B[A\n",
      " 93%|█████████▎| 27/29 [00:43<00:03,  1.94s/it]\u001B[A\n",
      " 97%|█████████▋| 28/29 [00:46<00:02,  2.03s/it]\u001B[A\n",
      "100%|██████████| 29/29 [00:47<00:00,  1.65s/it]\u001B[A\n",
      " 33%|███▎      | 1/3 [00:47<01:35, 47.98s/it]\n",
      "  0%|          | 0/11 [00:00<?, ?it/s]\u001B[A\n",
      "  9%|▉         | 1/11 [00:01<00:17,  1.80s/it]\u001B[A\n",
      " 18%|█▊        | 2/11 [00:03<00:16,  1.88s/it]\u001B[A\n",
      " 27%|██▋       | 3/11 [00:05<00:15,  1.89s/it]\u001B[A\n",
      " 36%|███▋      | 4/11 [00:07<00:13,  1.90s/it]\u001B[A\n",
      " 45%|████▌     | 5/11 [00:09<00:11,  1.85s/it]\u001B[A\n",
      " 55%|█████▍    | 6/11 [00:11<00:09,  1.87s/it]\u001B[A\n",
      " 64%|██████▎   | 7/11 [00:13<00:07,  1.86s/it]\u001B[A\n",
      " 73%|███████▎  | 8/11 [00:14<00:05,  1.79s/it]\u001B[A\n",
      " 82%|████████▏ | 9/11 [00:16<00:03,  1.73s/it]\u001B[A\n",
      " 91%|█████████ | 10/11 [00:18<00:01,  1.75s/it]\u001B[A\n",
      "100%|██████████| 11/11 [00:20<00:00,  1.83s/it]\u001B[A\n",
      " 67%|██████▋   | 2/3 [01:08<00:31, 31.63s/it]\n",
      "  0%|          | 0/49 [00:00<?, ?it/s]\u001B[A\n",
      "  2%|▏         | 1/49 [00:02<02:10,  2.72s/it]\u001B[A\n",
      "  4%|▍         | 2/49 [00:05<02:05,  2.67s/it]\u001B[A\n",
      "  6%|▌         | 3/49 [00:07<01:44,  2.28s/it]\u001B[A\n",
      "  8%|▊         | 4/49 [00:09<01:38,  2.20s/it]\u001B[A\n",
      " 10%|█         | 5/49 [00:11<01:31,  2.07s/it]\u001B[A\n",
      " 12%|█▏        | 6/49 [00:12<01:24,  1.97s/it]\u001B[A\n",
      " 14%|█▍        | 7/49 [00:14<01:23,  1.98s/it]\u001B[A\n",
      " 16%|█▋        | 8/49 [00:16<01:16,  1.87s/it]\u001B[A\n",
      " 18%|█▊        | 9/49 [00:18<01:14,  1.86s/it]\u001B[A\n",
      " 20%|██        | 10/49 [00:20<01:13,  1.89s/it]\u001B[A\n",
      " 22%|██▏       | 11/49 [00:21<01:07,  1.78s/it]\u001B[A\n",
      " 24%|██▍       | 12/49 [00:23<01:04,  1.75s/it]\u001B[A\n",
      " 27%|██▋       | 13/49 [00:25<01:02,  1.73s/it]\u001B[A\n",
      " 29%|██▊       | 14/49 [00:27<01:01,  1.76s/it]\u001B[A\n",
      " 31%|███       | 15/49 [00:29<01:09,  2.03s/it]\u001B[A\n",
      " 33%|███▎      | 16/49 [00:31<01:03,  1.93s/it]\u001B[A\n",
      " 35%|███▍      | 17/49 [00:32<00:58,  1.84s/it]\u001B[A\n",
      " 37%|███▋      | 18/49 [00:34<00:56,  1.83s/it]\u001B[A\n",
      " 39%|███▉      | 19/49 [00:36<00:53,  1.77s/it]\u001B[A\n",
      " 41%|████      | 20/49 [00:38<00:52,  1.82s/it]\u001B[A\n",
      " 43%|████▎     | 21/49 [00:40<00:49,  1.78s/it]\u001B[A\n",
      " 45%|████▍     | 22/49 [00:42<00:52,  1.93s/it]\u001B[A\n",
      " 47%|████▋     | 23/49 [00:45<01:01,  2.37s/it]\u001B[A\n",
      " 49%|████▉     | 24/49 [00:47<00:53,  2.13s/it]\u001B[A\n",
      " 51%|█████     | 25/49 [00:49<00:48,  2.03s/it]\u001B[A\n",
      " 53%|█████▎    | 26/49 [00:50<00:44,  1.93s/it]\u001B[A\n",
      " 55%|█████▌    | 27/49 [00:52<00:41,  1.91s/it]\u001B[A\n",
      " 57%|█████▋    | 28/49 [00:54<00:40,  1.93s/it]\u001B[A\n",
      " 59%|█████▉    | 29/49 [00:56<00:38,  1.92s/it]\u001B[A\n",
      " 61%|██████    | 30/49 [00:58<00:36,  1.93s/it]\u001B[A\n",
      " 63%|██████▎   | 31/49 [01:00<00:35,  1.99s/it]\u001B[A\n",
      " 65%|██████▌   | 32/49 [01:02<00:31,  1.86s/it]\u001B[A\n",
      " 67%|██████▋   | 33/49 [01:04<00:33,  2.12s/it]\u001B[A\n",
      " 69%|██████▉   | 34/49 [01:06<00:30,  2.06s/it]\u001B[A\n",
      " 71%|███████▏  | 35/49 [01:09<00:29,  2.10s/it]\u001B[A\n",
      " 73%|███████▎  | 36/49 [01:10<00:25,  2.00s/it]\u001B[A\n",
      " 76%|███████▌  | 37/49 [01:12<00:23,  1.97s/it]\u001B[A\n",
      " 78%|███████▊  | 38/49 [01:14<00:21,  1.93s/it]\u001B[A\n",
      " 80%|███████▉  | 39/49 [01:16<00:17,  1.79s/it]\u001B[A\n",
      " 82%|████████▏ | 40/49 [01:17<00:16,  1.80s/it]\u001B[A\n",
      " 84%|████████▎ | 41/49 [01:19<00:14,  1.83s/it]\u001B[A\n",
      " 86%|████████▌ | 42/49 [01:21<00:12,  1.77s/it]\u001B[A\n",
      " 88%|████████▊ | 43/49 [01:25<00:14,  2.39s/it]\u001B[A\n",
      " 90%|████████▉ | 44/49 [01:28<00:12,  2.58s/it]\u001B[A\n",
      " 92%|█████████▏| 45/49 [01:29<00:09,  2.27s/it]\u001B[A\n",
      " 94%|█████████▍| 46/49 [01:31<00:06,  2.14s/it]\u001B[A\n",
      " 96%|█████████▌| 47/49 [01:33<00:04,  2.11s/it]\u001B[A\n",
      " 98%|█████████▊| 48/49 [01:35<00:01,  1.94s/it]\u001B[A\n",
      "100%|██████████| 49/49 [01:37<00:00,  1.99s/it]\u001B[A\n",
      "100%|██████████| 3/3 [02:45<00:00, 55.21s/it]\n"
     ]
    },
    {
     "data": {
      "text/plain": "{'filtered_schema': {'frpm': ['CDSCode',\n   'County Code',\n   'County Name',\n   'NSLP Provision Status'],\n  'satscores': ['cds', 'cname'],\n  'schools': ['CDSCode',\n   'County',\n   'City',\n   'MailCity',\n   'SOC',\n   'EILCode',\n   'EILName',\n   'GSserved',\n   'School']}}"
     },
     "execution_count": 3,
     "metadata": {},
     "output_type": "execute_result"
    }
   ],
   "source": [
    "# test column filtering module with a random sample\n",
    "filepath = \"C:/Users\\yousf\\Bureau\\ConvergenceAI\\CHESS_Impl\\data/test/subsampled_test.json\"\n",
    "data = load_json_data(filepath)\n",
    "filepath_entities = \"C:/Users\\yousf\\Bureau\\ConvergenceAI\\CHESS_Impl\\data/test/retrieved_entities.json\"\n",
    "retrieved_entities = load_json_data(filepath_entities)[1]\n",
    "example = data[1]\n",
    "task = create_task(example)\n",
    "llm = \"llama-3\"\n",
    "ans = column_filtering(task, retrieved_entities, llm)\n",
    "ans"
   ],
   "metadata": {
    "collapsed": false,
    "ExecuteTime": {
     "end_time": "2024-08-08T17:00:08.791271Z",
     "start_time": "2024-08-08T16:57:22.177809Z"
    }
   },
   "id": "3a2608caaf2c973c",
   "execution_count": 3
  },
  {
   "cell_type": "markdown",
   "source": [
    "## Cost Estimation per task"
   ],
   "metadata": {
    "collapsed": false
   },
   "id": "9c34a16619f69527"
  },
  {
   "cell_type": "code",
   "outputs": [],
   "source": [
    "PROMPT_PATH = os.getenv(\"PROMPT_ROOT_PATH\") + \"\\column_filtering.txt\"\n",
    "prompt = load_prompt(PROMPT_PATH)"
   ],
   "metadata": {
    "collapsed": false,
    "ExecuteTime": {
     "end_time": "2024-08-22T09:02:32.695167Z",
     "start_time": "2024-08-22T09:02:32.672226Z"
    }
   },
   "id": "b3d042e9f71aebaa",
   "execution_count": 3
  },
  {
   "cell_type": "code",
   "outputs": [],
   "source": [
    "def tokens_calc(example):\n",
    "    encoding = tiktoken.get_encoding(\"cl100k_base\")\n",
    "    num_tokens = len(encoding.encode(example))\n",
    "    return num_tokens"
   ],
   "metadata": {
    "collapsed": false,
    "ExecuteTime": {
     "end_time": "2024-08-22T09:03:08.905447Z",
     "start_time": "2024-08-22T09:03:08.901658Z"
    }
   },
   "id": "6409897da9923d5d",
   "execution_count": 5
  },
  {
   "cell_type": "code",
   "outputs": [
    {
     "data": {
      "text/plain": "3860"
     },
     "execution_count": 6,
     "metadata": {},
     "output_type": "execute_result"
    }
   ],
   "source": [
    "#prompt template tokens \n",
    "tokens_calc(prompt)"
   ],
   "metadata": {
    "collapsed": false,
    "ExecuteTime": {
     "end_time": "2024-08-22T09:03:47.708572Z",
     "start_time": "2024-08-22T09:03:46.906062Z"
    }
   },
   "id": "f6ffd810a0120e0a",
   "execution_count": 6
  },
  {
   "cell_type": "markdown",
   "source": [
    "The prompt template has 3860 tokens in total, and we have also 3 other variables (Column Profile,Question and Hint).\n",
    "So let's suppose in total we have 4000 tokens per column "
   ],
   "metadata": {
    "collapsed": false
   },
   "id": "4d1eca4e436bee64"
  },
  {
   "cell_type": "code",
   "outputs": [
    {
     "data": {
      "text/plain": "120"
     },
     "execution_count": 7,
     "metadata": {},
     "output_type": "execute_result"
    }
   ],
   "source": [
    "## Output tokens estimation from an example \n",
    "output_example = \"\"\"```json\n",
    "{{\n",
    "  \"chain_of_thought_reasoning\": \"The question seeks to identify the best-selling app and its sentiments polarity, with the hint specifying the calculation for \"best selling\" as the maximum product of Price and Installs. The Price column is crucial for this computation as it provides the price at which each app is sold, which, when multiplied by the number of installs, helps determine the app's total revenue. This makes the Price column directly relevant to identifying the best-selling app according to the hint's criteria.\",\n",
    "  \"is_column_information_relevant\": \"Yes\"\n",
    "}}\n",
    "\"\"\"\n",
    "tokens_calc(output_example)"
   ],
   "metadata": {
    "collapsed": false,
    "ExecuteTime": {
     "end_time": "2024-08-22T09:10:02.822611Z",
     "start_time": "2024-08-22T09:10:02.718096Z"
    }
   },
   "id": "3f1a0715eb771f25",
   "execution_count": 7
  },
  {
   "cell_type": "markdown",
   "source": [
    "Let's suppose that the output tokens number is 150 per column"
   ],
   "metadata": {
    "collapsed": false
   },
   "id": "5db86671658df64f"
  },
  {
   "cell_type": "code",
   "outputs": [
    {
     "name": "stdout",
     "output_type": "stream",
     "text": [
      "estimated price per Column(GPT-4): 0.0445 $\n",
      "estimated price per Column(GPT-3.5): 0.0063 $\n"
     ]
    }
   ],
   "source": [
    "## Price calculation per column \n",
    "input_price_per_token_gpt4 = 0.01 / 1000\n",
    "output_price_per_token_gpt4 = 0.03 / 1000\n",
    "input_price_per_token_gpt3 = 0.0015 / 1000\n",
    "output_price_per_token_gpt3 = 0.002 / 1000\n",
    "price_gpt4 = 4000 * input_price_per_token_gpt4 + 150 * output_price_per_token_gpt4\n",
    "price_gpt3 = 4000 * input_price_per_token_gpt3 + 150 * output_price_per_token_gpt3\n",
    "print(\"estimated price per Column(GPT-4):\", price_gpt4, \"$\")\n",
    "print(\"estimated price per Column(GPT-3.5):\", price_gpt3, \"$\")"
   ],
   "metadata": {
    "collapsed": false,
    "ExecuteTime": {
     "end_time": "2024-08-22T09:30:56.336188Z",
     "start_time": "2024-08-22T09:30:56.309331Z"
    }
   },
   "id": "ff1856942bb107a3",
   "execution_count": 16
  },
  {
   "cell_type": "markdown",
   "source": [
    "This price is only for one column. For a task we will do this operation for all the columns present in the\n",
    "database.\n",
    "Let's do estimation by the number of columns in the database "
   ],
   "metadata": {
    "collapsed": false
   },
   "id": "db44530017471668"
  },
  {
   "cell_type": "code",
   "outputs": [
    {
     "name": "stdout",
     "output_type": "stream",
     "text": [
      "Estimated Price per task with a database of 10 columns in total(GPT-4): 0.44499999999999995 $\n",
      "Estimated Price per task with a database of 10 columns in total(GPT-3.5): 0.063 $\n",
      "\n",
      "Estimated Price per task with a database of 20 columns in total(GPT-4): 0.8899999999999999 $\n",
      "Estimated Price per task with a database of 20 columns in total(GPT-3.5): 0.126 $\n",
      "\n",
      "Estimated Price per task with a database of 50 columns in total(GPT-4): 2.225 $\n",
      "Estimated Price per task with a database of 50 columns in total(GPT-3.5): 0.315 $\n",
      "\n",
      "Estimated Price per task with a database of 100 columns in total(GPT-4): 4.45 $\n",
      "Estimated Price per task with a database of 100 columns in total(GPT-3.5): 0.63 $\n",
      "\n",
      "Estimated Price per task with a database of 200 columns in total(GPT-4): 8.9 $\n",
      "Estimated Price per task with a database of 200 columns in total(GPT-3.5): 1.26 $\n"
     ]
    }
   ],
   "source": [
    "cols_estimation = [10, 20, 50, 100, 200]\n",
    "for col in cols_estimation:\n",
    "    total_price_gpt4 = price_gpt4 * col\n",
    "    print(\"Estimated Price per task with a database of \" + str(col) + \" columns in total(GPT-4):\", total_price_gpt4\n",
    "          , \"$\")\n",
    "    total_price_gpt3 = price_gpt3 * col\n",
    "    print(\"Estimated Price per task with a database of \" + str(col) + \" columns in total(GPT-3.5):\", total_price_gpt3\n",
    "          , \"$\\n\")"
   ],
   "metadata": {
    "collapsed": false,
    "ExecuteTime": {
     "end_time": "2024-08-22T09:33:04.444381Z",
     "start_time": "2024-08-22T09:33:04.432570Z"
    }
   },
   "id": "988fe2e99e71c10e",
   "execution_count": 18
  },
  {
   "cell_type": "markdown",
   "source": [
    "In most cases the total number of columns will be greater than 50. So the price per task will be more than\n",
    "2$(0.3$ with gpt3.5)and which is very expensive (for the most inefficient module in the pipeline) "
   ],
   "metadata": {
    "collapsed": false
   },
   "id": "63b6ac1a7f9e1b1b"
  },
  {
   "cell_type": "markdown",
   "source": [],
   "metadata": {
    "collapsed": false
   },
   "id": "2e81f1a165005555"
  }
 ],
 "metadata": {
  "kernelspec": {
   "display_name": "Python 3",
   "language": "python",
   "name": "python3"
  },
  "language_info": {
   "codemirror_mode": {
    "name": "ipython",
    "version": 2
   },
   "file_extension": ".py",
   "mimetype": "text/x-python",
   "name": "python",
   "nbconvert_exporter": "python",
   "pygments_lexer": "ipython2",
   "version": "2.7.6"
  }
 },
 "nbformat": 4,
 "nbformat_minor": 5
}
