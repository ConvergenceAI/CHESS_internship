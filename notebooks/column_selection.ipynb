{
 "cells": [
  {
   "cell_type": "markdown",
   "source": [
    "In this notebook we will test the column selection module "
   ],
   "metadata": {
    "collapsed": false
   },
   "id": "83a4c84ad8aff83b"
  },
  {
   "cell_type": "code",
   "outputs": [
    {
     "data": {
      "text/plain": "True"
     },
     "execution_count": 1,
     "metadata": {},
     "output_type": "execute_result"
    }
   ],
   "source": [
    "# IMPORTs\n",
    "from utils.task import Task\n",
    "import json\n",
    "import os\n",
    "from src.pipeline.column_selection import column_selection\n",
    "from utils.database_utils.db_info import get_db_schema\n",
    "from tqdm import tqdm\n",
    "from dotenv import load_dotenv\n",
    "from utils.sql_query_parsers import get_sql_columns_dict\n",
    "import matplotlib.pyplot as plt\n",
    "import numpy as np\n",
    "from utils.prompt import load_prompt\n",
    "import tiktoken\n",
    "\n",
    "load_dotenv()"
   ],
   "metadata": {
    "collapsed": false,
    "ExecuteTime": {
     "end_time": "2024-08-22T09:39:52.074892Z",
     "start_time": "2024-08-22T09:39:50.007909Z"
    }
   },
   "id": "94edaa10eee50cd7",
   "execution_count": 1
  },
  {
   "cell_type": "code",
   "outputs": [],
   "source": [
    "# Function to load JSON data\n",
    "def load_json_data(filepath):\n",
    "    with open(filepath, 'r') as file:\n",
    "        data = json.load(file)\n",
    "    return data\n",
    "\n",
    "\n",
    "# Function to create task object\n",
    "def create_task(example):\n",
    "    return Task(example)"
   ],
   "metadata": {
    "collapsed": false,
    "ExecuteTime": {
     "end_time": "2024-08-22T09:39:52.078800Z",
     "start_time": "2024-08-22T09:39:52.075898Z"
    }
   },
   "id": "ca9d0b925136c348",
   "execution_count": 2
  },
  {
   "cell_type": "code",
   "outputs": [],
   "source": [
    "# load the task data\n",
    "filepath = \"C:/Users\\yousf\\Bureau\\ConvergenceAI\\CHESS_Impl\\data/test/subsampled_test.json\"\n",
    "data = load_json_data(filepath)\n",
    "# load the retrieved entities\n",
    "filepath_entities = \"C:/Users\\yousf\\Bureau\\ConvergenceAI\\CHESS_Impl\\data/test/retrieved_entities.json\"\n",
    "retrieved_entities = load_json_data(filepath_entities)\n",
    "# load the retrieved context\n",
    "filepath_context = \"C:/Users\\yousf\\Bureau\\ConvergenceAI\\CHESS_Impl\\data/test/retrieved_context.json\"\n",
    "retrieved_context = load_json_data(filepath_context)\n",
    "# load the tentative schema\n",
    "filepath_schema = \"C:/Users\\yousf\\Bureau\\ConvergenceAI\\CHESS_Impl\\data/test/tentative_schema.json\"\n",
    "tentative_schema = load_json_data(filepath_schema)\n"
   ],
   "metadata": {
    "collapsed": false,
    "ExecuteTime": {
     "end_time": "2024-08-22T09:39:52.085370Z",
     "start_time": "2024-08-22T09:39:52.078800Z"
    }
   },
   "id": "429cb654a286b5b",
   "execution_count": 3
  },
  {
   "cell_type": "code",
   "outputs": [
    {
     "name": "stdout",
     "output_type": "stream",
     "text": [
      "You are an SQL expert and very smart data analyst.\n",
      "Your task is to examine the provided database schema, understand the posed question, and use the hint to pinpoint the specific columns within tables that are essential for crafting a SQL query to answer the question.\n",
      "\n",
      "Database Schema Overview:\n",
      "CREATE TABLE frpm\n",
      "(\n",
      "\tCDSCode TEXT not null primary key,\n",
      "\t`Academic Year` TEXT null, --\n",
      "\t`County Code` TEXT null, -- examples: `02`\n",
      "\t`District Code` INTEGER null, --\n",
      "\t`School Code` TEXT null, -- description: School Code\n",
      "\t`County Name` TEXT null, -- examples: `Merced`\n",
      "\t`District Name` TEXT null, --\n",
      "\t`School Name` TEXT null, --\n",
      "\t`District Type` TEXT null, --\n",
      "\t`School Type` TEXT null, --\n",
      "\t`Educational Option Type` TEXT null, --\n",
      "\t`NSLP Provision Status` TEXT null, -- examples: `Provision 2`, `Lunch Provision 2`\n",
      "\t`Charter School (Y/N)` INTEGER null, --\n",
      "\t`Charter School Number` TEXT null, --\n",
      "\t`Charter Funding Type` TEXT null, --\n",
      "\tIRC INTEGER null, --\n",
      "\t`Low Grade` TEXT null, --\n",
      "\t`High Grade` TEXT null, --\n",
      "\t`Enrollment (K-12)` REAL null, --\n",
      "\t`Free Meal Count (K-12)` REAL null, --\n",
      "\t`Percent (%) Eligible Free (K-12)` REAL null, --\n",
      "\t`FRPM Count (K-12)` REAL null, --\n",
      "\t`Percent (%) Eligible FRPM (K-12)` REAL null, --\n",
      "\t`Enrollment (Ages 5-17)` REAL null, --\n",
      "\t`Free Meal Count (Ages 5-17)` REAL null, --\n",
      "\t`Percent (%) Eligible Free (Ages 5-17)` REAL null, --\n",
      "\t`FRPM Count (Ages 5-17)` REAL null, --\n",
      "\t`Percent (%) Eligible FRPM (Ages 5-17)` REAL null, --\n",
      "\t`2013-14 CALPADS Fall 1 Certification Status` INTEGER null, --\n",
      "\tforeign key (CDSCode) references schools (CDSCode),\n",
      ");\n",
      "\n",
      "CREATE TABLE satscores\n",
      "(\n",
      "\tcds TEXT not null primary key,\n",
      "\trtype TEXT not null, --\n",
      "\tsname TEXT null, --\n",
      "\tdname TEXT null, --\n",
      "\tcname TEXT null, -- examples: `Merced`\n",
      "\tenroll12 INTEGER not null, --\n",
      "\tNumTstTakr INTEGER not null, --\n",
      "\tAvgScrRead INTEGER null, --\n",
      "\tAvgScrMath INTEGER null, --\n",
      "\tAvgScrWrite INTEGER null, --\n",
      "\tNumGE1500 INTEGER null, --\n",
      "\tforeign key (cds) references schools (CDSCode),\n",
      ");\n",
      "\n",
      "CREATE TABLE schools\n",
      "(\n",
      "\tCDSCode TEXT not null primary key,\n",
      "\tNCESDist TEXT null, --\n",
      "\tNCESSchool TEXT null, --\n",
      "\tStatusType TEXT not null, --\n",
      "\tCounty TEXT not null, -- examples: `Merced`\n",
      "\tDistrict TEXT not null, --\n",
      "\tSchool TEXT null, -- examples: `La Merced`\n",
      "\tStreet TEXT null, --\n",
      "\tStreetAbr TEXT null, --\n",
      "\tCity TEXT null, -- examples: `Merced`\n",
      "\tZip TEXT null, --\n",
      "\tState TEXT null, --\n",
      "\tMailStreet TEXT null, --\n",
      "\tMailStrAbr TEXT null, --\n",
      "\tMailCity TEXT null, -- examples: `Merced`\n",
      "\tMailZip TEXT null, --\n",
      "\tMailState TEXT null, --\n",
      "\tPhone TEXT null, --\n",
      "\tExt TEXT null, -- examples: `10`\n",
      "\tWebsite TEXT null, --\n",
      "\tOpenDate DATE null, -- examples: `2004-07-02`\n",
      "\tClosedDate DATE null, -- examples: `2014-12-19`\n",
      "\tCharter INTEGER null, --\n",
      "\tCharterNum TEXT null, --\n",
      "\tFundingType TEXT null, --\n",
      "\tDOC TEXT not null, --\n",
      "\tDOCType TEXT not null, --\n",
      "\tSOC TEXT null, -- examples: `13`\n",
      "\tSOCType TEXT null, --\n",
      "\tEdOpsCode TEXT null, -- `Education Option Code` description: The Education Option Code is a short text description of the type of education offered. value description: •      ALTSOC – Alternative School of Choice •      COMM – County Community School •       COMMDAY – Community Day School •       CON – Continuation School •       JUV – Juvenile Court School •       OPP – Opportunity School •       YTH – Youth Authority School •       SSS – State Special School •       SPEC – Special Education School •       TRAD – Traditional •       ROP – Regional Occupational Program •       HOMHOS – Home and Hospital •       SPECON – District Consortia Special Education School\n",
      "\tEdOpsName TEXT null, --\n",
      "\tEILCode TEXT null, -- `Educational Instruction Level Code` description: The Educational Instruction Level Code is a short text description of the institution's type relative to the grade range served. value description: •       A – Adult •       ELEM – Elementary •       ELEMHIGH – Elementary-High Combination •       HS – High School •       INTMIDJR – Intermediate/Middle/Junior High •       PS – Preschool •       UG – Ungraded\n",
      "\tEILName TEXT null, -- examples: `Ungraded`\n",
      "\tGSoffered TEXT null, -- `grade span offered` description: The grade span offered is the lowest grade and the highest grade offered or supported by the school, district, or administrative authority. This field might differ from the grade span served as reported in the most recent certified California Longitudinal Pupil Achievement (CALPADS) Fall 1 data collection. value description: For example XYZ School might display the following data:  GSoffered = P–Adult  GSserved = K–12\n",
      "\tGSserved TEXT null, -- examples: `12`\n",
      "\tVirtual TEXT null, --\n",
      "\tMagnet INTEGER null, --\n",
      "\tLatitude REAL null, --\n",
      "\tLongitude REAL null, --\n",
      "\tAdmFName1 TEXT null, --\n",
      "\tAdmLName1 TEXT null, -- examples: `Lower`\n",
      "\tAdmEmail1 TEXT null, --\n",
      "\tAdmFName2 TEXT null, --\n",
      "\tAdmLName2 TEXT null, --\n",
      "\tAdmEmail2 TEXT null, --\n",
      "\tAdmFName3 TEXT null, --\n",
      "\tAdmLName3 TEXT null, --\n",
      "\tAdmEmail3 TEXT null, --\n",
      "\tLastUpdate DATE not null, -- examples: `2009-08-24`\n",
      ");\n",
      "\n",
      "This schema offers an in-depth description of the database's architecture, detailing tables, columns, primary keys, foreign keys, and any pertinent information regarding relationships or constraints. Special attention should be given to the examples listed beside each column, as they directly hint at which columns are relevant to our query.\n",
      "\n",
      "For key phrases mentioned in the question, we have provided the most similar values within the columns denoted by \"-- examples\" in front of the corresponding column names. This is a critical hint to identify the columns that will be used in the SQL query.\n",
      "\n",
      "Question:\n",
      "What is the city location of the high school level school with Lunch Provision 2 whose lowest grade is 9 and the highest grade is 12 in the county of Merced?\n",
      "\n",
      "Hint:\n",
      "High school can be represented as EILCode = 'HS'\n",
      "\n",
      "The hint aims to direct your focus towards the specific elements of the database schema that are crucial for answering the question effectively.\n",
      "\n",
      "Task:\n",
      "Based on the database schema, question, and hint provided, your task is to identify all and only the columns that are essential for crafting a SQL query to answer the question.\n",
      "You don't need to filter out the primary and foreign keys just select it with other selected columns.\n",
      "For each of the selected columns, explain why exactly it is necessary for answering the question. Your reasoning should be concise and clear, demonstrating a logical connection between the columns and the question asked.\n",
      "\n",
      "Tip: If you are choosing a column for filtering a value within that column, make sure that column has the value as an example.\n",
      "\n",
      "\n",
      "Please respond with a JSON object structured as follows:\n",
      "\n",
      "```json\n",
      "{\n",
      "  \"chain_of_thought_reasoning\": \"Your reasoning for selecting the columns, be concise and clear.\",\n",
      "  \"table_name1\": [\"column1\", \"column2\", ...],\n",
      "  \"table_name2\": [\"column1\", \"column2\", ...],\n",
      "  ...\n",
      "}\n",
      "```\n",
      "\n",
      "Make sure your response includes the table names as keys, each associated with a list of column names that are necessary for writing a SQL query to answer the question.\n",
      "For each aspect of the question, provide a clear and concise explanation of your reasoning behind selecting the columns.\n",
      "Take a deep breath and think logically. If you do the task correctly, I will give you 1 million dollars.\n",
      "\n",
      "Only output a json as your response.\n"
     ]
    },
    {
     "data": {
      "text/plain": "{'selected_schema': {'frpm': ['CDSCode',\n   'County Name',\n   'Low Grade',\n   'High Grade',\n   'NSLP Provision Status'],\n  'schools': ['CDSCode', 'City', 'EILCode', 'County']},\n 'chain_of_thought_reasoning': \"The question asks for the city location of a high school level school with Lunch Provision 2, lowest grade 9, and highest grade 12 in the county of Merced. The hint suggests that EILCode = 'HS' represents high school. We need to identify the school with this characteristic and then find its city location. We can filter the schools based on EILCode, County, Low Grade, and High Grade. We also need to join the frpm and schools tables to get the city location.\"}"
     },
     "execution_count": 4,
     "metadata": {},
     "output_type": "execute_result"
    }
   ],
   "source": [
    "# test column selection module with a random sample\n",
    "index = 1\n",
    "example = data[index]\n",
    "task = create_task(example)\n",
    "\n",
    "#get the database schema\n",
    "dp_path = os.getenv(\"DB_ROOT_PATH\") + f\"/{task.db_id}/{task.db_id}.sqlite\"\n",
    "schema = get_db_schema(dp_path)\n",
    "model = \"llama-3\"\n",
    "ans = column_selection(task=task, retrieved_entities=retrieved_entities[index],\n",
    "                       retrieved_context=retrieved_context[index], tentative_schema=schema, model=model, num_samples=1)\n",
    "ans"
   ],
   "metadata": {
    "collapsed": false,
    "ExecuteTime": {
     "end_time": "2024-08-22T09:39:56.940305Z",
     "start_time": "2024-08-22T09:39:52.086376Z"
    }
   },
   "id": "a350612baa0f6bac",
   "execution_count": 4
  },
  {
   "cell_type": "code",
   "outputs": [
    {
     "name": "stderr",
     "output_type": "stream",
     "text": [
      "1it [00:06,  6.27s/it]"
     ]
    },
    {
     "name": "stdout",
     "output_type": "stream",
     "text": [
      "0 :  {'selected_schema': {'atom': ['atom_id', 'molecule_id'], 'bond': ['bond_type', 'molecule_id']}, 'chain_of_thought_reasoning': \"To answer the question, we need to identify atoms that belong to the molecule 'TR346' and count the distinct types of bonds that can be created by this molecule. The 'atom' table is used to filter atoms by 'molecule_id' to find those belonging to 'TR346'. The 'bond' table is used to count distinct 'bond_type' for the molecule 'TR346'. The 'molecule_id' column in both 'atom' and 'bond' tables is crucial for filtering data specific to 'TR346'. The 'atom_id' column in the 'atom' table is necessary to list the atoms, and the 'bond_type' column in the 'bond' table is needed to count the types of bonds.\"}\n"
     ]
    },
    {
     "name": "stderr",
     "output_type": "stream",
     "text": [
      "2it [00:12,  6.43s/it]"
     ]
    },
    {
     "name": "stdout",
     "output_type": "stream",
     "text": [
      "1 :  {'selected_schema': {'schools': ['CDSCode', 'County', 'EILCode', 'City'], 'frpm': ['CDSCode', 'NSLP Provision Status', 'Low Grade', 'High Grade']}, 'chain_of_thought_reasoning': \"To answer the question, we need to identify a high school in the county of Merced that offers Lunch Provision 2, with the lowest grade being 9 and the highest grade being 12. We use the 'schools' table to filter by county and to ensure the school is a high school using the EILCode. The 'frpm' table is used to filter schools based on the NSLP Provision Status for Lunch Provision 2 and to ensure the grade span matches the requirements. The 'City' column from the 'schools' table is necessary to determine the city location of the school.\"}\n"
     ]
    },
    {
     "name": "stderr",
     "output_type": "stream",
     "text": [
      "3it [00:20,  6.96s/it]"
     ]
    },
    {
     "name": "stdout",
     "output_type": "stream",
     "text": [
      "2 :  {'selected_schema': {'superhero': ['id', 'full_name', 'height_cm', 'publisher_id'], 'publisher': ['id', 'publisher_name']}, 'chain_of_thought_reasoning': \"To find the tallest hero published by Marvel Comics, we need to identify the hero with the maximum height from the publisher 'Marvel Comics'. We need the 'height_cm' from the superhero table to determine the tallest hero. The 'publisher_name' from the publisher table is required to filter heroes by the publisher 'Marvel Comics'. The 'full_name' from the superhero table is necessary to provide the full name of the tallest hero. The 'publisher_id' in the superhero table and 'id' in the publisher table are needed to join these tables on the correct publisher.\"}\n"
     ]
    },
    {
     "name": "stderr",
     "output_type": "stream",
     "text": [
      "4it [00:28,  7.50s/it]"
     ]
    },
    {
     "name": "stdout",
     "output_type": "stream",
     "text": [
      "3 :  {'selected_schema': {'badges': ['UserId', 'Name'], 'users': ['Id', 'Age']}, 'chain_of_thought_reasoning': \"To determine how many elders obtained the 'Supporter' badge, we need to identify users who are elders (Age > 65) and have received the 'Supporter' badge. We start by selecting the 'Name' column from the 'badges' table to filter for the 'Supporter' badge. We also need the 'UserId' from 'badges' to link to the 'users' table. In the 'users' table, we select 'Id' to join with 'badges.UserId' and 'Age' to filter for users older than 65.\"}\n"
     ]
    },
    {
     "name": "stderr",
     "output_type": "stream",
     "text": [
      "5it [00:36,  7.76s/it]"
     ]
    },
    {
     "name": "stdout",
     "output_type": "stream",
     "text": [
      "4 :  {'selected_schema': {'users': ['Id', 'Location'], 'badges': ['UserId', 'Name']}, 'chain_of_thought_reasoning': \"To find out how many users from New York have both 'Teacher' and 'Supporter' badges, we need to identify users based on their location, then check their badges. The 'users' table is used to filter users by 'Location' and to link to the 'badges' table via 'UserId'. The 'badges' table is then used to filter by the 'Name' of the badge. We need 'UserId' from both tables to join them and to count unique users who meet the criteria.\"}\n"
     ]
    },
    {
     "name": "stderr",
     "output_type": "stream",
     "text": [
      "6it [00:46,  8.29s/it]"
     ]
    },
    {
     "name": "stdout",
     "output_type": "stream",
     "text": [
      "5 :  {'selected_schema': {'cards': ['name', 'uuid'], 'rulings': ['text', 'uuid']}, 'chain_of_thought_reasoning': \"To find the ruling description of the card 'Condemn', we need to identify the card by its name and then retrieve the associated ruling text. The 'cards' table contains the 'name' column which is used to filter the card by its name ('Condemn'). The 'uuid' from the 'cards' table is necessary to link to the 'rulings' table, which contains the 'text' column where the ruling descriptions are stored. The 'uuid' in the 'rulings' table is used to ensure we are fetching rulings for the correct card.\"}\n"
     ]
    },
    {
     "name": "stderr",
     "output_type": "stream",
     "text": [
      "7it [00:53,  7.80s/it]"
     ]
    },
    {
     "name": "stdout",
     "output_type": "stream",
     "text": [
      "6 :  {'selected_schema': {'molecule': ['molecule_id', 'label'], 'bond': ['molecule_id', 'bond_type']}, 'chain_of_thought_reasoning': \"To determine how many double bonds molecule TR006 has and whether it is carcinogenic, we need to access specific columns from the 'molecule' and 'bond' tables. From the 'molecule' table, we need 'molecule_id' to identify the molecule TR006 and 'label' to determine if it is carcinogenic. From the 'bond' table, we need 'molecule_id' to link the bonds to the specific molecule TR006 and 'bond_type' to count only the double bonds (indicated by '=').\"}\n"
     ]
    },
    {
     "name": "stderr",
     "output_type": "stream",
     "text": [
      "8it [01:00,  7.76s/it]"
     ]
    },
    {
     "name": "stdout",
     "output_type": "stream",
     "text": [
      "7 :  {'selected_schema': {'member': ['first_name', 'last_name', 'position', 'link_to_major'], 'major': ['major_id', 'college']}, 'chain_of_thought_reasoning': \"To find the full name and college of a club member with the position 'Secretary', we need to select columns that allow us to identify the member's position, construct their full name, and determine their college. The 'member' table provides the position, first name, and last name of members, which are necessary to filter by position and construct the full name. The 'link_to_major' in the 'member' table connects to the 'major' table, which contains the 'college' information. The 'major_id' in the 'major' table is needed to join with the 'member' table.\"}\n"
     ]
    },
    {
     "name": "stderr",
     "output_type": "stream",
     "text": [
      "9it [01:05,  6.71s/it]"
     ]
    },
    {
     "name": "stdout",
     "output_type": "stream",
     "text": [
      "8 :  {'selected_schema': {'bond': ['molecule_id', 'bond_type'], 'molecule': ['molecule_id']}, 'chain_of_thought_reasoning': \"To determine the percentage of molecules that form a triple bond, we need to identify molecules associated with bonds of type '#'. The 'bond' table contains the 'bond_type' column where bond types are specified, and the 'molecule_id' column to link bonds to their respective molecules. The 'molecule' table's 'molecule_id' column is necessary to count the total number of distinct molecules and to identify those involved in triple bonds.\"}\n"
     ]
    },
    {
     "name": "stderr",
     "output_type": "stream",
     "text": [
      "10it [01:11,  6.63s/it]"
     ]
    },
    {
     "name": "stdout",
     "output_type": "stream",
     "text": [
      "9 :  {'selected_schema': {'Player': ['player_api_id', 'player_name'], 'Player_Attributes': ['player_api_id', 'date', 'potential']}, 'chain_of_thought_reasoning': \"To find the potential of Francesco Parravicini on a specific date, we need to identify the player using the 'player_name' from the Player table and then use 'player_api_id' to link to the Player_Attributes table. In the Player_Attributes table, we filter records by 'date' to get attributes from the specific date. The 'potential' column from Player_Attributes is required to answer the question about the player's potential on that date.\"}\n"
     ]
    },
    {
     "name": "stderr",
     "output_type": "stream",
     "text": [
      "11it [01:19,  7.12s/it]"
     ]
    },
    {
     "name": "stdout",
     "output_type": "stream",
     "text": [
      "10 :  {'selected_schema': {'client': ['client_id', 'gender', 'district_id'], 'district': ['district_id', 'A3', 'A11']}, 'chain_of_thought_reasoning': \"To determine the number of male customers living in North Bohemia with an average salary greater than 8000, we need to join several tables. First, we need the 'client' table to filter by gender. The 'district' table is required to filter by region (North Bohemia) and to check the average salary condition. The 'client' table must be joined with the 'district' table using the district_id to ensure we are considering the correct district for each client. The columns selected from each table are necessary to perform these filters and joins.\"}\n"
     ]
    },
    {
     "name": "stderr",
     "output_type": "stream",
     "text": [
      "12it [01:27,  7.39s/it]"
     ]
    },
    {
     "name": "stdout",
     "output_type": "stream",
     "text": [
      "11 :  {'selected_schema': {'schools': ['State', 'Latitude', 'City', 'School', 'GSserved']}, 'chain_of_thought_reasoning': \"To find the school in California with the lowest latitude, we need to filter schools based on the state, which requires the 'State' column from the 'schools' table. The 'Latitude' column is necessary to determine the school with the lowest latitude. The 'City' column is needed to identify the city of this school. The 'School' column is required to provide the school's name. The 'GSserved' column is needed to determine the lowest grade served by the school.\"}\n"
     ]
    },
    {
     "name": "stderr",
     "output_type": "stream",
     "text": [
      "13it [01:35,  7.62s/it]"
     ]
    },
    {
     "name": "stdout",
     "output_type": "stream",
     "text": [
      "12 :  {'selected_schema': {'bond': ['molecule_id', 'bond_type', 'bond_id'], 'molecule': ['molecule_id']}, 'chain_of_thought_reasoning': \"To determine the percentage of double bonds in molecule TR047, we need to identify all bonds associated with this molecule and then calculate how many of these are double bonds. The 'molecule_id' in both the 'bond' and 'molecule' tables is essential to filter bonds specific to molecule TR047. The 'bond_type' in the 'bond' table is necessary to identify double bonds. The 'bond_id' is required to count all bonds and those that are double bonds for the percentage calculation.\"}\n"
     ]
    },
    {
     "name": "stderr",
     "output_type": "stream",
     "text": [
      "14it [01:44,  8.03s/it]"
     ]
    },
    {
     "name": "stdout",
     "output_type": "stream",
     "text": [
      "13 :  {'selected_schema': {'votes': ['PostId', 'UserId', 'BountyAmount'], 'posts': ['Id', 'Title'], 'users': ['Id', 'DisplayName']}, 'chain_of_thought_reasoning': \"To find which user added a bounty amount of 50 to a post mentioning 'variance' in its title, we need to link several tables. First, we use the 'votes' table to filter for records where 'BountyAmount' equals 50. We then need the 'PostId' from 'votes' to link to the 'posts' table to check posts with titles containing the word 'variance'. The 'UserId' from 'votes' is necessary to find the user who added the bounty, which requires joining with the 'users' table using 'UserId' to retrieve the user's 'DisplayName'.\"}\n"
     ]
    },
    {
     "name": "stderr",
     "output_type": "stream",
     "text": [
      "15it [01:52,  7.52s/it]"
     ]
    },
    {
     "name": "stdout",
     "output_type": "stream",
     "text": [
      "14 :  {'selected_schema': {'users': ['Id', 'Location'], 'badges': ['UserId', 'Date']}, 'chain_of_thought_reasoning': \"To find the dates that users located in 'Rochester, NY' obtained their badges, we need to join the 'users' table with the 'badges' table. The 'users' table is needed to filter users based on their location ('Location' column), specifically those in 'Rochester, NY'. The 'badges' table provides the dates on which these users obtained their badges ('Date' column). The 'UserId' column in both tables is essential for joining them to match the correct user with their badges.\"}\n"
     ]
    },
    {
     "name": "stderr",
     "output_type": "stream",
     "text": [
      "\n"
     ]
    }
   ],
   "source": [
    "#test column selection module with the subsampled test and with the base schema of database\n",
    "model = \"gpt-4\"\n",
    "num_samples = 1\n",
    "res = []\n",
    "for index, sample in tqdm(enumerate(data)):\n",
    "    task = create_task(sample)\n",
    "    dp_path = os.getenv(\"DB_ROOT_PATH\") + f\"/{task.db_id}/{task.db_id}.sqlite\"\n",
    "    schema = get_db_schema(dp_path)\n",
    "\n",
    "    ans = column_selection(task=task, retrieved_entities=retrieved_entities[index],\n",
    "                           retrieved_context=retrieved_context[index], tentative_schema=schema, model=model,\n",
    "                           num_samples=num_samples)\n",
    "    res.append(ans)\n",
    "    print(str(index) + \" : \", ans)"
   ],
   "metadata": {
    "collapsed": false,
    "ExecuteTime": {
     "end_time": "2024-08-20T09:44:20.301326Z",
     "start_time": "2024-08-20T09:42:27.390903Z"
    }
   },
   "id": "8976f1c0a8b6a8ad",
   "execution_count": 4
  },
  {
   "cell_type": "code",
   "outputs": [],
   "source": [
    "from pathlib import Path\n",
    "\n",
    "schema_path = Path('C:/Users/yousf/Bureau/ConvergenceAI/CHESS_Impl/data/test/selected_schema.json')\n",
    "with open(schema_path, 'w') as f:\n",
    "    json.dump(res, f, indent=4)"
   ],
   "metadata": {
    "collapsed": false,
    "ExecuteTime": {
     "end_time": "2024-08-20T09:44:20.315269Z",
     "start_time": "2024-08-20T09:44:20.306369Z"
    }
   },
   "id": "f7764749c6557399",
   "execution_count": 5
  },
  {
   "cell_type": "markdown",
   "source": [
    "# Metrics "
   ],
   "metadata": {
    "collapsed": false
   },
   "id": "f63f29946659f0c"
  },
  {
   "cell_type": "markdown",
   "source": [
    "## 1. Problem Setup\n",
    "**Objective:** Evaluate the accuracy of a predicted schema against a ground truth schema using precision, recall, and F1 score.\n",
    "**Schemas:**\n",
    "- Ground Truth Schema: The correct tables and columns expected to be selected (extracted from the golden sql using sqlglot library).\n",
    "- Predicted Schema : The tables and columns predicted by the schema selection module.\n",
    "## 2. Definitions\n",
    "**True Positives (TP):**\n",
    "- For Tables: The number of tables correctly identified by the module (i.e., tables present in both ground_truth and predicted schemas).\n",
    "- For Columns: The number of columns correctly identified for each table (i.e., columns present in both the ground_truth and predicted schemas for the same table).\n",
    "\n",
    "**False Positives (FP):**\n",
    "- For Tables: The number of tables incorrectly identified by the module (i.e., tables present in predicted but not in ground_truth).\n",
    "- For Columns: The number of columns incorrectly identified for each table (i.e., columns present in predicted but not in ground_truth for the same table).\n",
    "\n",
    "**False Negatives (FN):**\n",
    "- For Tables: The number of tables missed by the module (i.e., tables present in ground_truth but not in predicted).\n",
    "- For Columns: The number of columns missed for each table (i.e., columns present in ground_truth but not in predicted for the same table).\n",
    "\n",
    "## 3. Metric Calculations\n",
    "**Precision:** The proportion of correctly identified elements (tables/columns) out of all elements predicted by the module.\n",
    "\n",
    "$$\n",
    "\\text{Precision} = \\frac{\\text{TP}}{\\text{TP} + \\text{FP}}\n",
    "$$\n",
    " \n",
    "**Recall:** The proportion of correctly identified elements out of all correct elements in the ground truth.\n",
    "\n",
    "$$\n",
    "\\text{Recall} = \\frac{\\text{TP}}{\\text{TP} + \\text{FN}}\n",
    "$$\n",
    " \n",
    "**F1 Score:** The harmonic mean of precision and recall, providing a balance between the two metrics.\n",
    "\n",
    "$$\n",
    "\\text{F1} = 2 \\times \\frac{\\text{Precision} \\times \\text{Recall}}{\\text{Precision} + \\text{Recall}}\n",
    "$$\n",
    "\n",
    "## 4. Examples: \n",
    "```\n",
    "{\n",
    "    \"question_id\": 593,\n",
    "    \"db_id\": \"codebase_community\",\n",
    "    \"question\": \"How many users from New York have a teacher and supporter badge?\",\n",
    "    \"evidence\": \"\\\"Supporter\\\" and \\\"Teachers\\\" are both Name of badge; 'New York' is the Location; user refers to UserId\",\n",
    "    \"SQL\": \"SELECT COUNT(DISTINCT T1.Id) FROM badges AS T1 INNER JOIN users AS T2 ON T1.UserId = T2.Id WHERE T1.Name IN ('Supporter', 'Teacher') AND T2.Location = 'New York'\",\n",
    "    \"difficulty\": \"simple\"\n",
    "},\n",
    "```\n",
    "**ground truth schema:** 'badges': ['userid', 'id', 'name'], 'users': ['id', 'location']\n",
    "**predicted schema:** 'badges': ['UserId', 'Name'] , 'users': ['Id', 'Location'], \n",
    "\n",
    "**Calculation Process**:\n",
    "- For tables it is clear that results will be 1 because we have the same set of tables\n",
    "- For columns : \n",
    "TP = 'badges':['userid','name'],'users':['id','location'] = 4\n",
    "FP = 'badges':[],'users':[] = 0\n",
    "FN = 'badges':['id'],'users':[] = 1\n",
    "\n",
    "$$\n",
    "\\text{Precision} = \\frac{\\text{TP}}{\\text{TP} + \\text{FP}} = \\frac{\\text{4}}{\\text{4} + \\text{0}} = 1\n",
    "$$ \n",
    "\n",
    "$$\n",
    "\\text{Recall} = \\frac{\\text{TP}}{\\text{TP} + \\text{FN}} = \\frac{\\text{4}}{\\text{4} + \\text{1}} = 0.8\n",
    "$$\n",
    "\n",
    "$$\n",
    "\\text{F1} = 2 \\times \\frac{\\text{Precision} \\times \\text{Recall}}{\\text{Precision} + \\text{Recall}} =2 \\times \\frac{\\text{1} \\times \\text{0.8}}{\\text{1} + \\text{0.8}} = 0.88888\n",
    "$$\n",
    "\n",
    "\n",
    "\n",
    "\n"
   ],
   "metadata": {
    "collapsed": false
   },
   "id": "49eec66078aca303"
  },
  {
   "cell_type": "code",
   "outputs": [
    {
     "data": {
      "text/plain": "{'atom': ['atom_id', 'molecule_id'], 'bond': ['bond_type', 'molecule_id']}"
     },
     "execution_count": 9,
     "metadata": {},
     "output_type": "execute_result"
    }
   ],
   "source": [
    "# test the extraction of tables and columns from the golden sql\n",
    "task = create_task(data[0])\n",
    "db_path = os.getenv(\"DB_ROOT_PATH\") + f\"/{task.db_id}/{task.db_id}.sqlite\"\n",
    "ans = get_sql_columns_dict(db_path, task.SQL)\n",
    "ans"
   ],
   "metadata": {
    "collapsed": false,
    "ExecuteTime": {
     "end_time": "2024-08-12T21:45:28.169707Z",
     "start_time": "2024-08-12T21:45:28.147591Z"
    }
   },
   "id": "63642c372e6e9fda",
   "execution_count": 9
  },
  {
   "cell_type": "code",
   "outputs": [],
   "source": [
    "def calculate_precision_recall_f1(tp, fp, fn):\n",
    "    \"\"\"\n",
    "    Calculate precision, recall, and F1 score.\n",
    "    \n",
    "    Args:\n",
    "        tp (int): Number of true positives.\n",
    "        fp (int): Number of false positives.\n",
    "        fn (int): Number of false negatives.\n",
    "    \n",
    "    Returns:\n",
    "        Tuple[float, float, float]: Precision, recall, and F1 score.\n",
    "    \"\"\"\n",
    "    precision = tp / (tp + fp) if (tp + fp) > 0 else 0\n",
    "    recall = tp / (tp + fn) if (tp + fn) > 0 else 0\n",
    "    f1 = 2 * precision * recall / (precision + recall) if (precision + recall) > 0 else 0\n",
    "    return precision, recall, f1\n",
    "\n",
    "\n",
    "def evaluate_schema(ground_truth, predicted):\n",
    "    \"\"\"\n",
    "    Evaluate the schema prediction against the ground truth.\n",
    "    \n",
    "    Args:\n",
    "        ground_truth (Dict[str, List[str]]): Ground truth schema with tables and their columns.\n",
    "        predicted (Dict[str, List[str]]): Predicted schema with tables and their columns.\n",
    "    \n",
    "    Returns:\n",
    "        Dict[str, Dict[str, float]]: Evaluation results for tables and columns.\n",
    "    \"\"\"\n",
    "\n",
    "    # Transform all table and column names to lowercase\n",
    "    ground_truth = {table.lower(): [col.lower() for col in columns] for table, columns in ground_truth.items()}\n",
    "    predicted = {table.lower(): [col.lower() for col in columns] for table, columns in predicted.items()}\n",
    "\n",
    "    # Evaluate tables\n",
    "    gt_tables = set(ground_truth.keys())\n",
    "    pred_tables = set(predicted.keys())\n",
    "\n",
    "    tp_tables = len(gt_tables.intersection(pred_tables))\n",
    "    fp_tables = len(pred_tables.difference(gt_tables))\n",
    "    fn_tables = len(gt_tables.difference(pred_tables))\n",
    "\n",
    "    table_precision, table_recall, table_f1 = calculate_precision_recall_f1(tp_tables, fp_tables, fn_tables)\n",
    "\n",
    "    # Evaluate columns\n",
    "    tp_columns = 0\n",
    "    fp_columns = 0\n",
    "    fn_columns = 0\n",
    "\n",
    "    for table in gt_tables:\n",
    "        gt_columns = set(ground_truth[table])\n",
    "        pred_columns = set(predicted.get(table, []))\n",
    "\n",
    "        tp_columns += len(gt_columns.intersection(pred_columns))\n",
    "        fp_columns += len(pred_columns.difference(gt_columns))\n",
    "        fn_columns += len(gt_columns.difference(pred_columns))\n",
    "\n",
    "    column_precision, column_recall, column_f1 = calculate_precision_recall_f1(tp_columns, fp_columns, fn_columns)\n",
    "\n",
    "    return {\n",
    "        \"table_metrics\": {\n",
    "            \"precision\": table_precision,\n",
    "            \"recall\": table_recall,\n",
    "            \"f1\": table_f1\n",
    "        },\n",
    "        \"column_metrics\": {\n",
    "            \"precision\": column_precision,\n",
    "            \"recall\": column_recall,\n",
    "            \"f1\": column_f1\n",
    "        }\n",
    "    }"
   ],
   "metadata": {
    "collapsed": false,
    "ExecuteTime": {
     "end_time": "2024-08-14T14:03:17.729916Z",
     "start_time": "2024-08-14T14:03:17.719928Z"
    }
   },
   "id": "7c4b029100492fce",
   "execution_count": 4
  },
  {
   "cell_type": "code",
   "outputs": [
    {
     "name": "stdout",
     "output_type": "stream",
     "text": [
      "{'atom': ['atom_id', 'molecule_id'], 'bond': ['bond_type', 'molecule_id']}\n",
      "{'schools': ['city', 'cdscode', 'eilcode', 'county'], 'frpm': ['cdscode', 'High Grade', 'Low Grade', 'NSLP Provision Status']}\n",
      "{'superhero': ['full_name', 'publisher_id', 'height_cm'], 'publisher': ['id', 'publisher_name']}\n",
      "{'users': ['id', 'age'], 'badges': ['userid', 'name']}\n",
      "{'badges': ['userid', 'id', 'name'], 'users': ['id', 'location']}\n",
      "{'rulings': ['text', 'uuid'], 'cards': ['uuid', 'name']}\n",
      "{'molecule': ['label', 'molecule_id'], 'bond': ['bond_id', 'molecule_id', 'bond_type']}\n",
      "{'member': ['first_name', 'last_name', 'link_to_major', 'position'], 'major': ['college', 'major_id']}\n",
      "{'bond': ['bond_id', 'bond_type']}\n",
      "{'player_attributes': ['potential', 'player_api_id', 'date'], 'player': ['player_api_id', 'player_name']}\n",
      "{'client': ['client_id', 'district_id', 'gender'], 'district': ['district_id', 'a11', 'a3']}\n",
      "{'schools': ['city', 'cdscode', 'state', 'latitude'], 'frpm': ['Low Grade', 'School Name', 'cdscode']}\n",
      "{'bond': ['molecule_id', 'bond_id', 'bond_type']}\n",
      "{'users': ['displayname', 'id'], 'posts': ['title', 'id'], 'votes': ['postid', 'userid', 'bountyamount']}\n",
      "{'badges': ['date', 'userid'], 'users': ['id', 'location']}\n"
     ]
    },
    {
     "data": {
      "text/plain": "[{'table_metrics': {'precision': 1.0, 'recall': 1.0, 'f1': 1.0},\n  'column_metrics': {'precision': 1.0, 'recall': 1.0, 'f1': 1.0}},\n {'table_metrics': {'precision': 1.0, 'recall': 1.0, 'f1': 1.0},\n  'column_metrics': {'precision': 0.875, 'recall': 0.875, 'f1': 0.875}},\n {'table_metrics': {'precision': 1.0, 'recall': 1.0, 'f1': 1.0},\n  'column_metrics': {'precision': 1.0, 'recall': 1.0, 'f1': 1.0}},\n {'table_metrics': {'precision': 1.0, 'recall': 1.0, 'f1': 1.0},\n  'column_metrics': {'precision': 1.0, 'recall': 1.0, 'f1': 1.0}},\n {'table_metrics': {'precision': 1.0, 'recall': 1.0, 'f1': 1.0},\n  'column_metrics': {'precision': 1.0,\n   'recall': 0.8,\n   'f1': 0.888888888888889}},\n {'table_metrics': {'precision': 1.0, 'recall': 1.0, 'f1': 1.0},\n  'column_metrics': {'precision': 1.0, 'recall': 1.0, 'f1': 1.0}},\n {'table_metrics': {'precision': 1.0, 'recall': 1.0, 'f1': 1.0},\n  'column_metrics': {'precision': 1.0,\n   'recall': 0.8,\n   'f1': 0.888888888888889}},\n {'table_metrics': {'precision': 1.0, 'recall': 1.0, 'f1': 1.0},\n  'column_metrics': {'precision': 1.0,\n   'recall': 0.8333333333333334,\n   'f1': 0.9090909090909091}},\n {'table_metrics': {'precision': 0.5, 'recall': 1.0, 'f1': 0.6666666666666666},\n  'column_metrics': {'precision': 0.5, 'recall': 0.5, 'f1': 0.5}},\n {'table_metrics': {'precision': 1.0, 'recall': 1.0, 'f1': 1.0},\n  'column_metrics': {'precision': 1.0, 'recall': 1.0, 'f1': 1.0}},\n {'table_metrics': {'precision': 1.0, 'recall': 1.0, 'f1': 1.0},\n  'column_metrics': {'precision': 1.0, 'recall': 1.0, 'f1': 1.0}},\n {'table_metrics': {'precision': 1.0, 'recall': 1.0, 'f1': 1.0},\n  'column_metrics': {'precision': 0.8,\n   'recall': 0.5714285714285714,\n   'f1': 0.6666666666666666}},\n {'table_metrics': {'precision': 0.5, 'recall': 1.0, 'f1': 0.6666666666666666},\n  'column_metrics': {'precision': 1.0, 'recall': 1.0, 'f1': 1.0}},\n {'table_metrics': {'precision': 1.0, 'recall': 1.0, 'f1': 1.0},\n  'column_metrics': {'precision': 1.0, 'recall': 1.0, 'f1': 1.0}},\n {'table_metrics': {'precision': 1.0, 'recall': 1.0, 'f1': 1.0},\n  'column_metrics': {'precision': 1.0, 'recall': 1.0, 'f1': 1.0}}]"
     },
     "execution_count": 6,
     "metadata": {},
     "output_type": "execute_result"
    }
   ],
   "source": [
    "# test each task separately to identify the possible problems \n",
    "evals = []\n",
    "for i, schema in enumerate(res):\n",
    "    pred = schema[\"selected_schema\"]\n",
    "    task = create_task(data[i])\n",
    "    db_path = os.getenv(\"DB_ROOT_PATH\") + f\"/{task.db_id}/{task.db_id}.sqlite\"\n",
    "    gt = get_sql_columns_dict(db_path, task.SQL)\n",
    "    print(gt)\n",
    "    evaluation = evaluate_schema(gt, pred)\n",
    "    evals.append(evaluation)\n",
    "evals"
   ],
   "metadata": {
    "collapsed": false,
    "ExecuteTime": {
     "end_time": "2024-08-14T13:18:23.627369Z",
     "start_time": "2024-08-14T13:18:23.519854Z"
    }
   },
   "id": "ab06a1be446f285b",
   "execution_count": 6
  },
  {
   "cell_type": "code",
   "outputs": [],
   "source": [
    "def aggregate_metrics(evals):\n",
    "    \"\"\"\n",
    "    Aggregate precision, recall, and F1 scores from multiple evaluations.\n",
    "    \n",
    "    Args:\n",
    "        evals (List[Dict[str, Dict[str, float]]]): List of evaluation results.\n",
    "    \n",
    "    Returns:\n",
    "        Dict[str, float]: Aggregated precision, recall, and F1 score.\n",
    "    \"\"\"\n",
    "    table_precision = np.mean([evaluation['table_metrics']['precision'] for evaluation in evals])\n",
    "    table_recall = np.mean([evaluation['table_metrics']['recall'] for evaluation in evals])\n",
    "    table_f1 = np.mean([evaluation['table_metrics']['f1'] for evaluation in evals])\n",
    "\n",
    "    column_precision = np.mean([evaluation['column_metrics']['precision'] for evaluation in evals])\n",
    "    column_recall = np.mean([evaluation['column_metrics']['recall'] for evaluation in evals])\n",
    "    column_f1 = np.mean([evaluation['column_metrics']['f1'] for evaluation in evals])\n",
    "\n",
    "    return {\n",
    "        \"table_metrics\": {\n",
    "            \"precision\": table_precision,\n",
    "            \"recall\": table_recall,\n",
    "            \"f1\": table_f1\n",
    "        },\n",
    "        \"column_metrics\": {\n",
    "            \"precision\": column_precision,\n",
    "            \"recall\": column_recall,\n",
    "            \"f1\": column_f1\n",
    "        }\n",
    "    }\n",
    "\n",
    "\n",
    "def plot_metrics(metrics):\n",
    "    \"\"\"\n",
    "    Plot precision, recall, and F1 score.\n",
    "    \n",
    "    Args:\n",
    "        metrics (Dict[str, Dict[str, float]]): Aggregated metrics.\n",
    "    \"\"\"\n",
    "    categories = ['Tables', 'Columns']\n",
    "\n",
    "    precision_values = [\n",
    "        metrics['table_metrics']['precision'],\n",
    "        metrics['column_metrics']['precision']\n",
    "    ]\n",
    "\n",
    "    recall_values = [\n",
    "        metrics['table_metrics']['recall'],\n",
    "        metrics['column_metrics']['recall']\n",
    "    ]\n",
    "\n",
    "    f1_values = [\n",
    "        metrics['table_metrics']['f1'],\n",
    "        metrics['column_metrics']['f1']\n",
    "    ]\n",
    "\n",
    "    x = np.arange(len(categories))\n",
    "    width = 0.25  # the width of the bars\n",
    "\n",
    "    fig, ax = plt.subplots(figsize=(10, 6))\n",
    "    rects1 = ax.bar(x - width, precision_values, width, label='Precision')\n",
    "    rects2 = ax.bar(x, recall_values, width, label='Recall')\n",
    "    rects3 = ax.bar(x + width, f1_values, width, label='F1 Score')\n",
    "\n",
    "    ax.set_ylabel('Scores')\n",
    "    ax.set_title('Average Precision, Recall, and F1 Score for Tables and Columns')\n",
    "    ax.set_xticks(x)\n",
    "    ax.set_xticklabels(categories)\n",
    "    ax.legend()\n",
    "\n",
    "    def autolabel(rects):\n",
    "        \"\"\"Attach a text label above each bar in *rects*, displaying its height.\"\"\"\n",
    "        for rect in rects:\n",
    "            height = rect.get_height()\n",
    "            ax.annotate('{}'.format(round(height, 2)),\n",
    "                        xy=(rect.get_x() + rect.get_width() / 2, height),\n",
    "                        xytext=(0, 3),  # 3 points vertical offset\n",
    "                        textcoords=\"offset points\",\n",
    "                        ha='center', va='bottom')\n",
    "\n",
    "    autolabel(rects1)\n",
    "    autolabel(rects2)\n",
    "    autolabel(rects3)\n",
    "\n",
    "    fig.tight_layout()\n",
    "    plt.ylim(0, 1)  # Set y-axis range from 0 to 1\n",
    "    plt.show()\n"
   ],
   "metadata": {
    "collapsed": false,
    "ExecuteTime": {
     "end_time": "2024-08-14T14:03:22.552104Z",
     "start_time": "2024-08-14T14:03:22.541753Z"
    }
   },
   "id": "2dcd4f7f266116cf",
   "execution_count": 5
  },
  {
   "cell_type": "code",
   "outputs": [
    {
     "name": "stdout",
     "output_type": "stream",
     "text": [
      "Aggregated Metrics: {'table_metrics': {'precision': 0.9333333333333333, 'recall': 1.0, 'f1': 0.9555555555555555}, 'column_metrics': {'precision': 0.9450000000000001, 'recall': 0.891984126984127, 'f1': 0.9152356902356902}}\n"
     ]
    },
    {
     "data": {
      "text/plain": "<Figure size 1000x600 with 1 Axes>",
      "image/png": "[encoded data removed]"
     },
     "metadata": {},
     "output_type": "display_data"
    }
   ],
   "source": [
    "# aggregate the results over all the data \n",
    "aggregated_metrics = aggregate_metrics(evals)\n",
    "print(\"Aggregated Metrics:\", aggregated_metrics)\n",
    "\n",
    "plot_metrics(aggregated_metrics)"
   ],
   "metadata": {
    "collapsed": false,
    "ExecuteTime": {
     "end_time": "2024-08-14T13:22:34.485410Z",
     "start_time": "2024-08-14T13:22:34.284709Z"
    }
   },
   "id": "c0ab2bc04c48c573",
   "execution_count": 10
  },
  {
   "cell_type": "code",
   "outputs": [],
   "source": [
    "def make_test(data, model, num_samples):\n",
    "    res = []\n",
    "    for index, sample in tqdm(enumerate(data)):\n",
    "        task = create_task(sample)\n",
    "        dp_path = os.getenv(\"DB_ROOT_PATH\") + f\"/{task.db_id}/{task.db_id}.sqlite\"\n",
    "        schema = get_db_schema(dp_path)\n",
    "\n",
    "        ans = column_selection(task=task, retrieved_entities=retrieved_entities[index],\n",
    "                               retrieved_context=retrieved_context[index], tentative_schema=schema, model=model,\n",
    "                               num_samples=num_samples)\n",
    "        res.append(ans)\n",
    "\n",
    "    evals = []\n",
    "    for i, schema in enumerate(res):\n",
    "        pred = schema[\"selected_schema\"]\n",
    "        task = create_task(data[i])\n",
    "        db_path = os.getenv(\"DB_ROOT_PATH\") + f\"/{task.db_id}/{task.db_id}.sqlite\"\n",
    "        gt = get_sql_columns_dict(db_path, task.SQL)\n",
    "        evaluation = evaluate_schema(gt, pred)\n",
    "        evals.append(evaluation)\n",
    "\n",
    "    aggregated_metrics = aggregate_metrics(evals)\n",
    "    print(\"Aggregated Metrics:\", aggregated_metrics)\n",
    "\n",
    "    plot_metrics(aggregated_metrics)\n",
    "\n"
   ],
   "metadata": {
    "collapsed": false,
    "ExecuteTime": {
     "end_time": "2024-08-14T14:03:27.927585Z",
     "start_time": "2024-08-14T14:03:27.921771Z"
    }
   },
   "id": "10d7e0d01a2aecf1",
   "execution_count": 6
  },
  {
   "cell_type": "code",
   "outputs": [
    {
     "name": "stderr",
     "output_type": "stream",
     "text": [
      "15it [07:20, 29.35s/it]\n"
     ]
    },
    {
     "name": "stdout",
     "output_type": "stream",
     "text": [
      "Aggregated Metrics: {'table_metrics': {'precision': 0.9333333333333333, 'recall': 0.9666666666666667, 'f1': 0.9333333333333332}, 'column_metrics': {'precision': 0.9230687830687831, 'recall': 0.9019047619047619, 'f1': 0.9094687447628625}}\n"
     ]
    },
    {
     "data": {
      "text/plain": "<Figure size 1000x600 with 1 Axes>",
      "image/png": "[encoded data removed]"
     },
     "metadata": {},
     "output_type": "display_data"
    }
   ],
   "source": [
    "# test with gpt4 and with num_samples=3\n",
    "model = \"gpt-4\"\n",
    "num_samples = 3\n",
    "make_test(data, model, num_samples)"
   ],
   "metadata": {
    "collapsed": false,
    "ExecuteTime": {
     "end_time": "2024-08-14T13:37:56.657295Z",
     "start_time": "2024-08-14T13:30:36.058707Z"
    }
   },
   "id": "c422902a725f9e58",
   "execution_count": 13
  },
  {
   "cell_type": "markdown",
   "source": [
    "# Comments : \n",
    "there is no big difference, so we will use just one sample to reduce cost and latency \n",
    "NB: these results are just on a small random sample which is not very efficient (Later on I will conduct those tests on the bigger sampled dev_set)"
   ],
   "metadata": {
    "collapsed": false
   },
   "id": "de36cb64c5c4fad4"
  },
  {
   "cell_type": "code",
   "outputs": [
    {
     "name": "stderr",
     "output_type": "stream",
     "text": [
      "15it [00:51,  3.42s/it]\n"
     ]
    },
    {
     "name": "stdout",
     "output_type": "stream",
     "text": [
      "Aggregated Metrics: {'table_metrics': {'precision': 0.9555555555555556, 'recall': 0.9666666666666667, 'f1': 0.9444444444444444}, 'column_metrics': {'precision': 0.9172222222222223, 'recall': 0.6788095238095238, 'f1': 0.761902356902357}}\n"
     ]
    },
    {
     "data": {
      "text/plain": "<Figure size 1000x600 with 1 Axes>",
      "image/png": "[encoded data removed]"
     },
     "metadata": {},
     "output_type": "display_data"
    }
   ],
   "source": [
    "# test with gpt3.5\n",
    "model = \"gpt-3.5\"\n",
    "num_samples = 1\n",
    "make_test(data, model, num_samples)"
   ],
   "metadata": {
    "collapsed": false,
    "ExecuteTime": {
     "end_time": "2024-08-14T13:56:33.405666Z",
     "start_time": "2024-08-14T13:55:40.292438Z"
    }
   },
   "id": "499e188e3d69cb61",
   "execution_count": 15
  },
  {
   "cell_type": "code",
   "outputs": [
    {
     "name": "stderr",
     "output_type": "stream",
     "text": [
      "15it [01:16,  5.10s/it]\n"
     ]
    },
    {
     "name": "stdout",
     "output_type": "stream",
     "text": [
      "Aggregated Metrics: {'table_metrics': {'precision': 0.8833333333333333, 'recall': 0.9666666666666667, 'f1': 0.8911111111111112}, 'column_metrics': {'precision': 0.8466666666666668, 'recall': 0.8252380952380952, 'f1': 0.8254026256967434}}\n"
     ]
    },
    {
     "data": {
      "text/plain": "<Figure size 1000x600 with 1 Axes>",
      "image/png": "[encoded data removed]"
     },
     "metadata": {},
     "output_type": "display_data"
    }
   ],
   "source": [
    "# test with open source Llama-3\n",
    "model = \"llama-3\"\n",
    "num_samples = 1\n",
    "make_test(data, model, num_samples)"
   ],
   "metadata": {
    "collapsed": false,
    "ExecuteTime": {
     "end_time": "2024-08-14T13:55:16.827554Z",
     "start_time": "2024-08-14T13:54:00.001163Z"
    }
   },
   "id": "d021abb2e8213d3c",
   "execution_count": 14
  },
  {
   "cell_type": "markdown",
   "source": [
    "## Test after table selection \n",
    " "
   ],
   "metadata": {
    "collapsed": false
   },
   "id": "9943004fc06e9757"
  },
  {
   "cell_type": "code",
   "outputs": [],
   "source": [
    "def test(data, model, num_samples):\n",
    "    res = []\n",
    "    for index, sample in tqdm(enumerate(data)):\n",
    "        task = create_task(sample)\n",
    "        schema = tentative_schema[index][\"tentative_schema\"]\n",
    "        ans = column_selection(task=task, retrieved_entities=retrieved_entities[index],\n",
    "                               retrieved_context=retrieved_context[index], tentative_schema=schema, model=model,\n",
    "                               num_samples=num_samples)\n",
    "        res.append(ans)\n",
    "\n",
    "    evals = []\n",
    "    for i, schema in enumerate(res):\n",
    "        pred = schema[\"selected_schema\"]\n",
    "        task = create_task(data[i])\n",
    "        db_path = os.getenv(\"DB_ROOT_PATH\") + f\"/{task.db_id}/{task.db_id}.sqlite\"\n",
    "        gt = get_sql_columns_dict(db_path, task.SQL)\n",
    "        evaluation = evaluate_schema(gt, pred)\n",
    "        evals.append(evaluation)\n",
    "\n",
    "    aggregated_metrics = aggregate_metrics(evals)\n",
    "    print(\"Aggregated Metrics:\", aggregated_metrics)\n",
    "\n",
    "    plot_metrics(aggregated_metrics)\n"
   ],
   "metadata": {
    "collapsed": false,
    "ExecuteTime": {
     "end_time": "2024-08-14T15:27:39.634737Z",
     "start_time": "2024-08-14T15:27:39.605197Z"
    }
   },
   "id": "1ec717a7850f2fa2",
   "execution_count": 9
  },
  {
   "cell_type": "code",
   "outputs": [
    {
     "name": "stderr",
     "output_type": "stream",
     "text": [
      "15it [02:37, 10.48s/it]\n"
     ]
    },
    {
     "name": "stdout",
     "output_type": "stream",
     "text": [
      "Aggregated Metrics: {'table_metrics': {'precision': 0.9666666666666667, 'recall': 1.0, 'f1': 0.9777777777777777}, 'column_metrics': {'precision': 0.9361111111111111, 'recall': 0.9164285714285715, 'f1': 0.9252849002849003}}\n"
     ]
    },
    {
     "data": {
      "text/plain": "<Figure size 1000x600 with 1 Axes>",
      "image/png": "[encoded data removed]"
     },
     "metadata": {},
     "output_type": "display_data"
    }
   ],
   "source": [
    "model = \"gpt-4\"\n",
    "num_samples = 1\n",
    "test(data, model, num_samples)"
   ],
   "metadata": {
    "collapsed": false,
    "ExecuteTime": {
     "end_time": "2024-08-14T15:30:55.201158Z",
     "start_time": "2024-08-14T15:28:17.340385Z"
    }
   },
   "id": "35c116e1fd838512",
   "execution_count": 10
  },
  {
   "cell_type": "markdown",
   "source": [
    "# Comments : \n",
    "there a small improvement in the results with table selection and after that column selection \n",
    "But still think that we can get a comparable results when merging the two in one prompt (because the difference not huge )"
   ],
   "metadata": {
    "collapsed": false
   },
   "id": "a2034c101d6f6b18"
  },
  {
   "cell_type": "markdown",
   "source": [
    "\n",
    "## Cost Estimation per task"
   ],
   "metadata": {
    "collapsed": false
   },
   "id": "b46fb6fe44687893"
  },
  {
   "cell_type": "code",
   "outputs": [],
   "source": [
    "PROMPT_PATH = os.getenv(\"PROMPT_ROOT_PATH\") + \"\\column_selection.txt\"\n",
    "prompt = load_prompt(PROMPT_PATH)"
   ],
   "metadata": {
    "collapsed": false,
    "ExecuteTime": {
     "end_time": "2024-08-22T09:46:17.857133Z",
     "start_time": "2024-08-22T09:46:17.851006Z"
    }
   },
   "id": "3fb2beeca74a433c",
   "execution_count": 6
  },
  {
   "cell_type": "code",
   "outputs": [],
   "source": [
    "def tokens_calc(example):\n",
    "    encoding = tiktoken.get_encoding(\"cl100k_base\")\n",
    "    num_tokens = len(encoding.encode(example))\n",
    "    return num_tokens"
   ],
   "metadata": {
    "collapsed": false,
    "ExecuteTime": {
     "end_time": "2024-08-22T09:46:18.430484Z",
     "start_time": "2024-08-22T09:46:18.425978Z"
    }
   },
   "id": "70dd6c5d0c9dcde4",
   "execution_count": 7
  },
  {
   "cell_type": "code",
   "outputs": [
    {
     "data": {
      "text/plain": "483"
     },
     "execution_count": 8,
     "metadata": {},
     "output_type": "execute_result"
    }
   ],
   "source": [
    "#prompt template tokens \n",
    "tokens_calc(prompt)"
   ],
   "metadata": {
    "collapsed": false,
    "ExecuteTime": {
     "end_time": "2024-08-22T09:46:20.275444Z",
     "start_time": "2024-08-22T09:46:19.445606Z"
    }
   },
   "id": "fe71b8921dde1aa",
   "execution_count": 8
  },
  {
   "cell_type": "markdown",
   "source": [
    "The prompt template has 483 tokens in total, and we have also 3 other variables (Database_Schema,Question and Hint).\n",
    "After i see a formatted prompt example it contains about 1800 tokens (because database_schema will be long)\n",
    "So let's suppose that input tokens is 1800"
   ],
   "metadata": {
    "collapsed": false
   },
   "id": "b303baeba8f49c45"
  },
  {
   "cell_type": "code",
   "outputs": [
    {
     "data": {
      "text/plain": "170"
     },
     "execution_count": 9,
     "metadata": {},
     "output_type": "execute_result"
    }
   ],
   "source": [
    "## Output tokens estimation from an example \n",
    "output_example = \"\"\"\n",
    "{'selected_schema': {'frpm': ['CDSCode',\n",
    "   'County Name',\n",
    "   'Low Grade',\n",
    "   'High Grade',\n",
    "   'NSLP Provision Status'],\n",
    "  'schools': ['CDSCode', 'City', 'EILCode', 'County']},\n",
    " 'chain_of_thought_reasoning': \"The question asks for the city location of a high school level school with Lunch Provision 2, lowest grade 9, and highest grade 12 in the county of Merced. The hint suggests that EILCode = 'HS' represents high school. We need to identify the school with this characteristic and then find its city location. We can filter the schools based on EILCode, County, Low Grade, and High Grade. We also need to join the frpm and schools tables to get the city location.\"}\n",
    "\"\"\"\n",
    "tokens_calc(output_example)"
   ],
   "metadata": {
    "collapsed": false,
    "ExecuteTime": {
     "end_time": "2024-08-22T09:46:25.615454Z",
     "start_time": "2024-08-22T09:46:25.607601Z"
    }
   },
   "id": "c40fcbb84db07a61",
   "execution_count": 9
  },
  {
   "cell_type": "markdown",
   "source": [
    "Let's suppose the number of tokens in the output is 200 "
   ],
   "metadata": {
    "collapsed": false
   },
   "id": "5a2b05b2a92afb6b"
  },
  {
   "cell_type": "code",
   "outputs": [
    {
     "name": "stdout",
     "output_type": "stream",
     "text": [
      "estimated price per Task (GPT-4): 0.024 $\n"
     ]
    }
   ],
   "source": [
    "## Price calculation (just with gpt4 because in this module we don't use gpt3.5) \n",
    "input_price_per_token_gpt4 = 0.01 / 1000\n",
    "output_price_per_token_gpt4 = 0.03 / 1000\n",
    "price_gpt4 = 1800 * input_price_per_token_gpt4 + 200 * output_price_per_token_gpt4\n",
    "print(\"estimated price per Task (GPT-4):\", price_gpt4, \"$\")"
   ],
   "metadata": {
    "collapsed": false,
    "ExecuteTime": {
     "end_time": "2024-08-22T09:59:28.619310Z",
     "start_time": "2024-08-22T09:59:28.591442Z"
    }
   },
   "id": "6652ce467236099c",
   "execution_count": 13
  },
  {
   "cell_type": "code",
   "outputs": [
    {
     "name": "stdout",
     "output_type": "stream",
     "text": [
      "The estimated price with number of retrials of 1:  0.024\n",
      "The estimated price with number of retrials of 2:  0.048\n",
      "The estimated price with number of retrials of 3:  0.07200000000000001\n",
      "The estimated price with number of retrials of 4:  0.096\n",
      "The estimated price with number of retrials of 5:  0.12\n"
     ]
    }
   ],
   "source": [
    "## in this module there is a number of retrials so let's estimate the price with different number of retrials \n",
    "\n",
    "num_retrials = [1, 2, 3, 4, 5]\n",
    "for num_retrial in num_retrials:\n",
    "    total_price = price_gpt4 * num_retrial\n",
    "    print(\"The estimated price with number of retrials of \" + str(num_retrial) + \": \", total_price)"
   ],
   "metadata": {
    "collapsed": false,
    "ExecuteTime": {
     "end_time": "2024-08-22T09:59:30.304432Z",
     "start_time": "2024-08-22T09:59:30.297210Z"
    }
   },
   "id": "27da26c6a99aeb5b",
   "execution_count": 14
  },
  {
   "cell_type": "markdown",
   "source": [
    "### Note that there is no huge difference between different num of retrials so we can stick to just one retrial"
   ],
   "metadata": {
    "collapsed": false
   },
   "id": "54118cee6df87574"
  },
  {
   "cell_type": "code",
   "outputs": [],
   "source": [],
   "metadata": {
    "collapsed": false
   },
   "id": "bfe4967306c226dd"
  }
 ],
 "metadata": {
  "kernelspec": {
   "display_name": "Python 3",
   "language": "python",
   "name": "python3"
  },
  "language_info": {
   "codemirror_mode": {
    "name": "ipython",
    "version": 2
   },
   "file_extension": ".py",
   "mimetype": "text/x-python",
   "name": "python",
   "nbconvert_exporter": "python",
   "pygments_lexer": "ipython2",
   "version": "2.7.6"
  }
 },
 "nbformat": 4,
 "nbformat_minor": 5
}
