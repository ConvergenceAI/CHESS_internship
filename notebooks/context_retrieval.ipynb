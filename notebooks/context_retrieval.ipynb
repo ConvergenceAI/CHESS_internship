{
 "cells": [
  {
   "cell_type": "markdown",
   "source": [
    "In this notebook we will test the context retrieval module"
   ],
   "metadata": {
    "collapsed": false
   },
   "id": "3bfc60ccfb33d6d7"
  },
  {
   "cell_type": "code",
   "outputs": [],
   "source": [
    "#IMPORTs\n",
    "from utils.task import Task\n",
    "import json\n",
    "from src.pipeline.context_retrieval import context_retrieval\n",
    "from tqdm import tqdm\n",
    "from pathlib import Path\n"
   ],
   "metadata": {
    "collapsed": false,
    "ExecuteTime": {
     "end_time": "2024-08-08T13:19:46.863530Z",
     "start_time": "2024-08-08T13:19:42.203779Z"
    }
   },
   "id": "b6ac9ec0447eebdb",
   "execution_count": 1
  },
  {
   "cell_type": "code",
   "outputs": [],
   "source": [
    "# Function to load JSON data\n",
    "def load_json_data(filepath):\n",
    "    with open(filepath, 'r') as file:\n",
    "        data = json.load(file)\n",
    "    return data\n",
    "\n",
    "\n",
    "# Function to create task object\n",
    "def create_task(example):\n",
    "    return Task(example)"
   ],
   "metadata": {
    "collapsed": false,
    "ExecuteTime": {
     "end_time": "2024-08-08T13:19:46.871220Z",
     "start_time": "2024-08-08T13:19:46.865942Z"
    }
   },
   "id": "14c3f04305edf06",
   "execution_count": 2
  },
  {
   "cell_type": "code",
   "outputs": [
    {
     "data": {
      "text/plain": "{'schema_with_descriptions': {'district': {'a16': {'column_name': 'no. of committed crimes 1996',\n    'column_description': 'no. of committed crimes 1996',\n    'value_description': ''},\n   'a6': {'column_name': 'no. of municipalities with inhabitants 500-1999',\n    'column_description': 'municipality < district < region',\n    'value_description': ''},\n   'a8': {'column_name': 'no. of municipalities with inhabitants > 10000',\n    'column_description': 'municipality < district < region',\n    'value_description': ''},\n   'a7': {'column_name': 'no. of municipalities with inhabitants 2000-9999',\n    'column_description': 'municipality < district < region',\n    'value_description': ''},\n   'a2': {'column_name': 'district_name',\n    'column_description': 'district_name',\n    'value_description': ''}},\n  'trans': {'k_symbol': {'column_name': 'characterization of the transaction',\n    'column_description': '',\n    'value_description': '\"POJISTNE\": stands for insurrance payment \"SLUZBY\": stands for payment for statement \"UROK\": stands for interest credited \"SANKC. UROK\": sanction interest if negative balance \"SIPO\": stands for household \"DUCHOD\": stands for old-age pension \"UVER\": stands for loan payment'},\n   'operation': {'column_name': 'mode of transaction',\n    'column_description': 'mode of transaction',\n    'value_description': '\"VYBER KARTOU\": credit card withdrawal \"VKLAD\": credit in cash \"PREVOD Z UCTU\" :collection from another bank \"VYBER\": withdrawal in cash \"PREVOD NA UCET\": remittance to another bank'}},\n  'order': {'k_symbol': {'column_name': 'characterization of the payment',\n    'column_description': 'purpose of the payment',\n    'value_description': '\"POJISTNE\" stands for insurance payment \"SIPO\" stands for household payment \"LEASING\" stands for leasing \"UVER\" stands for loan payment'}}}}"
     },
     "execution_count": 5,
     "metadata": {},
     "output_type": "execute_result"
    }
   ],
   "source": [
    "# test context retrieval module with a random sample\n",
    "filepath = \"C:/Users\\yousf\\Bureau\\ConvergenceAI\\CHESS_Impl\\data\\subsampled_dev_set\\sub_sampled_bird_dev_set.json\"\n",
    "data = load_json_data(filepath)\n",
    "example = data[11]\n",
    "keywords = ['accounts opened', 'Litomerice', '1996', 'A2', 'district name']\n",
    "task = create_task(example)\n",
    "ans = context_retrieval(task, keywords, 2)\n",
    "ans"
   ],
   "metadata": {
    "collapsed": false,
    "ExecuteTime": {
     "end_time": "2024-08-06T21:17:43.974883Z",
     "start_time": "2024-08-06T21:17:33.621248Z"
    }
   },
   "id": "ae1a979aa6f7a8e9",
   "execution_count": 5
  },
  {
   "cell_type": "code",
   "outputs": [
    {
     "name": "stderr",
     "output_type": "stream",
     "text": [
      "1it [00:05,  5.63s/it]"
     ]
    },
    {
     "name": "stdout",
     "output_type": "stream",
     "text": [
      "0 :  {'schema_with_descriptions': {'atom': {'molecule_id': {'column_name': 'molecule id', 'column_description': 'identifying the molecule to which the atom belongs', 'value_description': 'TRXXX_i represents ith atom of molecule TRXXX'}}, 'connected': {'atom_id': {'column_name': 'atom id', 'column_description': 'id of the first atom', 'value_description': ''}}, 'molecule': {'molecule_id': {'column_name': 'molecule id', 'column_description': 'unique id of molecule', 'value_description': '\"+\" --> this molecule / compound is carcinogenic \\'-\\' this molecule is not / compound carcinogenic'}}, 'bond': {'bond_type': {'column_name': '', 'column_description': 'type of the bond', 'value_description': \"\\x93-\\x94: single bond '=': double bond '#': triple bond\"}}}}\n"
     ]
    },
    {
     "name": "stderr",
     "output_type": "stream",
     "text": [
      "2it [00:17,  9.04s/it]"
     ]
    },
    {
     "name": "stdout",
     "output_type": "stream",
     "text": [
      "1 :  {'schema_with_descriptions': {'satscores': {'cds': {'column_name': '', 'column_description': 'California Department Schools', 'value_description': ''}}, 'frpm': {'school code': {'column_name': '', 'column_description': 'School Code', 'value_description': ''}}, 'schools': {'eilcode': {'column_name': 'Educational Instruction Level Code', 'column_description': \"The Educational Instruction Level Code is a short text description of the institution's type relative to the grade range served.\", 'value_description': '•       A – Adult •       ELEM – Elementary •       ELEMHIGH – Elementary-High Combination •       HS – High School •       INTMIDJR – Intermediate/Middle/Junior High •       PS – Preschool •       UG – Ungraded'}, 'gsoffered': {'column_name': 'grade span offered', 'column_description': 'The grade span offered is the lowest grade and the highest grade offered or supported by the school, district, or administrative authority. This field might differ from the grade span served as reported in the most recent certified California Longitudinal Pupil Achievement (CALPADS) Fall 1 data collection.', 'value_description': 'For example XYZ School might display the following data:  GSoffered = P–Adult  GSserved = K–12'}, 'edopscode': {'column_name': 'Education Option Code', 'column_description': 'The Education Option Code is a short text description of the type of education offered.', 'value_description': '•      ALTSOC – Alternative School of Choice •      COMM – County Community School •       COMMDAY – Community Day School •       CON – Continuation School •       JUV – Juvenile Court School •       OPP – Opportunity School •       YTH – Youth Authority School •       SSS – State Special School •       SPEC – Special Education School •       TRAD – Traditional •       ROP – Regional Occupational Program •       HOMHOS – Home and Hospital •       SPECON – District Consortia Special Education School'}}}}\n"
     ]
    },
    {
     "name": "stderr",
     "output_type": "stream",
     "text": [
      "3it [00:24,  8.53s/it]"
     ]
    },
    {
     "name": "stdout",
     "output_type": "stream",
     "text": [
      "2 :  {'schema_with_descriptions': {'superhero': {'full_name': {'column_name': 'full name', 'column_description': 'the full name of the superhero', 'value_description': 'The full name of a person typically consists of their given name, also known as their first name or personal name, and their surname, also known as their last name or family name. For example, if someone\\'s given name is \"John\" and their surname is \"Smith,\" their full name would be \"John Smith.\"'}, 'height_cm': {'column_name': 'height cm', 'column_description': 'the height of the superhero', 'value_description': 'The unit of height is centimeter. If the height_cm is NULL or 0, it means the height of the superhero is missing.'}}}}\n"
     ]
    },
    {
     "name": "stderr",
     "output_type": "stream",
     "text": [
      "4it [00:29,  6.99s/it]"
     ]
    },
    {
     "name": "stdout",
     "output_type": "stream",
     "text": [
      "3 :  {'schema_with_descriptions': {'badges': {'name': {'column_name': '', 'column_description': 'the badge name the user obtained', 'value_description': ''}, 'date': {'column_name': '', 'column_description': 'the date that the user obtained the badge', 'value_description': ''}}, 'users': {'age': {'column_name': '', 'column_description': \"user's age\", 'value_description': '\\x95 teenager: 13-18 \\x95 adult: 19-65 \\x95 elder: > 65'}}}}\n"
     ]
    },
    {
     "name": "stderr",
     "output_type": "stream",
     "text": [
      "5it [00:40,  8.43s/it]"
     ]
    },
    {
     "name": "stdout",
     "output_type": "stream",
     "text": [
      "4 :  {'schema_with_descriptions': {'badges': {'name': {'column_name': '', 'column_description': 'the badge name the user obtained', 'value_description': ''}}}}\n"
     ]
    },
    {
     "name": "stderr",
     "output_type": "stream",
     "text": [
      "6it [00:49,  8.46s/it]"
     ]
    },
    {
     "name": "stdout",
     "output_type": "stream",
     "text": [
      "5 :  {'schema_with_descriptions': {'cards': {'text': {'column_name': '', 'column_description': 'The rules text of the card.', 'value_description': ''}}, 'foreign_data': {'text': {'column_name': '', 'column_description': 'The foreign text ruling of the card.', 'value_description': ''}}}}\n"
     ]
    },
    {
     "name": "stderr",
     "output_type": "stream",
     "text": [
      "7it [01:00,  9.26s/it]"
     ]
    },
    {
     "name": "stdout",
     "output_type": "stream",
     "text": [
      "6 :  {'schema_with_descriptions': {'molecule': {'label': {'column_name': '', 'column_description': 'whether this molecule is carcinogenic or not', 'value_description': ''}, 'molecule_id': {'column_name': 'molecule id', 'column_description': 'unique id of molecule', 'value_description': '\"+\" --> this molecule / compound is carcinogenic \\'-\\' this molecule is not / compound carcinogenic'}}}}\n"
     ]
    },
    {
     "name": "stderr",
     "output_type": "stream",
     "text": [
      "8it [01:06,  8.52s/it]"
     ]
    },
    {
     "name": "stdout",
     "output_type": "stream",
     "text": [
      "7 :  {'schema_with_descriptions': {'member': {'position': {'column_name': '', 'column_description': 'The position the member holds in the club', 'value_description': ''}, 'last_name': {'column_name': 'last name', 'column_description': \"member's last name\", 'value_description': \"full name is first_name + last_name. e.g. A member's first name is Angela and last name is Sanders. Thus, his/her full name is Angela Sanders.\"}, 'first_name': {'column_name': 'first name', 'column_description': \"member's first name\", 'value_description': ''}}}}\n"
     ]
    },
    {
     "name": "stderr",
     "output_type": "stream",
     "text": [
      "9it [01:16,  8.76s/it]"
     ]
    },
    {
     "name": "stdout",
     "output_type": "stream",
     "text": [
      "8 :  {'schema_with_descriptions': {'bond': {'bond_type': {'column_name': '', 'column_description': 'type of the bond', 'value_description': \"\\x93-\\x94: single bond '=': double bond '#': triple bond\"}}}}\n"
     ]
    },
    {
     "name": "stderr",
     "output_type": "stream",
     "text": [
      "10it [01:23,  8.15s/it]"
     ]
    },
    {
     "name": "stdout",
     "output_type": "stream",
     "text": [
      "9 :  {'schema_with_descriptions': {'player_attributes': {'potential': {'column_name': '', 'column_description': 'potential of the player', 'value_description': 'commonsense reasoning:  The potential score is between 0-100 which is calculated by FIFA.  Higher potential score means that the player has more potential'}}, 'player': {'player_fifa_api_id': {'column_name': 'player federation international football association api id', 'column_description': 'the id of the player fifa api', 'value_description': ''}, 'birthday': {'column_name': '', 'column_description': \"the player's birthday\", 'value_description': \"e.g. 1992-02-29 00:00:00  commonsense reasoning:  Player A is older than player B means that A's birthday is earlier than B's\"}, 'player_name': {'column_name': 'player name', 'column_description': 'player name', 'value_description': ''}}}}\n"
     ]
    },
    {
     "name": "stderr",
     "output_type": "stream",
     "text": [
      "11it [01:32,  8.67s/it]"
     ]
    },
    {
     "name": "stdout",
     "output_type": "stream",
     "text": [
      "10 :  {'schema_with_descriptions': {'district': {'a8': {'column_name': 'no. of municipalities with inhabitants > 10000', 'column_description': 'municipality < district < region', 'value_description': ''}, 'a11': {'column_name': 'average salary', 'column_description': 'average salary', 'value_description': ''}}, 'client': {'gender': {'column_name': '', 'column_description': '', 'value_description': 'F：female  M：male'}}, 'trans': {'k_symbol': {'column_name': 'characterization of the transaction', 'column_description': '', 'value_description': '\"POJISTNE\": stands for insurrance payment \"SLUZBY\": stands for payment for statement \"UROK\": stands for interest credited \"SANKC. UROK\": sanction interest if negative balance \"SIPO\": stands for household \"DUCHOD\": stands for old-age pension \"UVER\": stands for loan payment'}}}}\n"
     ]
    },
    {
     "name": "stderr",
     "output_type": "stream",
     "text": [
      "12it [01:42,  8.90s/it]"
     ]
    },
    {
     "name": "stdout",
     "output_type": "stream",
     "text": [
      "11 :  {'schema_with_descriptions': {'satscores': {'cds': {'column_name': '', 'column_description': 'California Department Schools', 'value_description': ''}}, 'schools': {'mailstate': {'column_name': 'mailing state', 'column_description': '', 'value_description': 'The state within the mailing address. For your convenience we have filled the unpopulated MailState cells with State data.'}, 'state': {'column_name': '', 'column_description': 'State', 'value_description': ''}, 'gsserved': {'column_name': 'grade span served.', 'column_description': 'It is the lowest grade and the highest grade of student enrollment as reported in the most recent certified CALPADS Fall 1 data collection. Only K–12 enrollment is reported through CALPADS. This field may differ from the grade span offered.', 'value_description': '1.\\xa0\\xa0\\xa0\\xa0 Only K–12 enrollment is reported through CALPADS  2.\\xa0\\xa0\\xa0\\xa0 Note: Special programs at independent study, alternative education, and special education schools will often exceed the typical grade span for schools of that type'}}, 'frpm': {'school name': {'column_name': '', 'column_description': 'School Name', 'value_description': ''}}}}\n"
     ]
    },
    {
     "name": "stderr",
     "output_type": "stream",
     "text": [
      "13it [01:55, 10.06s/it]"
     ]
    },
    {
     "name": "stdout",
     "output_type": "stream",
     "text": [
      "12 :  {'schema_with_descriptions': {'bond': {'molecule_id': {'column_name': '', 'column_description': 'identifying the molecule in which the bond appears', 'value_description': ''}, 'bond_id': {'column_name': '', 'column_description': 'unique id representing bonds', 'value_description': 'TRxxx_A1_A2: TRXXX refers to which molecule A1 and A2 refers to which atom'}, 'bond_type': {'column_name': '', 'column_description': 'type of the bond', 'value_description': \"\\x93-\\x94: single bond '=': double bond '#': triple bond\"}}, 'atom': {'molecule_id': {'column_name': 'molecule id', 'column_description': 'identifying the molecule to which the atom belongs', 'value_description': 'TRXXX_i represents ith atom of molecule TRXXX'}}}}\n"
     ]
    },
    {
     "name": "stderr",
     "output_type": "stream",
     "text": [
      "14it [02:01,  9.05s/it]"
     ]
    },
    {
     "name": "stdout",
     "output_type": "stream",
     "text": [
      "13 :  {'schema_with_descriptions': {'votes': {'bountyamount': {'column_name': 'Bounty Amount', 'column_description': 'the amount of bounty', 'value_description': ''}}}}\n"
     ]
    },
    {
     "name": "stderr",
     "output_type": "stream",
     "text": [
      "15it [02:07,  8.49s/it]"
     ]
    },
    {
     "name": "stdout",
     "output_type": "stream",
     "text": [
      "14 :  {'schema_with_descriptions': {'badges': {'date': {'column_name': '', 'column_description': 'the date that the user obtained the badge', 'value_description': ''}}, 'users': {'location': {'column_name': '', 'column_description': \"user's location\", 'value_description': ''}}}}\n"
     ]
    },
    {
     "name": "stderr",
     "output_type": "stream",
     "text": [
      "\n"
     ]
    }
   ],
   "source": [
    "#test context retrieval module with the subsampled test \n",
    "res = []\n",
    "filepath = \"C:/Users\\yousf\\Bureau\\ConvergenceAI\\CHESS_Impl\\data/test/subsampled_test.json\"\n",
    "data = load_json_data(filepath)\n",
    "filepath_keywords = \"C:/Users\\yousf\\Bureau\\ConvergenceAI\\CHESS_Impl\\data/test/extracted_keywords.json\"\n",
    "keywords = load_json_data(filepath_keywords)\n",
    "top_k = 1\n",
    "for i, sample in tqdm(enumerate(data)):\n",
    "    task = create_task(sample)\n",
    "    ans = context_retrieval(task, keywords[i], top_k)\n",
    "    res.append(ans)\n",
    "    print(str(i) + \" : \", ans)"
   ],
   "metadata": {
    "collapsed": false,
    "ExecuteTime": {
     "end_time": "2024-08-08T13:22:00.114213Z",
     "start_time": "2024-08-08T13:19:52.774063Z"
    }
   },
   "id": "6a74d2a3951a6b02",
   "execution_count": 3
  },
  {
   "cell_type": "code",
   "outputs": [],
   "source": [
    "context_path = Path('C:/Users/yousf/Bureau/ConvergenceAI/CHESS_Impl/data/test/retrieved_context.json')\n",
    "with open(context_path, 'w') as f:\n",
    "    json.dump(res, f, indent=4)"
   ],
   "metadata": {
    "collapsed": false,
    "ExecuteTime": {
     "end_time": "2024-08-08T13:22:15.424001Z",
     "start_time": "2024-08-08T13:22:15.396021Z"
    }
   },
   "id": "687b67624861e090",
   "execution_count": 4
  },
  {
   "cell_type": "code",
   "outputs": [],
   "source": [],
   "metadata": {
    "collapsed": false
   },
   "id": "97c60e87537668b"
  }
 ],
 "metadata": {
  "kernelspec": {
   "display_name": "Python 3",
   "language": "python",
   "name": "python3"
  },
  "language_info": {
   "codemirror_mode": {
    "name": "ipython",
    "version": 2
   },
   "file_extension": ".py",
   "mimetype": "text/x-python",
   "name": "python",
   "nbconvert_exporter": "python",
   "pygments_lexer": "ipython2",
   "version": "2.7.6"
  }
 },
 "nbformat": 4,
 "nbformat_minor": 5
}
