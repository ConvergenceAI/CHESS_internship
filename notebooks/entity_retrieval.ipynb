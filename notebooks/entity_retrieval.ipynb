{
 "cells": [
  {
   "cell_type": "markdown",
   "source": [
    "In this notebook we will test the entity retrieval module "
   ],
   "metadata": {
    "collapsed": false
   },
   "id": "be1cdcc8a0549a5d"
  },
  {
   "cell_type": "code",
   "outputs": [],
   "source": [
    "#IMPORTS \n",
    "from utils.task import Task\n",
    "import json\n",
    "from src.pipeline.entity_retrieval import entity_retrieval\n",
    "from tqdm import tqdm\n",
    "from pathlib import Path"
   ],
   "metadata": {
    "collapsed": false,
    "ExecuteTime": {
     "end_time": "2024-08-08T13:24:21.291418Z",
     "start_time": "2024-08-08T13:24:17.530548Z"
    }
   },
   "id": "1b2a60feafc71d8f",
   "execution_count": 1
  },
  {
   "cell_type": "code",
   "outputs": [],
   "source": [
    "\n",
    "# Function to load JSON data\n",
    "def load_json_data(filepath):\n",
    "    with open(filepath, 'r') as file:\n",
    "        data = json.load(file)\n",
    "    return data\n",
    "\n",
    "\n",
    "# Function to create task object\n",
    "def create_task(example):\n",
    "    return Task(example)"
   ],
   "metadata": {
    "collapsed": false,
    "ExecuteTime": {
     "end_time": "2024-08-08T13:24:21.297160Z",
     "start_time": "2024-08-08T13:24:21.293424Z"
    }
   },
   "id": "a80584676e91bb6d",
   "execution_count": 2
  },
  {
   "cell_type": "code",
   "outputs": [
    {
     "data": {
      "text/plain": "{'similar_columns': {'trans': ['account'], 'district': ['A2']},\n 'similar_values': {'district': {'A2': ['Litomerice']}}}"
     },
     "execution_count": 3,
     "metadata": {},
     "output_type": "execute_result"
    }
   ],
   "source": [
    "# test entity retrieval module with a random sample\n",
    "filepath = \"C:/Users\\yousf\\Bureau\\ConvergenceAI\\CHESS_Impl\\data\\subsampled_dev_set\\sub_sampled_bird_dev_set.json\"\n",
    "data = load_json_data(filepath)\n",
    "example = data[11]\n",
    "keywords = ['accounts opened', 'Litomerice', '1996', 'A2', 'district name']\n",
    "task = create_task(example)\n",
    "embedding_model_name = \"openai_embedding_3_small\"\n",
    "ans = entity_retrieval(task, embedding_model_name, keywords)\n",
    "ans"
   ],
   "metadata": {
    "collapsed": false,
    "ExecuteTime": {
     "end_time": "2024-08-02T12:58:26.361167Z",
     "start_time": "2024-08-02T12:58:12.200951Z"
    }
   },
   "id": "47cf4b4cfc80bd0f",
   "execution_count": 3
  },
  {
   "cell_type": "code",
   "outputs": [
    {
     "name": "stderr",
     "output_type": "stream",
     "text": [
      "1it [00:15, 15.36s/it]"
     ]
    },
    {
     "name": "stdout",
     "output_type": "stream",
     "text": [
      "0 :  {'similar_columns': {'atom': ['atom_id'], 'bond': ['bond_type']}, 'similar_values': {'connected': {'bond_id': ['TR346_3_7']}, 'bond': {'molecule_id': ['TR346']}, 'atom': {'molecule_id': ['TR346']}}}\n"
     ]
    },
    {
     "name": "stderr",
     "output_type": "stream",
     "text": [
      "2it [03:38, 126.06s/it]"
     ]
    },
    {
     "name": "stdout",
     "output_type": "stream",
     "text": [
      "1 :  {'similar_columns': {'schools': ['City', 'School', 'County', 'EILCode']}, 'similar_values': {'frpm': {'NSLP Provision Status': ['Provision 2', 'Lunch Provision 2'], 'County Code': ['02'], 'County Name': ['Merced']}, 'schools': {'EILName': ['Ungraded'], 'AdmLName1': ['Lower'], 'SOC': ['13'], 'GSserved': ['12'], 'Ext': ['10'], 'School': ['La Merced'], 'City': ['Merced'], 'MailCity': ['Merced'], 'County': ['Merced']}, 'satscores': {'cname': ['Merced']}}}\n"
     ]
    },
    {
     "name": "stderr",
     "output_type": "stream",
     "text": [
      "3it [05:18, 113.80s/it]"
     ]
    },
    {
     "name": "stdout",
     "output_type": "stream",
     "text": [
      "2 :  {'similar_columns': {'superhero': ['full_name', 'height_cm', 'publisher_id'], 'publisher': ['publisher_name']}, 'similar_values': {'publisher': {'publisher_name': ['Marvel Comics']}, 'superhero': {'superhero_name': ['Marvel Girl']}}}\n"
     ]
    },
    {
     "name": "stderr",
     "output_type": "stream",
     "text": [
      "4it [06:32, 98.05s/it] "
     ]
    },
    {
     "name": "stdout",
     "output_type": "stream",
     "text": [
      "3 :  {'similar_columns': {'badges': ['Name'], 'users': ['Age']}, 'similar_values': {'badges': {'Name': ['Supporter']}, 'users': {'DisplayName': ['Name']}}}\n"
     ]
    },
    {
     "name": "stderr",
     "output_type": "stream",
     "text": [
      "5it [18:18, 317.50s/it]"
     ]
    },
    {
     "name": "stdout",
     "output_type": "stream",
     "text": [
      "4 :  {'similar_columns': {'badges': ['Name', 'UserId'], 'users': ['Location']}, 'similar_values': {'users': {'DisplayName': ['Name'], 'Location': ['New York', 'York', 'Location']}, 'badges': {'Name': ['Teacher', 'Supporter']}, 'tags': {'TagName': ['teaching']}, 'postHistory': {'UserDisplayName': ['User']}, 'posts': {'OwnerDisplayName': ['User']}}}\n"
     ]
    },
    {
     "name": "stderr",
     "output_type": "stream",
     "text": [
      "6it [26:50, 383.43s/it]"
     ]
    },
    {
     "name": "stdout",
     "output_type": "stream",
     "text": [
      "5 :  {'similar_columns': {'rulings': ['text']}, 'similar_values': {'cards': {'name': ['Condemn', \"Ancestor's Chosen\"], 'originalType': ['Summon - Ancestor']}, 'foreign_data': {'name': ['Condenar']}}}\n"
     ]
    },
    {
     "name": "stderr",
     "output_type": "stream",
     "text": [
      "7it [27:00, 261.54s/it]"
     ]
    },
    {
     "name": "stdout",
     "output_type": "stream",
     "text": [
      "6 :  {'similar_columns': {'molecule': ['label'], 'bond': ['bond_type']}, 'similar_values': {'atom': {'molecule_id': ['TR006']}, 'bond': {'molecule_id': ['TR006'], 'bond_type': ['-']}, 'connected': {'bond_id': ['TR006_1_3']}, 'molecule': {'label': ['-']}}}\n"
     ]
    },
    {
     "name": "stderr",
     "output_type": "stream",
     "text": [
      "8it [27:45, 192.58s/it]"
     ]
    },
    {
     "name": "stdout",
     "output_type": "stream",
     "text": [
      "7 :  {'similar_columns': {'major': ['college'], 'member': ['first_name', 'last_name']}, 'similar_values': {'member': {'position': ['Member', 'Secretary']}, 'zip_code': {'city': ['Secretary']}}}\n"
     ]
    },
    {
     "name": "stderr",
     "output_type": "stream",
     "text": [
      "9it [27:47, 133.00s/it]"
     ]
    },
    {
     "name": "stdout",
     "output_type": "stream",
     "text": [
      "8 :  {'similar_columns': {'bond': ['bond_type']}, 'similar_values': {}}\n"
     ]
    },
    {
     "name": "stderr",
     "output_type": "stream",
     "text": [
      "10it [28:18, 101.60s/it]"
     ]
    },
    {
     "name": "stdout",
     "output_type": "stream",
     "text": [
      "9 :  {'similar_columns': {'Player_Attributes': ['potential', 'date'], 'Player': ['player_name']}, 'similar_values': {'Player': {'player_name': ['Francesco Parravicini'], 'birthday': ['1990-08-30 00:00:00']}}}\n"
     ]
    },
    {
     "name": "stderr",
     "output_type": "stream",
     "text": [
      "11it [28:40, 77.22s/it] "
     ]
    },
    {
     "name": "stdout",
     "output_type": "stream",
     "text": [
      "10 :  {'similar_columns': {'client': ['gender'], 'district': ['A3', 'A11']}, 'similar_values': {'district': {'A3': ['north Bohemia']}}}\n"
     ]
    },
    {
     "name": "stderr",
     "output_type": "stream",
     "text": [
      "12it [31:01, 96.40s/it]"
     ]
    },
    {
     "name": "stdout",
     "output_type": "stream",
     "text": [
      "11 :  {'similar_columns': {'schools': ['City', 'School', 'State', 'Latitude', 'State'], 'frpm': ['School Name']}, 'similar_values': {'frpm': {'School Name': ['California Middle']}, 'schools': {'School': ['California Middle'], 'AdmLName1': ['Lower'], 'EILName': ['Ungraded']}}}\n"
     ]
    },
    {
     "name": "stderr",
     "output_type": "stream",
     "text": [
      "13it [41:39, 260.69s/it]"
     ]
    },
    {
     "name": "stdout",
     "output_type": "stream",
     "text": [
      "12 :  {'similar_columns': {'bond': ['molecule_id', 'bond_type', 'molecule_id']}, 'similar_values': {'bond': {'molecule_id': ['TR047']}, 'atom': {'molecule_id': ['TR047']}, 'connected': {'bond_id': ['TR047_5_9']}}}\n"
     ]
    },
    {
     "name": "stderr",
     "output_type": "stream",
     "text": [
      "14it [42:39, 199.91s/it]"
     ]
    },
    {
     "name": "stdout",
     "output_type": "stream",
     "text": [
      "13 :  {'similar_columns': {'votes': ['BountyAmount', 'BountyAmount'], 'posts': ['Title'], 'users': ['DisplayName']}, 'similar_values': {'tags': {'TagName': ['variance']}, 'badges': {'Name': ['variance']}, 'users': {'DisplayName': ['user']}}}\n"
     ]
    },
    {
     "name": "stderr",
     "output_type": "stream",
     "text": [
      "15it [43:43, 174.90s/it]"
     ]
    },
    {
     "name": "stdout",
     "output_type": "stream",
     "text": [
      "14 :  {'similar_columns': {'badges': ['Date', 'UserId'], 'users': ['Location']}, 'similar_values': {'users': {'DisplayName': ['user'], 'Location': ['Location', 'Rochester, NY']}, 'postHistory': {'UserDisplayName': ['User']}, 'posts': {'OwnerDisplayName': ['User']}}}\n"
     ]
    },
    {
     "name": "stderr",
     "output_type": "stream",
     "text": [
      "\n"
     ]
    }
   ],
   "source": [
    "\n",
    "#test entity retrieval module with the subsampled test \n",
    "res = []\n",
    "filepath = \"C:/Users\\yousf\\Bureau\\ConvergenceAI\\CHESS_Impl\\data/test/subsampled_test.json\"\n",
    "data = load_json_data(filepath)\n",
    "filepath_keywords = \"C:/Users\\yousf\\Bureau\\ConvergenceAI\\CHESS_Impl\\data/test/extracted_keywords.json\"\n",
    "keywords = load_json_data(filepath_keywords)\n",
    "embedding_model_name = \"openai_embedding_3_small\"\n",
    "for i, sample in tqdm(enumerate(data)):\n",
    "    task = create_task(sample)\n",
    "    ans = entity_retrieval(task, embedding_model_name, keywords[i])\n",
    "    res.append(ans)\n",
    "    print(str(i) + \" : \", ans)"
   ],
   "metadata": {
    "collapsed": false,
    "ExecuteTime": {
     "end_time": "2024-08-08T14:08:08.107974Z",
     "start_time": "2024-08-08T13:24:24.509236Z"
    }
   },
   "id": "5aef6b75bb6a6338",
   "execution_count": 3
  },
  {
   "cell_type": "code",
   "outputs": [],
   "source": [
    "\n",
    "entities_path = Path('C:/Users/yousf/Bureau/ConvergenceAI/CHESS_Impl/data/test/retrieved_entities.json')\n",
    "with open(entities_path, 'w') as f:\n",
    "    json.dump(res, f, indent=4)"
   ],
   "metadata": {
    "collapsed": false,
    "ExecuteTime": {
     "end_time": "2024-08-08T14:13:06.955740Z",
     "start_time": "2024-08-08T14:13:06.776169Z"
    }
   },
   "id": "f84005b820f39d85",
   "execution_count": 4
  }
 ],
 "metadata": {
  "kernelspec": {
   "display_name": "Python 3",
   "language": "python",
   "name": "python3"
  },
  "language_info": {
   "codemirror_mode": {
    "name": "ipython",
    "version": 2
   },
   "file_extension": ".py",
   "mimetype": "text/x-python",
   "name": "python",
   "nbconvert_exporter": "python",
   "pygments_lexer": "ipython2",
   "version": "2.7.6"
  }
 },
 "nbformat": 4,
 "nbformat_minor": 5
}
