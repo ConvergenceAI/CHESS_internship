{
 "cells": [
  {
   "cell_type": "markdown",
   "source": [
    "In this notebook we will evaluate the results of the pipeline"
   ],
   "metadata": {
    "collapsed": false
   },
   "id": "5b4f83e3eb2fe84"
  },
  {
   "cell_type": "markdown",
   "source": [
    "## The Subsampled test \n",
    "first let's do the test with the subsampled set (15 tasks)"
   ],
   "metadata": {
    "collapsed": false
   },
   "id": "f184f3bd33280d8"
  },
  {
   "cell_type": "code",
   "outputs": [
    {
     "data": {
      "text/plain": "True"
     },
     "execution_count": 1,
     "metadata": {},
     "output_type": "execute_result"
    }
   ],
   "source": [
    "from src.pipeline.evaluation import evaluation\n",
    "from utils.task import Task\n",
    "import json\n",
    "import os\n",
    "from dotenv import load_dotenv\n",
    "from tqdm import tqdm\n",
    "\n",
    "load_dotenv()"
   ],
   "metadata": {
    "collapsed": false,
    "ExecuteTime": {
     "end_time": "2024-08-26T17:27:25.029979Z",
     "start_time": "2024-08-26T17:27:24.976981Z"
    }
   },
   "id": "1a1def5bc6a9a3cb",
   "execution_count": 1
  },
  {
   "cell_type": "code",
   "outputs": [],
   "source": [
    "# Function to load JSON data\n",
    "def load_json_data(filepath):\n",
    "    with open(filepath, 'r') as file:\n",
    "        data = json.load(file)\n",
    "    return data\n",
    "\n",
    "\n",
    "# Function to create task object\n",
    "def create_task(example):\n",
    "    return Task(example)"
   ],
   "metadata": {
    "collapsed": false,
    "ExecuteTime": {
     "end_time": "2024-08-26T17:27:25.035986Z",
     "start_time": "2024-08-26T17:27:25.030986Z"
    }
   },
   "id": "e7d38431fb6ba857",
   "execution_count": 2
  },
  {
   "cell_type": "code",
   "outputs": [],
   "source": [
    "# load the task data\n",
    "filepath = \"C:/Users\\yousf\\Bureau\\ConvergenceAI\\CHESS_Impl\\data/test/subsampled_test.json\"\n",
    "data = load_json_data(filepath)\n",
    "# load the candidate SQL \n",
    "filepath_query = \"C:/Users\\yousf\\Bureau\\ConvergenceAI\\CHESS_Impl\\data/test/generated_candidate.json\"\n",
    "generated_candidate = load_json_data(filepath_query)\n",
    "# load the revised SQL\n",
    "filepath_query = \"C:/Users\\yousf\\Bureau\\ConvergenceAI\\CHESS_Impl\\data/test/final_sql.json\"\n",
    "result_sql = load_json_data(filepath_query)"
   ],
   "metadata": {
    "collapsed": false,
    "ExecuteTime": {
     "end_time": "2024-08-26T17:27:25.044182Z",
     "start_time": "2024-08-26T17:27:25.037506Z"
    }
   },
   "id": "f44a986f6b7df21b",
   "execution_count": 3
  },
  {
   "cell_type": "code",
   "outputs": [
    {
     "name": "stdout",
     "output_type": "stream",
     "text": [
      "0 :  {'Question': 'List out the atom id that belongs to the TR346 molecule and how many bond type can be created by this molecule?', 'Evidence': '', 'GOLD_SQL': \"SELECT T1.atom_id, COUNT(DISTINCT T2.bond_type) FROM atom AS T1 INNER JOIN bond AS T2 ON T1.molecule_id = T2.molecule_id WHERE T1.molecule_id = 'TR346' GROUP BY T1.atom_id, T2.bond_type\", 'candidate_generation': {'exec_res': 0, 'exec_err': 'no such table: molecule_atoms', 'Predicted SQL': \"SELECT T1.atom_id, COUNT(DISTINCT T2.bond_type) AS bond_type_count FROM molecule_atoms T1 JOIN bonds T2 ON T1.atom_id = T2.atom_id WHERE T1.molecule_id = 'TR346' AND T2.bond_type IS NOT NULL GROUP BY T1.molecule_id\"}, 'revision': {'exec_res': 1, 'exec_err': '--', 'Predicted SQL': \"SELECT T1.atom_id, COUNT(DISTINCT T2.bond_type) AS bond_type_count FROM atom AS T1 JOIN bond AS T2 ON T1.molecule_id = T2.molecule_id WHERE T1.molecule_id = 'TR346' AND T2.bond_type IS NOT NULL GROUP BY T1.atom_id\"}}\n",
      "\n",
      "\n",
      "1 :  {'Question': 'What is the city location of the high school level school with Lunch Provision 2 whose lowest grade is 9 and the highest grade is 12 in the county of Merced?', 'Evidence': \"High school can be represented as EILCode = 'HS'\", 'GOLD_SQL': \"SELECT T2.City FROM frpm AS T1 INNER JOIN schools AS T2 ON T1.CDSCode = T2.CDSCode WHERE T1.`NSLP Provision Status` = 'Lunch Provision 2' AND T2.County = 'Merced' AND T1.`Low Grade` = 9 AND T1.`High Grade` = 12 AND T2.EILCode = 'HS'\", 'candidate_generation': {'exec_res': 0, 'exec_err': 'no such column: T1.city_location', 'Predicted SQL': \"SELECT T1.city_location FROM Schools AS T1 WHERE T1.EILCode = 'HS' AND T1.county = 'Merced' AND T1.lunch_provision = 2 AND T1.lowest_grade = 9 AND T1.highest_grade = 12\"}, 'revision': {'exec_res': 0, 'exec_err': 'incorrect answer', 'Predicted SQL': \"SELECT T1.City FROM schools AS T1 INNER JOIN frpm AS T2 ON T1.CDSCode = T2.CDSCode WHERE T1.EILCode = 'HS' AND T1.County = 'Merced' AND T2.`NSLP Provision Status` = 'Lunch Provision 2' AND T1.GSserved = '9-12'\"}}\n",
      "\n",
      "\n",
      "2 :  {'Question': 'Please give the full name of the tallest hero published by Marvel Comics.', 'Evidence': \"the tallest hero refers to MAX(height_cm); published by Marvel Comics refers to publisher_name = 'Marvel Comics'\", 'GOLD_SQL': \"SELECT T1.full_name FROM superhero AS T1 INNER JOIN publisher AS T2 ON T1.publisher_id = T2.id WHERE T2.publisher_name = 'Marvel Comics' ORDER BY T1.height_cm DESC LIMIT 1\", 'candidate_generation': {'exec_res': 0, 'exec_err': 'no such table: heroes', 'Predicted SQL': \"SELECT T1.full_name FROM heroes T1 WHERE T1.publisher_name = 'Marvel Comics' AND T1.height_cm IS NOT NULL ORDER BY T1.height_cm DESC LIMIT 1\"}, 'revision': {'exec_res': 1, 'exec_err': '--', 'Predicted SQL': \"SELECT T1.full_name FROM superhero T1 JOIN publisher T2 ON T1.publisher_id = T2.id WHERE T2.publisher_name = 'Marvel Comics' AND T1.height_cm IS NOT NULL ORDER BY T1.height_cm DESC LIMIT 1\"}}\n",
      "\n",
      "3 :  {'Question': 'How many elders obtained the \"Supporter\" badge?', 'Evidence': '\"Supporter\" is the Name of badge;\\xa0 elders refers to Age > 65', 'GOLD_SQL': \"SELECT COUNT(T1.Id) FROM users AS T1 INNER JOIN badges AS T2 ON T1.Id = T2.UserId WHERE T1.Age > 65 AND T2.Name = 'Supporter'\", 'candidate_generation': {'exec_res': 0, 'exec_err': 'no such table: UserBadges', 'Predicted SQL': \"SELECT COUNT(DISTINCT T1.UserID) FROM Users T1 JOIN UserBadges T2 ON T1.UserID = T2.UserID JOIN Badges T3 ON T2.BadgeID = T3.BadgeID WHERE T1.Age > 65 AND T3.Name = 'Supporter'\"}, 'revision': {'exec_res': 1, 'exec_err': '--', 'Predicted SQL': \"SELECT COUNT(DISTINCT T1.Id) FROM users T1 JOIN badges T2 ON T1.Id = T2.UserId WHERE T1.Age > 65 AND T2.Name = 'Supporter'\"}}\n",
      "\n",
      "\n",
      "4 :  {'Question': 'How many users from New York have a teacher and supporter badge?', 'Evidence': '\"Supporter\" and \"Teachers\" are both Name of badge; \\'New York\\' is the Location; user refers to UserId', 'GOLD_SQL': \"SELECT COUNT(DISTINCT T1.Id) FROM badges AS T1 INNER JOIN users AS T2 ON T1.UserId = T2.Id WHERE T1.Name IN ('Supporter', 'Teacher') AND T2.Location = 'New York'\", 'candidate_generation': {'exec_res': 0, 'exec_err': 'no such column: T1.UserId', 'Predicted SQL': \"SELECT COUNT(DISTINCT T1.UserId) FROM Users T1 JOIN Badges T2 ON T1.UserId = T2.UserId JOIN Badges T3 ON T1.UserId = T3.UserId WHERE T1.Location = 'New York' AND T2.Name = 'Teacher' AND T3.Name = 'Supporter'\"}, 'revision': {'exec_res': 0, 'exec_err': 'incorrect answer', 'Predicted SQL': \"SELECT COUNT(DISTINCT T1.Id) FROM Users T1 JOIN Badges T2 ON T1.Id = T2.UserId JOIN Badges T3 ON T1.Id = T3.UserId WHERE T1.Location = 'New York' AND T2.Name = 'Teacher' AND T3.Name = 'Supporter'\"}}\n",
      "\n",
      "5 :  {'Question': 'What is the description about the ruling of card \"Condemn\"?', 'Evidence': \"Ancestor's Chosen' is the name of card; description about the ruling refers to text;\", 'GOLD_SQL': \"SELECT T2.text FROM cards AS T1 INNER JOIN rulings AS T2 ON T1.uuid = T2.uuid WHERE T1.name = 'Condemn'\", 'candidate_generation': {'exec_res': 0, 'exec_err': 'incorrect answer', 'Predicted SQL': \"SELECT T1.text FROM Cards AS T1 WHERE T1.name = 'Condemn'\"}, 'revision': {'exec_res': 1, 'exec_err': '--', 'Predicted SQL': \"SELECT T2.text FROM cards AS T1 INNER JOIN rulings AS T2 ON T1.uuid = T2.uuid WHERE T1.name = 'Condemn'\"}}\n",
      "\n",
      "\n",
      "6 :  {'Question': 'How many double bonds does TR006 have and is it carcinogenic?', 'Evidence': \"label = '+' mean molecules are carcinogenic; label = '-' means molecules are non-carcinogenic; double bond refers to bond_type = ' = ';\", 'GOLD_SQL': \"SELECT COUNT(T1.bond_id), T2.label FROM bond AS T1 INNER JOIN molecule AS T2 ON T1.molecule_id = T2.molecule_id WHERE T1.bond_type = '=' AND T2.molecule_id = 'TR006' GROUP BY T2.label\", 'candidate_generation': {'exec_res': 0, 'exec_err': 'no such table: Molecules', 'Predicted SQL': \"SELECT COUNT(*) AS double_bonds, T1.label FROM Molecules AS T1 JOIN Bonds AS T2 ON T1.molecule_id = T2.molecule_id WHERE T1.identifier = 'TR006' AND T2.bond_type = '=' GROUP BY T1.label\"}, 'revision': {'exec_res': 1, 'exec_err': '--', 'Predicted SQL': \"SELECT COUNT(*) AS double_bonds, T1.label FROM molecule AS T1 JOIN bond AS T2 ON T1.molecule_id = T2.molecule_id WHERE T1.molecule_id = 'TR006' AND T2.bond_type = '=' GROUP BY T1.label\"}}\n",
      "\n",
      "\n",
      "7 :  {'Question': \"Write the full name of the club member with the position of 'Secretary' and list which college the club member belongs to.\", 'Evidence': 'full name refers to first_name, last name', 'GOLD_SQL': \"SELECT T1.first_name, T1.last_name, college FROM member AS T1 INNER JOIN major AS T2 ON T2.major_id = T1.link_to_major WHERE T1.position = 'Secretary'\", 'candidate_generation': {'exec_res': 0, 'exec_err': 'no such table: members', 'Predicted SQL': \"SELECT T1.first_name, T1.last_name, T2.college_name FROM members AS T1 JOIN colleges AS T2 ON T1.college_id = T2.id WHERE T1.position = 'Secretary' AND T1.first_name IS NOT NULL AND T1.last_name IS NOT NULL AND T2.college_name IS NOT NULL\"}, 'revision': {'exec_res': 1, 'exec_err': '--', 'Predicted SQL': \"SELECT T1.first_name, T1.last_name, T2.college FROM member AS T1 JOIN major AS T2 ON T1.link_to_major = T2.major_id WHERE T1.position = 'Secretary' AND T1.first_name IS NOT NULL AND T1.last_name IS NOT NULL AND T2.college IS NOT NULL\"}}\n",
      "\n",
      "\n",
      "8 :  {'Question': 'Among all chemical compounds identified in the database, what percent of compounds form a triple-bond.', 'Evidence': \"triple bond refers to bond_type = '#';\", 'GOLD_SQL': \"SELECT CAST(COUNT(CASE WHEN T.bond_type = '#' THEN T.bond_id ELSE NULL END) AS REAL) * 100 / COUNT(T.bond_id) FROM bond AS T\", 'candidate_generation': {'exec_res': 0, 'exec_err': 'no such table: compounds', 'Predicted SQL': \"SELECT (SELECT COUNT(*) FROM compounds WHERE bond_type = '#' AND bond_type IS NOT NULL) * 100.0 / (SELECT COUNT(*) FROM compounds WHERE bond_type IS NOT NULL) AS percentage_of_triple_bonds\"}, 'revision': {'exec_res': 0, 'exec_err': 'incorrect answer', 'Predicted SQL': \"SELECT (SELECT COUNT(*) FROM bond T1 WHERE T1.bond_type = '#' AND T1.bond_type IS NOT NULL) * 100.0 / (SELECT COUNT(*) FROM bond T2 WHERE T2.bond_type IS NOT NULL) AS percentage_of_triple_bonds\"}}\n",
      "\n",
      "9 :  {'Question': 'What was the potiential for Francesco Parravicini on 2010/8/30?', 'Evidence': \"Francesco Parravicini refers to player_name = 'Francesco Parravicini'; on 2010/8/30 refers to date = '2010-08-30 00:00:00'\", 'GOLD_SQL': \"SELECT t2.potential FROM Player AS t1 INNER JOIN Player_Attributes AS t2 ON t1.player_api_id = t2.player_api_id WHERE SUBSTR(t2.`date`, 1, 10) = '2010-08-30' AND t1.player_name = 'Francesco Parravicini'\", 'candidate_generation': {'exec_res': 0, 'exec_err': 'no such table: players', 'Predicted SQL': \"SELECT T2.potential FROM players T1 INNER JOIN player_attributes T2 ON T1.player_api_id = T2.player_api_id WHERE T1.player_name = 'Francesco Parravicini' AND T2.date = '2010-08-30 00:00:00' AND T2.potential IS NOT NULL\"}, 'revision': {'exec_res': 1, 'exec_err': '--', 'Predicted SQL': \"SELECT T2.potential FROM Player T1 INNER JOIN Player_Attributes T2 ON T1.player_api_id = T2.player_api_id WHERE T1.player_name = 'Francesco Parravicini' AND T2.date = '2010-08-30 00:00:00' AND T2.potential IS NOT NULL\"}}\n",
      "\n",
      "\n",
      "10 :  {'Question': 'How many male customers who are living in North Bohemia have average salary greater than 8000?', 'Evidence': \"Male means that gender = 'M'; A3 refers to region; A11 pertains to average salary.\", 'GOLD_SQL': \"SELECT COUNT(T1.client_id) FROM client AS T1 INNER JOIN district AS T2 ON T1.district_id = T2.district_id WHERE T1.gender = 'M' AND T2.A3 = 'North Bohemia' AND T2.A11 > 8000\", 'candidate_generation': {'exec_res': 0, 'exec_err': 'no such table: customers', 'Predicted SQL': \"SELECT COUNT(*) FROM customers WHERE gender = 'M' AND A3 = 'North Bohemia' AND A11 > 8000 AND A11 IS NOT NULL\"}, 'revision': {'exec_res': 1, 'exec_err': '--', 'Predicted SQL': \"SELECT COUNT(*) FROM client T1 JOIN district T2 ON T1.district_id = T2.district_id WHERE T1.gender = 'M' AND T2.A3 = 'North Bohemia' AND T2.A11 > 8000 AND T2.A11 IS NOT NULL\"}}\n",
      "\n",
      "\n",
      "11 :  {'Question': 'In which city can you find the school in the state of California with the lowest latitude coordinates and what is its lowest grade? Indicate the school name.', 'Evidence': \"State of California refers to state = 'CA'\", 'GOLD_SQL': \"SELECT T2.City, T1.`Low Grade`, T1.`School Name` FROM frpm AS T1 INNER JOIN schools AS T2 ON T1.CDSCode = T2.CDSCode WHERE T2.State = 'CA' ORDER BY T2.Latitude ASC LIMIT 1\", 'candidate_generation': {'exec_res': 0, 'exec_err': 'no such column: T1.name', 'Predicted SQL': \"SELECT T1.name, T1.city, T1.lowest_grade FROM Schools AS T1 WHERE T1.state = 'CA' AND T1.latitude IS NOT NULL ORDER BY T1.latitude ASC LIMIT 1\"}, 'revision': {'exec_res': 0, 'exec_err': 'incorrect answer', 'Predicted SQL': \"SELECT T1.School AS School_Name, T1.City, T1.GSoffered AS Lowest_Grade FROM Schools AS T1 WHERE T1.State = 'CA' AND T1.Latitude IS NOT NULL ORDER BY T1.Latitude ASC LIMIT 1\"}}\n",
      "\n",
      "\n",
      "12 :  {'Question': 'Among all chemical compounds that contain molecule TR047, identify the percent that form a double-bond.', 'Evidence': \"TR047 is the molecule id; double bond refers to bond_type = ' = '; percentage = DIVIDE(SUM(bond_type = ' = '), COUNT(all bond_id)) as percent where molecule_id = 'TR047'\", 'GOLD_SQL': \"SELECT CAST(COUNT(CASE WHEN T.bond_type = '=' THEN T.bond_id ELSE NULL END) AS REAL) * 100 / COUNT(T.bond_id) FROM bond AS T WHERE T.molecule_id = 'TR047'\", 'candidate_generation': {'exec_res': 0, 'exec_err': 'no such table: bonds', 'Predicted SQL': \"SELECT (SUM(CASE WHEN bond_type = ' = ' THEN 1 ELSE 0 END) * 100.0 / COUNT(bond_id)) AS percent FROM bonds T1 WHERE T1.molecule_id = 'TR047' AND T1.bond_type IS NOT NULL\"}, 'revision': {'exec_res': 0, 'exec_err': 'incorrect answer', 'Predicted SQL': \"SELECT (SUM(CASE WHEN bond_type = ' = ' THEN 1 ELSE 0 END) * 100.0 / COUNT(bond_id)) AS percent FROM bond T1 WHERE T1.molecule_id = 'TR047' AND T1.bond_type IS NOT NULL\"}}\n",
      "\n",
      "\n",
      "13 :  {'Question': 'Which user added a bounty amount of 50 to the post title mentioning variance?', 'Evidence': '\"bounty amount of 50 refers to BountyAmount = 50; user refers to DisplayName', 'GOLD_SQL': \"SELECT T3.DisplayName, T1.Title FROM posts AS T1 INNER JOIN votes AS T2 ON T1.Id = T2.PostId INNER JOIN users AS T3 ON T3.Id = T2.UserId WHERE T2.BountyAmount = 50 AND T1.Title LIKE '%variance%'\", 'candidate_generation': {'exec_res': 0, 'exec_err': 'no such table: Bounties', 'Predicted SQL': \"SELECT T3.DisplayName FROM Bounties T1 JOIN Posts T2 ON T1.PostId = T2.PostId JOIN Users T3 ON T1.UserId = T3.UserId WHERE T1.BountyAmount = 50 AND T2.Title LIKE '%variance%'\"}, 'revision': {'exec_res': 0, 'exec_err': 'SELECTs to the left and right of EXCEPT do not have the same number of result columns', 'Predicted SQL': \"SELECT T3.DisplayName FROM votes T1 JOIN posts T2 ON T1.PostId = T2.Id JOIN users T3 ON T1.UserId = T3.Id WHERE T1.BountyAmount = 50 AND T2.Title LIKE '%variance%'\"}}\n",
      "\n",
      "14 :  {'Question': 'List out the dates that users who are located in Rochester, NY obtained their badges?', 'Evidence': '\"Rochester, NY\" is the Location of user; user refers to UserId', 'GOLD_SQL': \"SELECT T2.Date FROM users AS T1 INNER JOIN badges AS T2 ON T1.Id = T2.UserId WHERE T1.Location = 'Rochester, NY'\", 'candidate_generation': {'exec_res': 0, 'exec_err': 'no such column: T2.DateObtained', 'Predicted SQL': \"SELECT T2.DateObtained FROM Users T1 JOIN Badges T2 ON T1.UserId = T2.UserId WHERE T1.Location = 'Rochester, NY'\"}, 'revision': {'exec_res': 1, 'exec_err': '--', 'Predicted SQL': \"SELECT T2.Date FROM Users T1 JOIN Badges T2 ON T1.Id = T2.UserId WHERE T1.Location = 'Rochester, NY'\"}}\n"
     ]
    }
   ],
   "source": [
    "res = []\n",
    "for index, sample in enumerate(data):\n",
    "    task = create_task(sample)\n",
    "    ans = evaluation(task=task, generated_candidate=generated_candidate[index], revised_candidate=result_sql[index])\n",
    "    res.append(ans)\n",
    "    print(str(index) + \" : \", ans)\n",
    "    print(\"\\n\")"
   ],
   "metadata": {
    "collapsed": false,
    "ExecuteTime": {
     "end_time": "2024-08-26T17:27:30.144728Z",
     "start_time": "2024-08-26T17:27:25.044182Z"
    }
   },
   "id": "10485e4f503e4147",
   "execution_count": 4
  },
  {
   "cell_type": "code",
   "outputs": [
    {
     "name": "stdout",
     "output_type": "stream",
     "text": [
      "The Execution accuracy from the candidate generation module:  0.0 %\n",
      "The Execution accuracy after revision:  60.0 %\n"
     ]
    }
   ],
   "source": [
    "percentage1 = 0\n",
    "percentage2 = 0\n",
    "for result in res:\n",
    "    percentage1 += result['candidate_generation']['exec_res']\n",
    "    percentage2 += result['revision']['exec_res']\n",
    "\n",
    "print(\"The Execution accuracy from the candidate generation module: \", percentage1*100 / len(res),\"%\")\n",
    "print(\"The Execution accuracy after revision: \", percentage2*100 / len(res),\"%\")"
   ],
   "metadata": {
    "collapsed": false,
    "ExecuteTime": {
     "end_time": "2024-08-26T17:36:16.367357Z",
     "start_time": "2024-08-26T17:36:16.358325Z"
    }
   },
   "id": "d01f3afc10247021",
   "execution_count": 8
  },
  {
   "cell_type": "code",
   "outputs": [],
   "source": [],
   "metadata": {
    "collapsed": false
   },
   "id": "a39dbb8cc7b4f625"
  }
 ],
 "metadata": {
  "kernelspec": {
   "display_name": "Python 3",
   "language": "python",
   "name": "python3"
  },
  "language_info": {
   "codemirror_mode": {
    "name": "ipython",
    "version": 2
   },
   "file_extension": ".py",
   "mimetype": "text/x-python",
   "name": "python",
   "nbconvert_exporter": "python",
   "pygments_lexer": "ipython2",
   "version": "2.7.6"
  }
 },
 "nbformat": 4,
 "nbformat_minor": 5
}
