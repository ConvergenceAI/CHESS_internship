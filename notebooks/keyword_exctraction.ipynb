{
 "cells": [
  {
   "cell_type": "markdown",
   "source": [
    "In this notebook we will test the keyword extraction module "
   ],
   "metadata": {
    "collapsed": false
   },
   "id": "f9248747959361a2"
  },
  {
   "cell_type": "code",
   "outputs": [],
   "source": [
    "## IMPORTS\n",
    "from src.pipeline.keyword_extraction import keyword_extraction\n",
    "from utils.task import Task\n",
    "import numpy as np\n",
    "import json\n",
    "import pandas as pd\n",
    "import random\n",
    "from tqdm import tqdm\n",
    "import matplotlib.pyplot as plt\n",
    "import seaborn as sns\n",
    "from pathlib import Path\n",
    "import os\n",
    "from dotenv import load_dotenv\n",
    "from utils.prompt import load_prompt\n",
    "import tiktoken\n",
    "\n",
    "load_dotenv()"
   ],
   "metadata": {
    "collapsed": false,
    "ExecuteTime": {
     "end_time": "2024-08-02T10:06:08.201700Z",
     "start_time": "2024-08-02T10:06:08.133357Z"
    }
   },
   "id": "fc704d535cbdb38b",
   "execution_count": 6
  },
  {
   "cell_type": "code",
   "outputs": [],
   "source": [
    "# Function to load JSON data\n",
    "def load_json_data(filepath):\n",
    "    with open(filepath, 'r') as file:\n",
    "        data = json.load(file)\n",
    "    return data\n",
    "\n",
    "\n",
    "# Function to create task object\n",
    "def create_task(example):\n",
    "    return Task(example)\n"
   ],
   "metadata": {
    "collapsed": false,
    "ExecuteTime": {
     "end_time": "2024-08-02T10:03:25.305258Z",
     "start_time": "2024-08-02T10:03:25.300315Z"
    }
   },
   "id": "d66737dde59a378c",
   "execution_count": 2
  },
  {
   "cell_type": "code",
   "outputs": [
    {
     "data": {
      "text/plain": "{'question_id': 111,\n 'db_id': 'financial',\n 'question': 'How many accounts were opened in Litomerice in 1996?',\n 'evidence': 'A2 refers to district name; Litomerice is one of district names.',\n 'SQL': \"SELECT COUNT(T2.account_id) FROM district AS T1 INNER JOIN account AS T2 ON T1.district_id = T2.district_id WHERE STRFTIME('%Y', T2.date) = '1996' AND T1.A2 = 'Litomerice'\",\n 'difficulty': 'simple'}"
     },
     "execution_count": 16,
     "metadata": {},
     "output_type": "execute_result"
    }
   ],
   "source": [
    "filepath = \"C:/Users\\yousf\\Bureau\\ConvergenceAI\\CHESS_Impl\\data\\subsampled_dev_set\\sub_sampled_bird_dev_set.json\"\n",
    "data = load_json_data(filepath)\n",
    "example = data[11]\n",
    "example"
   ],
   "metadata": {
    "collapsed": false,
    "ExecuteTime": {
     "end_time": "2024-08-02T10:19:14.718109Z",
     "start_time": "2024-08-02T10:19:14.705452Z"
    }
   },
   "id": "426bc001cde6b0ad",
   "execution_count": 16
  },
  {
   "cell_type": "code",
   "outputs": [
    {
     "data": {
      "text/plain": "['accounts opened', 'Litomerice', '1996', 'A2', 'district name']"
     },
     "execution_count": 17,
     "metadata": {},
     "output_type": "execute_result"
    }
   ],
   "source": [
    "# Create task object\n",
    "task = create_task(example)\n",
    "model = (\"gpt-4\")\n",
    "llm_response = keyword_extraction(task, model)\n",
    "llm_response"
   ],
   "metadata": {
    "collapsed": false,
    "ExecuteTime": {
     "end_time": "2024-08-02T10:19:22.528758Z",
     "start_time": "2024-08-02T10:19:20.751286Z"
    }
   },
   "id": "45c9a7a24bb5efd9",
   "execution_count": 17
  },
  {
   "cell_type": "code",
   "outputs": [
    {
     "data": {
      "text/plain": "                                            question  \\\n0  Among the schools with the average score in Ma...   \n1  In Los Angeles how many schools have more than...   \n2  Name schools in Riverside which the average of...   \n3  What is the administrator's email address of t...   \n4  What is the telephone number for the school wi...   \n5  What is the average math score of the school w...   \n6  What is the city location of the high school l...   \n7  In which city can you find the school in the s...   \n8  How many male customers who are living in Nort...   \n9  List out the clients who choose statement of i...   \n\n                                                hint  \\\n0                                                      \n1                                                      \n2  Average of average math = sum(average math sco...   \n3  Charted school means `Charter School (Y/N)` = ...   \n4              Fresno Unified is a name of district;   \n5  Average score for all subjects can be computed...   \n6   High school can be represented as EILCode = 'HS'   \n7         State of California refers to state = 'CA'   \n8  Male means that gender = 'M'; A3 refers to reg...   \n9  'POPLATEK PO OBRATU' stands for issuance after...   \n\n                                            keywords  \n0  [SAT test, Math, average score, 560, charter-f...  \n1  [Los Angeles, schools, free meals, 500, 700, f...  \n2  [Riverside, schools, average math score, SAT, ...  \n3  [Charter School, Y/N, table, frpm, Enrollment,...  \n4  [telephone number, school, lowest average scor...  \n5  [average math score, school, lowest average sc...  \n6  [city location, high school, Lunch Provision 2...  \n7  [school, California, state, CA, lowest latitud...  \n8  [male customers, North Bohemia, average salary...  \n9  [clients, choose, tatement, issuance, after, t...  ",
      "text/html": "<div>\n<style scoped>\n    .dataframe tbody tr th:only-of-type {\n        vertical-align: middle;\n    }\n\n    .dataframe tbody tr th {\n        vertical-align: top;\n    }\n\n    .dataframe thead th {\n        text-align: right;\n    }\n</style>\n<table border=\"1\" class=\"dataframe\">\n  <thead>\n    <tr style=\"text-align: right;\">\n      <th></th>\n      <th>question</th>\n      <th>hint</th>\n      <th>keywords</th>\n    </tr>\n  </thead>\n  <tbody>\n    <tr>\n      <th>0</th>\n      <td>Among the schools with the average score in Ma...</td>\n      <td></td>\n      <td>[SAT test, Math, average score, 560, charter-f...</td>\n    </tr>\n    <tr>\n      <th>1</th>\n      <td>In Los Angeles how many schools have more than...</td>\n      <td></td>\n      <td>[Los Angeles, schools, free meals, 500, 700, f...</td>\n    </tr>\n    <tr>\n      <th>2</th>\n      <td>Name schools in Riverside which the average of...</td>\n      <td>Average of average math = sum(average math sco...</td>\n      <td>[Riverside, schools, average math score, SAT, ...</td>\n    </tr>\n    <tr>\n      <th>3</th>\n      <td>What is the administrator's email address of t...</td>\n      <td>Charted school means `Charter School (Y/N)` = ...</td>\n      <td>[Charter School, Y/N, table, frpm, Enrollment,...</td>\n    </tr>\n    <tr>\n      <th>4</th>\n      <td>What is the telephone number for the school wi...</td>\n      <td>Fresno Unified is a name of district;</td>\n      <td>[telephone number, school, lowest average scor...</td>\n    </tr>\n    <tr>\n      <th>5</th>\n      <td>What is the average math score of the school w...</td>\n      <td>Average score for all subjects can be computed...</td>\n      <td>[average math score, school, lowest average sc...</td>\n    </tr>\n    <tr>\n      <th>6</th>\n      <td>What is the city location of the high school l...</td>\n      <td>High school can be represented as EILCode = 'HS'</td>\n      <td>[city location, high school, Lunch Provision 2...</td>\n    </tr>\n    <tr>\n      <th>7</th>\n      <td>In which city can you find the school in the s...</td>\n      <td>State of California refers to state = 'CA'</td>\n      <td>[school, California, state, CA, lowest latitud...</td>\n    </tr>\n    <tr>\n      <th>8</th>\n      <td>How many male customers who are living in Nort...</td>\n      <td>Male means that gender = 'M'; A3 refers to reg...</td>\n      <td>[male customers, North Bohemia, average salary...</td>\n    </tr>\n    <tr>\n      <th>9</th>\n      <td>List out the clients who choose statement of i...</td>\n      <td>'POPLATEK PO OBRATU' stands for issuance after...</td>\n      <td>[clients, choose, tatement, issuance, after, t...</td>\n    </tr>\n  </tbody>\n</table>\n</div>"
     },
     "execution_count": 5,
     "metadata": {},
     "output_type": "execute_result"
    }
   ],
   "source": [
    "#choose the model for the task of keyword extraction \n",
    "model = \"llama-3\"\n",
    "\n",
    "# Initialize a list to store the results\n",
    "results = []\n",
    "for i in range(10):\n",
    "    task = create_task(data[i])\n",
    "    keywords = keyword_extraction(task, model)\n",
    "\n",
    "    results.append({\n",
    "        \"question\": task.question,\n",
    "        \"hint\": task.evidence,\n",
    "        \"keywords\": keywords\n",
    "    })\n",
    "\n",
    "# Create a DataFrame from the results\n",
    "df = pd.DataFrame(results, columns=[\"question\", \"hint\", \"keywords\"])\n",
    "df\n",
    "\n"
   ],
   "metadata": {
    "collapsed": false,
    "ExecuteTime": {
     "end_time": "2024-07-18T14:53:57.754454Z",
     "start_time": "2024-07-18T14:53:55.271252Z"
    }
   },
   "id": "1e69ec9e75f88094",
   "execution_count": 5
  },
  {
   "cell_type": "markdown",
   "source": [
    "## Case study for the Keyword exctraction module "
   ],
   "metadata": {
    "collapsed": false
   },
   "id": "8d2b961fe0eb04bc"
  },
  {
   "cell_type": "code",
   "outputs": [],
   "source": [
    "# Step 1: Select 15 random samples\n",
    "random_state = 42\n",
    "random.seed(random_state)\n",
    "random_samples = random.sample(data, 15)\n"
   ],
   "metadata": {
    "collapsed": false,
    "ExecuteTime": {
     "end_time": "2024-08-02T10:06:21.481122Z",
     "start_time": "2024-08-02T10:06:21.471666Z"
    }
   },
   "id": "3752c2717a5ee7ba",
   "execution_count": 7
  },
  {
   "cell_type": "code",
   "outputs": [],
   "source": [
    "\n",
    "#store this random subsampled set to use it in other tests \n",
    "\n",
    "subsampled_test_path = Path('C:/Users/yousf/Bureau/ConvergenceAI/CHESS_Impl/data/test/subsampled_test.json')\n",
    "subsampled_test_path.parent.mkdir(parents=True, exist_ok=True)\n",
    "\n",
    "with open(subsampled_test_path, 'w') as f:\n",
    "    json.dump(random_samples, f, indent=4)"
   ],
   "metadata": {
    "collapsed": false,
    "ExecuteTime": {
     "end_time": "2024-08-02T10:07:33.607123Z",
     "start_time": "2024-08-02T10:07:33.594131Z"
    }
   },
   "id": "ac45f6cff84801b5",
   "execution_count": 9
  },
  {
   "cell_type": "code",
   "outputs": [
    {
     "name": "stderr",
     "output_type": "stream",
     "text": [
      "100%|██████████| 15/15 [00:40<00:00,  2.69s/it]\n"
     ]
    }
   ],
   "source": [
    "#store the extracted keywords in a JSON file \n",
    "res = []\n",
    "model = \"gpt-4\"\n",
    "for sample in tqdm(random_samples):\n",
    "    task = create_task(sample)\n",
    "    extracted_keywords = keyword_extraction(task, model)\n",
    "    res.append(extracted_keywords)\n",
    "\n",
    "keywords_path = Path('C:/Users/yousf/Bureau/ConvergenceAI/CHESS_Impl/data/test/extracted_keywords.json')\n",
    "with open(keywords_path, 'w') as f:\n",
    "    json.dump(res, f, indent=4)\n"
   ],
   "metadata": {
    "collapsed": false,
    "ExecuteTime": {
     "end_time": "2024-08-02T10:15:05.163585Z",
     "start_time": "2024-08-02T10:14:24.828869Z"
    }
   },
   "id": "1b68f0d08e776847",
   "execution_count": 12
  },
  {
   "cell_type": "code",
   "outputs": [],
   "source": [
    "# Step 2: Extract question and evidence and build a DataFrame\n",
    "df = pd.DataFrame([{\n",
    "    'question': sample['question'],\n",
    "    'evidence': sample['evidence']\n",
    "} for sample in random_samples])\n",
    "df['keywords_annotation'] = None\n"
   ],
   "metadata": {
    "collapsed": false,
    "ExecuteTime": {
     "end_time": "2024-08-01T21:42:16.945313Z",
     "start_time": "2024-08-01T21:42:16.849185Z"
    }
   },
   "id": "1168e54b6bd5f90e",
   "execution_count": 7
  },
  {
   "cell_type": "code",
   "outputs": [],
   "source": [
    "# Step 3 : manual annotation of keywords \n",
    "df.to_csv(\"C:/Users/yousf/Bureau/ConvergenceAI/CHESS_Impl/data/test/keywords_annotated_samples\")\n"
   ],
   "metadata": {
    "collapsed": false,
    "ExecuteTime": {
     "end_time": "2024-08-01T10:36:31.966644Z",
     "start_time": "2024-08-01T10:36:31.947287Z"
    }
   },
   "id": "e8947c5bcbc3d7aa",
   "execution_count": 17
  },
  {
   "cell_type": "code",
   "outputs": [
    {
     "data": {
      "text/plain": "    Unnamed: 0                                           question  \\\n0            0  List out the atom id that belongs to the TR346...   \n1            1  What is the city location of the high school l...   \n2            2  Please give the full name of the tallest hero ...   \n3            3    How many elders obtained the \"Supporter\" badge?   \n4            4  How many users from New York have a teacher an...   \n5            5  What is the description about the ruling of ca...   \n6            6  How many double bonds does TR006 have and is i...   \n7            7  Write the full name of the club member with th...   \n8            8  Among all chemical compounds identified in the...   \n9            9  What was the potiential for Francesco Parravic...   \n10          10  How many male customers who are living in Nort...   \n11          11  In which city can you find the school in the s...   \n12          12  Among all chemical compounds that contain mole...   \n13          13  Which user added a bounty amount of 50 to the ...   \n14          14  List out the dates that users who are located ...   \n\n                                             evidence  \\\n0                                                 NaN   \n1    High school can be represented as EILCode = 'HS'   \n2   the tallest hero refers to MAX(height_cm); pub...   \n3   \"Supporter\" is the Name of badge;elders refers...   \n4   \"Supporter\" and \"Teachers\" are both Name of ba...   \n5   Ancestor's Chosen' is the name of card; descri...   \n6   label = '+' mean molecules are carcinogenic; l...   \n7           full name refers to first_name, last name   \n8              triple bond refers to bond_type = '#';   \n9   Francesco Parravicini refers to player_name = ...   \n10  Male means that gender = 'M'; A3 refers to reg...   \n11         State of California refers to state = 'CA'   \n12  TR047 is the molecule id; double bond refers t...   \n13  \"bounty amount of 50 refers to BountyAmount = ...   \n14  \"Rochester, NY\" is the Location of user; user ...   \n\n                                  keywords_annotation  \n0   [\"atom id\",\"TR346 molecule\",\"molecule\",\"bond t...  \n1   [\"city location\",\"high school\",\"level school\",...  \n2   [\"full name\",\"tallest hero\",\"Marvel Comics\",\"M...  \n3   [\"elders\",\"Supporter badge\",\"Name of badge\",\"A...  \n4   [\"users\",\"New York\",\"teacher badge\",\"supporter...  \n5   [\"description\",\"ruling of card\",\"Condemn\",\"Anc...  \n6   [\"double bonds\",\"TR006\",\"carcinogenic\",\"label\"...  \n7   [\"full name\",\"club member\",\"position\",\"Secreta...  \n8   [\"chemical compounds\",\"percent of compounds\",\"...  \n9   [\"potiential\",\"Francesco Parravicini\",\"2010/8/...  \n10  [\"male customers\",\"North Bohemia\",\"average sal...  \n11  [\"city\",\"school\",\"state of California\",\"lowest...  \n12  [\"chemical compounds\",\"molecule TR047\",\"percen...  \n13  [\"user\",\"bounty amount\",\"50\",\"post title\",\"var...  \n14  [\"dates\",\"users\",\"Rochester, NY\",\"badges\",\"Loc...  ",
      "text/html": "<div>\n<style scoped>\n    .dataframe tbody tr th:only-of-type {\n        vertical-align: middle;\n    }\n\n    .dataframe tbody tr th {\n        vertical-align: top;\n    }\n\n    .dataframe thead th {\n        text-align: right;\n    }\n</style>\n<table border=\"1\" class=\"dataframe\">\n  <thead>\n    <tr style=\"text-align: right;\">\n      <th></th>\n      <th>Unnamed: 0</th>\n      <th>question</th>\n      <th>evidence</th>\n      <th>keywords_annotation</th>\n    </tr>\n  </thead>\n  <tbody>\n    <tr>\n      <th>0</th>\n      <td>0</td>\n      <td>List out the atom id that belongs to the TR346...</td>\n      <td>NaN</td>\n      <td>[\"atom id\",\"TR346 molecule\",\"molecule\",\"bond t...</td>\n    </tr>\n    <tr>\n      <th>1</th>\n      <td>1</td>\n      <td>What is the city location of the high school l...</td>\n      <td>High school can be represented as EILCode = 'HS'</td>\n      <td>[\"city location\",\"high school\",\"level school\",...</td>\n    </tr>\n    <tr>\n      <th>2</th>\n      <td>2</td>\n      <td>Please give the full name of the tallest hero ...</td>\n      <td>the tallest hero refers to MAX(height_cm); pub...</td>\n      <td>[\"full name\",\"tallest hero\",\"Marvel Comics\",\"M...</td>\n    </tr>\n    <tr>\n      <th>3</th>\n      <td>3</td>\n      <td>How many elders obtained the \"Supporter\" badge?</td>\n      <td>\"Supporter\" is the Name of badge;elders refers...</td>\n      <td>[\"elders\",\"Supporter badge\",\"Name of badge\",\"A...</td>\n    </tr>\n    <tr>\n      <th>4</th>\n      <td>4</td>\n      <td>How many users from New York have a teacher an...</td>\n      <td>\"Supporter\" and \"Teachers\" are both Name of ba...</td>\n      <td>[\"users\",\"New York\",\"teacher badge\",\"supporter...</td>\n    </tr>\n    <tr>\n      <th>5</th>\n      <td>5</td>\n      <td>What is the description about the ruling of ca...</td>\n      <td>Ancestor's Chosen' is the name of card; descri...</td>\n      <td>[\"description\",\"ruling of card\",\"Condemn\",\"Anc...</td>\n    </tr>\n    <tr>\n      <th>6</th>\n      <td>6</td>\n      <td>How many double bonds does TR006 have and is i...</td>\n      <td>label = '+' mean molecules are carcinogenic; l...</td>\n      <td>[\"double bonds\",\"TR006\",\"carcinogenic\",\"label\"...</td>\n    </tr>\n    <tr>\n      <th>7</th>\n      <td>7</td>\n      <td>Write the full name of the club member with th...</td>\n      <td>full name refers to first_name, last name</td>\n      <td>[\"full name\",\"club member\",\"position\",\"Secreta...</td>\n    </tr>\n    <tr>\n      <th>8</th>\n      <td>8</td>\n      <td>Among all chemical compounds identified in the...</td>\n      <td>triple bond refers to bond_type = '#';</td>\n      <td>[\"chemical compounds\",\"percent of compounds\",\"...</td>\n    </tr>\n    <tr>\n      <th>9</th>\n      <td>9</td>\n      <td>What was the potiential for Francesco Parravic...</td>\n      <td>Francesco Parravicini refers to player_name = ...</td>\n      <td>[\"potiential\",\"Francesco Parravicini\",\"2010/8/...</td>\n    </tr>\n    <tr>\n      <th>10</th>\n      <td>10</td>\n      <td>How many male customers who are living in Nort...</td>\n      <td>Male means that gender = 'M'; A3 refers to reg...</td>\n      <td>[\"male customers\",\"North Bohemia\",\"average sal...</td>\n    </tr>\n    <tr>\n      <th>11</th>\n      <td>11</td>\n      <td>In which city can you find the school in the s...</td>\n      <td>State of California refers to state = 'CA'</td>\n      <td>[\"city\",\"school\",\"state of California\",\"lowest...</td>\n    </tr>\n    <tr>\n      <th>12</th>\n      <td>12</td>\n      <td>Among all chemical compounds that contain mole...</td>\n      <td>TR047 is the molecule id; double bond refers t...</td>\n      <td>[\"chemical compounds\",\"molecule TR047\",\"percen...</td>\n    </tr>\n    <tr>\n      <th>13</th>\n      <td>13</td>\n      <td>Which user added a bounty amount of 50 to the ...</td>\n      <td>\"bounty amount of 50 refers to BountyAmount = ...</td>\n      <td>[\"user\",\"bounty amount\",\"50\",\"post title\",\"var...</td>\n    </tr>\n    <tr>\n      <th>14</th>\n      <td>14</td>\n      <td>List out the dates that users who are located ...</td>\n      <td>\"Rochester, NY\" is the Location of user; user ...</td>\n      <td>[\"dates\",\"users\",\"Rochester, NY\",\"badges\",\"Loc...</td>\n    </tr>\n  </tbody>\n</table>\n</div>"
     },
     "execution_count": 6,
     "metadata": {},
     "output_type": "execute_result"
    }
   ],
   "source": [
    "# Step 4 : Extract Keywords \n",
    "annotated_df = pd.read_csv(\"C:/Users/yousf/Bureau/ConvergenceAI/CHESS_Impl/data/test/keywords_annotated_samples\")\n",
    "annotated_df\n"
   ],
   "metadata": {
    "collapsed": false,
    "ExecuteTime": {
     "end_time": "2024-08-01T21:43:52.662707Z",
     "start_time": "2024-08-01T21:43:52.643349Z"
    }
   },
   "id": "872effef3d0b3539",
   "execution_count": 6
  },
  {
   "cell_type": "code",
   "outputs": [],
   "source": [
    "\n",
    "def calculate_metrics(annotated_keywords, extracted_keywords):\n",
    "    \"\"\"\n",
    "    Calculates precision, recall, and F1-score.\n",
    "\n",
    "    Args:\n",
    "        annotated_keywords (List[str]): Manually annotated keywords.\n",
    "        extracted_keywords (List[str]): Keywords extracted by the model.\n",
    "\n",
    "    Returns:\n",
    "        Tuple[float, float, float]: Precision, recall, and F1-score.\n",
    "    \"\"\"\n",
    "    annotated_set = set(annotated_keywords)\n",
    "    extracted_set = set(extracted_keywords)\n",
    "\n",
    "    true_positives = len(annotated_set & extracted_set)\n",
    "    false_positives = len(extracted_set - annotated_set)\n",
    "    false_negatives = len(annotated_set - extracted_set)\n",
    "\n",
    "    precision = true_positives / (true_positives + false_positives) if (true_positives + false_positives) > 0 else 0\n",
    "    recall = true_positives / (true_positives + false_negatives) if (true_positives + false_negatives) > 0 else 0\n",
    "    f1 = 2 * (precision * recall) / (precision + recall) if (precision + recall) > 0 else 0\n",
    "\n",
    "    return precision, recall, f1\n",
    "\n",
    "\n",
    "def evaluate_models(df, models):\n",
    "    \"\"\"\n",
    "    Evaluates multiple models on the given DataFrame.\n",
    "\n",
    "    Args:\n",
    "        df (pd.DataFrame): The DataFrame containing questions, evidence, and manual annotations.\n",
    "        models (List[str]): List of model names to evaluate.\n",
    "\n",
    "    Returns:\n",
    "        pd.DataFrame: DataFrame with evaluation metrics for each model.\n",
    "    \"\"\"\n",
    "    results = []\n",
    "\n",
    "    for model in tqdm(models):\n",
    "        precisions, recalls, f1s = [], [], []\n",
    "\n",
    "        for index, row in tqdm(df.iterrows()):\n",
    "            task = create_task(random_samples[index])\n",
    "            extracted_keywords = keyword_extraction(task, model)\n",
    "            precision, recall, f1 = calculate_metrics(row['keywords_annotation'], extracted_keywords)\n",
    "            precisions.append(precision)\n",
    "            recalls.append(recall)\n",
    "            f1s.append(f1)\n",
    "\n",
    "        results.append({\n",
    "            'model': model,\n",
    "            'precision': np.mean(precisions),\n",
    "            'recall': np.mean(recalls),\n",
    "            'f1': np.mean(f1s)\n",
    "        })\n",
    "\n",
    "    return pd.DataFrame(results)\n"
   ],
   "metadata": {
    "collapsed": false,
    "ExecuteTime": {
     "end_time": "2024-08-01T21:43:56.227Z",
     "start_time": "2024-08-01T21:43:56.217286Z"
    }
   },
   "id": "fe4e3155c82fd387",
   "execution_count": 7
  },
  {
   "cell_type": "code",
   "outputs": [
    {
     "name": "stderr",
     "output_type": "stream",
     "text": [
      "  0%|          | 0/7 [00:00<?, ?it/s]\n",
      "0it [00:00, ?it/s]\u001B[A\n",
      "1it [00:01,  1.32s/it]\u001B[A\n",
      "2it [00:02,  1.26s/it]\u001B[A\n",
      "3it [00:03,  1.17s/it]\u001B[A\n",
      "4it [00:04,  1.02s/it]\u001B[A\n",
      "5it [00:05,  1.06s/it]\u001B[A\n",
      "6it [00:06,  1.01s/it]\u001B[A\n",
      "7it [00:06,  1.32it/s]\u001B[A\n",
      "8it [00:07,  1.23it/s]\u001B[A\n",
      "9it [00:08,  1.14it/s]\u001B[A\n",
      "10it [00:10,  1.09s/it]\u001B[A\n",
      "11it [00:11,  1.19s/it]\u001B[A\n",
      "12it [00:12,  1.20s/it]\u001B[A\n",
      "13it [00:14,  1.31s/it]\u001B[A\n",
      "14it [00:16,  1.46s/it]\u001B[A\n",
      "15it [00:17,  1.15s/it]\u001B[A\n",
      " 14%|█▍        | 1/7 [00:17<01:43, 17.29s/it]\n",
      "0it [00:00, ?it/s]\u001B[A\n",
      "1it [00:01,  1.14s/it]\u001B[A\n",
      "2it [00:04,  2.46s/it]\u001B[A\n",
      "3it [00:06,  2.45s/it]\u001B[A\n",
      "4it [00:08,  1.99s/it]\u001B[A\n",
      "5it [00:10,  1.91s/it]\u001B[A\n",
      "6it [00:11,  1.69s/it]\u001B[A\n",
      "7it [00:13,  1.81s/it]\u001B[A\n",
      "8it [00:14,  1.71s/it]\u001B[A\n",
      "9it [00:16,  1.63s/it]\u001B[A\n",
      "10it [00:18,  1.74s/it]\u001B[A\n",
      "11it [00:21,  2.11s/it]\u001B[A\n",
      "12it [00:22,  1.94s/it]\u001B[A\n",
      "13it [00:25,  2.09s/it]\u001B[A\n",
      "14it [00:26,  1.83s/it]\u001B[A\n",
      "15it [00:27,  1.85s/it]\u001B[A\n",
      " 29%|██▊       | 2/7 [00:45<01:57, 23.43s/it]\n",
      "0it [00:00, ?it/s]\u001B[A\n",
      "1it [00:00,  1.20it/s]\u001B[A\n",
      "2it [00:01,  1.02s/it]\u001B[A\n",
      "3it [00:02,  1.06it/s]\u001B[A\n",
      "4it [00:03,  1.16it/s]\u001B[A\n",
      "5it [00:04,  1.16it/s]\u001B[A\n",
      "6it [00:05,  1.15it/s]\u001B[A\n",
      "7it [00:06,  1.07it/s]\u001B[A\n",
      "8it [00:07,  1.11it/s]\u001B[A\n",
      "9it [00:08,  1.13it/s]\u001B[A\n",
      "10it [00:09,  1.08s/it]\u001B[A\n",
      "11it [00:11,  1.38s/it]\u001B[A\n",
      "12it [00:12,  1.25s/it]\u001B[A\n",
      "13it [00:13,  1.28s/it]\u001B[A\n",
      "14it [00:15,  1.33s/it]\u001B[A\n",
      "15it [00:16,  1.08s/it]\u001B[A\n",
      " 43%|████▎     | 3/7 [01:01<01:20, 20.14s/it]\n",
      "0it [00:00, ?it/s]\u001B[A\n",
      "1it [00:01,  1.81s/it]\u001B[A\n",
      "2it [00:03,  1.50s/it]\u001B[A\n",
      "3it [00:04,  1.58s/it]\u001B[A\n",
      "4it [00:06,  1.59s/it]\u001B[A\n",
      "5it [00:07,  1.40s/it]\u001B[A\n",
      "6it [00:08,  1.32s/it]\u001B[A\n",
      "7it [00:09,  1.23s/it]\u001B[A\n",
      "8it [00:10,  1.24s/it]\u001B[A\n",
      "9it [00:12,  1.37s/it]\u001B[A\n",
      "10it [00:13,  1.33s/it]\u001B[A\n",
      "11it [00:15,  1.39s/it]\u001B[A\n",
      "12it [00:17,  1.49s/it]\u001B[A\n",
      "13it [00:18,  1.41s/it]\u001B[A\n",
      "14it [00:19,  1.41s/it]\u001B[A\n",
      "15it [00:21,  1.41s/it]\u001B[A\n",
      " 57%|█████▋    | 4/7 [01:22<01:01, 20.53s/it]\n",
      "0it [00:00, ?it/s]\u001B[A\n",
      "1it [00:01,  1.38s/it]\u001B[A\n",
      "2it [00:02,  1.50s/it]\u001B[A\n",
      "3it [00:04,  1.43s/it]\u001B[A\n",
      "4it [00:06,  1.81s/it]\u001B[A\n",
      "5it [00:08,  1.64s/it]\u001B[A\n",
      "6it [00:09,  1.50s/it]\u001B[A\n",
      "7it [00:10,  1.49s/it]\u001B[A\n",
      "8it [00:13,  1.77s/it]\u001B[A\n",
      "9it [00:15,  2.07s/it]\u001B[A\n",
      "10it [00:17,  1.88s/it]\u001B[A\n",
      "11it [00:18,  1.76s/it]\u001B[A\n",
      "12it [00:20,  1.72s/it]\u001B[A\n",
      "13it [00:22,  1.76s/it]\u001B[A\n",
      "14it [00:23,  1.55s/it]\u001B[A\n",
      "15it [00:25,  1.70s/it]\u001B[A\n",
      " 71%|███████▏  | 5/7 [01:47<00:44, 22.34s/it]\n",
      "0it [00:00, ?it/s]\u001B[A\n",
      "1it [00:01,  1.42s/it]\u001B[A\n",
      "2it [00:03,  1.52s/it]\u001B[A\n",
      "3it [00:06,  2.47s/it]\u001B[A\n",
      "4it [00:07,  1.92s/it]\u001B[A\n",
      "5it [00:08,  1.60s/it]\u001B[A\n",
      "6it [00:09,  1.47s/it]\u001B[A\n",
      "7it [00:11,  1.39s/it]\u001B[A\n",
      "8it [00:12,  1.30s/it]\u001B[A\n",
      "9it [00:13,  1.19s/it]\u001B[A\n",
      "10it [00:15,  1.39s/it]\u001B[A\n",
      "11it [00:16,  1.45s/it]\u001B[A\n",
      "12it [00:18,  1.43s/it]\u001B[A\n",
      "13it [00:19,  1.47s/it]\u001B[A\n",
      "14it [00:20,  1.42s/it]\u001B[A\n",
      "15it [00:22,  1.48s/it]\u001B[A\n",
      " 86%|████████▌ | 6/7 [02:10<00:22, 22.30s/it]\n",
      "0it [00:00, ?it/s]\u001B[A\n",
      "1it [00:01,  1.89s/it]\u001B[A\n",
      "2it [00:06,  3.21s/it]\u001B[A\n",
      "3it [00:08,  2.85s/it]\u001B[A\n",
      "4it [00:10,  2.55s/it]\u001B[A\n",
      "5it [00:14,  2.99s/it]\u001B[A\n",
      "6it [00:15,  2.50s/it]\u001B[A\n",
      "7it [00:18,  2.42s/it]\u001B[A\n",
      "8it [00:20,  2.33s/it]\u001B[A\n",
      "9it [00:22,  2.29s/it]\u001B[A\n",
      "10it [00:24,  2.22s/it]\u001B[A\n",
      "11it [00:27,  2.35s/it]\u001B[A\n",
      "12it [00:29,  2.29s/it]\u001B[A\n",
      "13it [00:33,  2.99s/it]\u001B[A\n",
      "14it [00:36,  2.74s/it]\u001B[A\n",
      "15it [00:38,  2.54s/it]\u001B[A\n",
      "100%|██████████| 7/7 [02:48<00:00, 24.04s/it]\n"
     ]
    },
    {
     "data": {
      "text/plain": "         model  precision    recall        f1\n0      llama-3   0.728704  0.711166  0.711022\n1      mixtral   0.681208  0.725570  0.687429\n2        phi-3   0.796402  0.693612  0.737280\n3       gpt-4o   0.791931  0.810981  0.792995\n4  gpt-4o-mini   0.787317  0.772900  0.773166\n5      gpt-3.5   0.732407  0.672244  0.695025\n6        gpt-4   0.839408  0.841635  0.835058",
      "text/html": "<div>\n<style scoped>\n    .dataframe tbody tr th:only-of-type {\n        vertical-align: middle;\n    }\n\n    .dataframe tbody tr th {\n        vertical-align: top;\n    }\n\n    .dataframe thead th {\n        text-align: right;\n    }\n</style>\n<table border=\"1\" class=\"dataframe\">\n  <thead>\n    <tr style=\"text-align: right;\">\n      <th></th>\n      <th>model</th>\n      <th>precision</th>\n      <th>recall</th>\n      <th>f1</th>\n    </tr>\n  </thead>\n  <tbody>\n    <tr>\n      <th>0</th>\n      <td>llama-3</td>\n      <td>0.728704</td>\n      <td>0.711166</td>\n      <td>0.711022</td>\n    </tr>\n    <tr>\n      <th>1</th>\n      <td>mixtral</td>\n      <td>0.681208</td>\n      <td>0.725570</td>\n      <td>0.687429</td>\n    </tr>\n    <tr>\n      <th>2</th>\n      <td>phi-3</td>\n      <td>0.796402</td>\n      <td>0.693612</td>\n      <td>0.737280</td>\n    </tr>\n    <tr>\n      <th>3</th>\n      <td>gpt-4o</td>\n      <td>0.791931</td>\n      <td>0.810981</td>\n      <td>0.792995</td>\n    </tr>\n    <tr>\n      <th>4</th>\n      <td>gpt-4o-mini</td>\n      <td>0.787317</td>\n      <td>0.772900</td>\n      <td>0.773166</td>\n    </tr>\n    <tr>\n      <th>5</th>\n      <td>gpt-3.5</td>\n      <td>0.732407</td>\n      <td>0.672244</td>\n      <td>0.695025</td>\n    </tr>\n    <tr>\n      <th>6</th>\n      <td>gpt-4</td>\n      <td>0.839408</td>\n      <td>0.841635</td>\n      <td>0.835058</td>\n    </tr>\n  </tbody>\n</table>\n</div>"
     },
     "execution_count": 8,
     "metadata": {},
     "output_type": "execute_result"
    }
   ],
   "source": [
    "import ast\n",
    "\n",
    "models = ['llama-3', 'mixtral', 'phi-3', 'gpt-4o', 'gpt-4o-mini', 'gpt-3.5', 'gpt-4', ]\n",
    "annotated_df['keywords_annotation'] = annotated_df['keywords_annotation'].apply(\n",
    "    lambda x: ast.literal_eval(x) if isinstance(x, str) else x)\n",
    "\n",
    "res = evaluate_models(annotated_df, models)\n",
    "res"
   ],
   "metadata": {
    "collapsed": false,
    "ExecuteTime": {
     "end_time": "2024-08-01T21:46:46.675774Z",
     "start_time": "2024-08-01T21:43:58.340680Z"
    }
   },
   "id": "e395bf106dcc3e31",
   "execution_count": 8
  },
  {
   "cell_type": "code",
   "outputs": [],
   "source": [
    "# Plotting the results\n",
    "def plot_evaluation_results(results):\n",
    "    \"\"\"\n",
    "    Plots the precision, recall, and F1-score for different models.\n",
    "    \n",
    "    Args:\n",
    "        results (pd.DataFrame): DataFrame containing the evaluation metrics for each model.\n",
    "    \"\"\"\n",
    "    # Set up the matplotlib figure\n",
    "    plt.figure(figsize=(14, 7))\n",
    "\n",
    "    # Convert the DataFrame to long format for easier plotting with seaborn\n",
    "    results_long = pd.melt(results, id_vars=['model'], value_vars=['precision', 'recall', 'f1'],\n",
    "                           var_name='metric', value_name='value')\n",
    "\n",
    "    # Create the plot\n",
    "    sns.barplot(x='model', y='value', hue='metric', data=results_long)\n",
    "\n",
    "    # Add titles and labels\n",
    "    plt.title('Model Evaluation Metrics')\n",
    "    plt.xlabel('Model')\n",
    "    plt.ylabel('Score')\n",
    "    plt.xticks(rotation=45)\n",
    "    plt.legend(title='Metric')\n",
    "\n",
    "    # Display the plot\n",
    "    plt.tight_layout()\n",
    "    plt.show()"
   ],
   "metadata": {
    "collapsed": false,
    "ExecuteTime": {
     "end_time": "2024-08-01T21:46:46.697406Z",
     "start_time": "2024-08-01T21:46:46.680787Z"
    }
   },
   "id": "ec415a635e943b6f",
   "execution_count": 9
  },
  {
   "cell_type": "code",
   "outputs": [
    {
     "data": {
      "text/plain": "<Figure size 1400x700 with 1 Axes>",
      "image/png": "[encoded data removed]"
     },
     "metadata": {},
     "output_type": "display_data"
    }
   ],
   "source": [
    "plot_evaluation_results(res)"
   ],
   "metadata": {
    "collapsed": false,
    "ExecuteTime": {
     "end_time": "2024-08-01T21:46:47.404674Z",
     "start_time": "2024-08-01T21:46:46.698429Z"
    }
   },
   "id": "f51033ce98cd1be6",
   "execution_count": 10
  },
  {
   "cell_type": "markdown",
   "source": [
    "## Cost Estimation per task"
   ],
   "metadata": {
    "collapsed": false
   },
   "id": "c6ea1c232255ba15"
  },
  {
   "cell_type": "markdown",
   "source": [
    "### gpt-4-turbo Pricing : \n",
    "- 10.00 / 1 million input tokens (or 0.01 / 1K input tokens)\n",
    "\n",
    "- 30.00 / 1 million output tokens (or 0.03 / 1K output tokens) \n",
    "### gpt-3.5-turbo Pricing : \n",
    "- 1.50 / 1M input tokens (or 0.0015 / 1K input tokens)\n",
    "- 2.00 / 1M output tokens (or 0.002 / 1K output tokens)\n"
   ],
   "metadata": {
    "collapsed": false
   },
   "id": "c08a070b85fc334a"
  },
  {
   "cell_type": "code",
   "outputs": [],
   "source": [
    "\n",
    "PROMPT_PATH = os.getenv(\"PROMPT_ROOT_PATH\") + \"\\keyword_extraction.txt\"\n",
    "prompt = load_prompt(PROMPT_PATH)"
   ],
   "metadata": {
    "collapsed": false,
    "ExecuteTime": {
     "end_time": "2024-08-22T08:35:52.100215Z",
     "start_time": "2024-08-22T08:35:52.067273Z"
    }
   },
   "id": "9696e42e2287e92",
   "execution_count": 1
  },
  {
   "cell_type": "code",
   "outputs": [],
   "source": [
    "def tokens_calc(example):\n",
    "    encoding = tiktoken.get_encoding(\"cl100k_base\")\n",
    "    num_tokens = len(encoding.encode(example))\n",
    "    return num_tokens"
   ],
   "metadata": {
    "collapsed": false,
    "ExecuteTime": {
     "end_time": "2024-08-22T08:41:35.583251Z",
     "start_time": "2024-08-22T08:41:35.577352Z"
    }
   },
   "id": "a650f97e3ee4756f",
   "execution_count": 4
  },
  {
   "cell_type": "code",
   "outputs": [
    {
     "data": {
      "text/plain": "650"
     },
     "execution_count": 5,
     "metadata": {},
     "output_type": "execute_result"
    }
   ],
   "source": [
    "tokens_calc(prompt)"
   ],
   "metadata": {
    "collapsed": false,
    "ExecuteTime": {
     "end_time": "2024-08-22T08:41:36.460035Z",
     "start_time": "2024-08-22T08:41:36.416513Z"
    }
   },
   "id": "b40831d44458070a",
   "execution_count": 5
  },
  {
   "cell_type": "markdown",
   "source": [
    "The minimum number of tokens in the prompt is 650, and it has 2 variables Question and Hint.\n",
    "So let's suppose that the final prompt after formatting will contain 700 tokens. "
   ],
   "metadata": {
    "collapsed": false
   },
   "id": "c6f8e3fa7042ef8e"
  },
  {
   "cell_type": "markdown",
   "source": [
    "For the output token estimation we will take an output example and suppose from it the average number of tokens from the output"
   ],
   "metadata": {
    "collapsed": false
   },
   "id": "3db41be3407473b9"
  },
  {
   "cell_type": "code",
   "outputs": [
    {
     "data": {
      "text/plain": "21"
     },
     "execution_count": 6,
     "metadata": {},
     "output_type": "execute_result"
    }
   ],
   "source": [
    "output_example = \"['accounts opened', 'Litomerice', '1996', 'A2', 'district name']\"\n",
    "tokens_calc(output_example)"
   ],
   "metadata": {
    "collapsed": false,
    "ExecuteTime": {
     "end_time": "2024-08-22T08:49:20.986395Z",
     "start_time": "2024-08-22T08:49:20.906996Z"
    }
   },
   "id": "b1d7e20a10308358",
   "execution_count": 6
  },
  {
   "cell_type": "markdown",
   "source": [
    "Suppose the number of tokens in the output is 30 "
   ],
   "metadata": {
    "collapsed": false
   },
   "id": "c9ea630c86bd7387"
  },
  {
   "cell_type": "code",
   "outputs": [
    {
     "name": "stdout",
     "output_type": "stream",
     "text": [
      "estimated price per task(GPT-4): 0.0079 $\n",
      "estimated price per task(GPT-3.5): 0.0011099999999999999 $\n"
     ]
    }
   ],
   "source": [
    "## Price calculation per task\n",
    "input_price_per_token_gpt4 = 0.01 / 1000\n",
    "output_price_per_token_gpt4 = 0.03 / 1000\n",
    "input_price_per_token_gpt3 = 0.0015 / 1000\n",
    "output_price_per_token_gpt3 = 0.002 / 1000\n",
    "price_gpt4 = 700 * input_price_per_token_gpt4 + 30 * output_price_per_token_gpt4\n",
    "price_gpt3 = 700 * input_price_per_token_gpt3 + 30 *output_price_per_token_gpt3\n",
    "print(\"estimated price per task(GPT-4):\", price_gpt4, \"$\")\n",
    "print(\"estimated price per task(GPT-3.5):\", price_gpt3, \"$\")"
   ],
   "metadata": {
    "collapsed": false,
    "ExecuteTime": {
     "end_time": "2024-08-22T09:29:44.790626Z",
     "start_time": "2024-08-22T09:29:44.784074Z"
    }
   },
   "id": "e74f372ec207e8cf",
   "execution_count": 12
  },
  {
   "cell_type": "code",
   "outputs": [],
   "source": [],
   "metadata": {
    "collapsed": false
   },
   "id": "ce3b30a38b8d5afd"
  }
 ],
 "metadata": {
  "kernelspec": {
   "display_name": "Python 3",
   "language": "python",
   "name": "python3"
  },
  "language_info": {
   "codemirror_mode": {
    "name": "ipython",
    "version": 2
   },
   "file_extension": ".py",
   "mimetype": "text/x-python",
   "name": "python",
   "nbconvert_exporter": "python",
   "pygments_lexer": "ipython2",
   "version": "2.7.6"
  }
 },
 "nbformat": 4,
 "nbformat_minor": 5
}
