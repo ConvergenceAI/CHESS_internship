{
 "cells": [
  {
   "cell_type": "markdown",
   "source": [
    "In this notebook we will process the database data before the 2 steps entity retrieval and context retrieval"
   ],
   "metadata": {
    "collapsed": false
   },
   "id": "574479325dfb4c01"
  },
  {
   "cell_type": "markdown",
   "source": [
    "## 1-LSH"
   ],
   "metadata": {
    "collapsed": false
   },
   "id": "631e37daf1d80efc"
  },
  {
   "cell_type": "code",
   "outputs": [],
   "source": [
    "# IMPORTS\n",
    "from dotenv import load_dotenv\n",
    "import os\n",
    "from pathlib import Path\n",
    "from src.preprocess.database_lsh import make_db_lsh\n"
   ],
   "metadata": {
    "collapsed": false,
    "ExecuteTime": {
     "end_time": "2024-07-19T17:01:11.795179Z",
     "start_time": "2024-07-19T17:01:11.789108Z"
    }
   },
   "id": "dbb3303e3a5d7218",
   "execution_count": 6
  },
  {
   "cell_type": "code",
   "outputs": [
    {
     "data": {
      "text/plain": "True"
     },
     "execution_count": 7,
     "metadata": {},
     "output_type": "execute_result"
    }
   ],
   "source": [
    "load_dotenv()"
   ],
   "metadata": {
    "collapsed": false,
    "ExecuteTime": {
     "end_time": "2024-07-19T17:01:14.667937Z",
     "start_time": "2024-07-19T17:01:14.619014Z"
    }
   },
   "id": "1372fe5a5332728b",
   "execution_count": 7
  },
  {
   "cell_type": "code",
   "outputs": [
    {
     "name": "stdout",
     "output_type": "stream",
     "text": [
      "C:\\Users\\yousf\\Bureau\\ConvergenceAI\\CHESS_Impl\\data\\dev_databases\\california_schools\n"
     ]
    },
    {
     "name": "stderr",
     "output_type": "stream",
     "text": [
      "100%|██████████| 3/3 [00:01<00:00,  1.82it/s]\n",
      "Creating LSH: 100%|██████████| 139757/139757 [00:55<00:00, 2507.32it/s]\n"
     ]
    },
    {
     "name": "stdout",
     "output_type": "stream",
     "text": [
      "C:\\Users\\yousf\\Bureau\\ConvergenceAI\\CHESS_Impl\\data\\dev_databases\\card_games\n"
     ]
    },
    {
     "name": "stderr",
     "output_type": "stream",
     "text": [
      "100%|██████████| 7/7 [00:21<00:00,  3.12s/it]\n",
      "Creating LSH: 100%|██████████| 519415/519415 [03:10<00:00, 2731.13it/s]\n"
     ]
    },
    {
     "name": "stdout",
     "output_type": "stream",
     "text": [
      "C:\\Users\\yousf\\Bureau\\ConvergenceAI\\CHESS_Impl\\data\\dev_databases\\codebase_community\n"
     ]
    },
    {
     "name": "stderr",
     "output_type": "stream",
     "text": [
      "100%|██████████| 8/8 [00:58<00:00,  7.34s/it]\n",
      "Creating LSH: 100%|██████████| 43052/43052 [00:15<00:00, 2825.02it/s]\n"
     ]
    },
    {
     "name": "stdout",
     "output_type": "stream",
     "text": [
      "C:\\Users\\yousf\\Bureau\\ConvergenceAI\\CHESS_Impl\\data\\dev_databases\\debit_card_specializing\n"
     ]
    },
    {
     "name": "stderr",
     "output_type": "stream",
     "text": [
      "100%|██████████| 6/6 [00:00<00:00, 70.06it/s]\n",
      "Creating LSH: 100%|██████████| 541/541 [00:00<00:00, 2476.57it/s]\n"
     ]
    },
    {
     "name": "stdout",
     "output_type": "stream",
     "text": [
      "C:\\Users\\yousf\\Bureau\\ConvergenceAI\\CHESS_Impl\\data\\dev_databases\\european_football_2\n"
     ]
    },
    {
     "name": "stderr",
     "output_type": "stream",
     "text": [
      "100%|██████████| 8/8 [00:13<00:00,  1.65s/it]\n",
      "Creating LSH: 100%|██████████| 17257/17257 [00:12<00:00, 1411.26it/s]\n"
     ]
    },
    {
     "name": "stdout",
     "output_type": "stream",
     "text": [
      "C:\\Users\\yousf\\Bureau\\ConvergenceAI\\CHESS_Impl\\data\\dev_databases\\financial\n"
     ]
    },
    {
     "name": "stderr",
     "output_type": "stream",
     "text": [
      "100%|██████████| 8/8 [00:03<00:00,  2.53it/s]\n",
      "Creating LSH: 100%|██████████| 329/329 [00:00<00:00, 3142.91it/s]\n"
     ]
    },
    {
     "name": "stdout",
     "output_type": "stream",
     "text": [
      "C:\\Users\\yousf\\Bureau\\ConvergenceAI\\CHESS_Impl\\data\\dev_databases\\formula_1\n"
     ]
    },
    {
     "name": "stderr",
     "output_type": "stream",
     "text": [
      "100%|██████████| 14/14 [00:00<00:00, 53.56it/s]\n",
      "Creating LSH: 100%|██████████| 25105/25105 [00:09<00:00, 2595.67it/s]\n"
     ]
    },
    {
     "name": "stdout",
     "output_type": "stream",
     "text": [
      "C:\\Users\\yousf\\Bureau\\ConvergenceAI\\CHESS_Impl\\data\\dev_databases\\student_club\n"
     ]
    },
    {
     "name": "stderr",
     "output_type": "stream",
     "text": [
      "100%|██████████| 8/8 [00:00<00:00, 45.82it/s]\n",
      "Creating LSH: 100%|██████████| 21237/21237 [00:07<00:00, 2905.13it/s]\n"
     ]
    },
    {
     "name": "stdout",
     "output_type": "stream",
     "text": [
      "C:\\Users\\yousf\\Bureau\\ConvergenceAI\\CHESS_Impl\\data\\dev_databases\\superhero\n"
     ]
    },
    {
     "name": "stderr",
     "output_type": "stream",
     "text": [
      "100%|██████████| 10/10 [00:00<00:00, 666.65it/s]\n",
      "Creating LSH: 100%|██████████| 1527/1527 [00:00<00:00, 3027.98it/s]\n"
     ]
    },
    {
     "name": "stdout",
     "output_type": "stream",
     "text": [
      "C:\\Users\\yousf\\Bureau\\ConvergenceAI\\CHESS_Impl\\data\\dev_databases\\thrombosis_prediction\n"
     ]
    },
    {
     "name": "stderr",
     "output_type": "stream",
     "text": [
      "100%|██████████| 3/3 [00:00<00:00, 19.74it/s]\n",
      "Creating LSH: 100%|██████████| 1702/1702 [00:00<00:00, 3210.00it/s]\n"
     ]
    },
    {
     "name": "stdout",
     "output_type": "stream",
     "text": [
      "C:\\Users\\yousf\\Bureau\\ConvergenceAI\\CHESS_Impl\\data\\dev_databases\\toxicology\n"
     ]
    },
    {
     "name": "stderr",
     "output_type": "stream",
     "text": [
      "100%|██████████| 4/4 [00:00<00:00, 29.59it/s]\n",
      "Creating LSH: 100%|██████████| 13293/13293 [00:04<00:00, 3085.51it/s]\n"
     ]
    }
   ],
   "source": [
    "# Set the path to the data folder\n",
    "databases_folder_path = Path(os.getenv(\"DB_ROOT_PATH\"))\n",
    "\n",
    "# Set the parameters for MinHash LSH creation\n",
    "signature_size = 20\n",
    "n_gram = 3\n",
    "threshold = 0.01\n",
    "\n",
    "# Iterate through each database\n",
    "for db_folder in databases_folder_path.iterdir():\n",
    "    print(db_folder)\n",
    "    if db_folder.is_dir():  # Check if it is a directory\n",
    "        make_db_lsh(db_folder, signature_size=signature_size, n_gram=n_gram, threshold=threshold)\n",
    "\n"
   ],
   "metadata": {
    "collapsed": false,
    "ExecuteTime": {
     "end_time": "2024-07-18T22:58:33.254655Z",
     "start_time": "2024-07-18T22:51:19.815035Z"
    }
   },
   "id": "35b3e97801d26cd7",
   "execution_count": 3
  },
  {
   "cell_type": "markdown",
   "source": [
    "## 2-Vector Database\n"
   ],
   "metadata": {
    "collapsed": false
   },
   "id": "c74df2946964cda1"
  },
  {
   "cell_type": "code",
   "outputs": [
    {
     "data": {
      "text/plain": "True"
     },
     "execution_count": 2,
     "metadata": {},
     "output_type": "execute_result"
    }
   ],
   "source": [
    "#IMPORTs\n",
    "from dotenv import load_dotenv\n",
    "import os\n",
    "from pathlib import Path\n",
    "from tqdm import tqdm\n",
    "from src.preprocess.vector_database import make_context_vec_db\n",
    "\n",
    "load_dotenv()"
   ],
   "metadata": {
    "collapsed": false,
    "ExecuteTime": {
     "end_time": "2024-08-06T17:08:31.887801Z",
     "start_time": "2024-08-06T17:08:26.157653Z"
    }
   },
   "id": "2e0b8e96b6605aca",
   "execution_count": 2
  },
  {
   "cell_type": "code",
   "outputs": [
    {
     "name": "stderr",
     "output_type": "stream",
     "text": [
      "0it [00:00, ?it/s]"
     ]
    },
    {
     "name": "stdout",
     "output_type": "stream",
     "text": [
      "C:\\Users\\yousf\\Bureau\\ConvergenceAI\\CHESS_Impl\\data\\dev_databases\\california_schools\n"
     ]
    },
    {
     "name": "stderr",
     "output_type": "stream",
     "text": [
      "1it [00:25, 25.30s/it]"
     ]
    },
    {
     "name": "stdout",
     "output_type": "stream",
     "text": [
      "C:\\Users\\yousf\\Bureau\\ConvergenceAI\\CHESS_Impl\\data\\dev_databases\\card_games\n"
     ]
    },
    {
     "name": "stderr",
     "output_type": "stream",
     "text": [
      "2it [00:33, 15.31s/it]"
     ]
    },
    {
     "name": "stdout",
     "output_type": "stream",
     "text": [
      "C:\\Users\\yousf\\Bureau\\ConvergenceAI\\CHESS_Impl\\data\\dev_databases\\codebase_community\n"
     ]
    },
    {
     "name": "stderr",
     "output_type": "stream",
     "text": [
      "3it [00:40, 11.50s/it]"
     ]
    },
    {
     "name": "stdout",
     "output_type": "stream",
     "text": [
      "C:\\Users\\yousf\\Bureau\\ConvergenceAI\\CHESS_Impl\\data\\dev_databases\\debit_card_specializing\n"
     ]
    },
    {
     "name": "stderr",
     "output_type": "stream",
     "text": [
      "4it [00:42,  7.83s/it]"
     ]
    },
    {
     "name": "stdout",
     "output_type": "stream",
     "text": [
      "C:\\Users\\yousf\\Bureau\\ConvergenceAI\\CHESS_Impl\\data\\dev_databases\\european_football_2\n"
     ]
    },
    {
     "name": "stderr",
     "output_type": "stream",
     "text": [
      "5it [00:55,  9.47s/it]"
     ]
    },
    {
     "name": "stdout",
     "output_type": "stream",
     "text": [
      "C:\\Users\\yousf\\Bureau\\ConvergenceAI\\CHESS_Impl\\data\\dev_databases\\financial\n"
     ]
    },
    {
     "name": "stderr",
     "output_type": "stream",
     "text": [
      "6it [01:00,  8.00s/it]"
     ]
    },
    {
     "name": "stdout",
     "output_type": "stream",
     "text": [
      "C:\\Users\\yousf\\Bureau\\ConvergenceAI\\CHESS_Impl\\data\\dev_databases\\formula_1\n"
     ]
    },
    {
     "name": "stderr",
     "output_type": "stream",
     "text": [
      "7it [01:07,  7.86s/it]"
     ]
    },
    {
     "name": "stdout",
     "output_type": "stream",
     "text": [
      "C:\\Users\\yousf\\Bureau\\ConvergenceAI\\CHESS_Impl\\data\\dev_databases\\student_club\n"
     ]
    },
    {
     "name": "stderr",
     "output_type": "stream",
     "text": [
      "8it [01:14,  7.46s/it]"
     ]
    },
    {
     "name": "stdout",
     "output_type": "stream",
     "text": [
      "C:\\Users\\yousf\\Bureau\\ConvergenceAI\\CHESS_Impl\\data\\dev_databases\\superhero\n"
     ]
    },
    {
     "name": "stderr",
     "output_type": "stream",
     "text": [
      "9it [01:17,  5.93s/it]"
     ]
    },
    {
     "name": "stdout",
     "output_type": "stream",
     "text": [
      "C:\\Users\\yousf\\Bureau\\ConvergenceAI\\CHESS_Impl\\data\\dev_databases\\thrombosis_prediction\n"
     ]
    },
    {
     "name": "stderr",
     "output_type": "stream",
     "text": [
      "10it [01:24,  6.44s/it]"
     ]
    },
    {
     "name": "stdout",
     "output_type": "stream",
     "text": [
      "C:\\Users\\yousf\\Bureau\\ConvergenceAI\\CHESS_Impl\\data\\dev_databases\\toxicology\n"
     ]
    },
    {
     "name": "stderr",
     "output_type": "stream",
     "text": [
      "11it [01:28,  8.01s/it]\n"
     ]
    }
   ],
   "source": [
    "# Set the path to the data folder\n",
    "databases_folder_path = Path(os.getenv(\"DB_ROOT_PATH\"))\n",
    "\n",
    "# Iterate through each database\n",
    "for db_folder in tqdm(databases_folder_path.iterdir()):\n",
    "    print(db_folder)\n",
    "    if db_folder.is_dir():  # Check if it is a directory\n",
    "        make_context_vec_db(db_folder)"
   ],
   "metadata": {
    "collapsed": false,
    "ExecuteTime": {
     "end_time": "2024-08-06T17:10:58.913451Z",
     "start_time": "2024-08-06T17:09:30.723228Z"
    }
   },
   "id": "277137ded88bedbe",
   "execution_count": 3
  },
  {
   "cell_type": "markdown",
   "source": [
    "## 3-Tables Descriptions"
   ],
   "metadata": {
    "collapsed": false
   },
   "id": "cd361fa56622f84"
  },
  {
   "cell_type": "code",
   "outputs": [
    {
     "data": {
      "text/plain": "True"
     },
     "execution_count": 2,
     "metadata": {},
     "output_type": "execute_result"
    }
   ],
   "source": [
    "#IMPORTs\n",
    "from dotenv import load_dotenv\n",
    "import os\n",
    "from pathlib import Path\n",
    "from tqdm import tqdm\n",
    "from src.preprocess.vector_database import load_tables_description\n",
    "import json\n",
    "load_dotenv()"
   ],
   "metadata": {
    "collapsed": false,
    "ExecuteTime": {
     "end_time": "2024-08-08T14:17:48.955483Z",
     "start_time": "2024-08-08T14:17:48.877690Z"
    }
   },
   "id": "91971efe55ccee21",
   "execution_count": 2
  },
  {
   "cell_type": "code",
   "outputs": [
    {
     "name": "stderr",
     "output_type": "stream",
     "text": [
      "Processing Databases: 0it [00:00, ?it/s]"
     ]
    },
    {
     "name": "stdout",
     "output_type": "stream",
     "text": [
      "Processing C:\\Users\\yousf\\Bureau\\ConvergenceAI\\CHESS_Impl\\data\\dev_databases\\california_schools...\n"
     ]
    },
    {
     "name": "stderr",
     "output_type": "stream",
     "text": [
      "Processing Databases: 2it [00:00,  5.03it/s]"
     ]
    },
    {
     "name": "stdout",
     "output_type": "stream",
     "text": [
      "Saved table descriptions to C:\\Users\\yousf\\Bureau\\ConvergenceAI\\CHESS_Impl\\data\\dev_databases\\california_schools\\database_description\\tables_descriptions.json\n",
      "Processing C:\\Users\\yousf\\Bureau\\ConvergenceAI\\CHESS_Impl\\data\\dev_databases\\card_games...\n",
      "Saved table descriptions to C:\\Users\\yousf\\Bureau\\ConvergenceAI\\CHESS_Impl\\data\\dev_databases\\card_games\\database_description\\tables_descriptions.json\n",
      "Processing C:\\Users\\yousf\\Bureau\\ConvergenceAI\\CHESS_Impl\\data\\dev_databases\\codebase_community...\n"
     ]
    },
    {
     "name": "stderr",
     "output_type": "stream",
     "text": [
      "Processing Databases: 4it [00:00,  7.47it/s]"
     ]
    },
    {
     "name": "stdout",
     "output_type": "stream",
     "text": [
      "Saved table descriptions to C:\\Users\\yousf\\Bureau\\ConvergenceAI\\CHESS_Impl\\data\\dev_databases\\codebase_community\\database_description\\tables_descriptions.json\n",
      "Processing C:\\Users\\yousf\\Bureau\\ConvergenceAI\\CHESS_Impl\\data\\dev_databases\\debit_card_specializing...\n",
      "Saved table descriptions to C:\\Users\\yousf\\Bureau\\ConvergenceAI\\CHESS_Impl\\data\\dev_databases\\debit_card_specializing\\database_description\\tables_descriptions.json\n",
      "Processing C:\\Users\\yousf\\Bureau\\ConvergenceAI\\CHESS_Impl\\data\\dev_databases\\european_football_2...\n"
     ]
    },
    {
     "name": "stderr",
     "output_type": "stream",
     "text": [
      "Processing Databases: 6it [00:00,  7.30it/s]"
     ]
    },
    {
     "name": "stdout",
     "output_type": "stream",
     "text": [
      "Saved table descriptions to C:\\Users\\yousf\\Bureau\\ConvergenceAI\\CHESS_Impl\\data\\dev_databases\\european_football_2\\database_description\\tables_descriptions.json\n",
      "Processing C:\\Users\\yousf\\Bureau\\ConvergenceAI\\CHESS_Impl\\data\\dev_databases\\financial...\n",
      "Saved table descriptions to C:\\Users\\yousf\\Bureau\\ConvergenceAI\\CHESS_Impl\\data\\dev_databases\\financial\\database_description\\tables_descriptions.json\n",
      "Processing C:\\Users\\yousf\\Bureau\\ConvergenceAI\\CHESS_Impl\\data\\dev_databases\\formula_1...\n"
     ]
    },
    {
     "name": "stderr",
     "output_type": "stream",
     "text": [
      "Processing Databases: 9it [00:01,  8.28it/s]"
     ]
    },
    {
     "name": "stdout",
     "output_type": "stream",
     "text": [
      "Saved table descriptions to C:\\Users\\yousf\\Bureau\\ConvergenceAI\\CHESS_Impl\\data\\dev_databases\\formula_1\\database_description\\tables_descriptions.json\n",
      "Processing C:\\Users\\yousf\\Bureau\\ConvergenceAI\\CHESS_Impl\\data\\dev_databases\\student_club...\n",
      "Saved table descriptions to C:\\Users\\yousf\\Bureau\\ConvergenceAI\\CHESS_Impl\\data\\dev_databases\\student_club\\database_description\\tables_descriptions.json\n",
      "Processing C:\\Users\\yousf\\Bureau\\ConvergenceAI\\CHESS_Impl\\data\\dev_databases\\superhero...\n",
      "Saved table descriptions to C:\\Users\\yousf\\Bureau\\ConvergenceAI\\CHESS_Impl\\data\\dev_databases\\superhero\\database_description\\tables_descriptions.json\n"
     ]
    },
    {
     "name": "stderr",
     "output_type": "stream",
     "text": [
      "Processing Databases: 11it [00:01,  8.01it/s]"
     ]
    },
    {
     "name": "stdout",
     "output_type": "stream",
     "text": [
      "Processing C:\\Users\\yousf\\Bureau\\ConvergenceAI\\CHESS_Impl\\data\\dev_databases\\thrombosis_prediction...\n",
      "Saved table descriptions to C:\\Users\\yousf\\Bureau\\ConvergenceAI\\CHESS_Impl\\data\\dev_databases\\thrombosis_prediction\\database_description\\tables_descriptions.json\n",
      "Processing C:\\Users\\yousf\\Bureau\\ConvergenceAI\\CHESS_Impl\\data\\dev_databases\\toxicology...\n",
      "Saved table descriptions to C:\\Users\\yousf\\Bureau\\ConvergenceAI\\CHESS_Impl\\data\\dev_databases\\toxicology\\database_description\\tables_descriptions.json\n"
     ]
    },
    {
     "name": "stderr",
     "output_type": "stream",
     "text": [
      "\n"
     ]
    }
   ],
   "source": [
    "\n",
    "\n",
    "# Set the path to the data folder\n",
    "databases_folder_path = Path(os.getenv(\"DB_ROOT_PATH\"))\n",
    "\n",
    "# Iterate through each database\n",
    "for db_folder in tqdm(databases_folder_path.iterdir(), desc=\"Processing Databases\"):\n",
    "    if db_folder.is_dir():  # Check if it is a directory\n",
    "        print(f\"Processing {db_folder}...\")\n",
    "\n",
    "        # Load table descriptions\n",
    "        table_description = load_tables_description(db_folder)\n",
    "        \n",
    "        # Set up the output file path\n",
    "        output_file_path = db_folder / \"database_description\" / \"tables_descriptions.json\"\n",
    "\n",
    "        # Save the table descriptions to a JSON file\n",
    "        with open(output_file_path, \"w\") as json_file:\n",
    "            json.dump(table_description, json_file, indent=4)\n",
    "\n",
    "        print(f\"Saved table descriptions to {output_file_path}\")"
   ],
   "metadata": {
    "collapsed": false,
    "ExecuteTime": {
     "end_time": "2024-08-08T14:17:51.427801Z",
     "start_time": "2024-08-08T14:17:49.941155Z"
    }
   },
   "id": "9ba7e5f40b666195",
   "execution_count": 3
  },
  {
   "cell_type": "code",
   "outputs": [],
   "source": [],
   "metadata": {
    "collapsed": false
   },
   "id": "190c4317a3f39b92"
  }
 ],
 "metadata": {
  "kernelspec": {
   "display_name": "Python 3",
   "language": "python",
   "name": "python3"
  },
  "language_info": {
   "codemirror_mode": {
    "name": "ipython",
    "version": 2
   },
   "file_extension": ".py",
   "mimetype": "text/x-python",
   "name": "python",
   "nbconvert_exporter": "python",
   "pygments_lexer": "ipython2",
   "version": "2.7.6"
  }
 },
 "nbformat": 4,
 "nbformat_minor": 5
}
