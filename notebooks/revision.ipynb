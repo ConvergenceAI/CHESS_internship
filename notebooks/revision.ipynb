{
 "cells": [
  {
   "cell_type": "markdown",
   "source": [
    "In this notebook we will test the revision module "
   ],
   "metadata": {
    "collapsed": false
   },
   "id": "22501c527f49c824"
  },
  {
   "cell_type": "code",
   "outputs": [
    {
     "data": {
      "text/plain": "True"
     },
     "execution_count": 1,
     "metadata": {},
     "output_type": "execute_result"
    }
   ],
   "source": [
    "## IMPORTs\n",
    "from utils.task import Task\n",
    "import json\n",
    "import os\n",
    "from src.pipeline.revision import revision\n",
    "from utils.database_utils.db_info import get_db_schema\n",
    "from dotenv import load_dotenv\n",
    "from utils.prompt import load_prompt\n",
    "import tiktoken\n",
    "from tqdm import tqdm\n",
    "\n",
    "load_dotenv()"
   ],
   "metadata": {
    "collapsed": false,
    "ExecuteTime": {
     "end_time": "2024-08-26T11:59:26.473466Z",
     "start_time": "2024-08-26T11:59:24.212854Z"
    }
   },
   "id": "d3ee3500de3a2bd",
   "execution_count": 1
  },
  {
   "cell_type": "code",
   "outputs": [],
   "source": [
    "# Function to load JSON data\n",
    "def load_json_data(filepath):\n",
    "    with open(filepath, 'r') as file:\n",
    "        data = json.load(file)\n",
    "    return data\n",
    "\n",
    "\n",
    "# Function to create task object\n",
    "def create_task(example):\n",
    "    return Task(example)"
   ],
   "metadata": {
    "collapsed": false,
    "ExecuteTime": {
     "end_time": "2024-08-26T11:59:26.480898Z",
     "start_time": "2024-08-26T11:59:26.475471Z"
    }
   },
   "id": "8123f2cb96f2255f",
   "execution_count": 2
  },
  {
   "cell_type": "code",
   "outputs": [],
   "source": [
    "# load the task data\n",
    "filepath = \"C:/Users\\yousf\\Bureau\\ConvergenceAI\\CHESS_Impl\\data/test/subsampled_test.json\"\n",
    "data = load_json_data(filepath)\n",
    "# load the retrieved entities\n",
    "filepath_entities = \"C:/Users\\yousf\\Bureau\\ConvergenceAI\\CHESS_Impl\\data/test/retrieved_entities.json\"\n",
    "retrieved_entities = load_json_data(filepath_entities)\n",
    "# load the retrieved context\n",
    "filepath_context = \"C:/Users\\yousf\\Bureau\\ConvergenceAI\\CHESS_Impl\\data/test/retrieved_context.json\"\n",
    "retrieved_context = load_json_data(filepath_context)\n",
    "# load the selected schema\n",
    "filepath_query = \"C:/Users\\yousf\\Bureau\\ConvergenceAI\\CHESS_Impl\\data/test/generated_candidate.json\"\n",
    "generated_candidate = load_json_data(filepath_query)"
   ],
   "metadata": {
    "collapsed": false,
    "ExecuteTime": {
     "end_time": "2024-08-26T11:59:26.493498Z",
     "start_time": "2024-08-26T11:59:26.481905Z"
    }
   },
   "id": "ec40e503f29410ef",
   "execution_count": 3
  },
  {
   "cell_type": "code",
   "outputs": [
    {
     "data": {
      "text/plain": "{'chain_of_thought_reasoning': \"To solve the query, I first identified the relevant tables and columns. The 'member' table contains the member details including position, which is linked to the 'major' table through 'link_to_major' to get the college information. The position 'Secretary' is stored in the 'position' column of the 'member' table. The college information is stored in the 'college' column of the 'major' table. I joined these tables on the appropriate foreign key relationship. I ensured to filter out null values for the columns involved in the output and conditions to adhere to the database admin instructions.\",\n 'SQL': \"SELECT T1.first_name, T1.last_name, T2.college FROM member AS T1 JOIN major AS T2 ON T1.link_to_major = T2.major_id WHERE T1.position = 'Secretary' AND T1.first_name IS NOT NULL AND T1.last_name IS NOT NULL AND T2.college IS NOT NULL\"}"
     },
     "execution_count": 4,
     "metadata": {},
     "output_type": "execute_result"
    }
   ],
   "source": [
    "# test candidate generation module with a random sample\n",
    "index = 7\n",
    "example = data[index]\n",
    "task = create_task(example)\n",
    "db_path = os.getenv(\"DB_ROOT_PATH\") + f\"/{task.db_id}/{task.db_id}.sqlite\"\n",
    "model = (\"gpt-4\")\n",
    "ans = revision(task=task, retrieved_entities=retrieved_entities[index],\n",
    "               retrieved_context=retrieved_context[index], generated_candidate=generated_candidate[index],\n",
    "               model=model,\n",
    "               num_samples=1)\n",
    "ans"
   ],
   "metadata": {
    "collapsed": false,
    "ExecuteTime": {
     "end_time": "2024-08-26T11:59:35.289576Z",
     "start_time": "2024-08-26T11:59:27.146124Z"
    }
   },
   "id": "6673724dec9b40e7",
   "execution_count": 4
  },
  {
   "cell_type": "code",
   "outputs": [
    {
     "name": "stderr",
     "output_type": "stream",
     "text": [
      "1it [00:09,  9.75s/it]"
     ]
    },
    {
     "name": "stdout",
     "output_type": "stream",
     "text": [
      "0 :  {'chain_of_thought_reasoning': \"To solve the query, I first identified the tables and columns relevant to the question. The question asks for atom IDs related to a specific molecule ('TR346') and the count of distinct bond types associated with this molecule. I used the 'atom' table to fetch atom IDs and joined it with the 'bond' table to access bond types. I filtered atoms by 'molecule_id' and ensured that 'bond_type' is not null to count distinct bond types. I grouped the results by 'atom_id' to ensure each atom ID is listed with its corresponding count of bond types.\", 'SQL': \"SELECT T1.atom_id, COUNT(DISTINCT T2.bond_type) AS bond_type_count FROM atom AS T1 JOIN bond AS T2 ON T1.molecule_id = T2.molecule_id WHERE T1.molecule_id = 'TR346' AND T2.bond_type IS NOT NULL GROUP BY T1.atom_id\"}\n"
     ]
    },
    {
     "name": "stderr",
     "output_type": "stream",
     "text": [
      "2it [00:24, 12.47s/it]"
     ]
    },
    {
     "name": "stdout",
     "output_type": "stream",
     "text": [
      "1 :  {'chain_of_thought_reasoning': \"To find the city location of the high school with specific criteria, I need to join the 'schools' and 'frpm' tables because the 'NSLP Provision Status' information is in the 'frpm' table and the school level and city information is in the 'schools' table. The conditions specified are that the school must be a high school ('EILCode' = 'HS'), located in Merced County, with 'NSLP Provision Status' as 'Lunch Provision 2', and the grade span served must be from 9 to 12. I will use an INNER JOIN to combine these tables on the 'CDSCode' field, which is a common key. The query will filter based on these conditions and select the 'City' from the 'schools' table.\", 'SQL': \"SELECT T1.City FROM schools AS T1 INNER JOIN frpm AS T2 ON T1.CDSCode = T2.CDSCode WHERE T1.EILCode = 'HS' AND T1.County = 'Merced' AND T2.`NSLP Provision Status` = 'Lunch Provision 2' AND T1.GSserved = '9-12'\"}\n"
     ]
    },
    {
     "name": "stderr",
     "output_type": "stream",
     "text": [
      "3it [00:32, 10.44s/it]"
     ]
    },
    {
     "name": "stdout",
     "output_type": "stream",
     "text": [
      "2 :  {'chain_of_thought_reasoning': \"To find the tallest hero published by Marvel Comics, I need to join the superhero table with the publisher table to filter superheroes based on the publisher name. I will use the superhero table to get the full name of the hero and the height to determine the tallest. The publisher table will help me filter by 'Marvel Comics'. I will use ORDER BY on height_cm in descending order and LIMIT 1 to get the tallest hero. I will ensure to filter out any superheroes with NULL height to adhere to the database admin instructions.\", 'SQL': \"SELECT T1.full_name FROM superhero T1 JOIN publisher T2 ON T1.publisher_id = T2.id WHERE T2.publisher_name = 'Marvel Comics' AND T1.height_cm IS NOT NULL ORDER BY T1.height_cm DESC LIMIT 1\"}\n"
     ]
    },
    {
     "name": "stderr",
     "output_type": "stream",
     "text": [
      "4it [00:41, 10.10s/it]"
     ]
    },
    {
     "name": "stdout",
     "output_type": "stream",
     "text": [
      "3 :  {'chain_of_thought_reasoning': \"To answer the question, I need to count the distinct users who are elders (Age > 65) and have obtained the 'Supporter' badge. I will join the 'users' table with the 'badges' table on the UserId to filter users who have the 'Supporter' badge. The condition for the badge name and the age will be applied in the WHERE clause. I will use COUNT(DISTINCT) to ensure each user is counted only once, even if they might have obtained the badge multiple times.\", 'SQL': \"SELECT COUNT(DISTINCT T1.Id) FROM users T1 JOIN badges T2 ON T1.Id = T2.UserId WHERE T1.Age > 65 AND T2.Name = 'Supporter'\"}\n"
     ]
    },
    {
     "name": "stderr",
     "output_type": "stream",
     "text": [
      "5it [00:52, 10.40s/it]"
     ]
    },
    {
     "name": "stdout",
     "output_type": "stream",
     "text": [
      "4 :  {'chain_of_thought_reasoning': \"The initial query attempted to count distinct users from New York who have both 'Teacher' and 'Supporter' badges. The error in the query was due to incorrect column referencing as 'T1.UserId' instead of 'T1.Id' since the 'users' table uses 'Id' as the primary key for users. The query needs to join the 'users' table with the 'badges' table twice to filter users who have both types of badges. The WHERE clause correctly filters by location and badge names. The revised query corrects the column name from 'T1.UserId' to 'T1.Id' to match the schema.\", 'SQL': \"SELECT COUNT(DISTINCT T1.Id) FROM Users T1 JOIN Badges T2 ON T1.Id = T2.UserId JOIN Badges T3 ON T1.Id = T3.UserId WHERE T1.Location = 'New York' AND T2.Name = 'Teacher' AND T3.Name = 'Supporter'\"}\n"
     ]
    },
    {
     "name": "stderr",
     "output_type": "stream",
     "text": [
      "6it [01:03, 10.41s/it]"
     ]
    },
    {
     "name": "stdout",
     "output_type": "stream",
     "text": [
      "5 :  {'chain_of_thought_reasoning': \"The question asks for the description about the ruling of the card named 'Condemn'. According to the database schema, the 'text' column in the 'rulings' table contains the description of the ruling. The 'rulings' table is linked to the 'cards' table through the 'uuid' column. Therefore, I need to join these tables to access the ruling text for the specific card. The card's name is stored in the 'name' column of the 'cards' table. I will use an INNER JOIN to connect these tables on the 'uuid' column and filter the results where the card's name is 'Condemn'.\", 'SQL': \"SELECT T2.text FROM cards AS T1 INNER JOIN rulings AS T2 ON T1.uuid = T2.uuid WHERE T1.name = 'Condemn'\"}\n"
     ]
    },
    {
     "name": "stderr",
     "output_type": "stream",
     "text": [
      "7it [01:11,  9.72s/it]"
     ]
    },
    {
     "name": "stdout",
     "output_type": "stream",
     "text": [
      "6 :  {'chain_of_thought_reasoning': \"To answer the question, I need to join the 'molecule' and 'bond' tables to count the number of double bonds for the molecule 'TR006' and determine if it is carcinogenic. The 'molecule_id' is used to join these tables, and the 'bond_type' column is filtered to count only double bonds (' = '). The 'label' column in the 'molecule' table indicates if the molecule is carcinogenic. I corrected the table names and ensured the WHERE clause correctly identifies the molecule 'TR006'.\", 'SQL': \"SELECT COUNT(*) AS double_bonds, T1.label FROM molecule AS T1 JOIN bond AS T2 ON T1.molecule_id = T2.molecule_id WHERE T1.molecule_id = 'TR006' AND T2.bond_type = '=' GROUP BY T1.label\"}\n"
     ]
    },
    {
     "name": "stderr",
     "output_type": "stream",
     "text": [
      "8it [01:22, 10.03s/it]"
     ]
    },
    {
     "name": "stdout",
     "output_type": "stream",
     "text": [
      "7 :  {'chain_of_thought_reasoning': \"To solve the query, I first identified the tables and columns relevant to the question. The question asks for the full name and college of a club member with the position of 'Secretary'. The 'member' table contains member details including position, and it links to the 'major' table through 'link_to_major', which in turn contains the 'college'. The 'position' column in the 'member' table directly corresponds to the position of the member. I joined the 'member' table with the 'major' table to access the college information. I ensured to filter out null values for the columns involved in the output and conditions, as per the admin instructions. I also used aliases for tables as required.\", 'SQL': \"SELECT T1.first_name, T1.last_name, T2.college FROM member AS T1 JOIN major AS T2 ON T1.link_to_major = T2.major_id WHERE T1.position = 'Secretary' AND T1.first_name IS NOT NULL AND T1.last_name IS NOT NULL AND T2.college IS NOT NULL\"}\n"
     ]
    },
    {
     "name": "stderr",
     "output_type": "stream",
     "text": [
      "9it [01:29,  9.27s/it]"
     ]
    },
    {
     "name": "stdout",
     "output_type": "stream",
     "text": [
      "8 :  {'chain_of_thought_reasoning': \"The initial query provided was incorrect because it referenced a non-existent table 'compounds'. The correct tables to use are 'bond' for bond types and 'molecule' for counting all molecules. The bond_type column in the bond table should be filtered for '#' to find triple bonds and should not be NULL to ensure accurate calculations. The percentage calculation involves counting entries with triple bonds and dividing by the total number of bonds, then multiplying by 100 to get a percentage. The query uses subqueries for these counts and ensures that the bond_type is not NULL in both subqueries for accurate results.\", 'SQL': \"SELECT (SELECT COUNT(*) FROM bond T1 WHERE T1.bond_type = '#' AND T1.bond_type IS NOT NULL) * 100.0 / (SELECT COUNT(*) FROM bond T2 WHERE T2.bond_type IS NOT NULL) AS percentage_of_triple_bonds\"}\n"
     ]
    },
    {
     "name": "stderr",
     "output_type": "stream",
     "text": [
      "10it [01:46, 11.68s/it]"
     ]
    },
    {
     "name": "stdout",
     "output_type": "stream",
     "text": [
      "9 :  {'chain_of_thought_reasoning': \"To answer the question about Francesco Parravicini's potential on a specific date, I joined the Player and Player_Attributes tables using the player_api_id as the common key. I filtered the results for the player name 'Francesco Parravicini' and the specific date '2010-08-30 00:00:00'. I also ensured that the potential column is not null to avoid any null results. The table names in the original query were incorrect ('players' instead of 'Player'), so I corrected these to match the schema provided.\", 'SQL': \"SELECT T2.potential FROM Player T1 INNER JOIN Player_Attributes T2 ON T1.player_api_id = T2.player_api_id WHERE T1.player_name = 'Francesco Parravicini' AND T2.date = '2010-08-30 00:00:00' AND T2.potential IS NOT NULL\"}\n"
     ]
    },
    {
     "name": "stderr",
     "output_type": "stream",
     "text": [
      "11it [02:03, 13.28s/it]"
     ]
    },
    {
     "name": "stdout",
     "output_type": "stream",
     "text": [
      "10 :  {'chain_of_thought_reasoning': \"To answer the question, I need to count the number of male clients living in the 'North Bohemia' region with an average salary greater than 8000. The 'client' table contains the gender and district_id, which links to the 'district' table where the region (A3) and average salary (A11) are stored. I will join these tables on district_id and apply the conditions on gender, A3, and A11. The COUNT function will be used to get the total number of such clients.\", 'SQL': \"SELECT COUNT(*) FROM client T1 JOIN district T2 ON T1.district_id = T2.district_id WHERE T1.gender = 'M' AND T2.A3 = 'North Bohemia' AND T2.A11 > 8000 AND T2.A11 IS NOT NULL\"}\n"
     ]
    },
    {
     "name": "stderr",
     "output_type": "stream",
     "text": [
      "12it [02:13, 12.35s/it]"
     ]
    },
    {
     "name": "stdout",
     "output_type": "stream",
     "text": [
      "11 :  {'chain_of_thought_reasoning': \"The initial query provided in the question was incorrect because it referenced non-existent columns such as 'name' and 'lowest_grade' in the Schools table. According to the schema, the correct column for the school's name is 'School', and for the lowest grade offered, it is 'GSoffered'. Additionally, the column for the city is 'City', and the state is specified in the 'State' column. The query needs to select the school name, city, and lowest grade from the Schools table where the state is 'CA', ensuring latitude is not null, and order the results by latitude in ascending order to find the lowest latitude. Only the first result is needed, hence the use of LIMIT 1.\", 'SQL': \"SELECT T1.School AS School_Name, T1.City, T1.GSoffered AS Lowest_Grade FROM Schools AS T1 WHERE T1.State = 'CA' AND T1.Latitude IS NOT NULL ORDER BY T1.Latitude ASC LIMIT 1\"}\n"
     ]
    },
    {
     "name": "stderr",
     "output_type": "stream",
     "text": [
      "13it [02:26, 12.42s/it]"
     ]
    },
    {
     "name": "stdout",
     "output_type": "stream",
     "text": [
      "12 :  {'chain_of_thought_reasoning': \"The query aims to calculate the percentage of bonds that are double bonds (' = ') for the molecule with ID 'TR047'. The calculation is done by dividing the number of double bonds by the total number of bonds for this molecule, then multiplying by 100 to get the percentage. The WHERE clause filters bonds belonging to 'TR047' and ensures that bond_type is not null to avoid incorrect calculations. The table name 'bonds' was incorrect in the initial query and has been corrected to 'bond'.\", 'SQL': \"SELECT (SUM(CASE WHEN bond_type = ' = ' THEN 1 ELSE 0 END) * 100.0 / COUNT(bond_id)) AS percent FROM bond T1 WHERE T1.molecule_id = 'TR047' AND T1.bond_type IS NOT NULL\"}\n"
     ]
    },
    {
     "name": "stderr",
     "output_type": "stream",
     "text": [
      "14it [02:36, 11.68s/it]"
     ]
    },
    {
     "name": "stdout",
     "output_type": "stream",
     "text": [
      "13 :  {'chain_of_thought_reasoning': \"To solve the query, I first identified the relevant tables: 'votes' for bounty information, 'posts' for post titles, and 'users' for user display names. I then joined these tables based on their relationships: 'votes' with 'posts' on PostId, and 'votes' with 'users' on UserId. The WHERE clause filters for a BountyAmount of 50 and titles containing 'variance'. The SELECT clause only includes the DisplayName from the 'users' table, as per the instructions.\", 'SQL': \"SELECT T3.DisplayName FROM votes T1 JOIN posts T2 ON T1.PostId = T2.Id JOIN users T3 ON T1.UserId = T3.Id WHERE T1.BountyAmount = 50 AND T2.Title LIKE '%variance%'\"}\n"
     ]
    },
    {
     "name": "stderr",
     "output_type": "stream",
     "text": [
      "15it [02:45, 11.02s/it]"
     ]
    },
    {
     "name": "stdout",
     "output_type": "stream",
     "text": [
      "14 :  {'chain_of_thought_reasoning': \"The initial query attempted to select a non-existent column 'DateObtained' from the 'Badges' table. The correct column name, as per the schema, is 'Date'. The table aliases were also incorrectly referenced. The 'Users' table should be aliased as T1 and the 'Badges' table as T2. The join condition should correctly reference 'T1.Id' and 'T2.UserId' based on the foreign key relationship defined in the schema. The WHERE clause correctly filters users based on their location in 'Rochester, NY'.\", 'SQL': \"SELECT T2.Date FROM Users T1 JOIN Badges T2 ON T1.Id = T2.UserId WHERE T1.Location = 'Rochester, NY'\"}\n"
     ]
    },
    {
     "name": "stderr",
     "output_type": "stream",
     "text": [
      "\n"
     ]
    }
   ],
   "source": [
    "#test revision module with the subsampled test\n",
    "model = \"gpt-4\"\n",
    "num_samples = 1\n",
    "res = []\n",
    "for index, sample in tqdm(enumerate(data)):\n",
    "    task = create_task(sample)\n",
    "    ans = revision(task=task, retrieved_entities=retrieved_entities[index],\n",
    "                   retrieved_context=retrieved_context[index], generated_candidate=generated_candidate[index],\n",
    "                   model=model,\n",
    "                   num_samples=num_samples)\n",
    "    res.append(ans)\n",
    "    print(str(index) + \" : \", ans)"
   ],
   "metadata": {
    "collapsed": false,
    "ExecuteTime": {
     "end_time": "2024-08-26T12:12:35.817135Z",
     "start_time": "2024-08-26T12:09:50.316445Z"
    }
   },
   "id": "53358714fd3228e8",
   "execution_count": 6
  },
  {
   "cell_type": "code",
   "outputs": [],
   "source": [
    "from pathlib import Path\n",
    "\n",
    "schema_path = Path('C:/Users/yousf/Bureau/ConvergenceAI/CHESS_Impl/data/test/final_sql.json')\n",
    "with open(schema_path, 'w') as f:\n",
    "    json.dump(res, f, indent=4)"
   ],
   "metadata": {
    "collapsed": false,
    "ExecuteTime": {
     "end_time": "2024-08-26T12:13:30.018755Z",
     "start_time": "2024-08-26T12:13:29.995905Z"
    }
   },
   "id": "c7136ae9b275bee3",
   "execution_count": 7
  },
  {
   "cell_type": "code",
   "outputs": [],
   "source": [],
   "metadata": {
    "collapsed": false
   },
   "id": "274100abba10b436"
  }
 ],
 "metadata": {
  "kernelspec": {
   "display_name": "Python 3",
   "language": "python",
   "name": "python3"
  },
  "language_info": {
   "codemirror_mode": {
    "name": "ipython",
    "version": 2
   },
   "file_extension": ".py",
   "mimetype": "text/x-python",
   "name": "python",
   "nbconvert_exporter": "python",
   "pygments_lexer": "ipython2",
   "version": "2.7.6"
  }
 },
 "nbformat": 4,
 "nbformat_minor": 5
}
