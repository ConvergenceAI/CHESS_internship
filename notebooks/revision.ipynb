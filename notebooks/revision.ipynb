{
 "cells": [
  {
   "cell_type": "markdown",
   "source": [
    "In this notebook we will test the revision module "
   ],
   "metadata": {
    "collapsed": false
   },
   "id": "22501c527f49c824"
  },
  {
   "cell_type": "code",
   "outputs": [
    {
     "data": {
      "text/plain": "True"
     },
     "execution_count": 1,
     "metadata": {},
     "output_type": "execute_result"
    }
   ],
   "source": [
    "## IMPORTs\n",
    "from utils.task import Task\n",
    "import json\n",
    "import os\n",
    "from src.pipeline.revision import revision\n",
    "from dotenv import load_dotenv\n",
    "from utils.prompt import load_prompt\n",
    "import tiktoken\n",
    "from tqdm import tqdm\n",
    "\n",
    "load_dotenv()"
   ],
   "metadata": {
    "collapsed": false,
    "ExecuteTime": {
     "end_time": "2024-08-26T17:52:59.900263Z",
     "start_time": "2024-08-26T17:52:56.932765Z"
    }
   },
   "id": "d3ee3500de3a2bd",
   "execution_count": 1
  },
  {
   "cell_type": "code",
   "outputs": [],
   "source": [
    "# Function to load JSON data\n",
    "def load_json_data(filepath):\n",
    "    with open(filepath, 'r') as file:\n",
    "        data = json.load(file)\n",
    "    return data\n",
    "\n",
    "\n",
    "# Function to create task object\n",
    "def create_task(example):\n",
    "    return Task(example)"
   ],
   "metadata": {
    "collapsed": false,
    "ExecuteTime": {
     "end_time": "2024-08-26T17:52:59.904942Z",
     "start_time": "2024-08-26T17:52:59.901279Z"
    }
   },
   "id": "8123f2cb96f2255f",
   "execution_count": 2
  },
  {
   "cell_type": "code",
   "outputs": [],
   "source": [
    "# load the task data\n",
    "filepath = \"C:/Users\\yousf\\Bureau\\ConvergenceAI\\CHESS_Impl\\data/test/subsampled_test.json\"\n",
    "data = load_json_data(filepath)\n",
    "# load the retrieved entities\n",
    "filepath_entities = \"C:/Users\\yousf\\Bureau\\ConvergenceAI\\CHESS_Impl\\data/test/retrieved_entities.json\"\n",
    "retrieved_entities = load_json_data(filepath_entities)\n",
    "# load the retrieved context\n",
    "filepath_context = \"C:/Users\\yousf\\Bureau\\ConvergenceAI\\CHESS_Impl\\data/test/retrieved_context.json\"\n",
    "retrieved_context = load_json_data(filepath_context)\n",
    "# load the candidate SQL \n",
    "filepath_query = \"C:/Users\\yousf\\Bureau\\ConvergenceAI\\CHESS_Impl\\data/test/generated_candidate.json\"\n",
    "generated_candidate = load_json_data(filepath_query)"
   ],
   "metadata": {
    "collapsed": false,
    "ExecuteTime": {
     "end_time": "2024-08-26T17:52:59.935462Z",
     "start_time": "2024-08-26T17:52:59.905952Z"
    }
   },
   "id": "ec40e503f29410ef",
   "execution_count": 3
  },
  {
   "cell_type": "code",
   "outputs": [
    {
     "name": "stdout",
     "output_type": "stream",
     "text": [
      "You are an SQL expert and very smart data analyst.\n",
      "Objective: Your primary goal is to ensure strict adherence to the database admin instructions and use the correct conditions while crafting an accurate SQL query. Failure to follow these instructions will result in an incorrect query.\n",
      "\n",
      "Database Schema:\n",
      "CREATE TABLE frpm\n",
      "(\n",
      "\tCDSCode TEXT not null primary key,\n",
      "\t`Academic Year` TEXT null, --\n",
      "\t`County Code` TEXT null, -- examples: `02`\n",
      "\t`District Code` INTEGER null, --\n",
      "\t`School Code` TEXT null, -- description: School Code\n",
      "\t`County Name` TEXT null, -- examples: `Merced`\n",
      "\t`District Name` TEXT null, --\n",
      "\t`School Name` TEXT null, --\n",
      "\t`District Type` TEXT null, --\n",
      "\t`School Type` TEXT null, --\n",
      "\t`Educational Option Type` TEXT null, --\n",
      "\t`NSLP Provision Status` TEXT null, -- examples: `Provision 2`, `Lunch Provision 2`\n",
      "\t`Charter School (Y/N)` INTEGER null, --\n",
      "\t`Charter School Number` TEXT null, --\n",
      "\t`Charter Funding Type` TEXT null, --\n",
      "\tIRC INTEGER null, --\n",
      "\t`Low Grade` TEXT null, --\n",
      "\t`High Grade` TEXT null, --\n",
      "\t`Enrollment (K-12)` REAL null, --\n",
      "\t`Free Meal Count (K-12)` REAL null, --\n",
      "\t`Percent (%) Eligible Free (K-12)` REAL null, --\n",
      "\t`FRPM Count (K-12)` REAL null, --\n",
      "\t`Percent (%) Eligible FRPM (K-12)` REAL null, --\n",
      "\t`Enrollment (Ages 5-17)` REAL null, --\n",
      "\t`Free Meal Count (Ages 5-17)` REAL null, --\n",
      "\t`Percent (%) Eligible Free (Ages 5-17)` REAL null, --\n",
      "\t`FRPM Count (Ages 5-17)` REAL null, --\n",
      "\t`Percent (%) Eligible FRPM (Ages 5-17)` REAL null, --\n",
      "\t`2013-14 CALPADS Fall 1 Certification Status` INTEGER null, --\n",
      "\tforeign key (CDSCode) references schools (CDSCode),\n",
      ");\n",
      "\n",
      "CREATE TABLE satscores\n",
      "(\n",
      "\tcds TEXT not null primary key,\n",
      "\trtype TEXT not null, --\n",
      "\tsname TEXT null, --\n",
      "\tdname TEXT null, --\n",
      "\tcname TEXT null, -- examples: `Merced`\n",
      "\tenroll12 INTEGER not null, --\n",
      "\tNumTstTakr INTEGER not null, --\n",
      "\tAvgScrRead INTEGER null, --\n",
      "\tAvgScrMath INTEGER null, --\n",
      "\tAvgScrWrite INTEGER null, --\n",
      "\tNumGE1500 INTEGER null, --\n",
      "\tforeign key (cds) references schools (CDSCode),\n",
      ");\n",
      "\n",
      "CREATE TABLE schools\n",
      "(\n",
      "\tCDSCode TEXT not null primary key,\n",
      "\tNCESDist TEXT null, --\n",
      "\tNCESSchool TEXT null, --\n",
      "\tStatusType TEXT not null, --\n",
      "\tCounty TEXT not null, -- examples: `Merced`\n",
      "\tDistrict TEXT not null, --\n",
      "\tSchool TEXT null, -- examples: `La Merced`\n",
      "\tStreet TEXT null, --\n",
      "\tStreetAbr TEXT null, --\n",
      "\tCity TEXT null, -- examples: `Merced`\n",
      "\tZip TEXT null, --\n",
      "\tState TEXT null, --\n",
      "\tMailStreet TEXT null, --\n",
      "\tMailStrAbr TEXT null, --\n",
      "\tMailCity TEXT null, -- examples: `Merced`\n",
      "\tMailZip TEXT null, --\n",
      "\tMailState TEXT null, --\n",
      "\tPhone TEXT null, --\n",
      "\tExt TEXT null, -- examples: `10`\n",
      "\tWebsite TEXT null, --\n",
      "\tOpenDate DATE null, -- examples: `2007-09-24`\n",
      "\tClosedDate DATE null, -- examples: `2009-09-15`\n",
      "\tCharter INTEGER null, --\n",
      "\tCharterNum TEXT null, --\n",
      "\tFundingType TEXT null, --\n",
      "\tDOC TEXT not null, --\n",
      "\tDOCType TEXT not null, --\n",
      "\tSOC TEXT null, -- examples: `13`\n",
      "\tSOCType TEXT null, --\n",
      "\tEdOpsCode TEXT null, -- `Education Option Code` description: The Education Option Code is a short text description of the type of education offered. value description: •      ALTSOC – Alternative School of Choice •      COMM – County Community School •       COMMDAY – Community Day School •       CON – Continuation School •       JUV – Juvenile Court School •       OPP – Opportunity School •       YTH – Youth Authority School •       SSS – State Special School •       SPEC – Special Education School •       TRAD – Traditional •       ROP – Regional Occupational Program •       HOMHOS – Home and Hospital •       SPECON – District Consortia Special Education School\n",
      "\tEdOpsName TEXT null, --\n",
      "\tEILCode TEXT null, -- `Educational Instruction Level Code` description: The Educational Instruction Level Code is a short text description of the institution's type relative to the grade range served. value description: •       A – Adult •       ELEM – Elementary •       ELEMHIGH – Elementary-High Combination •       HS – High School •       INTMIDJR – Intermediate/Middle/Junior High •       PS – Preschool •       UG – Ungraded\n",
      "\tEILName TEXT null, -- examples: `Ungraded`\n",
      "\tGSoffered TEXT null, -- `grade span offered` description: The grade span offered is the lowest grade and the highest grade offered or supported by the school, district, or administrative authority. This field might differ from the grade span served as reported in the most recent certified California Longitudinal Pupil Achievement (CALPADS) Fall 1 data collection. value description: For example XYZ School might display the following data:  GSoffered = P–Adult  GSserved = K–12\n",
      "\tGSserved TEXT null, -- examples: `12`\n",
      "\tVirtual TEXT null, --\n",
      "\tMagnet INTEGER null, --\n",
      "\tLatitude REAL null, --\n",
      "\tLongitude REAL null, --\n",
      "\tAdmFName1 TEXT null, --\n",
      "\tAdmLName1 TEXT null, -- examples: `Lower`\n",
      "\tAdmEmail1 TEXT null, --\n",
      "\tAdmFName2 TEXT null, --\n",
      "\tAdmLName2 TEXT null, --\n",
      "\tAdmEmail2 TEXT null, --\n",
      "\tAdmFName3 TEXT null, --\n",
      "\tAdmLName3 TEXT null, --\n",
      "\tAdmEmail3 TEXT null, --\n",
      "\tLastUpdate DATE not null, -- examples: `2006-01-30`\n",
      ");\n",
      "\n",
      "Database admin instructions:\n",
      "1. When you need to find the highest or lowest values based on a certain condition, using ORDER BY + LIMIT 1 is prefered over using MAX/MIN within sub queries.\n",
      "2. If predicted query includes an ORDER BY clause to sort the results, you should only include the column(s) used for sorting in the SELECT clause if the question specifically ask for them. Otherwise, omit these columns from the SELECT.\n",
      "3. If the question doesn't specify exactly which columns to select, between name column and id column, prefer to select id column.\n",
      "4. Make sure you only output the information that is asked in the question. If the question asks for a specific column, make sure to only include that column in the SELECT clause, nothing more.\n",
      "5. Predicted query should return all of the information asked in the question without any missing or extra information.\n",
      "6. For key phrases mentioned in the question, we have provided the most similar values within the columns denoted by \"-- examples\" in front of the corresponding column names. This is a crucial hint indicating the correct columns to use for your SQL query.\n",
      "7. No matter of how many things the question asks, you should only return one SQL query as the answer having all the information asked in the question, seperated by a comma.\n",
      "8. Using || ' ' ||  to concatenate string is banned and using that is punishable by death. Never concatenate columns in the SELECT clause.\n",
      "9. If you are joining multiple tables, make sure to use alias names for the tables and use the alias names to reference the columns in the query. Use T1, T2, T3, ... as alias names.\n",
      "10. If you are doing a logical operation on a column, such as mathematical operations and sorting, make sure to filter null values within those columns.\n",
      "11. When ORDER BY is used, just include the column name in the ORDER BY in the SELECT clause when explicitly asked in the question. Otherwise, do not include the column name in the SELECT clause.\n",
      "\n",
      "Question:\n",
      "What is the city location of the high school level school with Lunch Provision 2 whose lowest grade is 9 and the highest grade is 12 in the county of Merced?\n",
      "\n",
      "Hint:\n",
      "High school can be represented as EILCode = 'HS'\n",
      "\n",
      "Predicted query:\n",
      "SELECT T1.city_location FROM Schools AS T1 WHERE T1.EILCode = 'HS' AND T1.county = 'Merced' AND T1.lunch_provision = 2 AND T1.lowest_grade = 9 AND T1.highest_grade = 12\n",
      "\n",
      "Missing entities:\n",
      "Value 12 that you used in the query appears in the column GSserved of table schools.\n",
      "Value Merced that you used in the query appears in the column County Name of table frpm.\n",
      "Value Merced that you used in the query appears in the column City of table schools.\n",
      "Value Merced that you used in the query appears in the column MailCity of table schools.\n",
      "Value Merced that you used in the query appears in the column cname of table satscores.\n",
      "\n",
      "\n",
      "Query result:\n",
      "no such column: T1.city_location\n",
      "\n",
      "\n",
      "Please respond with a JSON object structured as follows (if the sql query is correct, return the query as it is):\n",
      "\n",
      "{\n",
      "    \"chain_of_thought_reasoning\": \"Your thought process on how you arrived at the solution. You don't need to explain the instructions that are satisfied.\",\n",
      "    \"revised_SQL\": \"Your revised SQL query.\"\n",
      "}\n",
      "\n",
      "Take a deep breath and think step by step to find the correct sqlite SQL query.\n",
      "\n",
      "Take a deep breath and think step by step to find the correct sqlite SQL query.\n",
      "\n",
      "CRITICAL REMINDER: The database admin instructions are the only way to get the right SQL query.Before submitting,check that you followed every single instruction carefully. Your success depends completely on following these guidelines. Any mistake will result in an incorrect query.\n",
      "\n",
      "Incentive: If you meticulously follow all instructions and generate the correct query, a reward of 1 million dollars awaits you.\n",
      "\n",
      "NB: You must output only the JSON object as your response with no other comments, explanations, reasoning, or dialogue !!\n",
      "It is forbidden to concatenate columns in the SELECT clause using || ' ' || if you do it you will not be rewarded with 1 million dollars ,and you will be severely punished .\n"
     ]
    },
    {
     "data": {
      "text/plain": "{'chain_of_thought_reasoning': \"To find the city location of the high school with specific criteria, I need to join the 'schools' and 'frpm' tables because the 'EILCode' and 'GSserved' are in 'schools', while 'NSLP Provision Status' and 'County Name' are in 'frpm'. The 'schools' table contains the 'City' column which is required for the output. The join condition is based on the 'CDSCode' which is a common key in both tables. The filters applied are for 'EILCode' to be 'HS' (High School), 'GSserved' to be '12' (grades 9-12), 'NSLP Provision Status' to be 'Lunch Provision 2', and 'County Name' to be 'Merced'.\",\n 'SQL': \"SELECT T1.City FROM schools AS T1 JOIN frpm AS T2 ON T1.CDSCode = T2.CDSCode WHERE T1.EILCode = 'HS' AND T1.GSserved = '12' AND T2.`NSLP Provision Status` = 'Lunch Provision 2' AND T2.`County Name` = 'Merced'\"}"
     },
     "execution_count": 5,
     "metadata": {},
     "output_type": "execute_result"
    }
   ],
   "source": [
    "# test candidate generation module with a random sample\n",
    "index = 1\n",
    "example = data[index]\n",
    "task = create_task(example)\n",
    "db_path = os.getenv(\"DB_ROOT_PATH\") + f\"/{task.db_id}/{task.db_id}.sqlite\"\n",
    "model = (\"gpt-4\")\n",
    "ans = revision(task=task, retrieved_entities=retrieved_entities[index],\n",
    "               retrieved_context=retrieved_context[index], generated_candidate=generated_candidate[index],\n",
    "               model=model,\n",
    "               num_samples=1)\n",
    "ans"
   ],
   "metadata": {
    "collapsed": false,
    "ExecuteTime": {
     "end_time": "2024-08-26T17:56:02.346518Z",
     "start_time": "2024-08-26T17:55:52.030664Z"
    }
   },
   "id": "6673724dec9b40e7",
   "execution_count": 5
  },
  {
   "cell_type": "code",
   "outputs": [
    {
     "name": "stderr",
     "output_type": "stream",
     "text": [
      "1it [00:09,  9.75s/it]"
     ]
    },
    {
     "name": "stdout",
     "output_type": "stream",
     "text": [
      "0 :  {'chain_of_thought_reasoning': \"To solve the query, I first identified the tables and columns relevant to the question. The question asks for atom IDs related to a specific molecule ('TR346') and the count of distinct bond types associated with this molecule. I used the 'atom' table to fetch atom IDs and joined it with the 'bond' table to access bond types. I filtered atoms by 'molecule_id' and ensured that 'bond_type' is not null to count distinct bond types. I grouped the results by 'atom_id' to ensure each atom ID is listed with its corresponding count of bond types.\", 'SQL': \"SELECT T1.atom_id, COUNT(DISTINCT T2.bond_type) AS bond_type_count FROM atom AS T1 JOIN bond AS T2 ON T1.molecule_id = T2.molecule_id WHERE T1.molecule_id = 'TR346' AND T2.bond_type IS NOT NULL GROUP BY T1.atom_id\"}\n"
     ]
    },
    {
     "name": "stderr",
     "output_type": "stream",
     "text": [
      "2it [00:24, 12.47s/it]"
     ]
    },
    {
     "name": "stdout",
     "output_type": "stream",
     "text": [
      "1 :  {'chain_of_thought_reasoning': \"To find the city location of the high school with specific criteria, I need to join the 'schools' and 'frpm' tables because the 'NSLP Provision Status' information is in the 'frpm' table and the school level and city information is in the 'schools' table. The conditions specified are that the school must be a high school ('EILCode' = 'HS'), located in Merced County, with 'NSLP Provision Status' as 'Lunch Provision 2', and the grade span served must be from 9 to 12. I will use an INNER JOIN to combine these tables on the 'CDSCode' field, which is a common key. The query will filter based on these conditions and select the 'City' from the 'schools' table.\", 'SQL': \"SELECT T1.City FROM schools AS T1 INNER JOIN frpm AS T2 ON T1.CDSCode = T2.CDSCode WHERE T1.EILCode = 'HS' AND T1.County = 'Merced' AND T2.`NSLP Provision Status` = 'Lunch Provision 2' AND T1.GSserved = '9-12'\"}\n"
     ]
    },
    {
     "name": "stderr",
     "output_type": "stream",
     "text": [
      "3it [00:32, 10.44s/it]"
     ]
    },
    {
     "name": "stdout",
     "output_type": "stream",
     "text": [
      "2 :  {'chain_of_thought_reasoning': \"To find the tallest hero published by Marvel Comics, I need to join the superhero table with the publisher table to filter superheroes based on the publisher name. I will use the superhero table to get the full name of the hero and the height to determine the tallest. The publisher table will help me filter by 'Marvel Comics'. I will use ORDER BY on height_cm in descending order and LIMIT 1 to get the tallest hero. I will ensure to filter out any superheroes with NULL height to adhere to the database admin instructions.\", 'SQL': \"SELECT T1.full_name FROM superhero T1 JOIN publisher T2 ON T1.publisher_id = T2.id WHERE T2.publisher_name = 'Marvel Comics' AND T1.height_cm IS NOT NULL ORDER BY T1.height_cm DESC LIMIT 1\"}\n"
     ]
    },
    {
     "name": "stderr",
     "output_type": "stream",
     "text": [
      "4it [00:41, 10.10s/it]"
     ]
    },
    {
     "name": "stdout",
     "output_type": "stream",
     "text": [
      "3 :  {'chain_of_thought_reasoning': \"To answer the question, I need to count the distinct users who are elders (Age > 65) and have obtained the 'Supporter' badge. I will join the 'users' table with the 'badges' table on the UserId to filter users who have the 'Supporter' badge. The condition for the badge name and the age will be applied in the WHERE clause. I will use COUNT(DISTINCT) to ensure each user is counted only once, even if they might have obtained the badge multiple times.\", 'SQL': \"SELECT COUNT(DISTINCT T1.Id) FROM users T1 JOIN badges T2 ON T1.Id = T2.UserId WHERE T1.Age > 65 AND T2.Name = 'Supporter'\"}\n"
     ]
    },
    {
     "name": "stderr",
     "output_type": "stream",
     "text": [
      "5it [00:52, 10.40s/it]"
     ]
    },
    {
     "name": "stdout",
     "output_type": "stream",
     "text": [
      "4 :  {'chain_of_thought_reasoning': \"The initial query attempted to count distinct users from New York who have both 'Teacher' and 'Supporter' badges. The error in the query was due to incorrect column referencing as 'T1.UserId' instead of 'T1.Id' since the 'users' table uses 'Id' as the primary key for users. The query needs to join the 'users' table with the 'badges' table twice to filter users who have both types of badges. The WHERE clause correctly filters by location and badge names. The revised query corrects the column name from 'T1.UserId' to 'T1.Id' to match the schema.\", 'SQL': \"SELECT COUNT(DISTINCT T1.Id) FROM Users T1 JOIN Badges T2 ON T1.Id = T2.UserId JOIN Badges T3 ON T1.Id = T3.UserId WHERE T1.Location = 'New York' AND T2.Name = 'Teacher' AND T3.Name = 'Supporter'\"}\n"
     ]
    },
    {
     "name": "stderr",
     "output_type": "stream",
     "text": [
      "6it [01:03, 10.41s/it]"
     ]
    },
    {
     "name": "stdout",
     "output_type": "stream",
     "text": [
      "5 :  {'chain_of_thought_reasoning': \"The question asks for the description about the ruling of the card named 'Condemn'. According to the database schema, the 'text' column in the 'rulings' table contains the description of the ruling. The 'rulings' table is linked to the 'cards' table through the 'uuid' column. Therefore, I need to join these tables to access the ruling text for the specific card. The card's name is stored in the 'name' column of the 'cards' table. I will use an INNER JOIN to connect these tables on the 'uuid' column and filter the results where the card's name is 'Condemn'.\", 'SQL': \"SELECT T2.text FROM cards AS T1 INNER JOIN rulings AS T2 ON T1.uuid = T2.uuid WHERE T1.name = 'Condemn'\"}\n"
     ]
    },
    {
     "name": "stderr",
     "output_type": "stream",
     "text": [
      "7it [01:11,  9.72s/it]"
     ]
    },
    {
     "name": "stdout",
     "output_type": "stream",
     "text": [
      "6 :  {'chain_of_thought_reasoning': \"To answer the question, I need to join the 'molecule' and 'bond' tables to count the number of double bonds for the molecule 'TR006' and determine if it is carcinogenic. The 'molecule_id' is used to join these tables, and the 'bond_type' column is filtered to count only double bonds (' = '). The 'label' column in the 'molecule' table indicates if the molecule is carcinogenic. I corrected the table names and ensured the WHERE clause correctly identifies the molecule 'TR006'.\", 'SQL': \"SELECT COUNT(*) AS double_bonds, T1.label FROM molecule AS T1 JOIN bond AS T2 ON T1.molecule_id = T2.molecule_id WHERE T1.molecule_id = 'TR006' AND T2.bond_type = '=' GROUP BY T1.label\"}\n"
     ]
    },
    {
     "name": "stderr",
     "output_type": "stream",
     "text": [
      "8it [01:22, 10.03s/it]"
     ]
    },
    {
     "name": "stdout",
     "output_type": "stream",
     "text": [
      "7 :  {'chain_of_thought_reasoning': \"To solve the query, I first identified the tables and columns relevant to the question. The question asks for the full name and college of a club member with the position of 'Secretary'. The 'member' table contains member details including position, and it links to the 'major' table through 'link_to_major', which in turn contains the 'college'. The 'position' column in the 'member' table directly corresponds to the position of the member. I joined the 'member' table with the 'major' table to access the college information. I ensured to filter out null values for the columns involved in the output and conditions, as per the admin instructions. I also used aliases for tables as required.\", 'SQL': \"SELECT T1.first_name, T1.last_name, T2.college FROM member AS T1 JOIN major AS T2 ON T1.link_to_major = T2.major_id WHERE T1.position = 'Secretary' AND T1.first_name IS NOT NULL AND T1.last_name IS NOT NULL AND T2.college IS NOT NULL\"}\n"
     ]
    },
    {
     "name": "stderr",
     "output_type": "stream",
     "text": [
      "9it [01:29,  9.27s/it]"
     ]
    },
    {
     "name": "stdout",
     "output_type": "stream",
     "text": [
      "8 :  {'chain_of_thought_reasoning': \"The initial query provided was incorrect because it referenced a non-existent table 'compounds'. The correct tables to use are 'bond' for bond types and 'molecule' for counting all molecules. The bond_type column in the bond table should be filtered for '#' to find triple bonds and should not be NULL to ensure accurate calculations. The percentage calculation involves counting entries with triple bonds and dividing by the total number of bonds, then multiplying by 100 to get a percentage. The query uses subqueries for these counts and ensures that the bond_type is not NULL in both subqueries for accurate results.\", 'SQL': \"SELECT (SELECT COUNT(*) FROM bond T1 WHERE T1.bond_type = '#' AND T1.bond_type IS NOT NULL) * 100.0 / (SELECT COUNT(*) FROM bond T2 WHERE T2.bond_type IS NOT NULL) AS percentage_of_triple_bonds\"}\n"
     ]
    },
    {
     "name": "stderr",
     "output_type": "stream",
     "text": [
      "10it [01:46, 11.68s/it]"
     ]
    },
    {
     "name": "stdout",
     "output_type": "stream",
     "text": [
      "9 :  {'chain_of_thought_reasoning': \"To answer the question about Francesco Parravicini's potential on a specific date, I joined the Player and Player_Attributes tables using the player_api_id as the common key. I filtered the results for the player name 'Francesco Parravicini' and the specific date '2010-08-30 00:00:00'. I also ensured that the potential column is not null to avoid any null results. The table names in the original query were incorrect ('players' instead of 'Player'), so I corrected these to match the schema provided.\", 'SQL': \"SELECT T2.potential FROM Player T1 INNER JOIN Player_Attributes T2 ON T1.player_api_id = T2.player_api_id WHERE T1.player_name = 'Francesco Parravicini' AND T2.date = '2010-08-30 00:00:00' AND T2.potential IS NOT NULL\"}\n"
     ]
    },
    {
     "name": "stderr",
     "output_type": "stream",
     "text": [
      "11it [02:03, 13.28s/it]"
     ]
    },
    {
     "name": "stdout",
     "output_type": "stream",
     "text": [
      "10 :  {'chain_of_thought_reasoning': \"To answer the question, I need to count the number of male clients living in the 'North Bohemia' region with an average salary greater than 8000. The 'client' table contains the gender and district_id, which links to the 'district' table where the region (A3) and average salary (A11) are stored. I will join these tables on district_id and apply the conditions on gender, A3, and A11. The COUNT function will be used to get the total number of such clients.\", 'SQL': \"SELECT COUNT(*) FROM client T1 JOIN district T2 ON T1.district_id = T2.district_id WHERE T1.gender = 'M' AND T2.A3 = 'North Bohemia' AND T2.A11 > 8000 AND T2.A11 IS NOT NULL\"}\n"
     ]
    },
    {
     "name": "stderr",
     "output_type": "stream",
     "text": [
      "12it [02:13, 12.35s/it]"
     ]
    },
    {
     "name": "stdout",
     "output_type": "stream",
     "text": [
      "11 :  {'chain_of_thought_reasoning': \"The initial query provided in the question was incorrect because it referenced non-existent columns such as 'name' and 'lowest_grade' in the Schools table. According to the schema, the correct column for the school's name is 'School', and for the lowest grade offered, it is 'GSoffered'. Additionally, the column for the city is 'City', and the state is specified in the 'State' column. The query needs to select the school name, city, and lowest grade from the Schools table where the state is 'CA', ensuring latitude is not null, and order the results by latitude in ascending order to find the lowest latitude. Only the first result is needed, hence the use of LIMIT 1.\", 'SQL': \"SELECT T1.School AS School_Name, T1.City, T1.GSoffered AS Lowest_Grade FROM Schools AS T1 WHERE T1.State = 'CA' AND T1.Latitude IS NOT NULL ORDER BY T1.Latitude ASC LIMIT 1\"}\n"
     ]
    },
    {
     "name": "stderr",
     "output_type": "stream",
     "text": [
      "13it [02:26, 12.42s/it]"
     ]
    },
    {
     "name": "stdout",
     "output_type": "stream",
     "text": [
      "12 :  {'chain_of_thought_reasoning': \"The query aims to calculate the percentage of bonds that are double bonds (' = ') for the molecule with ID 'TR047'. The calculation is done by dividing the number of double bonds by the total number of bonds for this molecule, then multiplying by 100 to get the percentage. The WHERE clause filters bonds belonging to 'TR047' and ensures that bond_type is not null to avoid incorrect calculations. The table name 'bonds' was incorrect in the initial query and has been corrected to 'bond'.\", 'SQL': \"SELECT (SUM(CASE WHEN bond_type = ' = ' THEN 1 ELSE 0 END) * 100.0 / COUNT(bond_id)) AS percent FROM bond T1 WHERE T1.molecule_id = 'TR047' AND T1.bond_type IS NOT NULL\"}\n"
     ]
    },
    {
     "name": "stderr",
     "output_type": "stream",
     "text": [
      "14it [02:36, 11.68s/it]"
     ]
    },
    {
     "name": "stdout",
     "output_type": "stream",
     "text": [
      "13 :  {'chain_of_thought_reasoning': \"To solve the query, I first identified the relevant tables: 'votes' for bounty information, 'posts' for post titles, and 'users' for user display names. I then joined these tables based on their relationships: 'votes' with 'posts' on PostId, and 'votes' with 'users' on UserId. The WHERE clause filters for a BountyAmount of 50 and titles containing 'variance'. The SELECT clause only includes the DisplayName from the 'users' table, as per the instructions.\", 'SQL': \"SELECT T3.DisplayName FROM votes T1 JOIN posts T2 ON T1.PostId = T2.Id JOIN users T3 ON T1.UserId = T3.Id WHERE T1.BountyAmount = 50 AND T2.Title LIKE '%variance%'\"}\n"
     ]
    },
    {
     "name": "stderr",
     "output_type": "stream",
     "text": [
      "15it [02:45, 11.02s/it]"
     ]
    },
    {
     "name": "stdout",
     "output_type": "stream",
     "text": [
      "14 :  {'chain_of_thought_reasoning': \"The initial query attempted to select a non-existent column 'DateObtained' from the 'Badges' table. The correct column name, as per the schema, is 'Date'. The table aliases were also incorrectly referenced. The 'Users' table should be aliased as T1 and the 'Badges' table as T2. The join condition should correctly reference 'T1.Id' and 'T2.UserId' based on the foreign key relationship defined in the schema. The WHERE clause correctly filters users based on their location in 'Rochester, NY'.\", 'SQL': \"SELECT T2.Date FROM Users T1 JOIN Badges T2 ON T1.Id = T2.UserId WHERE T1.Location = 'Rochester, NY'\"}\n"
     ]
    },
    {
     "name": "stderr",
     "output_type": "stream",
     "text": [
      "\n"
     ]
    }
   ],
   "source": [
    "#test revision module with the subsampled test\n",
    "model = \"gpt-4\"\n",
    "num_samples = 1\n",
    "res = []\n",
    "for index, sample in tqdm(enumerate(data)):\n",
    "    task = create_task(sample)\n",
    "    ans = revision(task=task, retrieved_entities=retrieved_entities[index],\n",
    "                   retrieved_context=retrieved_context[index], generated_candidate=generated_candidate[index],\n",
    "                   model=model,\n",
    "                   num_samples=num_samples)\n",
    "    res.append(ans)\n",
    "    print(str(index) + \" : \", ans)"
   ],
   "metadata": {
    "collapsed": false,
    "ExecuteTime": {
     "end_time": "2024-08-26T12:12:35.817135Z",
     "start_time": "2024-08-26T12:09:50.316445Z"
    }
   },
   "id": "53358714fd3228e8",
   "execution_count": 6
  },
  {
   "cell_type": "code",
   "outputs": [],
   "source": [
    "from pathlib import Path\n",
    "\n",
    "schema_path = Path('C:/Users/yousf/Bureau/ConvergenceAI/CHESS_Impl/data/test/final_sql.json')\n",
    "with open(schema_path, 'w') as f:\n",
    "    json.dump(res, f, indent=4)"
   ],
   "metadata": {
    "collapsed": false,
    "ExecuteTime": {
     "end_time": "2024-08-26T12:13:30.018755Z",
     "start_time": "2024-08-26T12:13:29.995905Z"
    }
   },
   "id": "c7136ae9b275bee3",
   "execution_count": 7
  },
  {
   "cell_type": "markdown",
   "source": [
    "## Cost Estimation per task"
   ],
   "metadata": {
    "collapsed": false
   },
   "id": "47d45d53e7cd81c4"
  },
  {
   "cell_type": "code",
   "outputs": [],
   "source": [
    "PROMPT_PATH = os.getenv(\"PROMPT_ROOT_PATH\") + \"\\\\candidate_generation.txt\"\n",
    "prompt = load_prompt(PROMPT_PATH)"
   ],
   "metadata": {
    "collapsed": false,
    "ExecuteTime": {
     "end_time": "2024-08-26T17:57:17.273921Z",
     "start_time": "2024-08-26T17:57:17.267494Z"
    }
   },
   "id": "8b7abe90effecf29",
   "execution_count": 7
  },
  {
   "cell_type": "code",
   "outputs": [],
   "source": [
    "def tokens_calc(example):\n",
    "    encoding = tiktoken.get_encoding(\"cl100k_base\")\n",
    "    num_tokens = len(encoding.encode(example))\n",
    "    return num_tokens"
   ],
   "metadata": {
    "collapsed": false,
    "ExecuteTime": {
     "end_time": "2024-08-26T17:57:17.693773Z",
     "start_time": "2024-08-26T17:57:17.688769Z"
    }
   },
   "id": "f2006068dd7dc037",
   "execution_count": 8
  },
  {
   "cell_type": "code",
   "outputs": [
    {
     "data": {
      "text/plain": "727"
     },
     "execution_count": 9,
     "metadata": {},
     "output_type": "execute_result"
    }
   ],
   "source": [
    "#prompt template tokens \n",
    "tokens_calc(prompt)"
   ],
   "metadata": {
    "collapsed": false,
    "ExecuteTime": {
     "end_time": "2024-08-26T17:57:18.647156Z",
     "start_time": "2024-08-26T17:57:18.042102Z"
    }
   },
   "id": "ff52f9987153a108",
   "execution_count": 9
  },
  {
   "cell_type": "markdown",
   "source": [
    "The prompt template has 727 tokens in total, but it have so many variables so it will more longer than\n",
    "that to estimate the approximate token numbers we will see with a formatted prompt.\n",
    "Let's say approximately 2200 tokens\n"
   ],
   "metadata": {
    "collapsed": false
   },
   "id": "dcc7e2a7f7e28615"
  },
  {
   "cell_type": "code",
   "outputs": [
    {
     "data": {
      "text/plain": "228"
     },
     "execution_count": 10,
     "metadata": {},
     "output_type": "execute_result"
    }
   ],
   "source": [
    "## Output tokens estimation from an example \n",
    "output_example = \"\"\"\n",
    "{'chain_of_thought_reasoning': \"To solve the query, I first identified the tables and columns relevant to the question. The question asks for the full name and college of a club member with the position of 'Secretary'. The 'member' table contains member details including position, and the 'major' table contains college information. The 'position' column in the 'member' table is used to filter for 'Secretary'. The 'link_to_major' in the 'member' table and 'major_id' in the 'major' table are used to join these tables. The 'college' column in the 'major' table provides the college information. I ensured to select only the columns explicitly asked for in the question, adhering to the database admin instructions.\",\n",
    " 'SQL': \"SELECT T1.first_name, T1.last_name, T2.college FROM member AS T1 JOIN major AS T2 ON T1.link_to_major = T2.major_id WHERE T1.position = 'Secretary' AND T1.first_name IS NOT NULL AND T1.last_name IS NOT NULL AND T2.college IS NOT NULL\"}\n",
    "\"\"\"\n",
    "tokens_calc(output_example)"
   ],
   "metadata": {
    "collapsed": false,
    "ExecuteTime": {
     "end_time": "2024-08-26T17:57:21.106442Z",
     "start_time": "2024-08-26T17:57:21.100425Z"
    }
   },
   "id": "60435557fd8e1174",
   "execution_count": 10
  },
  {
   "cell_type": "markdown",
   "source": [
    "Let's suppose the number of output tokens is 250"
   ],
   "metadata": {
    "collapsed": false
   },
   "id": "ad58b0a81fea3343"
  },
  {
   "cell_type": "code",
   "outputs": [
    {
     "name": "stdout",
     "output_type": "stream",
     "text": [
      "estimated price per Task (GPT-4): 0.029500000000000002 $\n"
     ]
    }
   ],
   "source": [
    "## Price calculation (just with gpt4 because in this module we don't use gpt3.5) \n",
    "input_price_per_token_gpt4 = 0.01 / 1000\n",
    "output_price_per_token_gpt4 = 0.03 / 1000\n",
    "price_gpt4 = 2200 * input_price_per_token_gpt4 + 250 * output_price_per_token_gpt4\n",
    "print(\"estimated price per Task (GPT-4):\", price_gpt4, \"$\")"
   ],
   "metadata": {
    "collapsed": false,
    "ExecuteTime": {
     "end_time": "2024-08-26T17:58:44.044513Z",
     "start_time": "2024-08-26T17:58:44.038961Z"
    }
   },
   "id": "93cce99c2d495b69",
   "execution_count": 13
  },
  {
   "cell_type": "code",
   "outputs": [
    {
     "name": "stdout",
     "output_type": "stream",
     "text": [
      "The estimated price with number of retrials of 1:  0.029500000000000002\n",
      "The estimated price with number of retrials of 2:  0.059000000000000004\n",
      "The estimated price with number of retrials of 3:  0.08850000000000001\n",
      "The estimated price with number of retrials of 4:  0.11800000000000001\n",
      "The estimated price with number of retrials of 5:  0.14750000000000002\n"
     ]
    }
   ],
   "source": [
    "## in this module there is a number of retrials so let's estimate the price with different number of retrials \n",
    "\n",
    "num_retrials = [1, 2, 3, 4, 5]\n",
    "for num_retrial in num_retrials:\n",
    "    total_price = price_gpt4 * num_retrial\n",
    "    print(\"The estimated price with number of retrials of \" + str(num_retrial) + \": \", total_price)\n",
    "    "
   ],
   "metadata": {
    "collapsed": false,
    "ExecuteTime": {
     "end_time": "2024-08-26T17:58:46.426609Z",
     "start_time": "2024-08-26T17:58:46.419364Z"
    }
   },
   "id": "36eabed95d936c22",
   "execution_count": 14
  },
  {
   "cell_type": "code",
   "outputs": [],
   "source": [],
   "metadata": {
    "collapsed": false
   },
   "id": "ea343451280482d3"
  }
 ],
 "metadata": {
  "kernelspec": {
   "display_name": "Python 3",
   "language": "python",
   "name": "python3"
  },
  "language_info": {
   "codemirror_mode": {
    "name": "ipython",
    "version": 2
   },
   "file_extension": ".py",
   "mimetype": "text/x-python",
   "name": "python",
   "nbconvert_exporter": "python",
   "pygments_lexer": "ipython2",
   "version": "2.7.6"
  }
 },
 "nbformat": 4,
 "nbformat_minor": 5
}
