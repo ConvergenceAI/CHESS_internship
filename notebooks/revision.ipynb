{
 "cells": [
  {
   "cell_type": "markdown",
   "source": [
    "In this notebook we will test the revision module "
   ],
   "metadata": {
    "collapsed": false
   },
   "id": "22501c527f49c824"
  },
  {
   "cell_type": "code",
   "outputs": [
    {
     "data": {
      "text/plain": "True"
     },
     "execution_count": 1,
     "metadata": {},
     "output_type": "execute_result"
    }
   ],
   "source": [
    "## IMPORTs\n",
    "from utils.task import Task\n",
    "import json\n",
    "import os\n",
    "from src.pipeline.revision import revision\n",
    "from dotenv import load_dotenv\n",
    "from utils.prompt import load_prompt\n",
    "import tiktoken\n",
    "from tqdm import tqdm\n",
    "\n",
    "load_dotenv()"
   ],
   "metadata": {
    "collapsed": false,
    "ExecuteTime": {
     "end_time": "2024-08-28T14:00:49.403093Z",
     "start_time": "2024-08-28T14:00:47.225961Z"
    }
   },
   "id": "d3ee3500de3a2bd",
   "execution_count": 1
  },
  {
   "cell_type": "code",
   "outputs": [],
   "source": [
    "# Function to load JSON data\n",
    "def load_json_data(filepath):\n",
    "    with open(filepath, 'r') as file:\n",
    "        data = json.load(file)\n",
    "    return data\n",
    "\n",
    "\n",
    "# Function to create task object\n",
    "def create_task(example):\n",
    "    return Task(example)"
   ],
   "metadata": {
    "collapsed": false,
    "ExecuteTime": {
     "end_time": "2024-08-28T14:00:49.408112Z",
     "start_time": "2024-08-28T14:00:49.404097Z"
    }
   },
   "id": "8123f2cb96f2255f",
   "execution_count": 2
  },
  {
   "cell_type": "code",
   "outputs": [],
   "source": [
    "# load the task data\n",
    "filepath = \"C:/Users\\yousf\\Bureau\\ConvergenceAI\\CHESS_Impl\\data/test/subsampled_test.json\"\n",
    "data = load_json_data(filepath)\n",
    "# load the retrieved entities\n",
    "filepath_entities = \"C:/Users\\yousf\\Bureau\\ConvergenceAI\\CHESS_Impl\\data/test/retrieved_entities.json\"\n",
    "retrieved_entities = load_json_data(filepath_entities)\n",
    "# load the retrieved context\n",
    "filepath_context = \"C:/Users\\yousf\\Bureau\\ConvergenceAI\\CHESS_Impl\\data/test/retrieved_context.json\"\n",
    "retrieved_context = load_json_data(filepath_context)\n",
    "# load the candidate SQL \n",
    "filepath_query = \"C:/Users\\yousf\\Bureau\\ConvergenceAI\\CHESS_Impl\\data/test/generated_candidate.json\"\n",
    "generated_candidate = load_json_data(filepath_query)"
   ],
   "metadata": {
    "collapsed": false,
    "ExecuteTime": {
     "end_time": "2024-08-28T14:00:49.439810Z",
     "start_time": "2024-08-28T14:00:49.409119Z"
    }
   },
   "id": "ec40e503f29410ef",
   "execution_count": 3
  },
  {
   "cell_type": "code",
   "outputs": [
    {
     "data": {
      "text/plain": "{'chain_of_thought_reasoning': \"To find the potential of Francesco Parravicini on a specific date, I joined the Player and Player_Attributes tables using the player_api_id as the common key. I filtered the results for the player name 'Francesco Parravicini' and the specific date '2010-08-30 00:00:00'. I also ensured that the potential column is not null to avoid any null results. The query strictly adheres to the database admin instructions, particularly focusing on joining tables with aliases, filtering null values, and selecting only the required column.\",\n 'SQL': \"SELECT T2.potential FROM Player T1 JOIN Player_Attributes T2 ON T1.player_api_id = T2.player_api_id WHERE T1.player_name = 'Francesco Parravicini' AND T2.date = '2010-08-30 00:00:00' AND T2.potential IS NOT NULL\"}"
     },
     "execution_count": 4,
     "metadata": {},
     "output_type": "execute_result"
    }
   ],
   "source": [
    "# test candidate generation module with a random sample\n",
    "index = 9\n",
    "example = data[index]\n",
    "task = create_task(example)\n",
    "model = \"gpt-4\"\n",
    "ans = revision(task=task, retrieved_entities=retrieved_entities[index],\n",
    "               retrieved_context=retrieved_context[index], generated_candidate=generated_candidate[index],\n",
    "               model=model,\n",
    "               num_samples=1)\n",
    "ans"
   ],
   "metadata": {
    "collapsed": false,
    "ExecuteTime": {
     "end_time": "2024-08-28T14:01:06.779055Z",
     "start_time": "2024-08-28T14:00:49.936412Z"
    }
   },
   "id": "6673724dec9b40e7",
   "execution_count": 4
  },
  {
   "cell_type": "code",
   "outputs": [
    {
     "name": "stderr",
     "output_type": "stream",
     "text": [
      "1it [00:09,  9.19s/it]"
     ]
    },
    {
     "name": "stdout",
     "output_type": "stream",
     "text": [
      "0 :  {'chain_of_thought_reasoning': \"The query aims to list each atom ID from the 'atom' table that belongs to the molecule 'TR346' and count the distinct types of bonds that can be formed by this molecule, as indicated by the 'bond' table. The JOIN operation is used to combine rows from 'atom' and 'bond' tables based on the molecule_id, ensuring that only entries where molecule_id equals 'TR346' are considered. The COUNT(DISTINCT) function is used to ensure that each type of bond is counted only once per atom, regardless of how many times it appears. The GROUP BY clause groups the results by atom_id, ensuring that the count of bond types is calculated for each atom individually.\", 'SQL': \"SELECT T1.atom_id, COUNT(DISTINCT T2.bond_type) FROM atom T1 JOIN bond T2 ON T1.molecule_id = T2.molecule_id WHERE T1.molecule_id = 'TR346' AND T2.molecule_id = 'TR346' GROUP BY T1.atom_id\"}\n"
     ]
    },
    {
     "name": "stderr",
     "output_type": "stream",
     "text": [
      "2it [00:22, 11.90s/it]"
     ]
    },
    {
     "name": "stdout",
     "output_type": "stream",
     "text": [
      "1 :  {'chain_of_thought_reasoning': \"To find the city location of the high school with specific criteria, I joined the 'schools' and 'frpm' tables using the CDSCode as a common key. I filtered the 'schools' table for schools in the county of Merced and for high schools, which are indicated by the EILCode 'HS'. In the 'frpm' table, I filtered for schools with 'Lunch Provision 2' as the NSLP Provision Status and with the lowest grade as 9 and the highest grade as 12. The query then selects the city from the 'schools' table that meets all these conditions.\", 'SQL': \"SELECT T1.City FROM schools T1 JOIN frpm T2 ON T1.CDSCode = T2.CDSCode WHERE T1.County = 'Merced' AND T1.EILCode = 'HS' AND T2.`NSLP Provision Status` = 'Lunch Provision 2' AND T2.`Low Grade` = '9' AND T2.`High Grade` = '12'\"}\n"
     ]
    },
    {
     "name": "stderr",
     "output_type": "stream",
     "text": [
      "3it [00:31, 10.14s/it]"
     ]
    },
    {
     "name": "stdout",
     "output_type": "stream",
     "text": [
      "2 :  {'chain_of_thought_reasoning': \"To find the tallest hero published by Marvel Comics, I joined the 'superhero' table with the 'publisher' table using the publisher_id. I filtered superheroes based on the publisher_name being 'Marvel Comics' and ensured that the height_cm column is not null and greater than 0 to avoid incorrect data. I then ordered the results by height in descending order to get the tallest hero at the top and limited the output to just one result. The SELECT clause only includes the full_name of the superhero as per the question's requirement.\", 'SQL': \"SELECT T1.full_name FROM superhero T1 JOIN publisher T2 ON T1.publisher_id = T2.id WHERE T2.publisher_name = 'Marvel Comics' AND T1.height_cm IS NOT NULL AND T1.height_cm > 0 ORDER BY T1.height_cm DESC LIMIT 1\"}\n"
     ]
    },
    {
     "name": "stderr",
     "output_type": "stream",
     "text": [
      "4it [00:46, 12.28s/it]"
     ]
    },
    {
     "name": "stdout",
     "output_type": "stream",
     "text": [
      "3 :  {'chain_of_thought_reasoning': \"To answer the question of how many elders obtained the 'Supporter' badge, I joined the 'badges' table with the 'users' table on the UserId to access the Age column. I filtered for users older than 65 and badges named 'Supporter'. I also ensured to filter out any null values in UserId and Age to adhere to the database admin instructions. The COUNT(DISTINCT UserId) function was used to count unique users who met the criteria, ensuring no duplicate counts for users who might have obtained the badge multiple times.\", 'SQL': \"SELECT COUNT(DISTINCT T1.UserId) FROM badges T1 JOIN users T2 ON T1.UserId = T2.Id WHERE T2.Age > 65 AND T1.Name = 'Supporter' AND T1.UserId IS NOT NULL AND T2.Age IS NOT NULL\"}\n"
     ]
    },
    {
     "name": "stderr",
     "output_type": "stream",
     "text": [
      "5it [00:58, 12.26s/it]"
     ]
    },
    {
     "name": "stdout",
     "output_type": "stream",
     "text": [
      "4 :  {'chain_of_thought_reasoning': \"The query aims to count distinct users from New York who have both 'Teacher' and 'Supporter' badges. The users table is joined with the badges table on UserId. The WHERE clause filters users based in New York and ensures that the badge Name is not null. The GROUP BY clause groups results by UserId, and the HAVING clause ensures that each user has at least one 'Teacher' badge and one 'Supporter' badge. The COUNT function is used to count these qualifying users.\", 'SQL': \"SELECT COUNT(DISTINCT T1.Id) FROM users T1 JOIN badges T2 ON T1.Id = T2.UserId WHERE T1.Location = 'New York' AND T2.Name IS NOT NULL GROUP BY T1.Id HAVING SUM(CASE WHEN T2.Name = 'Teacher' THEN 1 ELSE 0 END) > 0 AND SUM(CASE WHEN T2.Name = 'Supporter' THEN 1 ELSE 0 END) > 0\"}\n"
     ]
    },
    {
     "name": "stderr",
     "output_type": "stream",
     "text": [
      "6it [01:11, 12.39s/it]"
     ]
    },
    {
     "name": "stdout",
     "output_type": "stream",
     "text": [
      "5 :  {'chain_of_thought_reasoning': \"The question asks for the description about the ruling of the card named 'Condemn'. According to the database schema, the 'name' column in the 'cards' table corresponds to the card names, and the 'text' column in the 'rulings' table corresponds to the description of the ruling. To retrieve this information, a JOIN operation between the 'cards' and 'rulings' tables is necessary, using the 'uuid' as the linking key. The WHERE clause filters the results to only include the card named 'Condemn'. The SELECT clause is correctly focused on the 'text' column from the 'rulings' table, as per the instructions to only output the information asked in the question.\", 'SQL': \"SELECT T2.text FROM cards T1 JOIN rulings T2 ON T1.uuid = T2.uuid WHERE T1.name = 'Condemn'\"}\n"
     ]
    },
    {
     "name": "stderr",
     "output_type": "stream",
     "text": [
      "7it [01:22, 11.95s/it]"
     ]
    },
    {
     "name": "stdout",
     "output_type": "stream",
     "text": [
      "6 :  {'chain_of_thought_reasoning': \"To answer the question, I needed to determine both the number of double bonds and the carcinogenic status of the molecule with ID 'TR006'. According to the schema, the bond type information is stored in the 'bond' table and the carcinogenic label is stored in the 'molecule' table. I used a JOIN operation between these two tables on the 'molecule_id' to correlate the bonds to their respective molecules. I filtered the results for the molecule 'TR006' and specifically for bonds of type '=', which represent double bonds. The COUNT function was used to count the number of such bonds, and the label was directly selected from the 'molecule' table. The query was structured to ensure that only the required information (count of double bonds and carcinogenic label) was returned, adhering to the database admin instructions.\", 'SQL': \"SELECT COUNT(T2.bond_id) AS double_bonds_count, T1.label AS carcinogenic FROM molecule T1 JOIN bond T2 ON T1.molecule_id = T2.molecule_id WHERE T1.molecule_id = 'TR006' AND T2.bond_type = '='\"}\n"
     ]
    },
    {
     "name": "stderr",
     "output_type": "stream",
     "text": [
      "8it [01:33, 11.69s/it]"
     ]
    },
    {
     "name": "stdout",
     "output_type": "stream",
     "text": [
      "7 :  {'chain_of_thought_reasoning': \"The initial query incorrectly used the concatenation operator || ' ' || to combine first_name and last_name, which is explicitly banned by the instructions. Additionally, the position 'Secretary' was mistakenly used to filter the member table, whereas it should have been used to filter the zip_code table based on the hint provided. The correct approach is to join the member table with the major table to get the college information and then filter based on the city in the zip_code table, which corresponds to the position 'Secretary'.\", 'SQL': \"SELECT T1.first_name, T1.last_name, T2.college FROM member T1 INNER JOIN major T2 ON T1.link_to_major = T2.major_id INNER JOIN zip_code T3 ON T1.zip = T3.zip_code WHERE T3.city = 'Secretary'\"}\n"
     ]
    },
    {
     "name": "stderr",
     "output_type": "stream",
     "text": [
      "9it [01:43, 11.12s/it]"
     ]
    },
    {
     "name": "stdout",
     "output_type": "stream",
     "text": [
      "8 :  {'chain_of_thought_reasoning': \"To calculate the percentage of compounds that form a triple bond, I first identified the total number of unique molecules in the database using COUNT(DISTINCT) on molecule_id from the molecule table. Then, I determined the number of unique molecules that have at least one triple bond by joining the molecule table with the bond table where bond_type is '#'. I used a LEFT JOIN to ensure all molecules are considered, and filtered the bond_type to include only triple bonds. The percentage is then calculated by dividing the count of molecules with a triple bond by the total count of molecules and multiplying by 100.0 for percentage. The WHERE clause ensures that only relevant bonds are considered in the calculation.\", 'SQL': \"SELECT (COUNT(DISTINCT T2.molecule_id) * 100.0 / COUNT(DISTINCT T1.molecule_id)) AS percentage_of_triple_bonds FROM molecule T1 LEFT JOIN bond T2 ON T1.molecule_id = T2.molecule_id AND T2.bond_type = '#' WHERE T2.bond_type IS NOT NULL\"}\n"
     ]
    },
    {
     "name": "stderr",
     "output_type": "stream",
     "text": [
      "10it [01:58, 12.21s/it]"
     ]
    },
    {
     "name": "stdout",
     "output_type": "stream",
     "text": [
      "9 :  {'chain_of_thought_reasoning': \"To answer the question about Francesco Parravicini's potential on a specific date, I joined the Player and Player_Attributes tables using the player_api_id as the common key. I filtered the Player table for the specific player name and the Player_Attributes table for the exact date. I also ensured to filter out any potential null values in the potential column to adhere to the database admin instructions. The query is designed to return only the potential value as requested.\", 'SQL': \"SELECT T2.potential FROM Player T1 JOIN Player_Attributes T2 ON T1.player_api_id = T2.player_api_id WHERE T1.player_name = 'Francesco Parravicini' AND T2.date = '2010-08-30 00:00:00' AND T2.potential IS NOT NULL\"}\n"
     ]
    },
    {
     "name": "stderr",
     "output_type": "stream",
     "text": [
      "11it [02:10, 12.28s/it]"
     ]
    },
    {
     "name": "stdout",
     "output_type": "stream",
     "text": [
      "10 :  {'chain_of_thought_reasoning': \"To answer the question, I joined the 'client' and 'district' tables based on the 'district_id' to access both the gender of the clients and the district information. I filtered the clients by gender 'M' for male, and checked the district's region (A3) for 'north Bohemia' (case-sensitive as per the hint). I also filtered for districts where the average salary (A11) is greater than 8000. The COUNT function is used to get the total number of such clients.\", 'SQL': \"SELECT COUNT(*) FROM client T1 JOIN district T2 ON T1.district_id = T2.district_id WHERE T1.gender = 'M' AND T2.A3 = 'north Bohemia' AND T2.A11 > 8000\"}\n"
     ]
    },
    {
     "name": "stderr",
     "output_type": "stream",
     "text": [
      "12it [02:19, 11.24s/it]"
     ]
    },
    {
     "name": "stdout",
     "output_type": "stream",
     "text": [
      "11 :  {'chain_of_thought_reasoning': \"To find the school in California with the lowest latitude, I filtered schools based on the 'State' column being 'CA' and ensured that the 'Latitude' column is not null to avoid errors during sorting. I then ordered the results by the 'Latitude' column in ascending order to get the school with the lowest latitude first. The query limits the result to 1 to ensure only the school with the absolute lowest latitude is returned. The SELECT clause includes the city, lowest grade served, and school name as per the question's requirements.\", 'SQL': \"SELECT T1.City, T1.GSserved, T1.School FROM schools T1 WHERE T1.State = 'CA' AND T1.Latitude IS NOT NULL ORDER BY T1.Latitude ASC LIMIT 1\"}\n"
     ]
    },
    {
     "name": "stderr",
     "output_type": "stream",
     "text": [
      "13it [02:26, 10.00s/it]"
     ]
    },
    {
     "name": "stdout",
     "output_type": "stream",
     "text": [
      "12 :  {'chain_of_thought_reasoning': \"The task is to calculate the percentage of bonds that are double bonds ('=') among all bonds in molecule TR047. The SQL query uses a CASE statement within the SUM function to count only the double bonds, and divides this by the total count of bonds for molecule TR047, multiplying by 100 to get the percentage. The WHERE clause ensures that only bonds from molecule TR047 are considered. This approach adheres to the database admin instructions by directly calculating the percentage in a single query without subqueries, and by not including unnecessary columns in the SELECT clause.\", 'SQL': \"SELECT (SUM(CASE WHEN bond_type = '=' THEN 1 ELSE 0 END) * 100.0 / COUNT(bond_id)) AS percent FROM bond WHERE molecule_id = 'TR047'\"}\n"
     ]
    },
    {
     "name": "stderr",
     "output_type": "stream",
     "text": [
      "14it [02:40, 11.21s/it]"
     ]
    },
    {
     "name": "stdout",
     "output_type": "stream",
     "text": [
      "13 :  {'chain_of_thought_reasoning': \"To find the user who added a bounty amount of 50 to a post with a title mentioning 'variance', I joined three tables: votes, posts, and users. The votes table (T1) connects to the posts table (T2) via PostId to access the post details, and to the users table (T3) via UserId to get the user's DisplayName. I filtered the votes for those with a BountyAmount of 50 and posts whose titles contain 'variance'. I also ensured that BountyAmount and Title are not null to avoid errors in filtering and matching conditions.\", 'SQL': \"SELECT T3.DisplayName FROM votes T1 JOIN posts T2 ON T1.PostId = T2.Id JOIN users T3 ON T1.UserId = T3.Id WHERE T1.BountyAmount = 50 AND T2.Title LIKE '%variance%' AND T1.BountyAmount IS NOT NULL AND T2.Title IS NOT NULL\"}\n"
     ]
    },
    {
     "name": "stderr",
     "output_type": "stream",
     "text": [
      "15it [02:48, 11.24s/it]"
     ]
    },
    {
     "name": "stdout",
     "output_type": "stream",
     "text": [
      "14 :  {'chain_of_thought_reasoning': \"The query aims to retrieve the dates when users from 'Rochester, NY' obtained their badges. The users table is joined with the badges table on the user ID to access the badge dates. The WHERE clause filters users based on the location 'Rochester, NY' and ensures that the badge date is not null, adhering to the database admin instructions to filter out null values in logical operations.\", 'SQL': \"SELECT T2.Date FROM users T1 JOIN badges T2 ON T1.Id = T2.UserId WHERE T1.Location = 'Rochester, NY' AND T2.Date IS NOT NULL\"}\n"
     ]
    },
    {
     "name": "stderr",
     "output_type": "stream",
     "text": [
      "\n"
     ]
    }
   ],
   "source": [
    "#test revision module with the subsampled test\n",
    "model = \"gpt-4\"\n",
    "num_samples = 1\n",
    "res = []\n",
    "for index, sample in tqdm(enumerate(data)):\n",
    "    task = create_task(sample)\n",
    "    ans = revision(task=task, retrieved_entities=retrieved_entities[index],\n",
    "                   retrieved_context=retrieved_context[index], generated_candidate=generated_candidate[index],\n",
    "                   model=model,\n",
    "                   num_samples=num_samples)\n",
    "    res.append(ans)\n",
    "    print(str(index) + \" : \", ans)"
   ],
   "metadata": {
    "collapsed": false,
    "ExecuteTime": {
     "end_time": "2024-08-28T14:05:19.763600Z",
     "start_time": "2024-08-28T14:02:31.183225Z"
    }
   },
   "id": "53358714fd3228e8",
   "execution_count": 5
  },
  {
   "cell_type": "code",
   "outputs": [],
   "source": [
    "from pathlib import Path\n",
    "\n",
    "schema_path = Path('C:/Users/yousf/Bureau/ConvergenceAI/CHESS_Impl/data/test/final_sql.json')\n",
    "with open(schema_path, 'w') as f:\n",
    "    json.dump(res, f, indent=4)"
   ],
   "metadata": {
    "collapsed": false,
    "ExecuteTime": {
     "end_time": "2024-08-28T14:05:19.793797Z",
     "start_time": "2024-08-28T14:05:19.773102Z"
    }
   },
   "id": "c7136ae9b275bee3",
   "execution_count": 6
  },
  {
   "cell_type": "markdown",
   "source": [
    "## Cost Estimation per task"
   ],
   "metadata": {
    "collapsed": false
   },
   "id": "47d45d53e7cd81c4"
  },
  {
   "cell_type": "code",
   "outputs": [],
   "source": [
    "PROMPT_PATH = os.getenv(\"PROMPT_ROOT_PATH\") + \"\\\\candidate_generation.txt\"\n",
    "prompt = load_prompt(PROMPT_PATH)"
   ],
   "metadata": {
    "collapsed": false,
    "ExecuteTime": {
     "end_time": "2024-08-26T17:57:17.273921Z",
     "start_time": "2024-08-26T17:57:17.267494Z"
    }
   },
   "id": "8b7abe90effecf29",
   "execution_count": 7
  },
  {
   "cell_type": "code",
   "outputs": [],
   "source": [
    "def tokens_calc(example):\n",
    "    encoding = tiktoken.get_encoding(\"cl100k_base\")\n",
    "    num_tokens = len(encoding.encode(example))\n",
    "    return num_tokens"
   ],
   "metadata": {
    "collapsed": false,
    "ExecuteTime": {
     "end_time": "2024-08-26T17:57:17.693773Z",
     "start_time": "2024-08-26T17:57:17.688769Z"
    }
   },
   "id": "f2006068dd7dc037",
   "execution_count": 8
  },
  {
   "cell_type": "code",
   "outputs": [
    {
     "data": {
      "text/plain": "727"
     },
     "execution_count": 9,
     "metadata": {},
     "output_type": "execute_result"
    }
   ],
   "source": [
    "#prompt template tokens \n",
    "tokens_calc(prompt)"
   ],
   "metadata": {
    "collapsed": false,
    "ExecuteTime": {
     "end_time": "2024-08-26T17:57:18.647156Z",
     "start_time": "2024-08-26T17:57:18.042102Z"
    }
   },
   "id": "ff52f9987153a108",
   "execution_count": 9
  },
  {
   "cell_type": "markdown",
   "source": [
    "The prompt template has 727 tokens in total, but it have so many variables so it will more longer than\n",
    "that to estimate the approximate token numbers we will see with a formatted prompt.\n",
    "Let's say approximately 2200 tokens\n"
   ],
   "metadata": {
    "collapsed": false
   },
   "id": "dcc7e2a7f7e28615"
  },
  {
   "cell_type": "code",
   "outputs": [
    {
     "data": {
      "text/plain": "228"
     },
     "execution_count": 10,
     "metadata": {},
     "output_type": "execute_result"
    }
   ],
   "source": [
    "## Output tokens estimation from an example \n",
    "output_example = \"\"\"\n",
    "{'chain_of_thought_reasoning': \"To solve the query, I first identified the tables and columns relevant to the question. The question asks for the full name and college of a club member with the position of 'Secretary'. The 'member' table contains member details including position, and the 'major' table contains college information. The 'position' column in the 'member' table is used to filter for 'Secretary'. The 'link_to_major' in the 'member' table and 'major_id' in the 'major' table are used to join these tables. The 'college' column in the 'major' table provides the college information. I ensured to select only the columns explicitly asked for in the question, adhering to the database admin instructions.\",\n",
    " 'SQL': \"SELECT T1.first_name, T1.last_name, T2.college FROM member AS T1 JOIN major AS T2 ON T1.link_to_major = T2.major_id WHERE T1.position = 'Secretary' AND T1.first_name IS NOT NULL AND T1.last_name IS NOT NULL AND T2.college IS NOT NULL\"}\n",
    "\"\"\"\n",
    "tokens_calc(output_example)"
   ],
   "metadata": {
    "collapsed": false,
    "ExecuteTime": {
     "end_time": "2024-08-26T17:57:21.106442Z",
     "start_time": "2024-08-26T17:57:21.100425Z"
    }
   },
   "id": "60435557fd8e1174",
   "execution_count": 10
  },
  {
   "cell_type": "markdown",
   "source": [
    "Let's suppose the number of output tokens is 250"
   ],
   "metadata": {
    "collapsed": false
   },
   "id": "ad58b0a81fea3343"
  },
  {
   "cell_type": "code",
   "outputs": [
    {
     "name": "stdout",
     "output_type": "stream",
     "text": [
      "estimated price per Task (GPT-4): 0.029500000000000002 $\n"
     ]
    }
   ],
   "source": [
    "## Price calculation (just with gpt4 because in this module we don't use gpt3.5) \n",
    "input_price_per_token_gpt4 = 0.01 / 1000\n",
    "output_price_per_token_gpt4 = 0.03 / 1000\n",
    "price_gpt4 = 2200 * input_price_per_token_gpt4 + 250 * output_price_per_token_gpt4\n",
    "print(\"estimated price per Task (GPT-4):\", price_gpt4, \"$\")"
   ],
   "metadata": {
    "collapsed": false,
    "ExecuteTime": {
     "end_time": "2024-08-26T17:58:44.044513Z",
     "start_time": "2024-08-26T17:58:44.038961Z"
    }
   },
   "id": "93cce99c2d495b69",
   "execution_count": 13
  },
  {
   "cell_type": "code",
   "outputs": [
    {
     "name": "stdout",
     "output_type": "stream",
     "text": [
      "The estimated price with number of retrials of 1:  0.029500000000000002\n",
      "The estimated price with number of retrials of 2:  0.059000000000000004\n",
      "The estimated price with number of retrials of 3:  0.08850000000000001\n",
      "The estimated price with number of retrials of 4:  0.11800000000000001\n",
      "The estimated price with number of retrials of 5:  0.14750000000000002\n"
     ]
    }
   ],
   "source": [
    "## in this module there is a number of retrials so let's estimate the price with different number of retrials \n",
    "\n",
    "num_retrials = [1, 2, 3, 4, 5]\n",
    "for num_retrial in num_retrials:\n",
    "    total_price = price_gpt4 * num_retrial\n",
    "    print(\"The estimated price with number of retrials of \" + str(num_retrial) + \": \", total_price)\n",
    "    "
   ],
   "metadata": {
    "collapsed": false,
    "ExecuteTime": {
     "end_time": "2024-08-26T17:58:46.426609Z",
     "start_time": "2024-08-26T17:58:46.419364Z"
    }
   },
   "id": "36eabed95d936c22",
   "execution_count": 14
  },
  {
   "cell_type": "code",
   "outputs": [],
   "source": [],
   "metadata": {
    "collapsed": false
   },
   "id": "ea343451280482d3"
  }
 ],
 "metadata": {
  "kernelspec": {
   "display_name": "Python 3",
   "language": "python",
   "name": "python3"
  },
  "language_info": {
   "codemirror_mode": {
    "name": "ipython",
    "version": 2
   },
   "file_extension": ".py",
   "mimetype": "text/x-python",
   "name": "python",
   "nbconvert_exporter": "python",
   "pygments_lexer": "ipython2",
   "version": "2.7.6"
  }
 },
 "nbformat": 4,
 "nbformat_minor": 5
}
