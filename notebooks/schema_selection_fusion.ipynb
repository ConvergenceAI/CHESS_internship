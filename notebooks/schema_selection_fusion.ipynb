{
 "cells": [
  {
   "cell_type": "markdown",
   "source": [
    "In this notebook we will test the accuracy  "
   ],
   "metadata": {
    "collapsed": false
   },
   "id": "280a54fe3a05ea63"
  },
  {
   "cell_type": "code",
   "outputs": [
    {
     "data": {
      "text/plain": "True"
     },
     "execution_count": 1,
     "metadata": {},
     "output_type": "execute_result"
    }
   ],
   "source": [
    "# IMPORTs\n",
    "from utils.task import Task\n",
    "import json\n",
    "import os\n",
    "from src.pipeline.schema_selection_fusion import schema_selection_fusion\n",
    "from utils.database_utils.db_info import get_db_schema\n",
    "from tqdm import tqdm\n",
    "from dotenv import load_dotenv\n",
    "from utils.sql_query_parsers import get_sql_columns_dict\n",
    "import matplotlib.pyplot as plt\n",
    "import numpy as np\n",
    "\n",
    "load_dotenv()"
   ],
   "metadata": {
    "collapsed": true,
    "ExecuteTime": {
     "end_time": "2024-08-22T08:14:17.882650Z",
     "start_time": "2024-08-22T08:14:14.375090Z"
    }
   },
   "id": "initial_id",
   "execution_count": 1
  },
  {
   "cell_type": "code",
   "outputs": [],
   "source": [
    "# Function to load JSON data\n",
    "def load_json_data(filepath):\n",
    "    with open(filepath, 'r') as file:\n",
    "        data = json.load(file)\n",
    "    return data\n",
    "\n",
    "\n",
    "# Function to create task object\n",
    "def create_task(example):\n",
    "    return Task(example)"
   ],
   "metadata": {
    "collapsed": false,
    "ExecuteTime": {
     "end_time": "2024-08-22T08:14:17.898457Z",
     "start_time": "2024-08-22T08:14:17.887174Z"
    }
   },
   "id": "f09c0df87a20707e",
   "execution_count": 2
  },
  {
   "cell_type": "code",
   "outputs": [],
   "source": [
    "# load the task data\n",
    "filepath = \"C:/Users\\yousf\\Bureau\\ConvergenceAI\\CHESS_Impl\\data/test/subsampled_test.json\"\n",
    "data = load_json_data(filepath)\n",
    "# load the retrieved entities\n",
    "filepath_entities = \"C:/Users\\yousf\\Bureau\\ConvergenceAI\\CHESS_Impl\\data/test/retrieved_entities.json\"\n",
    "retrieved_entities = load_json_data(filepath_entities)\n",
    "# load the retrieved context\n",
    "filepath_context = \"C:/Users\\yousf\\Bureau\\ConvergenceAI\\CHESS_Impl\\data/test/retrieved_context.json\"\n",
    "retrieved_context = load_json_data(filepath_context)"
   ],
   "metadata": {
    "collapsed": false,
    "ExecuteTime": {
     "end_time": "2024-08-22T08:14:17.953041Z",
     "start_time": "2024-08-22T08:14:17.901117Z"
    }
   },
   "id": "4a5855e26232b4e2",
   "execution_count": 3
  },
  {
   "cell_type": "code",
   "outputs": [
    {
     "data": {
      "text/plain": "{'selected_schema': {'frpm': ['CDSCode',\n   'Low Grade',\n   'High Grade',\n   'NSLP Provision Status'],\n  'schools': ['CDSCode', 'County', 'City', 'EILCode']},\n 'chain_of_thought_reasoning': \"The question asks for the city location of a high school level school with Lunch Provision 2, lowest grade 9, and highest grade 12 in the county of Merced. The hint suggests that EILCode = 'HS' represents high school. We need to find the school with this characteristic and then retrieve its city location. The tables frpm and schools contain relevant information. The column County in the schools table helps filter schools by county, and the column City in the same table provides the city location. The column EILCode in the schools table matches the hint, and the columns Low Grade and High Grade in the frpm table match the grade requirements. The column NSLP Provision Status in the frpm table matches the Lunch Provision 2 requirement.\"}"
     },
     "execution_count": 4,
     "metadata": {},
     "output_type": "execute_result"
    }
   ],
   "source": [
    "# test column selection module with a random sample\n",
    "index = 1\n",
    "example = data[index]\n",
    "task = create_task(example)\n",
    "\n",
    "#get the database schema\n",
    "dp_path = os.getenv(\"DB_ROOT_PATH\") + f\"/{task.db_id}/{task.db_id}.sqlite\"\n",
    "schema = get_db_schema(dp_path)\n",
    "model = \"llama-3\"\n",
    "ans = schema_selection_fusion(task=task, retrieved_entities=retrieved_entities[index],\n",
    "                              retrieved_context=retrieved_context[index], tentative_schema=schema, model=model,\n",
    "                              num_samples=1)\n",
    "ans"
   ],
   "metadata": {
    "collapsed": false,
    "ExecuteTime": {
     "end_time": "2024-08-21T18:10:28.921187Z",
     "start_time": "2024-08-21T18:10:23.198214Z"
    }
   },
   "id": "fcea65115c808765",
   "execution_count": 4
  },
  {
   "cell_type": "code",
   "outputs": [
    {
     "name": "stderr",
     "output_type": "stream",
     "text": [
      "0it [00:06, ?it/s]\n",
      "\n",
      "KeyboardInterrupt\n",
      "\n"
     ]
    }
   ],
   "source": [
    "#test context retrieval module with the subsampled test and with the base schema of database\n",
    "model = \"gpt-4\"\n",
    "num_samples = 1\n",
    "res = []\n",
    "for index, sample in tqdm(enumerate(data)):\n",
    "    task = create_task(sample)\n",
    "    dp_path = os.getenv(\"DB_ROOT_PATH\") + f\"/{task.db_id}/{task.db_id}.sqlite\"\n",
    "    schema = get_db_schema(dp_path)\n",
    "\n",
    "    ans = schema_selection_fusion(task=task, retrieved_entities=retrieved_entities[index],\n",
    "                                  retrieved_context=retrieved_context[index], tentative_schema=schema, model=model,\n",
    "                                  num_samples=num_samples)\n",
    "    res.append(ans)\n",
    "    print(str(index) + \" : \", ans)"
   ],
   "metadata": {
    "collapsed": false,
    "ExecuteTime": {
     "end_time": "2024-08-22T08:14:09.091425Z",
     "start_time": "2024-08-22T08:14:02.117575Z"
    }
   },
   "id": "bddecec5d6453ee8",
   "execution_count": 4
  },
  {
   "cell_type": "markdown",
   "source": [
    "# Metrics"
   ],
   "metadata": {
    "collapsed": false
   },
   "id": "7e9ebb6bd69524e1"
  },
  {
   "cell_type": "code",
   "outputs": [],
   "source": [
    "def calculate_precision_recall_f1(tp, fp, fn):\n",
    "    \"\"\"\n",
    "    Calculate precision, recall, and F1 score.\n",
    "    \n",
    "    Args:\n",
    "        tp (int): Number of true positives.\n",
    "        fp (int): Number of false positives.\n",
    "        fn (int): Number of false negatives.\n",
    "    \n",
    "    Returns:\n",
    "        Tuple[float, float, float]: Precision, recall, and F1 score.\n",
    "    \"\"\"\n",
    "    precision = tp / (tp + fp) if (tp + fp) > 0 else 0\n",
    "    recall = tp / (tp + fn) if (tp + fn) > 0 else 0\n",
    "    f1 = 2 * precision * recall / (precision + recall) if (precision + recall) > 0 else 0\n",
    "    return precision, recall, f1\n",
    "\n",
    "\n",
    "def evaluate_schema(ground_truth, predicted):\n",
    "    \"\"\"\n",
    "    Evaluate the schema prediction against the ground truth.\n",
    "    \n",
    "    Args:\n",
    "        ground_truth (Dict[str, List[str]]): Ground truth schema with tables and their columns.\n",
    "        predicted (Dict[str, List[str]]): Predicted schema with tables and their columns.\n",
    "    \n",
    "    Returns:\n",
    "        Dict[str, Dict[str, float]]: Evaluation results for tables and columns.\n",
    "    \"\"\"\n",
    "\n",
    "    # Transform all table and column names to lowercase\n",
    "    ground_truth = {table.lower(): [col.lower() for col in columns] for table, columns in ground_truth.items()}\n",
    "    predicted = {table.lower(): [col.lower() for col in columns] for table, columns in predicted.items()}\n",
    "\n",
    "    # Evaluate tables\n",
    "    gt_tables = set(ground_truth.keys())\n",
    "    pred_tables = set(predicted.keys())\n",
    "\n",
    "    tp_tables = len(gt_tables.intersection(pred_tables))\n",
    "    fp_tables = len(pred_tables.difference(gt_tables))\n",
    "    fn_tables = len(gt_tables.difference(pred_tables))\n",
    "\n",
    "    table_precision, table_recall, table_f1 = calculate_precision_recall_f1(tp_tables, fp_tables, fn_tables)\n",
    "\n",
    "    # Evaluate columns\n",
    "    tp_columns = 0\n",
    "    fp_columns = 0\n",
    "    fn_columns = 0\n",
    "\n",
    "    for table in gt_tables:\n",
    "        gt_columns = set(ground_truth[table])\n",
    "        pred_columns = set(predicted.get(table, []))\n",
    "\n",
    "        tp_columns += len(gt_columns.intersection(pred_columns))\n",
    "        fp_columns += len(pred_columns.difference(gt_columns))\n",
    "        fn_columns += len(gt_columns.difference(pred_columns))\n",
    "\n",
    "    column_precision, column_recall, column_f1 = calculate_precision_recall_f1(tp_columns, fp_columns, fn_columns)\n",
    "\n",
    "    return {\n",
    "        \"table_metrics\": {\n",
    "            \"precision\": table_precision,\n",
    "            \"recall\": table_recall,\n",
    "            \"f1\": table_f1\n",
    "        },\n",
    "        \"column_metrics\": {\n",
    "            \"precision\": column_precision,\n",
    "            \"recall\": column_recall,\n",
    "            \"f1\": column_f1\n",
    "        }\n",
    "    }\n",
    "\n",
    "\n",
    "def aggregate_metrics(evals):\n",
    "    \"\"\"\n",
    "    Aggregate precision, recall, and F1 scores from multiple evaluations.\n",
    "    \n",
    "    Args:\n",
    "        evals (List[Dict[str, Dict[str, float]]]): List of evaluation results.\n",
    "    \n",
    "    Returns:\n",
    "        Dict[str, float]: Aggregated precision, recall, and F1 score.\n",
    "    \"\"\"\n",
    "    table_precision = np.mean([evaluation['table_metrics']['precision'] for evaluation in evals])\n",
    "    table_recall = np.mean([evaluation['table_metrics']['recall'] for evaluation in evals])\n",
    "    table_f1 = np.mean([evaluation['table_metrics']['f1'] for evaluation in evals])\n",
    "\n",
    "    column_precision = np.mean([evaluation['column_metrics']['precision'] for evaluation in evals])\n",
    "    column_recall = np.mean([evaluation['column_metrics']['recall'] for evaluation in evals])\n",
    "    column_f1 = np.mean([evaluation['column_metrics']['f1'] for evaluation in evals])\n",
    "\n",
    "    return {\n",
    "        \"table_metrics\": {\n",
    "            \"precision\": table_precision,\n",
    "            \"recall\": table_recall,\n",
    "            \"f1\": table_f1\n",
    "        },\n",
    "        \"column_metrics\": {\n",
    "            \"precision\": column_precision,\n",
    "            \"recall\": column_recall,\n",
    "            \"f1\": column_f1\n",
    "        }\n",
    "    }\n",
    "\n",
    "\n",
    "def plot_metrics(metrics):\n",
    "    \"\"\"\n",
    "    Plot precision, recall, and F1 score.\n",
    "    \n",
    "    Args:\n",
    "        metrics (Dict[str, Dict[str, float]]): Aggregated metrics.\n",
    "    \"\"\"\n",
    "    categories = ['Tables', 'Columns']\n",
    "\n",
    "    precision_values = [\n",
    "        metrics['table_metrics']['precision'],\n",
    "        metrics['column_metrics']['precision']\n",
    "    ]\n",
    "\n",
    "    recall_values = [\n",
    "        metrics['table_metrics']['recall'],\n",
    "        metrics['column_metrics']['recall']\n",
    "    ]\n",
    "\n",
    "    f1_values = [\n",
    "        metrics['table_metrics']['f1'],\n",
    "        metrics['column_metrics']['f1']\n",
    "    ]\n",
    "\n",
    "    x = np.arange(len(categories))\n",
    "    width = 0.25  # the width of the bars\n",
    "\n",
    "    fig, ax = plt.subplots(figsize=(10, 6))\n",
    "    rects1 = ax.bar(x - width, precision_values, width, label='Precision')\n",
    "    rects2 = ax.bar(x, recall_values, width, label='Recall')\n",
    "    rects3 = ax.bar(x + width, f1_values, width, label='F1 Score')\n",
    "\n",
    "    ax.set_ylabel('Scores')\n",
    "    ax.set_title('Average Precision, Recall, and F1 Score for Tables and Columns')\n",
    "    ax.set_xticks(x)\n",
    "    ax.set_xticklabels(categories)\n",
    "    ax.legend()\n",
    "\n",
    "    def autolabel(rects):\n",
    "        \"\"\"Attach a text label above each bar in *rects*, displaying its height.\"\"\"\n",
    "        for rect in rects:\n",
    "            height = rect.get_height()\n",
    "            ax.annotate('{}'.format(round(height, 2)),\n",
    "                        xy=(rect.get_x() + rect.get_width() / 2, height),\n",
    "                        xytext=(0, 3),  # 3 points vertical offset\n",
    "                        textcoords=\"offset points\",\n",
    "                        ha='center', va='bottom')\n",
    "\n",
    "    autolabel(rects1)\n",
    "    autolabel(rects2)\n",
    "    autolabel(rects3)\n",
    "\n",
    "    fig.tight_layout()\n",
    "    plt.ylim(0, 1)  # Set y-axis range from 0 to 1\n",
    "    plt.show()\n",
    "\n",
    "\n",
    "def make_test(data, model, num_samples):\n",
    "    res = []\n",
    "    for index, sample in tqdm(enumerate(data)):\n",
    "        task = create_task(sample)\n",
    "        dp_path = os.getenv(\"DB_ROOT_PATH\") + f\"/{task.db_id}/{task.db_id}.sqlite\"\n",
    "        schema = get_db_schema(dp_path)\n",
    "\n",
    "        ans = schema_selection_fusion(task=task, retrieved_entities=retrieved_entities[index],\n",
    "                                      retrieved_context=retrieved_context[index], tentative_schema=schema, model=model,\n",
    "                                      num_samples=num_samples)\n",
    "        res.append(ans)\n",
    "\n",
    "    evals = []\n",
    "    for i, schema in enumerate(res):\n",
    "        pred = schema[\"selected_schema\"]\n",
    "        task = create_task(data[i])\n",
    "        db_path = os.getenv(\"DB_ROOT_PATH\") + f\"/{task.db_id}/{task.db_id}.sqlite\"\n",
    "        gt = get_sql_columns_dict(db_path, task.SQL)\n",
    "        evaluation = evaluate_schema(gt, pred)\n",
    "        evals.append(evaluation)\n",
    "\n",
    "    aggregated_metrics = aggregate_metrics(evals)\n",
    "    print(\"Aggregated Metrics:\", aggregated_metrics)\n",
    "\n",
    "    plot_metrics(aggregated_metrics)\n"
   ],
   "metadata": {
    "collapsed": false,
    "ExecuteTime": {
     "end_time": "2024-08-22T08:17:02.841300Z",
     "start_time": "2024-08-22T08:17:02.785140Z"
    }
   },
   "id": "3e975890bb1ece86",
   "execution_count": 5
  },
  {
   "cell_type": "code",
   "outputs": [
    {
     "name": "stderr",
     "output_type": "stream",
     "text": [
      "15it [02:04,  8.32s/it]\n"
     ]
    },
    {
     "name": "stdout",
     "output_type": "stream",
     "text": [
      "Aggregated Metrics: {'table_metrics': {'precision': 0.9444444444444444, 'recall': 0.9666666666666667, 'f1': 0.9422222222222222}, 'column_metrics': {'precision': 0.9266666666666666, 'recall': 0.8796825396825396, 'f1': 0.8977777777777778}}\n"
     ]
    },
    {
     "data": {
      "text/plain": "<Figure size 1000x600 with 1 Axes>",
      "image/png": "[encoded data removed]"
     },
     "metadata": {},
     "output_type": "display_data"
    }
   ],
   "source": [
    "model = \"gpt-4\"\n",
    "num_samples = 1\n",
    "make_test(data, model, num_samples)"
   ],
   "metadata": {
    "collapsed": false,
    "ExecuteTime": {
     "end_time": "2024-08-22T08:19:10.864477Z",
     "start_time": "2024-08-22T08:17:05.342472Z"
    }
   },
   "id": "ac02ff0e5eae103b",
   "execution_count": 6
  },
  {
   "cell_type": "code",
   "outputs": [
    {
     "name": "stderr",
     "output_type": "stream",
     "text": [
      "15it [06:04, 24.33s/it]\n"
     ]
    },
    {
     "name": "stdout",
     "output_type": "stream",
     "text": [
      "Aggregated Metrics: {'table_metrics': {'precision': 0.9444444444444444, 'recall': 0.9666666666666667, 'f1': 0.9422222222222222}, 'column_metrics': {'precision': 0.9018181818181819, 'recall': 0.913015873015873, 'f1': 0.8986267533635955}}\n"
     ]
    },
    {
     "data": {
      "text/plain": "<Figure size 1000x600 with 1 Axes>",
      "image/png": "[encoded data removed]"
     },
     "metadata": {},
     "output_type": "display_data"
    }
   ],
   "source": [
    "model = \"gpt-4\"\n",
    "num_samples = 3\n",
    "make_test(data, model, num_samples)"
   ],
   "metadata": {
    "collapsed": false,
    "ExecuteTime": {
     "end_time": "2024-08-22T08:25:16.334339Z",
     "start_time": "2024-08-22T08:19:10.872600Z"
    }
   },
   "id": "1a6c911086bbf497",
   "execution_count": 7
  },
  {
   "cell_type": "code",
   "outputs": [],
   "source": [],
   "metadata": {
    "collapsed": false
   },
   "id": "cbcff35e08861251"
  }
 ],
 "metadata": {
  "kernelspec": {
   "display_name": "Python 3",
   "language": "python",
   "name": "python3"
  },
  "language_info": {
   "codemirror_mode": {
    "name": "ipython",
    "version": 2
   },
   "file_extension": ".py",
   "mimetype": "text/x-python",
   "name": "python",
   "nbconvert_exporter": "python",
   "pygments_lexer": "ipython2",
   "version": "2.7.6"
  }
 },
 "nbformat": 4,
 "nbformat_minor": 5
}
