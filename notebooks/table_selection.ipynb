{
 "cells": [
  {
   "cell_type": "markdown",
   "source": [
    "In this notebook we will test the table selection module"
   ],
   "metadata": {
    "collapsed": false
   },
   "id": "b32b4c343313eb80"
  },
  {
   "cell_type": "code",
   "outputs": [
    {
     "data": {
      "text/plain": "True"
     },
     "execution_count": 1,
     "metadata": {},
     "output_type": "execute_result"
    }
   ],
   "source": [
    "# IMPORTs\n",
    "from utils.task import Task\n",
    "import json\n",
    "import os\n",
    "from src.pipeline.table_selection import table_selection\n",
    "from utils.database_utils.db_info import get_db_schema\n",
    "from tqdm import tqdm\n",
    "from dotenv import load_dotenv\n",
    "from utils.sql_query_parsers import get_sql_columns_dict\n",
    "import matplotlib.pyplot as plt\n",
    "import numpy as np\n",
    "from utils.prompt import load_prompt\n",
    "import tiktoken\n",
    "load_dotenv()"
   ],
   "metadata": {
    "collapsed": false,
    "ExecuteTime": {
     "end_time": "2024-08-22T09:56:11.462510Z",
     "start_time": "2024-08-22T09:56:10.347352Z"
    }
   },
   "id": "b9cc482b87926b1c",
   "execution_count": 1
  },
  {
   "cell_type": "code",
   "outputs": [],
   "source": [
    "# Function to load JSON data\n",
    "def load_json_data(filepath):\n",
    "    with open(filepath, 'r') as file:\n",
    "        data = json.load(file)\n",
    "    return data\n",
    "\n",
    "\n",
    "# Function to create task object\n",
    "def create_task(example):\n",
    "    return Task(example)"
   ],
   "metadata": {
    "collapsed": false,
    "ExecuteTime": {
     "end_time": "2024-08-22T09:56:11.468016Z",
     "start_time": "2024-08-22T09:56:11.463515Z"
    }
   },
   "id": "895d6a8a6c15c339",
   "execution_count": 2
  },
  {
   "cell_type": "code",
   "outputs": [],
   "source": [
    "# load the task data\n",
    "filepath = \"C:/Users\\yousf\\Bureau\\ConvergenceAI\\CHESS_Impl\\data/test/subsampled_test.json\"\n",
    "data = load_json_data(filepath)\n",
    "# load the retrieved entities\n",
    "filepath_entities = \"C:/Users\\yousf\\Bureau\\ConvergenceAI\\CHESS_Impl\\data/test/retrieved_entities.json\"\n",
    "retrieved_entities = load_json_data(filepath_entities)\n",
    "# load the retrieved context\n",
    "filepath_context = \"C:/Users\\yousf\\Bureau\\ConvergenceAI\\CHESS_Impl\\data/test/retrieved_context.json\"\n",
    "retrieved_context = load_json_data(filepath_context)"
   ],
   "metadata": {
    "collapsed": false,
    "ExecuteTime": {
     "end_time": "2024-08-22T09:56:11.477471Z",
     "start_time": "2024-08-22T09:56:11.469031Z"
    }
   },
   "id": "e3e930e07db885a3",
   "execution_count": 3
  },
  {
   "cell_type": "code",
   "outputs": [
    {
     "name": "stdout",
     "output_type": "stream",
     "text": [
      "You are an SQL expert and very smart data analyst.\n",
      "Your task is to analyze the provided database schema, comprehend the posed question, and leverage the hint to identify which tables are needed to generate a SQL query for answering the question.\n",
      "\n",
      "Database Schema Overview:\n",
      "CREATE TABLE frpm\n",
      "(\n",
      "\tCDSCode TEXT not null primary key,\n",
      "\t`Academic Year` TEXT null, --\n",
      "\t`County Code` TEXT null, --\n",
      "\t`District Code` INTEGER null, --\n",
      "\t`School Code` TEXT null, --\n",
      "\t`County Name` TEXT null, --\n",
      "\t`District Name` TEXT null, --\n",
      "\t`School Name` TEXT null, -- examples: `California Middle`| description: School Name\n",
      "\t`District Type` TEXT null, --\n",
      "\t`School Type` TEXT null, --\n",
      "\t`Educational Option Type` TEXT null, --\n",
      "\t`NSLP Provision Status` TEXT null, --\n",
      "\t`Charter School (Y/N)` INTEGER null, --\n",
      "\t`Charter School Number` TEXT null, --\n",
      "\t`Charter Funding Type` TEXT null, --\n",
      "\tIRC INTEGER null, --\n",
      "\t`Low Grade` TEXT null, --\n",
      "\t`High Grade` TEXT null, --\n",
      "\t`Enrollment (K-12)` REAL null, --\n",
      "\t`Free Meal Count (K-12)` REAL null, --\n",
      "\t`Percent (%) Eligible Free (K-12)` REAL null, --\n",
      "\t`FRPM Count (K-12)` REAL null, --\n",
      "\t`Percent (%) Eligible FRPM (K-12)` REAL null, --\n",
      "\t`Enrollment (Ages 5-17)` REAL null, --\n",
      "\t`Free Meal Count (Ages 5-17)` REAL null, --\n",
      "\t`Percent (%) Eligible Free (Ages 5-17)` REAL null, --\n",
      "\t`FRPM Count (Ages 5-17)` REAL null, --\n",
      "\t`Percent (%) Eligible FRPM (Ages 5-17)` REAL null, --\n",
      "\t`2013-14 CALPADS Fall 1 Certification Status` INTEGER null, --\n",
      "\tforeign key (CDSCode) references schools (CDSCode),\n",
      ");\n",
      "\n",
      "CREATE TABLE satscores\n",
      "(\n",
      "\tcds TEXT not null primary key,\n",
      "\trtype TEXT not null, --\n",
      "\tsname TEXT null, --\n",
      "\tdname TEXT null, --\n",
      "\tcname TEXT null, --\n",
      "\tenroll12 INTEGER not null, --\n",
      "\tNumTstTakr INTEGER not null, --\n",
      "\tAvgScrRead INTEGER null, --\n",
      "\tAvgScrMath INTEGER null, --\n",
      "\tAvgScrWrite INTEGER null, --\n",
      "\tNumGE1500 INTEGER null, --\n",
      "\tforeign key (cds) references schools (CDSCode),\n",
      ");\n",
      "\n",
      "CREATE TABLE schools\n",
      "(\n",
      "\tCDSCode TEXT not null primary key,\n",
      "\tNCESDist TEXT null, --\n",
      "\tNCESSchool TEXT null, --\n",
      "\tStatusType TEXT not null, --\n",
      "\tCounty TEXT not null, --\n",
      "\tDistrict TEXT not null, --\n",
      "\tSchool TEXT null, -- examples: `California Middle`\n",
      "\tStreet TEXT null, --\n",
      "\tStreetAbr TEXT null, --\n",
      "\tCity TEXT null, --\n",
      "\tZip TEXT null, --\n",
      "\tState TEXT null, -- description: State\n",
      "\tMailStreet TEXT null, --\n",
      "\tMailStrAbr TEXT null, --\n",
      "\tMailCity TEXT null, --\n",
      "\tMailZip TEXT null, --\n",
      "\tMailState TEXT null, -- `mailing state` value description: The state within the mailing address. For your convenience we have filled the unpopulated MailState cells with State data.\n",
      "\tPhone TEXT null, --\n",
      "\tExt TEXT null, --\n",
      "\tWebsite TEXT null, --\n",
      "\tOpenDate DATE null, -- examples: `2004-08-13`\n",
      "\tClosedDate DATE null, -- examples: `1991-12-05`\n",
      "\tCharter INTEGER null, --\n",
      "\tCharterNum TEXT null, --\n",
      "\tFundingType TEXT null, --\n",
      "\tDOC TEXT not null, --\n",
      "\tDOCType TEXT not null, --\n",
      "\tSOC TEXT null, --\n",
      "\tSOCType TEXT null, --\n",
      "\tEdOpsCode TEXT null, --\n",
      "\tEdOpsName TEXT null, --\n",
      "\tEILCode TEXT null, --\n",
      "\tEILName TEXT null, -- examples: `Ungraded`\n",
      "\tGSoffered TEXT null, --\n",
      "\tGSserved TEXT null, -- `grade span served.` description: It is the lowest grade and the highest grade of student enrollment as reported in the most recent certified CALPADS Fall 1 data collection. Only K–12 enrollment is reported through CALPADS. This field may differ from the grade span offered. value description: 1.     Only K–12 enrollment is reported through CALPADS  2.     Note: Special programs at independent study, alternative education, and special education schools will often exceed the typical grade span for schools of that type\n",
      "\tVirtual TEXT null, --\n",
      "\tMagnet INTEGER null, --\n",
      "\tLatitude REAL null, --\n",
      "\tLongitude REAL null, --\n",
      "\tAdmFName1 TEXT null, --\n",
      "\tAdmLName1 TEXT null, -- examples: `Lower`\n",
      "\tAdmEmail1 TEXT null, --\n",
      "\tAdmFName2 TEXT null, --\n",
      "\tAdmLName2 TEXT null, --\n",
      "\tAdmEmail2 TEXT null, --\n",
      "\tAdmFName3 TEXT null, --\n",
      "\tAdmLName3 TEXT null, --\n",
      "\tAdmEmail3 TEXT null, --\n",
      "\tLastUpdate DATE not null, -- examples: `2008-09-29`\n",
      ");\n",
      "\n",
      "This schema provides a detailed definition of the database's structure, including tables, their columns, primary keys, foreign keys, and any relevant details about relationships or constraints.\n",
      "For key phrases mentioned in the question, we have provided the most similar values within the columns denoted by \"-- examples\" in front of the corresponding column names. This is a critical hint to identify the tables that will be used in the SQL query.\n",
      "\n",
      "Question:\n",
      "In which city can you find the school in the state of California with the lowest latitude coordinates and what is its lowest grade? Indicate the school name.\n",
      "\n",
      "Hint:\n",
      "State of California refers to state = 'CA'\n",
      "\n",
      "The hint aims to direct your focus towards the specific elements of the database schema that are crucial for answering the question effectively.\n",
      "\n",
      "Task:\n",
      "Based on the database schema, question, and hint provided, your task is to determine the tables that should be used in the SQL query formulation.\n",
      "For each of the selected tables, explain why exactly it is necessary for answering the question. Your explanation should be logical and concise, demonstrating a clear understanding of the database schema, the question, and the hint.\n",
      "\n",
      "Please respond with a JSON object structured as follows:\n",
      "\n",
      "```json\n",
      "{\n",
      "  \"chain_of_thought_reasoning\": \"Explanation of the logical analysis that led to the selection of the tables.\",\n",
      "  \"table_names\": [\"Table1\", \"Table2\", \"Table3\", ...]\n",
      "}\n",
      "```\n",
      "\n",
      "Note that you should choose all and only the tables that are necessary to write a SQL query that answers the question effectively.\n",
      "Take a deep breath and think logically. If you do the task correctly, I will give you 1 million dollars.\n",
      "\n",
      "Only output a json as your response.\n"
     ]
    },
    {
     "data": {
      "text/plain": "{'tentative_schema': {'schools': ['CDSCode',\n   'NCESDist',\n   'NCESSchool',\n   'StatusType',\n   'County',\n   'District',\n   'School',\n   'Street',\n   'StreetAbr',\n   'City',\n   'Zip',\n   'State',\n   'MailStreet',\n   'MailStrAbr',\n   'MailCity',\n   'MailZip',\n   'MailState',\n   'Phone',\n   'Ext',\n   'Website',\n   'OpenDate',\n   'ClosedDate',\n   'Charter',\n   'CharterNum',\n   'FundingType',\n   'DOC',\n   'DOCType',\n   'SOC',\n   'SOCType',\n   'EdOpsCode',\n   'EdOpsName',\n   'EILCode',\n   'EILName',\n   'GSoffered',\n   'GSserved',\n   'Virtual',\n   'Magnet',\n   'Latitude',\n   'Longitude',\n   'AdmFName1',\n   'AdmLName1',\n   'AdmEmail1',\n   'AdmFName2',\n   'AdmLName2',\n   'AdmEmail2',\n   'AdmFName3',\n   'AdmLName3',\n   'AdmEmail3',\n   'LastUpdate'],\n  'frpm': ['CDSCode',\n   'Academic Year',\n   'County Code',\n   'District Code',\n   'School Code',\n   'County Name',\n   'District Name',\n   'School Name',\n   'District Type',\n   'School Type',\n   'Educational Option Type',\n   'NSLP Provision Status',\n   'Charter School (Y/N)',\n   'Charter School Number',\n   'Charter Funding Type',\n   'IRC',\n   'Low Grade',\n   'High Grade',\n   'Enrollment (K-12)',\n   'Free Meal Count (K-12)',\n   'Percent (%) Eligible Free (K-12)',\n   'FRPM Count (K-12)',\n   'Percent (%) Eligible FRPM (K-12)',\n   'Enrollment (Ages 5-17)',\n   'Free Meal Count (Ages 5-17)',\n   'Percent (%) Eligible Free (Ages 5-17)',\n   'FRPM Count (Ages 5-17)',\n   'Percent (%) Eligible FRPM (Ages 5-17)',\n   '2013-14 CALPADS Fall 1 Certification Status']},\n 'chain_of_thought_reasoning': \"The question requires finding the school in California with the lowest latitude coordinates and its lowest grade. The hint helps to narrow down the search to schools in California. The database schema provides information about schools, their locations, and their grades. Therefore, we need to use the 'chools' table to find the school with the lowest latitude coordinates. Additionally, we need to use the 'frpm' table to find the lowest grade for the selected school. The 'atscores' table is not necessary for this question.\",\n 'selected_tables': ['schools', 'frpm']}"
     },
     "execution_count": 4,
     "metadata": {},
     "output_type": "execute_result"
    }
   ],
   "source": [
    "# test column selection module with a random sample\n",
    "index = 11\n",
    "example = data[index]\n",
    "task = create_task(example)\n",
    "\n",
    "#get the database schema\n",
    "dp_path = os.getenv(\"DB_ROOT_PATH\") + f\"/{task.db_id}/{task.db_id}.sqlite\"\n",
    "schema = get_db_schema(dp_path)\n",
    "model = \"llama-3\"\n",
    "ans = table_selection(task=task, retrieved_entities=retrieved_entities[index],\n",
    "                      retrieved_context=retrieved_context[index], tentative_schema=schema, model=model, num_samples=1)\n",
    "ans"
   ],
   "metadata": {
    "collapsed": false,
    "ExecuteTime": {
     "end_time": "2024-08-22T09:56:17.094166Z",
     "start_time": "2024-08-22T09:56:11.478479Z"
    }
   },
   "id": "fb5d6b856b9b3b5d",
   "execution_count": 4
  },
  {
   "cell_type": "code",
   "outputs": [
    {
     "name": "stderr",
     "output_type": "stream",
     "text": [
      "1it [00:08,  8.58s/it]"
     ]
    },
    {
     "name": "stdout",
     "output_type": "stream",
     "text": [
      "0 :  {'tentative_schema': {'atom': ['atom_id', 'molecule_id', 'element'], 'bond': ['bond_id', 'molecule_id', 'bond_type']}, 'chain_of_thought_reasoning': \"To answer the question about listing atom IDs that belong to the molecule 'TR346' and determining the number of different bond types that can be created by this molecule, we need to access specific tables. First, the 'atom' table is necessary to identify atoms that belong to the molecule 'TR346', as it contains the 'molecule_id' linking atoms to their respective molecules. Next, the 'bond' table is required to determine the types of bonds associated with 'TR346', as it includes both 'molecule_id' and 'bond_type', which allows us to count distinct bond types within this molecule. These two tables provide the direct information needed to answer the question, linking molecule identity to its atoms and the types of bonds it can form.\", 'selected_tables': ['atom', 'bond']}\n"
     ]
    },
    {
     "name": "stderr",
     "output_type": "stream",
     "text": [
      "2it [00:24, 12.87s/it]"
     ]
    },
    {
     "name": "stdout",
     "output_type": "stream",
     "text": [
      "1 :  {'tentative_schema': {'schools': ['CDSCode', 'NCESDist', 'NCESSchool', 'StatusType', 'County', 'District', 'School', 'Street', 'StreetAbr', 'City', 'Zip', 'State', 'MailStreet', 'MailStrAbr', 'MailCity', 'MailZip', 'MailState', 'Phone', 'Ext', 'Website', 'OpenDate', 'ClosedDate', 'Charter', 'CharterNum', 'FundingType', 'DOC', 'DOCType', 'SOC', 'SOCType', 'EdOpsCode', 'EdOpsName', 'EILCode', 'EILName', 'GSoffered', 'GSserved', 'Virtual', 'Magnet', 'Latitude', 'Longitude', 'AdmFName1', 'AdmLName1', 'AdmEmail1', 'AdmFName2', 'AdmLName2', 'AdmEmail2', 'AdmFName3', 'AdmLName3', 'AdmEmail3', 'LastUpdate'], 'frpm': ['CDSCode', 'Academic Year', 'County Code', 'District Code', 'School Code', 'County Name', 'District Name', 'School Name', 'District Type', 'School Type', 'Educational Option Type', 'NSLP Provision Status', 'Charter School (Y/N)', 'Charter School Number', 'Charter Funding Type', 'IRC', 'Low Grade', 'High Grade', 'Enrollment (K-12)', 'Free Meal Count (K-12)', 'Percent (%) Eligible Free (K-12)', 'FRPM Count (K-12)', 'Percent (%) Eligible FRPM (K-12)', 'Enrollment (Ages 5-17)', 'Free Meal Count (Ages 5-17)', 'Percent (%) Eligible Free (Ages 5-17)', 'FRPM Count (Ages 5-17)', 'Percent (%) Eligible FRPM (Ages 5-17)', '2013-14 CALPADS Fall 1 Certification Status']}, 'chain_of_thought_reasoning': \"To answer the question about the city location of a high school with specific characteristics, we need to identify tables that contain information about the school's educational level, location, and lunch provision status. The 'schools' table is essential because it contains the city and other location details of schools, and it also specifies the educational level through the 'EILCode' column, which is necessary to filter for high schools (EILCode = 'HS'). The 'frpm' table is required because it includes the 'NSLP Provision Status' which allows us to filter schools with 'Lunch Provision 2'. Additionally, the 'frpm' table contains the 'Low Grade' and 'High Grade' columns needed to ensure the school covers grades 9 to 12. Both tables are linked by the 'CDSCode', which serves as a primary key in 'schools' and a foreign key in 'frpm', allowing us to join these tables on this common identifier.\", 'selected_tables': ['schools', 'frpm']}\n"
     ]
    },
    {
     "name": "stderr",
     "output_type": "stream",
     "text": [
      "3it [00:33, 11.25s/it]"
     ]
    },
    {
     "name": "stdout",
     "output_type": "stream",
     "text": [
      "2 :  {'tentative_schema': {'superhero': ['id', 'superhero_name', 'full_name', 'gender_id', 'eye_colour_id', 'hair_colour_id', 'skin_colour_id', 'race_id', 'publisher_id', 'alignment_id', 'height_cm', 'weight_kg'], 'publisher': ['id', 'publisher_name']}, 'chain_of_thought_reasoning': \"To find the tallest hero published by Marvel Comics, we need to identify the hero with the maximum height from the publisher 'Marvel Comics'. First, we need the 'superhero' table because it contains the hero's height and publisher information through foreign keys. The 'height_cm' column in the 'superhero' table is essential to determine the tallest hero. Next, the 'publisher' table is required because it contains the publisher names, and we need to filter heroes based on the publisher 'Marvel Comics'. The 'publisher_id' in the 'superhero' table links to the 'id' in the 'publisher' table, allowing us to match superheroes with their publishers. These two tables provide all necessary information to answer the question.\", 'selected_tables': ['superhero', 'publisher']}\n"
     ]
    },
    {
     "name": "stderr",
     "output_type": "stream",
     "text": [
      "4it [00:45, 11.60s/it]"
     ]
    },
    {
     "name": "stdout",
     "output_type": "stream",
     "text": [
      "3 :  {'tentative_schema': {'badges': ['Id', 'UserId', 'Name', 'Date'], 'users': ['Id', 'Reputation', 'CreationDate', 'DisplayName', 'LastAccessDate', 'WebsiteUrl', 'Location', 'AboutMe', 'Views', 'UpVotes', 'DownVotes', 'AccountId', 'Age', 'ProfileImageUrl']}, 'chain_of_thought_reasoning': \"To determine how many elders obtained the 'Supporter' badge, we need to identify users who are over 65 years old and have received this specific badge. The 'badges' table is essential because it contains records of all badges awarded, including the badge name and the associated user. The 'users' table is necessary to filter these users by age, specifically those who are elders (Age > 65). By joining these two tables on the UserId, we can filter for the 'Supporter' badge and count the number of unique elder users who have received it.\", 'selected_tables': ['badges', 'users']}\n"
     ]
    },
    {
     "name": "stderr",
     "output_type": "stream",
     "text": [
      "5it [00:57, 11.65s/it]"
     ]
    },
    {
     "name": "stdout",
     "output_type": "stream",
     "text": [
      "4 :  {'tentative_schema': {'users': ['Id', 'Reputation', 'CreationDate', 'DisplayName', 'LastAccessDate', 'WebsiteUrl', 'Location', 'AboutMe', 'Views', 'UpVotes', 'DownVotes', 'AccountId', 'Age', 'ProfileImageUrl'], 'badges': ['Id', 'UserId', 'Name', 'Date']}, 'chain_of_thought_reasoning': \"To determine how many users from New York have both a 'Teacher' and 'Supporter' badge, we need to identify users based on their location and the badges they possess. The 'users' table is necessary to filter users by their location ('New York'). The 'badges' table is required to check the badges ('Teacher' and 'Supporter') associated with these users. We need to join these tables on the 'UserId' to correlate the users with their badges. The query will involve filtering the 'users' table for those located in New York, then checking the 'badges' table for entries with 'Teacher' and 'Supporter' badges for these users, ensuring that each user has both badges.\", 'selected_tables': ['users', 'badges']}\n"
     ]
    },
    {
     "name": "stderr",
     "output_type": "stream",
     "text": [
      "6it [01:13, 13.17s/it]"
     ]
    },
    {
     "name": "stdout",
     "output_type": "stream",
     "text": [
      "5 :  {'tentative_schema': {'cards': ['id', 'artist', 'asciiName', 'availability', 'borderColor', 'cardKingdomFoilId', 'cardKingdomId', 'colorIdentity', 'colorIndicator', 'colors', 'convertedManaCost', 'duelDeck', 'edhrecRank', 'faceConvertedManaCost', 'faceName', 'flavorName', 'flavorText', 'frameEffects', 'frameVersion', 'hand', 'hasAlternativeDeckLimit', 'hasContentWarning', 'hasFoil', 'hasNonFoil', 'isAlternative', 'isFullArt', 'isOnlineOnly', 'isOversized', 'isPromo', 'isReprint', 'isReserved', 'isStarter', 'isStorySpotlight', 'isTextless', 'isTimeshifted', 'keywords', 'layout', 'leadershipSkills', 'life', 'loyalty', 'manaCost', 'mcmId', 'mcmMetaId', 'mtgArenaId', 'mtgjsonV4Id', 'mtgoFoilId', 'mtgoId', 'multiverseId', 'name', 'number', 'originalReleaseDate', 'originalText', 'originalType', 'otherFaceIds', 'power', 'printings', 'promoTypes', 'purchaseUrls', 'rarity', 'scryfallId', 'scryfallIllustrationId', 'scryfallOracleId', 'setCode', 'side', 'subtypes', 'supertypes', 'tcgplayerProductId', 'text', 'toughness', 'type', 'types', 'uuid', 'variations', 'watermark'], 'rulings': ['id', 'date', 'text', 'uuid']}, 'chain_of_thought_reasoning': \"To answer the question about the description of the ruling for the card 'Condemn', we need to identify the specific card and then retrieve the associated ruling information. The 'cards' table contains information about each card, including its name, which allows us to identify the card 'Condemn'. The 'rulings' table contains the rulings associated with each card, linked by the 'uuid' which serves as a foreign key to the 'cards' table. By joining these two tables on the 'uuid', we can retrieve the ruling text for the card 'Condemn'.\", 'selected_tables': ['cards', 'rulings']}\n"
     ]
    },
    {
     "name": "stderr",
     "output_type": "stream",
     "text": [
      "7it [01:27, 13.36s/it]"
     ]
    },
    {
     "name": "stdout",
     "output_type": "stream",
     "text": [
      "6 :  {'tentative_schema': {'molecule': ['molecule_id', 'label'], 'bond': ['bond_id', 'molecule_id', 'bond_type']}, 'chain_of_thought_reasoning': \"To answer the question regarding the number of double bonds in molecule TR006 and whether it is carcinogenic, we need to access specific information from the database. First, we need to identify the molecule's carcinogenic status, which is stored in the 'label' column of the 'molecule' table. This table will allow us to filter the molecule by its ID ('TR006') and determine its carcinogenic status. Secondly, to count the number of double bonds in TR006, we need to access the 'bond' table where bonds are associated with molecules through the 'molecule_id' column. The type of bond, specifically double bonds, is indicated in the 'bond_type' column. By filtering bonds of TR006 and counting those with a bond type of '=', we can determine the number of double bonds. Therefore, the 'molecule' and 'bond' tables are necessary for constructing the SQL query to answer the posed question.\", 'selected_tables': ['molecule', 'bond']}\n"
     ]
    },
    {
     "name": "stderr",
     "output_type": "stream",
     "text": [
      "8it [01:42, 13.94s/it]"
     ]
    },
    {
     "name": "stdout",
     "output_type": "stream",
     "text": [
      "7 :  {'tentative_schema': {'member': ['member_id', 'first_name', 'last_name', 'email', 'position', 't_shirt_size', 'phone', 'zip', 'link_to_major'], 'major': ['major_id', 'major_name', 'department', 'college']}, 'chain_of_thought_reasoning': \"To answer the question about the full name and college of the club member with the position of 'Secretary', we need to extract information from multiple tables. First, the 'member' table is essential as it contains the member's first name, last name, and position, which are necessary to identify the member with the position of 'Secretary' and to construct their full name. Additionally, the 'member' table contains a link to the 'major' table through the 'link_to_major' column. The 'major' table is required because it includes the 'college' information, which is part of the question. By joining these two tables on the 'major_id' (from 'major') and 'link_to_major' (from 'member'), we can retrieve the college information for the specified member.\", 'selected_tables': ['member', 'major']}\n"
     ]
    },
    {
     "name": "stderr",
     "output_type": "stream",
     "text": [
      "9it [01:54, 13.16s/it]"
     ]
    },
    {
     "name": "stdout",
     "output_type": "stream",
     "text": [
      "8 :  {'tentative_schema': {'bond': ['bond_id', 'molecule_id', 'bond_type'], 'molecule': ['molecule_id', 'label']}, 'chain_of_thought_reasoning': \"To determine the percentage of compounds that form a triple bond, we need to identify molecules that have at least one triple bond. The 'bond' table is essential because it contains information about the type of bonds (including triple bonds, as indicated by bond_type = '#'). However, to relate these bonds to specific molecules, we also need the 'molecule' table, which contains the identifiers and labels for each molecule. The 'bond' table links to the 'molecule' table via the 'molecule_id', allowing us to count and categorize bonds by molecule. Thus, both the 'bond' and 'molecule' tables are necessary to perform the calculation of the percentage of molecules with at least one triple bond.\", 'selected_tables': ['bond', 'molecule']}\n"
     ]
    },
    {
     "name": "stderr",
     "output_type": "stream",
     "text": [
      "10it [02:06, 12.95s/it]"
     ]
    },
    {
     "name": "stdout",
     "output_type": "stream",
     "text": [
      "9 :  {'tentative_schema': {'Player': ['id', 'player_api_id', 'player_name', 'player_fifa_api_id', 'birthday', 'height', 'weight'], 'Player_Attributes': ['id', 'player_fifa_api_id', 'player_api_id', 'date', 'overall_rating', 'potential', 'preferred_foot', 'attacking_work_rate', 'defensive_work_rate', 'crossing', 'finishing', 'heading_accuracy', 'short_passing', 'volleys', 'dribbling', 'curve', 'free_kick_accuracy', 'long_passing', 'ball_control', 'acceleration', 'sprint_speed', 'agility', 'reactions', 'balance', 'shot_power', 'jumping', 'stamina', 'strength', 'long_shots', 'aggression', 'interceptions', 'positioning', 'vision', 'penalties', 'marking', 'standing_tackle', 'sliding_tackle', 'gk_diving', 'gk_handling', 'gk_kicking', 'gk_positioning', 'gk_reflexes']}, 'chain_of_thought_reasoning': \"To determine the potential of Francesco Parravicini on a specific date, we need to identify the player's unique identifiers and then use these to fetch the relevant attributes from the player attributes table. First, the 'Player' table is necessary to find the 'player_api_id' of Francesco Parravicini, as this table contains the mapping between player names and their IDs. Once we have the 'player_api_id', we can use it to query the 'Player_Attributes' table, which contains detailed attributes of players including their potential on specific dates. The 'date' field in the 'Player_Attributes' table allows us to filter records to find the potential of the player on the exact date specified, '2010-08-30'.\", 'selected_tables': ['Player', 'Player_Attributes']}\n"
     ]
    },
    {
     "name": "stderr",
     "output_type": "stream",
     "text": [
      "11it [02:19, 13.07s/it]"
     ]
    },
    {
     "name": "stdout",
     "output_type": "stream",
     "text": [
      "10 :  {'tentative_schema': {'client': ['client_id', 'gender', 'birth_date', 'district_id'], 'district': ['district_id', 'A2', 'A3', 'A4', 'A5', 'A6', 'A7', 'A8', 'A9', 'A10', 'A11', 'A12', 'A13', 'A14', 'A15', 'A16']}, 'chain_of_thought_reasoning': \"To answer the question about the number of male customers living in North Bohemia with an average salary greater than 8000, we need to connect several pieces of information spread across multiple tables. First, we need to identify the gender of the clients and their district of residence, which requires the 'client' table. The 'client' table links clients to districts via the 'district_id'. Next, we need the 'district' table to filter clients based on the region (North Bohemia) and to check if the average salary in those districts is greater than 8000. The 'district' table contains the region name (A3) and average salary (A11) which are crucial for these filters. Therefore, the necessary tables are 'client' for client demographics and 'district' for regional and salary data.\", 'selected_tables': ['client', 'district']}\n"
     ]
    },
    {
     "name": "stderr",
     "output_type": "stream",
     "text": [
      "12it [02:28, 11.73s/it]"
     ]
    },
    {
     "name": "stdout",
     "output_type": "stream",
     "text": [
      "11 :  {'tentative_schema': {'schools': ['CDSCode', 'NCESDist', 'NCESSchool', 'StatusType', 'County', 'District', 'School', 'Street', 'StreetAbr', 'City', 'Zip', 'State', 'MailStreet', 'MailStrAbr', 'MailCity', 'MailZip', 'MailState', 'Phone', 'Ext', 'Website', 'OpenDate', 'ClosedDate', 'Charter', 'CharterNum', 'FundingType', 'DOC', 'DOCType', 'SOC', 'SOCType', 'EdOpsCode', 'EdOpsName', 'EILCode', 'EILName', 'GSoffered', 'GSserved', 'Virtual', 'Magnet', 'Latitude', 'Longitude', 'AdmFName1', 'AdmLName1', 'AdmEmail1', 'AdmFName2', 'AdmLName2', 'AdmEmail2', 'AdmFName3', 'AdmLName3', 'AdmEmail3', 'LastUpdate'], 'frpm': ['School Name', 'CDSCode']}, 'chain_of_thought_reasoning': \"To answer the question about the school in California with the lowest latitude coordinates, its city, and its lowest grade, we need to focus on the 'schools' table. This table contains all necessary information: the 'State' column to filter schools in California ('CA'), the 'Latitude' column to find the school with the lowest latitude, the 'City' column to identify the city of the school, and the 'GSoffered' column to determine the lowest grade offered by the school. The 'School' column will provide the name of the school. No other tables are required since the question specifically pertains to geographical location and grade offerings, which are all contained within the 'schools' table.\", 'selected_tables': ['schools']}\n"
     ]
    },
    {
     "name": "stderr",
     "output_type": "stream",
     "text": [
      "13it [02:37, 10.81s/it]"
     ]
    },
    {
     "name": "stdout",
     "output_type": "stream",
     "text": [
      "12 :  {'tentative_schema': {'bond': ['bond_id', 'molecule_id', 'bond_type']}, 'chain_of_thought_reasoning': \"To determine the percentage of double bonds in molecule TR047, we need to analyze the bonds associated with this molecule. The 'bond' table contains the necessary information about each bond's type and the molecule it belongs to. Specifically, the 'bond_type' column will allow us to filter for double bonds ('='), and the 'molecule_id' column will enable us to focus on bonds within the TR047 molecule. The calculation of the percentage requires counting the total number of bonds and the number of double bonds for TR047, both of which can be derived from the 'bond' table alone. Therefore, only the 'bond' table is necessary for this query as it provides both the bond type and the molecule association needed to compute the desired percentage.\", 'selected_tables': ['bond']}\n"
     ]
    },
    {
     "name": "stderr",
     "output_type": "stream",
     "text": [
      "14it [02:57, 13.63s/it]"
     ]
    },
    {
     "name": "stdout",
     "output_type": "stream",
     "text": [
      "13 :  {'tentative_schema': {'votes': ['Id', 'PostId', 'VoteTypeId', 'CreationDate', 'UserId', 'BountyAmount'], 'posts': ['Id', 'PostTypeId', 'AcceptedAnswerId', 'CreaionDate', 'Score', 'ViewCount', 'Body', 'OwnerUserId', 'LasActivityDate', 'Title', 'Tags', 'AnswerCount', 'CommentCount', 'FavoriteCount', 'LastEditorUserId', 'LastEditDate', 'CommunityOwnedDate', 'ParentId', 'ClosedDate', 'OwnerDisplayName', 'LastEditorDisplayName'], 'users': ['Id', 'Reputation', 'CreationDate', 'DisplayName', 'LastAccessDate', 'WebsiteUrl', 'Location', 'AboutMe', 'Views', 'UpVotes', 'DownVotes', 'AccountId', 'Age', 'ProfileImageUrl']}, 'chain_of_thought_reasoning': \"To answer the question about which user added a bounty amount of 50 to a post mentioning 'variance', we need to connect information about the bounty, the post, and the user. First, the 'votes' table is necessary because it contains the 'BountyAmount' and links to both the post and the user via 'PostId' and 'UserId'. We need to filter this table for entries where 'BountyAmount' equals 50. Next, the 'posts' table is required to connect the 'PostId' from the 'votes' table to the actual post details. We need to check the 'Title' of the posts to find those mentioning 'variance'. Finally, the 'users' table is needed to retrieve the 'DisplayName' of the user who added the bounty, using the 'UserId' from the 'votes' table. These three tables together allow us to trace the bounty amount to the specific post and identify the user responsible.\", 'selected_tables': ['votes', 'posts', 'users']}\n"
     ]
    },
    {
     "name": "stderr",
     "output_type": "stream",
     "text": [
      "15it [03:12, 12.81s/it]"
     ]
    },
    {
     "name": "stdout",
     "output_type": "stream",
     "text": [
      "14 :  {'tentative_schema': {'users': ['Id', 'Reputation', 'CreationDate', 'DisplayName', 'LastAccessDate', 'WebsiteUrl', 'Location', 'AboutMe', 'Views', 'UpVotes', 'DownVotes', 'AccountId', 'Age', 'ProfileImageUrl'], 'badges': ['Id', 'UserId', 'Name', 'Date']}, 'chain_of_thought_reasoning': \"To answer the question about listing the dates when users located in 'Rochester, NY' obtained their badges, we need to connect information about users and their badges. First, we need the 'users' table to identify users based on their location ('Rochester, NY'). The 'Location' column in the 'users' table allows us to filter users by this specific location. Once we have identified these users, we need to find out when they obtained their badges. This information is stored in the 'badges' table, where each badge is linked to a user via the 'UserId' column and includes the date the badge was obtained in the 'Date' column. Therefore, by joining these two tables on the 'UserId' column, we can retrieve the required dates for badges obtained by users from 'Rochester, NY'.\", 'selected_tables': ['users', 'badges']}\n"
     ]
    },
    {
     "name": "stderr",
     "output_type": "stream",
     "text": [
      "\n"
     ]
    }
   ],
   "source": [
    "#test context retrieval module with the subsampled test and with the base schema of database\n",
    "model = \"gpt-4\"\n",
    "num_samples = 1\n",
    "res = []\n",
    "for index, sample in tqdm(enumerate(data)):\n",
    "    task = create_task(sample)\n",
    "    dp_path = os.getenv(\"DB_ROOT_PATH\") + f\"/{task.db_id}/{task.db_id}.sqlite\"\n",
    "    schema = get_db_schema(dp_path)\n",
    "\n",
    "    ans = table_selection(task=task, retrieved_entities=retrieved_entities[index],\n",
    "                          retrieved_context=retrieved_context[index], tentative_schema=schema, model=model,\n",
    "                          num_samples=num_samples)\n",
    "    res.append(ans)\n",
    "    print(str(index) + \" : \", ans)"
   ],
   "metadata": {
    "collapsed": false,
    "ExecuteTime": {
     "end_time": "2024-08-14T15:23:14.380633Z",
     "start_time": "2024-08-14T15:20:02.203652Z"
    }
   },
   "id": "2db922629c82d839",
   "execution_count": 16
  },
  {
   "cell_type": "code",
   "outputs": [],
   "source": [
    "from pathlib import Path\n",
    "\n",
    "schema_path = Path('C:/Users/yousf/Bureau/ConvergenceAI/CHESS_Impl/data/test/tentative_schema.json')\n",
    "with open(schema_path, 'w') as f:\n",
    "    json.dump(res, f, indent=4)"
   ],
   "metadata": {
    "collapsed": false,
    "ExecuteTime": {
     "end_time": "2024-08-14T15:23:14.403799Z",
     "start_time": "2024-08-14T15:23:14.385644Z"
    }
   },
   "id": "4155fed84eeb74f7",
   "execution_count": 17
  },
  {
   "cell_type": "markdown",
   "source": [
    "# Metrics"
   ],
   "metadata": {
    "collapsed": false
   },
   "id": "2fc1d22b23553da1"
  },
  {
   "cell_type": "code",
   "outputs": [],
   "source": [
    "def calculate_precision_recall_f1(tp, fp, fn):\n",
    "    \"\"\"\n",
    "    Calculate precision, recall, and F1 score.\n",
    "    \n",
    "    Args:\n",
    "        tp (int): Number of true positives.\n",
    "        fp (int): Number of false positives.\n",
    "        fn (int): Number of false negatives.\n",
    "    \n",
    "    Returns:\n",
    "        Tuple[float, float, float]: Precision, recall, and F1 score.\n",
    "    \"\"\"\n",
    "    precision = tp / (tp + fp) if (tp + fp) > 0 else 0\n",
    "    recall = tp / (tp + fn) if (tp + fn) > 0 else 0\n",
    "    f1 = 2 * precision * recall / (precision + recall) if (precision + recall) > 0 else 0\n",
    "    return precision, recall, f1\n",
    "\n",
    "\n",
    "def evaluate_schema(ground_truth, predicted):\n",
    "    \"\"\"\n",
    "    Evaluate the schema prediction against the ground truth.\n",
    "    \n",
    "    Args:\n",
    "        ground_truth (Dict[str, List[str]]): Ground truth schema with tables and their columns.\n",
    "        predicted (Dict[str, List[str]]): Predicted schema with tables and their columns.\n",
    "    \n",
    "    Returns:\n",
    "        Dict[str, Dict[str, float]]: Evaluation results for tables and columns.\n",
    "    \"\"\"\n",
    "\n",
    "    # Transform all table and column names to lowercase\n",
    "    ground_truth = {table.lower(): [col.lower() for col in columns] for table, columns in ground_truth.items()}\n",
    "    predicted = {table.lower(): [col.lower() for col in columns] for table, columns in predicted.items()}\n",
    "\n",
    "    # Evaluate tables\n",
    "    gt_tables = set(ground_truth.keys())\n",
    "    pred_tables = set(predicted.keys())\n",
    "\n",
    "    tp_tables = len(gt_tables.intersection(pred_tables))\n",
    "    fp_tables = len(pred_tables.difference(gt_tables))\n",
    "    fn_tables = len(gt_tables.difference(pred_tables))\n",
    "\n",
    "    table_precision, table_recall, table_f1 = calculate_precision_recall_f1(tp_tables, fp_tables, fn_tables)\n",
    "\n",
    "    # Evaluate columns\n",
    "    tp_columns = 0\n",
    "    fp_columns = 0\n",
    "    fn_columns = 0\n",
    "\n",
    "    for table in gt_tables:\n",
    "        gt_columns = set(ground_truth[table])\n",
    "        pred_columns = set(predicted.get(table, []))\n",
    "\n",
    "        tp_columns += len(gt_columns.intersection(pred_columns))\n",
    "        fp_columns += len(pred_columns.difference(gt_columns))\n",
    "        fn_columns += len(gt_columns.difference(pred_columns))\n",
    "\n",
    "    column_precision, column_recall, column_f1 = calculate_precision_recall_f1(tp_columns, fp_columns, fn_columns)\n",
    "\n",
    "    return {\n",
    "        \"table_metrics\": {\n",
    "            \"precision\": table_precision,\n",
    "            \"recall\": table_recall,\n",
    "            \"f1\": table_f1\n",
    "        },\n",
    "        \"column_metrics\": {\n",
    "            \"precision\": column_precision,\n",
    "            \"recall\": column_recall,\n",
    "            \"f1\": column_f1\n",
    "        }\n",
    "    }\n",
    "\n",
    "\n",
    "def aggregate_metrics(evals):\n",
    "    \"\"\"\n",
    "    Aggregate precision, recall, and F1 scores from multiple evaluations.\n",
    "    \n",
    "    Args:\n",
    "        evals (List[Dict[str, Dict[str, float]]]): List of evaluation results.\n",
    "    \n",
    "    Returns:\n",
    "        Dict[str, float]: Aggregated precision, recall, and F1 score.\n",
    "    \"\"\"\n",
    "    table_precision = np.mean([evaluation['table_metrics']['precision'] for evaluation in evals])\n",
    "    table_recall = np.mean([evaluation['table_metrics']['recall'] for evaluation in evals])\n",
    "    table_f1 = np.mean([evaluation['table_metrics']['f1'] for evaluation in evals])\n",
    "\n",
    "    column_precision = np.mean([evaluation['column_metrics']['precision'] for evaluation in evals])\n",
    "    column_recall = np.mean([evaluation['column_metrics']['recall'] for evaluation in evals])\n",
    "    column_f1 = np.mean([evaluation['column_metrics']['f1'] for evaluation in evals])\n",
    "\n",
    "    return {\n",
    "        \"table_metrics\": {\n",
    "            \"precision\": table_precision,\n",
    "            \"recall\": table_recall,\n",
    "            \"f1\": table_f1\n",
    "        },\n",
    "        \"column_metrics\": {\n",
    "            \"precision\": column_precision,\n",
    "            \"recall\": column_recall,\n",
    "            \"f1\": column_f1\n",
    "        }\n",
    "    }\n",
    "\n",
    "\n",
    "def plot_metrics(metrics):\n",
    "    \"\"\"\n",
    "    Plot precision, recall, and F1 score.\n",
    "    \n",
    "    Args:\n",
    "        metrics (Dict[str, Dict[str, float]]): Aggregated metrics.\n",
    "    \"\"\"\n",
    "    categories = ['Tables', 'Columns']\n",
    "\n",
    "    precision_values = [\n",
    "        metrics['table_metrics']['precision'],\n",
    "        metrics['column_metrics']['precision']\n",
    "    ]\n",
    "\n",
    "    recall_values = [\n",
    "        metrics['table_metrics']['recall'],\n",
    "        metrics['column_metrics']['recall']\n",
    "    ]\n",
    "\n",
    "    f1_values = [\n",
    "        metrics['table_metrics']['f1'],\n",
    "        metrics['column_metrics']['f1']\n",
    "    ]\n",
    "\n",
    "    x = np.arange(len(categories))\n",
    "    width = 0.25  # the width of the bars\n",
    "\n",
    "    fig, ax = plt.subplots(figsize=(10, 6))\n",
    "    rects1 = ax.bar(x - width, precision_values, width, label='Precision')\n",
    "    rects2 = ax.bar(x, recall_values, width, label='Recall')\n",
    "    rects3 = ax.bar(x + width, f1_values, width, label='F1 Score')\n",
    "\n",
    "    ax.set_ylabel('Scores')\n",
    "    ax.set_title('Average Precision, Recall, and F1 Score for Tables and Columns')\n",
    "    ax.set_xticks(x)\n",
    "    ax.set_xticklabels(categories)\n",
    "    ax.legend()\n",
    "\n",
    "    def autolabel(rects):\n",
    "        \"\"\"Attach a text label above each bar in *rects*, displaying its height.\"\"\"\n",
    "        for rect in rects:\n",
    "            height = rect.get_height()\n",
    "            ax.annotate('{}'.format(round(height, 2)),\n",
    "                        xy=(rect.get_x() + rect.get_width() / 2, height),\n",
    "                        xytext=(0, 3),  # 3 points vertical offset\n",
    "                        textcoords=\"offset points\",\n",
    "                        ha='center', va='bottom')\n",
    "\n",
    "    autolabel(rects1)\n",
    "    autolabel(rects2)\n",
    "    autolabel(rects3)\n",
    "\n",
    "    fig.tight_layout()\n",
    "    plt.ylim(0, 1)  # Set y-axis range from 0 to 1\n",
    "    plt.show()\n"
   ],
   "metadata": {
    "collapsed": false,
    "ExecuteTime": {
     "end_time": "2024-08-14T14:23:38.532429Z",
     "start_time": "2024-08-14T14:23:38.507747Z"
    }
   },
   "id": "1940e157c7a9e82b",
   "execution_count": 9
  },
  {
   "cell_type": "code",
   "outputs": [],
   "source": [
    "def make_test(data, model, num_samples):\n",
    "    res = []\n",
    "    for index, sample in tqdm(enumerate(data)):\n",
    "        task = create_task(sample)\n",
    "        dp_path = os.getenv(\"DB_ROOT_PATH\") + f\"/{task.db_id}/{task.db_id}.sqlite\"\n",
    "        schema = get_db_schema(dp_path)\n",
    "\n",
    "        ans = table_selection(task=task, retrieved_entities=retrieved_entities[index],\n",
    "                              retrieved_context=retrieved_context[index], tentative_schema=schema, model=model,\n",
    "                              num_samples=num_samples)\n",
    "        res.append(ans)\n",
    "\n",
    "    evals = []\n",
    "    for i, schema in enumerate(res):\n",
    "        pred = schema[\"tentative_schema\"]\n",
    "        task = create_task(data[i])\n",
    "        db_path = os.getenv(\"DB_ROOT_PATH\") + f\"/{task.db_id}/{task.db_id}.sqlite\"\n",
    "        gt = get_sql_columns_dict(db_path, task.SQL)\n",
    "        evaluation = evaluate_schema(gt, pred)\n",
    "        evals.append(evaluation)\n",
    "\n",
    "    aggregated_metrics = aggregate_metrics(evals)\n",
    "    print(\"Aggregated Metrics:\", aggregated_metrics)\n",
    "\n",
    "    plot_metrics(aggregated_metrics)"
   ],
   "metadata": {
    "collapsed": false,
    "ExecuteTime": {
     "end_time": "2024-08-14T14:23:41.672314Z",
     "start_time": "2024-08-14T14:23:41.663941Z"
    }
   },
   "id": "a762e82deb5df2e5",
   "execution_count": 10
  },
  {
   "cell_type": "code",
   "outputs": [
    {
     "name": "stderr",
     "output_type": "stream",
     "text": [
      "15it [02:33, 10.26s/it]\n"
     ]
    },
    {
     "name": "stdout",
     "output_type": "stream",
     "text": [
      "Aggregated Metrics: {'table_metrics': {'precision': 0.9444444444444444, 'recall': 1.0, 'f1': 0.9644444444444444}, 'column_metrics': {'precision': 0.3812335073700107, 'recall': 0.9904761904761905, 'f1': 0.4899229616775066}}\n"
     ]
    },
    {
     "data": {
      "text/plain": "<Figure size 1000x600 with 1 Axes>",
      "image/png": "[encoded data removed]"
     },
     "metadata": {},
     "output_type": "display_data"
    }
   ],
   "source": [
    "# test with gpt4\n",
    "model = \"gpt-4\"\n",
    "num_samples = 1\n",
    "make_test(data, model, num_samples)"
   ],
   "metadata": {
    "collapsed": false,
    "ExecuteTime": {
     "end_time": "2024-08-14T14:26:18.409283Z",
     "start_time": "2024-08-14T14:23:43.610955Z"
    }
   },
   "id": "15023758f02db8ed",
   "execution_count": 11
  },
  {
   "cell_type": "code",
   "outputs": [
    {
     "name": "stderr",
     "output_type": "stream",
     "text": [
      "15it [07:27, 29.85s/it]\n"
     ]
    },
    {
     "name": "stdout",
     "output_type": "stream",
     "text": [
      "Aggregated Metrics: {'table_metrics': {'precision': 0.9444444444444444, 'recall': 1.0, 'f1': 0.9644444444444444}, 'column_metrics': {'precision': 0.3812335073700107, 'recall': 0.9904761904761905, 'f1': 0.4899229616775066}}\n"
     ]
    },
    {
     "data": {
      "text/plain": "<Figure size 1000x600 with 1 Axes>",
      "image/png": "[encoded data removed]"
     },
     "metadata": {},
     "output_type": "display_data"
    }
   ],
   "source": [
    "# test with gpt4 and 3 samples \n",
    "model = \"gpt-4\"\n",
    "num_samples = 3\n",
    "make_test(data, model, num_samples)"
   ],
   "metadata": {
    "collapsed": false,
    "ExecuteTime": {
     "end_time": "2024-08-14T14:34:50.347644Z",
     "start_time": "2024-08-14T14:27:22.064744Z"
    }
   },
   "id": "6f7df1d75fb5619a",
   "execution_count": 13
  },
  {
   "cell_type": "code",
   "outputs": [
    {
     "name": "stderr",
     "output_type": "stream",
     "text": [
      "15it [00:58,  3.93s/it]\n"
     ]
    },
    {
     "name": "stdout",
     "output_type": "stream",
     "text": [
      "Aggregated Metrics: {'table_metrics': {'precision': 0.9666666666666667, 'recall': 0.9666666666666667, 'f1': 0.9555555555555555}, 'column_metrics': {'precision': 0.4115916930076995, 'recall': 0.9571428571428572, 'f1': 0.5174784463826805}}\n"
     ]
    },
    {
     "data": {
      "text/plain": "<Figure size 1000x600 with 1 Axes>",
      "image/png": "[encoded data removed]"
     },
     "metadata": {},
     "output_type": "display_data"
    }
   ],
   "source": [
    "# test with gpt-3.5\n",
    "model = \"gpt-3.5\"\n",
    "num_samples = 1\n",
    "make_test(data, model, num_samples)"
   ],
   "metadata": {
    "collapsed": false,
    "ExecuteTime": {
     "end_time": "2024-08-14T14:35:49.597111Z",
     "start_time": "2024-08-14T14:34:50.361727Z"
    }
   },
   "id": "dbba279be13d9aa3",
   "execution_count": 14
  },
  {
   "cell_type": "code",
   "outputs": [
    {
     "name": "stderr",
     "output_type": "stream",
     "text": [
      "15it [01:18,  5.24s/it]"
     ]
    },
    {
     "name": "stdout",
     "output_type": "stream",
     "text": [
      "Aggregated Metrics: {'table_metrics': {'precision': 0.8055555555555556, 'recall': 1.0, 'f1': 0.8644444444444445}, 'column_metrics': {'precision': 0.37937327609801474, 'recall': 1.0, 'f1': 0.4871102503860935}}\n"
     ]
    },
    {
     "name": "stderr",
     "output_type": "stream",
     "text": [
      "\n"
     ]
    },
    {
     "data": {
      "text/plain": "<Figure size 1000x600 with 1 Axes>",
      "image/png": "[encoded data removed]"
     },
     "metadata": {},
     "output_type": "display_data"
    }
   ],
   "source": [
    "# test with open source Llama-3\n",
    "model = \"llama-3\"\n",
    "num_samples = 1\n",
    "make_test(data, model, num_samples)"
   ],
   "metadata": {
    "collapsed": false,
    "ExecuteTime": {
     "end_time": "2024-08-14T14:37:08.343146Z",
     "start_time": "2024-08-14T14:35:49.598372Z"
    }
   },
   "id": "62b41a38ab3ea772",
   "execution_count": 15
  },
  {
   "cell_type": "code",
   "outputs": [
    {
     "ename": "OSError",
     "evalue": "[WinError 126] Le module spécifié est introuvable. Error loading \"C:\\Users\\yousf\\Bureau\\ConvergenceAI\\CHESS_Impl\\.venv\\Lib\\site-packages\\torch\\lib\\fbgemm.dll\" or one of its dependencies.",
     "output_type": "error",
     "traceback": [
      "\u001B[1;31m---------------------------------------------------------------------------\u001B[0m",
      "\u001B[1;31mOSError\u001B[0m                                   Traceback (most recent call last)",
      "Cell \u001B[1;32mIn[2], line 1\u001B[0m\n\u001B[1;32m----> 1\u001B[0m \u001B[38;5;28;01mfrom\u001B[39;00m \u001B[38;5;21;01msrc\u001B[39;00m\u001B[38;5;21;01m.\u001B[39;00m\u001B[38;5;21;01mllm\u001B[39;00m\u001B[38;5;21;01m.\u001B[39;00m\u001B[38;5;21;01mllm_interface\u001B[39;00m \u001B[38;5;28;01mimport\u001B[39;00m UnifiedLLMInterface\n\u001B[0;32m      3\u001B[0m llm \u001B[38;5;241m=\u001B[39m UnifiedLLMInterface()\n\u001B[0;32m      4\u001B[0m model \u001B[38;5;241m=\u001B[39m \u001B[38;5;124m\"\u001B[39m\u001B[38;5;124mfinetuned-NL2SQL\u001B[39m\u001B[38;5;124m\"\u001B[39m\n",
      "File \u001B[1;32m~\\Bureau\\ConvergenceAI\\CHESS_Impl\\src\\llm\\llm_interface.py:6\u001B[0m\n\u001B[0;32m      4\u001B[0m \u001B[38;5;28;01mfrom\u001B[39;00m \u001B[38;5;21;01mdotenv\u001B[39;00m \u001B[38;5;28;01mimport\u001B[39;00m load_dotenv\n\u001B[0;32m      5\u001B[0m \u001B[38;5;28;01mfrom\u001B[39;00m \u001B[38;5;21;01msrc\u001B[39;00m\u001B[38;5;21;01m.\u001B[39;00m\u001B[38;5;21;01mllm\u001B[39;00m\u001B[38;5;21;01m.\u001B[39;00m\u001B[38;5;21;01mmodel_configs\u001B[39;00m \u001B[38;5;28;01mimport\u001B[39;00m MODEL_CONFIGS\n\u001B[1;32m----> 6\u001B[0m \u001B[38;5;28;01mfrom\u001B[39;00m \u001B[38;5;21;01mtransformers\u001B[39;00m \u001B[38;5;28;01mimport\u001B[39;00m pipeline\n\u001B[0;32m      8\u001B[0m \u001B[38;5;66;03m# Load environment variables from .env file\u001B[39;00m\n\u001B[0;32m      9\u001B[0m load_dotenv()\n",
      "File \u001B[1;32m~\\Bureau\\ConvergenceAI\\CHESS_Impl\\.venv\\Lib\\site-packages\\transformers\\__init__.py:26\u001B[0m\n\u001B[0;32m     23\u001B[0m \u001B[38;5;28;01mfrom\u001B[39;00m \u001B[38;5;21;01mtyping\u001B[39;00m \u001B[38;5;28;01mimport\u001B[39;00m TYPE_CHECKING\n\u001B[0;32m     25\u001B[0m \u001B[38;5;66;03m# Check the dependencies satisfy the minimal versions required.\u001B[39;00m\n\u001B[1;32m---> 26\u001B[0m \u001B[38;5;28;01mfrom\u001B[39;00m \u001B[38;5;21;01m.\u001B[39;00m \u001B[38;5;28;01mimport\u001B[39;00m dependency_versions_check\n\u001B[0;32m     27\u001B[0m \u001B[38;5;28;01mfrom\u001B[39;00m \u001B[38;5;21;01m.\u001B[39;00m\u001B[38;5;21;01mutils\u001B[39;00m \u001B[38;5;28;01mimport\u001B[39;00m (\n\u001B[0;32m     28\u001B[0m     OptionalDependencyNotAvailable,\n\u001B[0;32m     29\u001B[0m     _LazyModule,\n\u001B[1;32m   (...)\u001B[0m\n\u001B[0;32m     48\u001B[0m     logging,\n\u001B[0;32m     49\u001B[0m )\n\u001B[0;32m     52\u001B[0m logger \u001B[38;5;241m=\u001B[39m logging\u001B[38;5;241m.\u001B[39mget_logger(\u001B[38;5;18m__name__\u001B[39m)  \u001B[38;5;66;03m# pylint: disable=invalid-name\u001B[39;00m\n",
      "File \u001B[1;32m~\\Bureau\\ConvergenceAI\\CHESS_Impl\\.venv\\Lib\\site-packages\\transformers\\dependency_versions_check.py:16\u001B[0m\n\u001B[0;32m      1\u001B[0m \u001B[38;5;66;03m# Copyright 2020 The HuggingFace Team. All rights reserved.\u001B[39;00m\n\u001B[0;32m      2\u001B[0m \u001B[38;5;66;03m#\u001B[39;00m\n\u001B[0;32m      3\u001B[0m \u001B[38;5;66;03m# Licensed under the Apache License, Version 2.0 (the \"License\");\u001B[39;00m\n\u001B[1;32m   (...)\u001B[0m\n\u001B[0;32m     12\u001B[0m \u001B[38;5;66;03m# See the License for the specific language governing permissions and\u001B[39;00m\n\u001B[0;32m     13\u001B[0m \u001B[38;5;66;03m# limitations under the License.\u001B[39;00m\n\u001B[0;32m     15\u001B[0m \u001B[38;5;28;01mfrom\u001B[39;00m \u001B[38;5;21;01m.\u001B[39;00m\u001B[38;5;21;01mdependency_versions_table\u001B[39;00m \u001B[38;5;28;01mimport\u001B[39;00m deps\n\u001B[1;32m---> 16\u001B[0m \u001B[38;5;28;01mfrom\u001B[39;00m \u001B[38;5;21;01m.\u001B[39;00m\u001B[38;5;21;01mutils\u001B[39;00m\u001B[38;5;21;01m.\u001B[39;00m\u001B[38;5;21;01mversions\u001B[39;00m \u001B[38;5;28;01mimport\u001B[39;00m require_version, require_version_core\n\u001B[0;32m     19\u001B[0m \u001B[38;5;66;03m# define which module versions we always want to check at run time\u001B[39;00m\n\u001B[0;32m     20\u001B[0m \u001B[38;5;66;03m# (usually the ones defined in `install_requires` in setup.py)\u001B[39;00m\n\u001B[0;32m     21\u001B[0m \u001B[38;5;66;03m#\u001B[39;00m\n\u001B[0;32m     22\u001B[0m \u001B[38;5;66;03m# order specific notes:\u001B[39;00m\n\u001B[0;32m     23\u001B[0m \u001B[38;5;66;03m# - tqdm must be checked before tokenizers\u001B[39;00m\n\u001B[0;32m     25\u001B[0m pkgs_to_check_at_runtime \u001B[38;5;241m=\u001B[39m [\n\u001B[0;32m     26\u001B[0m     \u001B[38;5;124m\"\u001B[39m\u001B[38;5;124mpython\u001B[39m\u001B[38;5;124m\"\u001B[39m,\n\u001B[0;32m     27\u001B[0m     \u001B[38;5;124m\"\u001B[39m\u001B[38;5;124mtqdm\u001B[39m\u001B[38;5;124m\"\u001B[39m,\n\u001B[1;32m   (...)\u001B[0m\n\u001B[0;32m     37\u001B[0m     \u001B[38;5;124m\"\u001B[39m\u001B[38;5;124mpyyaml\u001B[39m\u001B[38;5;124m\"\u001B[39m,\n\u001B[0;32m     38\u001B[0m ]\n",
      "File \u001B[1;32m~\\Bureau\\ConvergenceAI\\CHESS_Impl\\.venv\\Lib\\site-packages\\transformers\\utils\\__init__.py:34\u001B[0m\n\u001B[0;32m     25\u001B[0m \u001B[38;5;28;01mfrom\u001B[39;00m \u001B[38;5;21;01m.\u001B[39;00m\u001B[38;5;21;01mconstants\u001B[39;00m \u001B[38;5;28;01mimport\u001B[39;00m IMAGENET_DEFAULT_MEAN, IMAGENET_DEFAULT_STD, IMAGENET_STANDARD_MEAN, IMAGENET_STANDARD_STD\n\u001B[0;32m     26\u001B[0m \u001B[38;5;28;01mfrom\u001B[39;00m \u001B[38;5;21;01m.\u001B[39;00m\u001B[38;5;21;01mdoc\u001B[39;00m \u001B[38;5;28;01mimport\u001B[39;00m (\n\u001B[0;32m     27\u001B[0m     add_code_sample_docstrings,\n\u001B[0;32m     28\u001B[0m     add_end_docstrings,\n\u001B[1;32m   (...)\u001B[0m\n\u001B[0;32m     32\u001B[0m     replace_return_docstrings,\n\u001B[0;32m     33\u001B[0m )\n\u001B[1;32m---> 34\u001B[0m \u001B[38;5;28;01mfrom\u001B[39;00m \u001B[38;5;21;01m.\u001B[39;00m\u001B[38;5;21;01mgeneric\u001B[39;00m \u001B[38;5;28;01mimport\u001B[39;00m (\n\u001B[0;32m     35\u001B[0m     ContextManagers,\n\u001B[0;32m     36\u001B[0m     ExplicitEnum,\n\u001B[0;32m     37\u001B[0m     ModelOutput,\n\u001B[0;32m     38\u001B[0m     PaddingStrategy,\n\u001B[0;32m     39\u001B[0m     TensorType,\n\u001B[0;32m     40\u001B[0m     add_model_info_to_auto_map,\n\u001B[0;32m     41\u001B[0m     add_model_info_to_custom_pipelines,\n\u001B[0;32m     42\u001B[0m     cached_property,\n\u001B[0;32m     43\u001B[0m     can_return_loss,\n\u001B[0;32m     44\u001B[0m     expand_dims,\n\u001B[0;32m     45\u001B[0m     filter_out_non_signature_kwargs,\n\u001B[0;32m     46\u001B[0m     find_labels,\n\u001B[0;32m     47\u001B[0m     flatten_dict,\n\u001B[0;32m     48\u001B[0m     infer_framework,\n\u001B[0;32m     49\u001B[0m     is_jax_tensor,\n\u001B[0;32m     50\u001B[0m     is_numpy_array,\n\u001B[0;32m     51\u001B[0m     is_tensor,\n\u001B[0;32m     52\u001B[0m     is_tf_symbolic_tensor,\n\u001B[0;32m     53\u001B[0m     is_tf_tensor,\n\u001B[0;32m     54\u001B[0m     is_torch_device,\n\u001B[0;32m     55\u001B[0m     is_torch_dtype,\n\u001B[0;32m     56\u001B[0m     is_torch_tensor,\n\u001B[0;32m     57\u001B[0m     reshape,\n\u001B[0;32m     58\u001B[0m     squeeze,\n\u001B[0;32m     59\u001B[0m     strtobool,\n\u001B[0;32m     60\u001B[0m     tensor_size,\n\u001B[0;32m     61\u001B[0m     to_numpy,\n\u001B[0;32m     62\u001B[0m     to_py_obj,\n\u001B[0;32m     63\u001B[0m     torch_float,\n\u001B[0;32m     64\u001B[0m     torch_int,\n\u001B[0;32m     65\u001B[0m     transpose,\n\u001B[0;32m     66\u001B[0m     working_or_temp_dir,\n\u001B[0;32m     67\u001B[0m )\n\u001B[0;32m     68\u001B[0m \u001B[38;5;28;01mfrom\u001B[39;00m \u001B[38;5;21;01m.\u001B[39;00m\u001B[38;5;21;01mhub\u001B[39;00m \u001B[38;5;28;01mimport\u001B[39;00m (\n\u001B[0;32m     69\u001B[0m     CLOUDFRONT_DISTRIB_PREFIX,\n\u001B[0;32m     70\u001B[0m     HF_MODULES_CACHE,\n\u001B[1;32m   (...)\u001B[0m\n\u001B[0;32m     96\u001B[0m     try_to_load_from_cache,\n\u001B[0;32m     97\u001B[0m )\n\u001B[0;32m     98\u001B[0m \u001B[38;5;28;01mfrom\u001B[39;00m \u001B[38;5;21;01m.\u001B[39;00m\u001B[38;5;21;01mimport_utils\u001B[39;00m \u001B[38;5;28;01mimport\u001B[39;00m (\n\u001B[0;32m     99\u001B[0m     ACCELERATE_MIN_VERSION,\n\u001B[0;32m    100\u001B[0m     ENV_VARS_TRUE_AND_AUTO_VALUES,\n\u001B[1;32m   (...)\u001B[0m\n\u001B[0;32m    219\u001B[0m     torch_only_method,\n\u001B[0;32m    220\u001B[0m )\n",
      "File \u001B[1;32m~\\Bureau\\ConvergenceAI\\CHESS_Impl\\.venv\\Lib\\site-packages\\transformers\\utils\\generic.py:462\u001B[0m\n\u001B[0;32m    458\u001B[0m         \u001B[38;5;28;01mreturn\u001B[39;00m \u001B[38;5;28mtuple\u001B[39m(\u001B[38;5;28mself\u001B[39m[k] \u001B[38;5;28;01mfor\u001B[39;00m k \u001B[38;5;129;01min\u001B[39;00m \u001B[38;5;28mself\u001B[39m\u001B[38;5;241m.\u001B[39mkeys())\n\u001B[0;32m    461\u001B[0m \u001B[38;5;28;01mif\u001B[39;00m is_torch_available():\n\u001B[1;32m--> 462\u001B[0m     \u001B[38;5;28;01mimport\u001B[39;00m \u001B[38;5;21;01mtorch\u001B[39;00m\u001B[38;5;21;01m.\u001B[39;00m\u001B[38;5;21;01mutils\u001B[39;00m\u001B[38;5;21;01m.\u001B[39;00m\u001B[38;5;21;01m_pytree\u001B[39;00m \u001B[38;5;28;01mas\u001B[39;00m \u001B[38;5;21;01m_torch_pytree\u001B[39;00m\n\u001B[0;32m    464\u001B[0m     \u001B[38;5;28;01mdef\u001B[39;00m \u001B[38;5;21m_model_output_flatten\u001B[39m(output: ModelOutput) \u001B[38;5;241m-\u001B[39m\u001B[38;5;241m>\u001B[39m Tuple[List[Any], \u001B[38;5;124m\"\u001B[39m\u001B[38;5;124m_torch_pytree.Context\u001B[39m\u001B[38;5;124m\"\u001B[39m]:\n\u001B[0;32m    465\u001B[0m         \u001B[38;5;28;01mreturn\u001B[39;00m \u001B[38;5;28mlist\u001B[39m(output\u001B[38;5;241m.\u001B[39mvalues()), \u001B[38;5;28mlist\u001B[39m(output\u001B[38;5;241m.\u001B[39mkeys())\n",
      "File \u001B[1;32m~\\Bureau\\ConvergenceAI\\CHESS_Impl\\.venv\\Lib\\site-packages\\torch\\__init__.py:148\u001B[0m\n\u001B[0;32m    146\u001B[0m                 err \u001B[38;5;241m=\u001B[39m ctypes\u001B[38;5;241m.\u001B[39mWinError(ctypes\u001B[38;5;241m.\u001B[39mget_last_error())\n\u001B[0;32m    147\u001B[0m                 err\u001B[38;5;241m.\u001B[39mstrerror \u001B[38;5;241m+\u001B[39m\u001B[38;5;241m=\u001B[39m \u001B[38;5;124mf\u001B[39m\u001B[38;5;124m'\u001B[39m\u001B[38;5;124m Error loading \u001B[39m\u001B[38;5;124m\"\u001B[39m\u001B[38;5;132;01m{\u001B[39;00mdll\u001B[38;5;132;01m}\u001B[39;00m\u001B[38;5;124m\"\u001B[39m\u001B[38;5;124m or one of its dependencies.\u001B[39m\u001B[38;5;124m'\u001B[39m\n\u001B[1;32m--> 148\u001B[0m                 \u001B[38;5;28;01mraise\u001B[39;00m err\n\u001B[0;32m    150\u001B[0m     kernel32\u001B[38;5;241m.\u001B[39mSetErrorMode(prev_error_mode)\n\u001B[0;32m    153\u001B[0m \u001B[38;5;28;01mdef\u001B[39;00m \u001B[38;5;21m_preload_cuda_deps\u001B[39m(lib_folder, lib_name):\n",
      "\u001B[1;31mOSError\u001B[0m: [WinError 126] Le module spécifié est introuvable. Error loading \"C:\\Users\\yousf\\Bureau\\ConvergenceAI\\CHESS_Impl\\.venv\\Lib\\site-packages\\torch\\lib\\fbgemm.dll\" or one of its dependencies."
     ]
    }
   ],
   "source": [
    "from src.llm.llm_interface import UnifiedLLMInterface\n",
    "\n",
    "llm = UnifiedLLMInterface()\n",
    "model = \"finetuned-NL2SQL\"\n",
    "prompt=\"Hello, How are you ?\"\n",
    "llm.generate(model,prompt)"
   ],
   "metadata": {
    "collapsed": false,
    "ExecuteTime": {
     "end_time": "2024-08-15T16:32:56.845990Z",
     "start_time": "2024-08-15T16:32:55.363133Z"
    }
   },
   "id": "fa60f1e9ef6720c2",
   "execution_count": 2
  },
  {
   "cell_type": "markdown",
   "source": [
    "## Cost Estimation per task"
   ],
   "metadata": {
    "collapsed": false
   },
   "id": "594ffceed9bc278c"
  },
  {
   "cell_type": "code",
   "outputs": [],
   "source": [
    "PROMPT_PATH = os.getenv(\"PROMPT_ROOT_PATH\") + \"\\\\table_selection.txt\"\n",
    "prompt = load_prompt(PROMPT_PATH)"
   ],
   "metadata": {
    "collapsed": false,
    "ExecuteTime": {
     "end_time": "2024-08-22T09:58:28.986789Z",
     "start_time": "2024-08-22T09:58:28.982686Z"
    }
   },
   "id": "f7fb2ff0c292a07c",
   "execution_count": 8
  },
  {
   "cell_type": "code",
   "outputs": [],
   "source": [
    "def tokens_calc(example):\n",
    "    encoding = tiktoken.get_encoding(\"cl100k_base\")\n",
    "    num_tokens = len(encoding.encode(example))\n",
    "    return num_tokens"
   ],
   "metadata": {
    "collapsed": false,
    "ExecuteTime": {
     "end_time": "2024-08-22T09:58:29.594311Z",
     "start_time": "2024-08-22T09:58:29.590863Z"
    }
   },
   "id": "6d4eb47ecd9e9513",
   "execution_count": 9
  },
  {
   "cell_type": "code",
   "outputs": [
    {
     "data": {
      "text/plain": "362"
     },
     "execution_count": 10,
     "metadata": {},
     "output_type": "execute_result"
    }
   ],
   "source": [
    "#prompt template tokens \n",
    "tokens_calc(prompt)"
   ],
   "metadata": {
    "collapsed": false,
    "ExecuteTime": {
     "end_time": "2024-08-22T09:58:30.975913Z",
     "start_time": "2024-08-22T09:58:30.112573Z"
    }
   },
   "id": "9b3e4e852bc84edc",
   "execution_count": 10
  },
  {
   "cell_type": "markdown",
   "source": [
    "The prompt template has 362 tokens in total, and we have also 3 other variables (Database_Schema,Question and Hint).\n",
    "After i see a formatted prompt example it contains about 1500 tokens (because database_schema will be long)\n",
    "So let's suppose that input tokens is 1500"
   ],
   "metadata": {
    "collapsed": false
   },
   "id": "7e26cf36e22c34aa"
  },
  {
   "cell_type": "code",
   "outputs": [
    {
     "data": {
      "text/plain": "642"
     },
     "execution_count": 11,
     "metadata": {},
     "output_type": "execute_result"
    }
   ],
   "source": [
    "## Output tokens estimation from an example \n",
    "output_example = \"\"\"\n",
    "{'tentative_schema': {'schools': ['CDSCode',\n",
    "   'NCESDist',\n",
    "   'NCESSchool',\n",
    "   'StatusType',\n",
    "   'County',\n",
    "   'District',\n",
    "   'School',\n",
    "   'Street',\n",
    "   'StreetAbr',\n",
    "   'City',\n",
    "   'Zip',\n",
    "   'State',\n",
    "   'MailStreet',\n",
    "   'MailStrAbr',\n",
    "   'MailCity',\n",
    "   'MailZip',\n",
    "   'MailState',\n",
    "   'Phone',\n",
    "   'Ext',\n",
    "   'Website',\n",
    "   'OpenDate',\n",
    "   'ClosedDate',\n",
    "   'Charter',\n",
    "   'CharterNum',\n",
    "   'FundingType',\n",
    "   'DOC',\n",
    "   'DOCType',\n",
    "   'SOC',\n",
    "   'SOCType',\n",
    "   'EdOpsCode',\n",
    "   'EdOpsName',\n",
    "   'EILCode',\n",
    "   'EILName',\n",
    "   'GSoffered',\n",
    "   'GSserved',\n",
    "   'Virtual',\n",
    "   'Magnet',\n",
    "   'Latitude',\n",
    "   'Longitude',\n",
    "   'AdmFName1',\n",
    "   'AdmLName1',\n",
    "   'AdmEmail1',\n",
    "   'AdmFName2',\n",
    "   'AdmLName2',\n",
    "   'AdmEmail2',\n",
    "   'AdmFName3',\n",
    "   'AdmLName3',\n",
    "   'AdmEmail3',\n",
    "   'LastUpdate'],\n",
    "  'frpm': ['CDSCode',\n",
    "   'Academic Year',\n",
    "   'County Code',\n",
    "   'District Code',\n",
    "   'School Code',\n",
    "   'County Name',\n",
    "   'District Name',\n",
    "   'School Name',\n",
    "   'District Type',\n",
    "   'School Type',\n",
    "   'Educational Option Type',\n",
    "   'NSLP Provision Status',\n",
    "   'Charter School (Y/N)',\n",
    "   'Charter School Number',\n",
    "   'Charter Funding Type',\n",
    "   'IRC',\n",
    "   'Low Grade',\n",
    "   'High Grade',\n",
    "   'Enrollment (K-12)',\n",
    "   'Free Meal Count (K-12)',\n",
    "   'Percent (%) Eligible Free (K-12)',\n",
    "   'FRPM Count (K-12)',\n",
    "   'Percent (%) Eligible FRPM (K-12)',\n",
    "   'Enrollment (Ages 5-17)',\n",
    "   'Free Meal Count (Ages 5-17)',\n",
    "   'Percent (%) Eligible Free (Ages 5-17)',\n",
    "   'FRPM Count (Ages 5-17)',\n",
    "   'Percent (%) Eligible FRPM (Ages 5-17)',\n",
    "   '2013-14 CALPADS Fall 1 Certification Status']},\n",
    " 'chain_of_thought_reasoning': \"The question requires finding the school in California with the lowest latitude coordinates and its lowest grade. The hint helps to narrow down the search to schools in California. The database schema provides information about schools, their locations, and their grades. Therefore, we need to use the 'chools' table to find the school with the lowest latitude coordinates. Additionally, we need to use the 'frpm' table to find the lowest grade for the selected school. The 'atscores' table is not necessary for this question.\",\n",
    " 'selected_tables': ['schools', 'frpm']}\n",
    "\"\"\"\n",
    "tokens_calc(output_example)"
   ],
   "metadata": {
    "collapsed": false,
    "ExecuteTime": {
     "end_time": "2024-08-22T09:58:33.878345Z",
     "start_time": "2024-08-22T09:58:33.868877Z"
    }
   },
   "id": "d706fb9dc2485f36",
   "execution_count": 11
  },
  {
   "cell_type": "markdown",
   "source": [
    "Let’s suppose the number of tokens in the output is 700"
   ],
   "metadata": {
    "collapsed": false
   },
   "id": "5da952e094f6b8aa"
  },
  {
   "cell_type": "code",
   "outputs": [
    {
     "name": "stdout",
     "output_type": "stream",
     "text": [
      "estimated price per Task (GPT-4): 0.036 $\n"
     ]
    }
   ],
   "source": [
    "## Price calculation (just with gpt4 because in this module we don't use gpt3.5) \n",
    "input_price_per_token_gpt4 = 0.01 / 1000\n",
    "output_price_per_token_gpt4 = 0.03 / 1000\n",
    "price_gpt4 = 1500 * input_price_per_token_gpt4 + 700 * output_price_per_token_gpt4\n",
    "print(\"estimated price per Task (GPT-4):\", price_gpt4, \"$\")"
   ],
   "metadata": {
    "collapsed": false,
    "ExecuteTime": {
     "end_time": "2024-08-22T09:59:52.264151Z",
     "start_time": "2024-08-22T09:59:52.230614Z"
    }
   },
   "id": "d69911b486206fad",
   "execution_count": 12
  },
  {
   "cell_type": "code",
   "outputs": [
    {
     "name": "stdout",
     "output_type": "stream",
     "text": [
      "The estimated price with number of retrials of 1:  0.036\n",
      "The estimated price with number of retrials of 2:  0.072\n",
      "The estimated price with number of retrials of 3:  0.10799999999999998\n",
      "The estimated price with number of retrials of 4:  0.144\n",
      "The estimated price with number of retrials of 5:  0.18\n"
     ]
    }
   ],
   "source": [
    "## in this module there is a number of retrials so let's estimate the price with different number of retrials \n",
    "\n",
    "num_retrials = [1, 2, 3, 4, 5]\n",
    "for num_retrial in num_retrials:\n",
    "    total_price = price_gpt4 * num_retrial\n",
    "    print(\"The estimated price with number of retrials of \"+str(num_retrial)+\": \",total_price)"
   ],
   "metadata": {
    "collapsed": false,
    "ExecuteTime": {
     "end_time": "2024-08-22T10:00:45.738136Z",
     "start_time": "2024-08-22T10:00:45.721897Z"
    }
   },
   "id": "5255cba2df1f44b1",
   "execution_count": 13
  },
  {
   "cell_type": "code",
   "outputs": [],
   "source": [],
   "metadata": {
    "collapsed": false
   },
   "id": "e11966ebbcb9e966"
  }
 ],
 "metadata": {
  "kernelspec": {
   "display_name": "Python 3",
   "language": "python",
   "name": "python3"
  },
  "language_info": {
   "codemirror_mode": {
    "name": "ipython",
    "version": 2
   },
   "file_extension": ".py",
   "mimetype": "text/x-python",
   "name": "python",
   "nbconvert_exporter": "python",
   "pygments_lexer": "ipython2",
   "version": "2.7.6"
  }
 },
 "nbformat": 4,
 "nbformat_minor": 5
}
